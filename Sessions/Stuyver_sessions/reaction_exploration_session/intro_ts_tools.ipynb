{
 "cells": [
  {
   "cell_type": "markdown",
   "id": "4bd813fc",
   "metadata": {},
   "source": [
    "### Introduction"
   ]
  },
  {
   "cell_type": "markdown",
   "id": "a7daf2e9",
   "metadata": {},
   "source": [
    "The goal of this notebook is to introduce TS-tools, a useful open-source software package that facilitate the automated generation of reaction profiles, starting from a simple reaction SMILES input (see figure below for a schematic overview of the algorithm; more information about the technical detail can be found in the associated paper -- https://onlinelibrary.wiley.com/doi/10.1002/jcc.27374). Compared to autodE, TS-tools is particularly suited for transition states involving 3 or more reactants, which are relevant for example in solvent- and autocatalysis, as well as enzymatic reactivity. Additionally, it is exceptionally fast, generating xTB quality TS in less than 1 CPU hour typically, making it more suitable for high-throughput screening campaigns.\n",
    "\n",
    "<div style=\"text-align: center;\">\n",
    "<img src=\"data/TSTools.png\" alt=\"alt text\" width=\"600\"/>\n",
    "</div>"
   ]
  },
  {
   "cell_type": "markdown",
   "id": "ca767239",
   "metadata": {},
   "source": [
    "### TS-tools"
   ]
  },
  {
   "cell_type": "markdown",
   "id": "6d601ef3",
   "metadata": {},
   "source": [
    "Please start by installing -- and activating -- the conda environment present in the repository (conda env create -f environment.yml)"
   ]
  },
  {
   "cell_type": "markdown",
   "id": "d6c8430e",
   "metadata": {},
   "source": [
    "Next, we need to install TS-tools. This can be done by accessing the package through the command line (cd TS-tools-master), followed by a local installation (pip install .)"
   ]
  },
  {
   "cell_type": "code",
   "execution_count": 1,
   "id": "d2a92371",
   "metadata": {
    "metadata": {}
   },
   "outputs": [
    {
     "name": "stdout",
     "output_type": "stream",
     "text": [
      "Processing /Users/thijsstuyver/Desktop/teaching_resources/Stuyver_sessions/reaction_exploration_session/TS-tools-master\n",
      "  Preparing metadata (setup.py) ... \u001b[?25ldone\n",
      "\u001b[?25hBuilding wheels for collected packages: tstools\n",
      "  Building wheel for tstools (setup.py) ... \u001b[?25ldone\n",
      "\u001b[?25h  Created wheel for tstools: filename=tstools-0.4.2-py3-none-any.whl size=30414 sha256=df521646ff989039189369769598f20c90425b0d10cbb84e118cf90ae06b9725\n",
      "  Stored in directory: /Users/thijsstuyver/Library/Caches/pip/wheels/3f/d0/f4/f8809524d347e636acb5353a0232357a52a6fdaabb808d62de\n",
      "Successfully built tstools\n",
      "Installing collected packages: tstools\n",
      "Successfully installed tstools-0.4.2\n"
     ]
    }
   ],
   "source": [
    "import os\n",
    "\n",
    "home_dir = os.getcwd()\n",
    "\n",
    "# Change to the directory containing the TS-tools package\n",
    "os.chdir('TS-tools-master')\n",
    "\n",
    "# Run the pip install command\n",
    "!pip install .\n",
    "\n",
    "os.chdir(home_dir)"
   ]
  },
  {
   "cell_type": "markdown",
   "id": "6fc3d05a",
   "metadata": {},
   "source": [
    "A detailed explanation of how the TS-tools code can be executed can be found in the readme.md file present in the repository. To execute its full workflow, Gaussian16 needs to be available. Since Gaussian16 is not installed on your local computers, we will focus here exclusively on the generation of preliminary TS guesses from (xTB-generated) reactive paths."
   ]
  },
  {
   "cell_type": "markdown",
   "id": "9c27134b",
   "metadata": {},
   "source": [
    "### Generate TS guesses"
   ]
  },
  {
   "cell_type": "markdown",
   "id": "bfe750c4",
   "metadata": {},
   "source": [
    "The reaction SMILES we will try to generate TS guesses for can be found in 'TS-tools-master/data/test_aldol.txt'. They are schematically represented in the figure below.\n",
    "\n",
    "<div style=\"text-align: center;\">\n",
    "<img src=\"data/aldol.png\" width=\"500\" >\n",
    "</div>"
   ]
  },
  {
   "cell_type": "code",
   "execution_count": 2,
   "id": "c8ee88c3",
   "metadata": {},
   "outputs": [],
   "source": [
    "from tstools.ts_optimizer import TSOptimizer\n",
    "import multiprocessing\n",
    "import concurrent.futures\n",
    "from tstools.utils import remove_files_in_directory, get_reaction_list\n",
    "\n",
    "reaction_list = get_reaction_list('TS-tools-master/data/test_aldol.txt')"
   ]
  },
  {
   "cell_type": "code",
   "execution_count": 3,
   "id": "bfd1af68",
   "metadata": {},
   "outputs": [],
   "source": [
    "# define some auxiliary functions to interact with the autodE code; these are adapted from the run_scripts available in the 'TS-tools-master' folder.\n",
    "def obtain_individual_guesses(ts_optimizer):\n",
    "    \"\"\"\n",
    "    Optimize an individual transition state.\n",
    "\n",
    "    Parameters:\n",
    "    - ts_optimizer: Instance of TSOptimizer.\n",
    "\n",
    "    Returns:\n",
    "    - int or None: Reaction ID if a transition state is found, None otherwise.\n",
    "    \"\"\"\n",
    "    reactive_complex_factor_value = 1.8\n",
    "    for _ in range(3):\n",
    "        try:\n",
    "            ts_optimizer.set_ts_guess_list(reactive_complex_factor_value)\n",
    "            remove_files_in_directory(os.getcwd())\n",
    "            if len(ts_optimizer.ts_guess_list) is not None:\n",
    "                return ts_optimizer.rxn_id\n",
    "        except Exception as e:\n",
    "            print(e)\n",
    "            continue\n",
    "\n",
    "def obtain_ts_guesses(target_dir, reaction_list, xtb_external_path, solvent,\n",
    "                             reactive_complex_factor_list_intermolecular,\n",
    "                             reactive_complex_factor_list_intramolecular, freq_cut_off):\n",
    "    \"\"\"\n",
    "    Obtain transition states for a list of reactions.\n",
    "\n",
    "    Parameters:\n",
    "    - target_dir (str): Target directory.\n",
    "    - reaction_list (list): List of reactions.\n",
    "    - xtb_external_path (str): Path to the XTB external script.\n",
    "    - solvent (str): Solvent information.\n",
    "    - reactive_complex_factor_list_intermolecular (list): List of reactive complex factors for intermolecular reactions.\n",
    "    - reactive_complex_factor_list_intramolecular (list): List of reactive complex factors for intramolecular reactions.\n",
    "    - freq_cut_off (int): Frequency cutoff.\n",
    "\n",
    "    Returns:\n",
    "    - list: List of successful reactions.\n",
    "    \"\"\"\n",
    "    home_dir = os.getcwd()\n",
    "    os.chdir(target_dir)\n",
    "    ts_optimizer_list = []\n",
    "\n",
    "    for rxn_idx, rxn_smiles in reaction_list:\n",
    "        ts_optimizer_list.append(TSOptimizer(rxn_idx, rxn_smiles, xtb_external_path,\n",
    "                                             solvent, None, reactive_complex_factor_list_intermolecular,\n",
    "                                             reactive_complex_factor_list_intramolecular, freq_cut_off))\n",
    "\n",
    "    print(f'{len(ts_optimizer_list)} reactions to process...')\n",
    "\n",
    "    num_processes = multiprocessing.cpu_count()\n",
    "\n",
    "    with concurrent.futures.ProcessPoolExecutor(max_workers=int(num_processes/2)) as executor:\n",
    "        # Map the function to each object in parallel\n",
    "        results = list(executor.map(obtain_individual_guesses, ts_optimizer_list))\n",
    "\n",
    "    successful_reactions = [r for r in results if r is not None]\n",
    "\n",
    "    print(f'Guesses have been generated for {len(successful_reactions)} out of 4 reactions!')"
   ]
  },
  {
   "cell_type": "code",
   "execution_count": 4,
   "id": "af2c64ad",
   "metadata": {},
   "outputs": [
    {
     "name": "stdout",
     "output_type": "stream",
     "text": [
      "4 reactions to process...\n",
      "xTB calculation not converged for R4...\n",
      "xTB calculation not converged for R3...\n",
      "Guesses have been generated for 4 out of 4 reactions!\n"
     ]
    }
   ],
   "source": [
    "os.mkdir('work_dir/ts-tools')\n",
    "target_dir = 'work_dir/ts-tools' \n",
    "\n",
    "successful_reactions = obtain_ts_guesses(target_dir, reaction_list, \n",
    "    xtb_external_path=None, solvent=None, reactive_complex_factor_list_intermolecular=None,\n",
    "    reactive_complex_factor_list_intramolecular=None, freq_cut_off=150)"
   ]
  },
  {
   "cell_type": "markdown",
   "id": "935d309b",
   "metadata": {},
   "source": [
    "You can now inspect the preliminary TS guesses extracted from the reactive paths for every reaction in the 'work_dir/ts-tools'. Note that when Gaussian16 is available, a TS search with the Berny algorithm is started from each of the guesses iteratively (together with an IRC search), until a validated TS has been found. At xTB level of theory, final/validated TSs can typically be obtained on a minute scale, DFT level transition states can typically be obtained in a matter of several hours (depending on the basis set and functional selected)."
   ]
  }
 ],
 "metadata": {
  "kernelspec": {
   "display_name": "helsinki",
   "language": "python",
   "name": "python3"
  },
  "language_info": {
   "codemirror_mode": {
    "name": "ipython",
    "version": 3
   },
   "file_extension": ".py",
   "mimetype": "text/x-python",
   "name": "python",
   "nbconvert_exporter": "python",
   "pygments_lexer": "ipython3",
   "version": "3.10.18"
  }
 },
 "nbformat": 4,
 "nbformat_minor": 5
}
