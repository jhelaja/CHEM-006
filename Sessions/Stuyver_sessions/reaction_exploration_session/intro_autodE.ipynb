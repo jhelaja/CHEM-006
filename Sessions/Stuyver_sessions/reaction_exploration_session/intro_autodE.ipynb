{
 "cells": [
  {
   "cell_type": "markdown",
   "id": "4bd813fc",
   "metadata": {},
   "source": [
    "### Introduction"
   ]
  },
  {
   "cell_type": "markdown",
   "id": "a7daf2e9",
   "metadata": {},
   "source": [
    "The goal of this notebook is to introduce autodE, a useful open-source software package that facilitate the construction of computational chemistry workflows, particularly those related to reactivity."
   ]
  },
  {
   "cell_type": "markdown",
   "id": "ca767239",
   "metadata": {},
   "source": [
    "### autodE"
   ]
  },
  {
   "cell_type": "markdown",
   "id": "6d601ef3",
   "metadata": {},
   "source": [
    "Please start by installing -- and activating -- the conda environment present in the repository (conda env create -f environment.yml)"
   ]
  },
  {
   "cell_type": "code",
   "execution_count": 1,
   "id": "d2a92371",
   "metadata": {
    "metadata": {}
   },
   "outputs": [],
   "source": [
    "import autode as ade\n",
    "import os\n",
    "\n",
    "os.chdir('work_dir') # to organize all the output-files"
   ]
  },
  {
   "cell_type": "markdown",
   "id": "6fc3d05a",
   "metadata": {},
   "source": [
    "Below, the main functionality of the autodE package will be introduced step by step."
   ]
  },
  {
   "cell_type": "markdown",
   "id": "9c27134b",
   "metadata": {},
   "source": [
    "### Generate and manipulate atoms"
   ]
  },
  {
   "cell_type": "code",
   "execution_count": 2,
   "id": "a32b0af7",
   "metadata": {},
   "outputs": [
    {
     "name": "stdout",
     "output_type": "stream",
     "text": [
      "Position:   [0. 0. 0.]\n",
      "Z:          6\n",
      "Position:   [1. 0. 0.]\n",
      "Position:   [-9.99999996e-01  9.26535897e-05  0.00000000e+00]\n",
      "Units are:  Unit(Å)\n",
      "Coordinate: [0.94486344 0.         0.        ] Unit(bohr)\n",
      "H atom:     Atom(H, 1.0000, 2.0000, 3.0000)\n"
     ]
    }
   ],
   "source": [
    "# Create a carbon atom\n",
    "atom = ade.Atom(\"C\")\n",
    "\n",
    "# autodE atoms have a position\n",
    "print(\"Position:  \", atom.coord)\n",
    "\n",
    "# and useful properties, like the atomic number. See all of these properties\n",
    "# here: https://duartegroup.github.io/autodE/reference/atoms.html\n",
    "print(\"Z:         \", atom.atomic_number)\n",
    "\n",
    "# and can be translated by a vector, for example 1 Å along the x axis\n",
    "atom.translate([1.0, 0.0, 0.0])\n",
    "print(\"Position:  \", atom.coord)\n",
    "\n",
    "# or rotated\n",
    "atom.rotate(axis=[0.0, 0.0, 1.0], theta=3.1415)  # z axis  # π radians\n",
    "print(\"Position:  \", atom.coord)\n",
    "\n",
    "# by default distances are in angstroms\n",
    "atom.coord = [0.5, 0.0, 0.0]\n",
    "print(\"Units are: \", atom.coord.units)\n",
    "\n",
    "# and can be converted to others. For example, Bohr\n",
    "coord_in_a0 = atom.coord.to(\"bohr\")\n",
    "print(\"Coordinate:\", coord_in_a0, coord_in_a0.units)\n",
    "\n",
    "# atoms can also be initialised at different positions\n",
    "atom = ade.Atom(\"H\", x=1.0, y=2.0, z=3.0)\n",
    "\n",
    "# and their representation (repr) printed\n",
    "print(\"H atom:    \", repr(atom))"
   ]
  },
  {
   "cell_type": "markdown",
   "id": "dcd05a5f",
   "metadata": {},
   "source": [
    "### Generate chemical species and save their coordinates"
   ]
  },
  {
   "cell_type": "code",
   "execution_count": null,
   "id": "002c0216",
   "metadata": {},
   "outputs": [
    {
     "name": "stdout",
     "output_type": "stream",
     "text": [
      "Mass(H2O):        18.01528 Unit(amu)\n",
      "Formula:          H2O\n",
      "Approximate radius: 0.8 Unit(Å)\n",
      "O-H distance (Å): 1.0\n",
      "H-O-H angle (º):  102.21571913413085\n"
     ]
    }
   ],
   "source": [
    "# Species in autodE are atom collections with a name,\n",
    "# defined charge and spin multiplicity (mult). For example, to\n",
    "# generate water from its three constituent atoms\n",
    "h2o = ade.Species(\n",
    "    name=\"water\",\n",
    "    charge=0,\n",
    "    mult=1,\n",
    "    atoms=[\n",
    "        ade.Atom(\"O\"),\n",
    "        ade.Atom(\"H\", x=-1.0),\n",
    "        ade.Atom(\"H\", x=0.21, y=-0.97),\n",
    "    ],\n",
    ")\n",
    "\n",
    "# they have a number of properties, such as mass\n",
    "print(\"Mass(H2O):       \", h2o.mass, h2o.mass.units)\n",
    "\n",
    "# and the chemical formula\n",
    "print(\"Formula:         \", h2o.formula)\n",
    "\n",
    "# as well as radii *not including any van der Waals volume*\n",
    "print(\"Approximate radius:\", round(h2o.radius, 1), h2o.radius.units)\n",
    "\n",
    "# with functions to calculate distances and angles between atoms\n",
    "# For example, the distance between atoms 0 and 1:\n",
    "print(\"O-H distance (Å):\", h2o.distance(0, 1))\n",
    "print(\"H-O-H angle (º): \", h2o.angle(1, 0, 2).to(\"degrees\"))\n",
    "\n",
    "# to save the structure and generate water.xyz in this directory\n",
    "h2o.print_xyz_file()"
   ]
  },
  {
   "cell_type": "markdown",
   "id": "a7786578",
   "metadata": {},
   "source": [
    "Solvents can be included as follows:"
   ]
  },
  {
   "cell_type": "code",
   "execution_count": 4,
   "id": "ec8ea98c",
   "metadata": {},
   "outputs": [
    {
     "name": "stdout",
     "output_type": "stream",
     "text": [
      "H2 is solvated in:      water\n",
      "Is solvated implicitly: True\n",
      "The dielectric constant is:      78.36\n",
      "WARNING: Explicit solvation is experimental is not implemented beyond generating a single reasonable initial structure \n",
      "Is solvated explicitly: True\n",
      "Number of water atoms:  30\n"
     ]
    }
   ],
   "source": [
    "# Solvated species can be initialised with\n",
    "h2 = ade.Species(\n",
    "    name=\"h2_in_water\",\n",
    "    charge=0,\n",
    "    mult=1,\n",
    "    atoms=[ade.Atom(\"H\"), ade.Atom(\"H\", 0.77)],\n",
    "    solvent_name=\"water\",\n",
    ")\n",
    "\n",
    "print(\"H2 is solvated in:     \", h2.solvent)\n",
    "\n",
    "# which are by default implicit solvated\n",
    "print(\"Is solvated implicitly:\", h2.is_implicitly_solvated)\n",
    "\n",
    "# the associated solvent has properties, like ε\n",
    "print(\"The dielectric constant is:     \", h2.solvent.dielectric)\n",
    "\n",
    "# the solvent can be converted to explicit with -- THIS FEATURE IS NOT RECOMMENDED AS RESULTS ARE VERY SUSCEPTIBLE TO CONFORMATIONAL CHANGE\n",
    "h2.explicitly_solvate(num=10)\n",
    "\n",
    "print(\"Is solvated explicitly:\", h2.is_explicitly_solvated)\n",
    "print(\"Number of water atoms: \", h2.solvent.n_atoms)\n",
    "\n",
    "# the whole solvated system can be printed\n",
    "h2.print_xyz_file(filename=\"H2_solv.xyz\")"
   ]
  },
  {
   "cell_type": "markdown",
   "id": "07c539fe",
   "metadata": {},
   "source": [
    "### Generate, manipulate and optimize molecules"
   ]
  },
  {
   "cell_type": "code",
   "execution_count": 5,
   "id": "abe8018c",
   "metadata": {},
   "outputs": [
    {
     "name": "stdout",
     "output_type": "stream",
     "text": [
      "Methane has 5 atoms, so \n",
      "has a molecular graph with 5\n",
      "nodes and 4 edges (bonds).\n",
      "Translated carbon position is: [ 1.0009  0.0041 -0.0202]\n",
      "Rotated carbon position is:    [ 0.06671114  0.99868275 -0.0202    ]\n",
      "Using 4 cores for an XTB calculation\n",
      "xTB energy (Ha):               -4.175217428732\n"
     ]
    }
   ],
   "source": [
    "# Molecules in autodE are just like species but can\n",
    "# be initialised from SMILES strings. To generate methane\n",
    "methane = ade.Molecule(smiles=\"C\")\n",
    "\n",
    "print(\n",
    "    f\"Methane has {methane.n_atoms} atoms, so \\n\"\n",
    "    f\"has a molecular graph with {methane.graph.number_of_nodes()}\\n\"\n",
    "    f\"nodes and {methane.graph.number_of_edges()} edges (bonds).\"\n",
    ")\n",
    "\n",
    "# The whole molecule can be translated\n",
    "methane.translate([1.0, 0.0, 0.0])\n",
    "print(\"Translated carbon position is:\", methane.coordinates[0, :])\n",
    "# where the coordinates property is an Nx3 numpy array\n",
    "\n",
    "# and rotated.\n",
    "methane.rotate(axis=[0.0, 0.0, 1.0], theta=1.5)  # z axis  # radians\n",
    "print(\"Rotated carbon position is:   \", methane.coordinates[0, :])\n",
    "\n",
    "# Additionally calculations performed. To optimise the structure with XTB\n",
    "xtb = ade.methods.XTB()\n",
    "print(f\"Using {ade.Config.n_cores} cores for an XTB calculation\")\n",
    "\n",
    "if xtb.is_available:\n",
    "    methane.optimise(method=xtb)\n",
    "    print(\"xTB energy (Ha):              \", methane.energy)"
   ]
  },
  {
   "cell_type": "markdown",
   "id": "5a8aa237",
   "metadata": {},
   "source": [
    "Advanced electronic structure programs are also available in autodE. A distinction is made between low- (xTB and MOPAC) and high-level codes (ORCA, Gaussian09, Gaussian16, NWChem, QChem). Many workflows will combine both levels of theory (e.g., conformer searches performed at low level of theory, followed by refined optimization of the lowest energy conformer with a high-level method). Because of time and resource constraints, we will not attempt to perform the high-level calculations here, but a worked out example is provided below."
   ]
  },
  {
   "cell_type": "code",
   "execution_count": 11,
   "id": "93c228ea",
   "metadata": {},
   "outputs": [
    {
     "name": "stdout",
     "output_type": "stream",
     "text": [
      "The selected functional is: pbe0\n",
      "The selected keywords are: Functional(pbe0) BasisSet(def2-TZVP) DispersionCorrection(d3bj) 'integral=ultrafinegrid' EffectiveCorePotential(def2TZVP)\n",
      "The selected keywords are: 'SP' 'B3LYP' 'def2-TZVP'\n",
      "Using 8 cores for a Gaussian09 calculation\n",
      "G09 method is not available; skipping the single-point energy refinement\n",
      "All calculated energies:       [Energy(-4.17522 Ha)]\n"
     ]
    }
   ],
   "source": [
    "g09 = ade.methods.G09()\n",
    "ade.Config.lcode = 'xTB'\n",
    "\n",
    "# To set the number of cores available and the memory per core (in MB), to use a maximum of 32 GB for the whole calculation\n",
    "ade.Config.n_cores = 8\n",
    "ade.Config.max_core = 4000\n",
    "\n",
    "# autodE uses wrappers around common keywords used in QM calculations to allow easy setting of e.g. a DFT functional\n",
    "kwds = g09.keywords.sp\n",
    "print(f'The selected functional is: {kwds.functional}')\n",
    "print(f'The selected keywords are: {kwds}')\n",
    "\n",
    "# Alternatively, a whole new set of keywords can be assigned:\n",
    "g09.keywords.sp = ['SP', 'B3LYP', 'def2-TZVP']\n",
    "print(f'The selected keywords are: {g09.keywords.sp}')\n",
    "\n",
    "print(f\"Using {ade.Config.n_cores} cores for a Gaussian09 calculation\")\n",
    "\n",
    "if g09.is_available:\n",
    "    print(f\"Calculating at the: [{g09.keywords.sp}] level of theory\")\n",
    "    methane.single_point(method=g09)\n",
    "    print(\"G09 energy (Ha):             \", methane.energy)\n",
    "else:\n",
    "    print(\"G09 method is not available; skipping the single-point energy refinement\")\n",
    "\n",
    "# with all energies available -- in this case only the xTB one\n",
    "print(\"All calculated energies:      \", methane.energies)"
   ]
  },
  {
   "cell_type": "markdown",
   "id": "9738cb7d",
   "metadata": {},
   "source": [
    "Molecules can also be initialized from xyz-files"
   ]
  },
  {
   "cell_type": "code",
   "execution_count": 13,
   "id": "c5fb6b9c",
   "metadata": {},
   "outputs": [
    {
     "name": "stdout",
     "output_type": "stream",
     "text": [
      "Name:                     serine\n",
      "Charge:                   0\n",
      "Spin multiplicity:        1\n",
      "Is solvated?:             False\n",
      "N-C-C-O dihedral:         3.0946275033775406 radians\n",
      "Bond matrix for the first 4 atoms:\n",
      " [[False  True False False]\n",
      " [ True False  True False]\n",
      " [False  True False  True]\n",
      " [False False  True False]]\n",
      "Num atoms in a empty mol: 0\n",
      "Graph is isomorphic to an empty graph:            False\n"
     ]
    }
   ],
   "source": [
    "# Molecules can be initialised directly from 3D structures\n",
    "serine = ade.Molecule(\"../data/serine.xyz\")\n",
    "\n",
    "# molecules initialised from .xyz files default to neutral singlets\n",
    "print(\"Name:                    \", serine.name)\n",
    "print(\"Charge:                  \", serine.charge)\n",
    "print(\"Spin multiplicity:       \", serine.mult)\n",
    "print(\"Is solvated?:            \", serine.solvent is not None)\n",
    "\n",
    "# dihedrals can also be evaluated evaluated\n",
    "symbols = \"-\".join(serine.atomic_symbols[:4])\n",
    "print(f\"{symbols} dihedral:        \", serine.dihedral(0, 1, 2, 3), \"radians\")\n",
    "\n",
    "# an estimated molecular graph is initialised.\n",
    "# NOTE: This will be less accurate for organometallic species\n",
    "print(\"Bond matrix for the first 4 atoms:\\n\", serine.bond_matrix[:4, :4])\n",
    "\n",
    "# molecules also have a has_same_connectivity_as method, which\n",
    "# checks if the molecular graph is isomorphic to another\n",
    "blank_mol = ade.Molecule()\n",
    "print(\"Num atoms in a empty mol:\", blank_mol.n_atoms)\n",
    "print(\n",
    "    \"Graph is isomorphic to an empty graph:           \",\n",
    "    serine.has_same_connectivity_as(blank_mol),\n",
    ")"
   ]
  },
  {
   "cell_type": "code",
   "execution_count": 14,
   "id": "5df472f1",
   "metadata": {},
   "outputs": [
    {
     "name": "stdout",
     "output_type": "stream",
     "text": [
      "Graph is isomorphic to SMILES-generated molecule: True\n"
     ]
    }
   ],
   "source": [
    "# Create a serine molecule from a SMILES string\n",
    "serine_from_smiles = ade.Molecule(smiles=\"N[C@@H](CO)C(O)=O\")\n",
    "print(\n",
    "    \"Graph is isomorphic to SMILES-generated molecule:\",\n",
    "    serine.has_same_connectivity_as(serine_from_smiles),\n",
    ")"
   ]
  },
  {
   "cell_type": "markdown",
   "id": "4599cd38",
   "metadata": {},
   "source": [
    "### Conformer generation"
   ]
  },
  {
   "cell_type": "markdown",
   "id": "98c854b8",
   "metadata": {},
   "source": [
    "autodE generates conformers using two methods: (1) ETKDGv3 implemented in RDKit and (2) a randomize & relax (RR) algorithm. For regular organic compounds, the former method is used by default, for metal complexes, the latter is used."
   ]
  },
  {
   "cell_type": "code",
   "execution_count": 16,
   "id": "350c2a45",
   "metadata": {},
   "outputs": [
    {
     "name": "stdout",
     "output_type": "stream",
     "text": [
      "Num. initial conformers:     0\n",
      "Initial C-C distance (Å):    1.4931910125633627\n",
      "Num. generated conformers:   5\n",
      "Default pruning tolerance:   0.3 Unit(Å)\n",
      "Optimised C-C distance (Å):  1.5237582093915687\n",
      "Potential energy:            -16.829456094254 Unit(Ha)\n",
      "Pruned number of conformers: 3\n"
     ]
    }
   ],
   "source": [
    "# Conformers of organic molecules initalised from SMILES strings\n",
    "# in autodE are generated using RDKit. For example,\n",
    "pentane = ade.Molecule(name='butane', smiles=\"CCCCC\")\n",
    "\n",
    "print(\"Num. initial conformers:    \", pentane.n_conformers)\n",
    "print(\"Initial C-C distance (Å):   \", pentane.distance(0, 1))\n",
    "\n",
    "# To generate a set of conformers\n",
    "pentane.populate_conformers(n_confs=10)\n",
    "\n",
    "print(\"Num. generated conformers:  \", pentane.n_conformers)\n",
    "# NOTE: the number of generated conformers is usually smaller than\n",
    "# the number requested, as they are pruned based on similarity\n",
    "value = ade.Config.rmsd_threshold\n",
    "print(\"Default pruning tolerance:  \", value, value.units)\n",
    "\n",
    "# To find the lowest energy conformer by optimising at XTB then\n",
    "# re-optimising the unique ones at a higher level\n",
    "xtb = ade.methods.XTB()\n",
    "\n",
    "pentane.find_lowest_energy_conformer(lmethod=xtb)\n",
    "\n",
    "# find_lowest_energy_conformer will set the molecule's geometry and energy\n",
    "print(\"Optimised C-C distance (Å): \", pentane.distance(0, 1))\n",
    "print(\"Potential energy:           \", pentane.energy, pentane.energy.units)\n",
    "print(\"Pruned number of conformers:\", pentane.n_conformers)"
   ]
  },
  {
   "cell_type": "markdown",
   "id": "44dab0a7",
   "metadata": {},
   "source": [
    "Arbitrary distance constraints can be added in a RR conformer generation. For example, to generate conformers of Vaska’s complex while retaining the square planar geometry:"
   ]
  },
  {
   "cell_type": "code",
   "execution_count": 17,
   "id": "b736a5f4",
   "metadata": {},
   "outputs": [],
   "source": [
    "from autode.conformers import conf_gen, Conformer\n",
    "\n",
    "# Initialise the complex from a .xyz file containing a square planar structure\n",
    "vaskas = ade.Molecule(\"../data/vaskas.xyz\")\n",
    "\n",
    "# Set up some distance constraints where the keys are the atom indexes and\n",
    "# the value the distance in Å. Fixing the Cl-P, Cl-P and Cl-C(=O) distances\n",
    "# enforces a square planar geometry\n",
    "distance_constraints = {\n",
    "    (1, 2): vaskas.distance(1, 2),\n",
    "    (1, 3): vaskas.distance(1, 3),\n",
    "    (1, 4): vaskas.distance(1, 4),\n",
    "}\n",
    "\n",
    "# Generate 5 conformers\n",
    "for n in range(5):\n",
    "    # Apply random displacements to each atom and minimise under a bonded +\n",
    "    # repulsive forcefield including the distance constraints\n",
    "    atoms = conf_gen.get_simanl_atoms(\n",
    "        species=vaskas, dist_consts=distance_constraints, conf_n=n\n",
    "    )\n",
    "\n",
    "    # Generate a conformer from these atoms then optimise with XTB\n",
    "    conformer = Conformer(name=f\"vaskas_conf{n}\", atoms=atoms)\n",
    "\n",
    "    conformer.optimise(method=ade.methods.XTB())\n",
    "    conformer.print_xyz_file()"
   ]
  },
  {
   "cell_type": "markdown",
   "id": "9c73102a",
   "metadata": {},
   "source": [
    "### Constrained optimization "
   ]
  },
  {
   "cell_type": "code",
   "execution_count": 34,
   "id": "5d5eb0a6",
   "metadata": {},
   "outputs": [
    {
     "name": "stdout",
     "output_type": "stream",
     "text": [
      "Current N-H distance (Å): 2.4307042188016212\n",
      "Final N-H distance is:   1.0053758541929112\n",
      "Energies along the path: [Energy(-25.10868 Ha), Energy(-25.10965 Ha), Energy(-25.11035 Ha), Energy(-25.11013 Ha), Energy(-25.10827 Ha), Energy(-25.11047 Ha), Energy(-25.11306 Ha), Energy(-25.1105 Ha)]\n"
     ]
    }
   ],
   "source": [
    "xtb = ade.methods.XTB()\n",
    "\n",
    "# Constrained optimisations are possible by setting a molecule's constraints\n",
    "# attribute, for example to calculate the relaxed PES for H-transfer from\n",
    "# the neutral form of serine to the zwitterion\n",
    "\n",
    "serine = ade.Molecule(\"../data/serine.xyz\", solvent_name=\"water\")\n",
    "\n",
    "print(\"Current N-H distance (Å):\", serine.distance(0, 13))\n",
    "\n",
    "energies = []\n",
    "for r in (2.4, 2.2, 2.0, 1.8, 1.6, 1.4, 1.2, 1.0):\n",
    "    # Set the distance constraint between atoms 0 and 13\n",
    "    serine.constraints.distance = {(0, 13): r}\n",
    "\n",
    "    # optimise with XTB\n",
    "    serine.optimise(method=xtb)\n",
    "\n",
    "    # and append the energies to a list\n",
    "    energies.append(serine.energy)\n",
    "\n",
    "print(\"Final N-H distance is:  \", serine.distance(0, 13))\n",
    "print(\"Energies along the path:\", energies)"
   ]
  },
  {
   "cell_type": "code",
   "execution_count": 21,
   "id": "b09899c2",
   "metadata": {},
   "outputs": [
    {
     "name": "stdout",
     "output_type": "stream",
     "text": [
      "Current H-B-H angle (º):   168.57881372500077\n",
      "Optimised H-B-H angle (º): 118.89536431436328\n"
     ]
    }
   ],
   "source": [
    "# Cartesian coordinates can also be fixed. For example, to optimise BH3\n",
    "# while keeping two H atoms 2 Å apart\n",
    "\n",
    "bh3 = ade.Molecule(\n",
    "    atoms=[\n",
    "        ade.Atom(\"B\", y=0.1),\n",
    "        ade.Atom(\"H\", x=-1.0),\n",
    "        ade.Atom(\"H\", x=1.0),\n",
    "        ade.Atom(\"H\", y=1.1),\n",
    "    ]\n",
    ")\n",
    "\n",
    "print(\"Current H-B-H angle (º):  \", bh3.angle(1, 0, 2).to(\"º\"))\n",
    "\n",
    "# Set the constraints and do the optimisation\n",
    "bh3.constraints.cartesian = [1, 2]\n",
    "bh3.optimise(method=xtb)\n",
    "\n",
    "print(\"Optimised H-B-H angle (º):\", bh3.angle(1, 0, 2).to(\"º\"))"
   ]
  },
  {
   "cell_type": "markdown",
   "id": "902c97d3",
   "metadata": {},
   "source": [
    "### Thermochemistry"
   ]
  },
  {
   "cell_type": "code",
   "execution_count": 24,
   "id": "1197bec4",
   "metadata": {},
   "outputs": [
    {
     "name": "stdout",
     "output_type": "stream",
     "text": [
      "Zero-point energy               = 87.99226351934904 kJ mol-1\n",
      "Enthalpy contribution           = 0.03731764546637142\n",
      "Free energy contribution        = 0.01850980193170952\n",
      "Total free energy               = -4.407734183885291\n",
      "Frequencies: [Frequency(1158.89354 cm^-1), Frequency(1591.82008 cm^-1), Frequency(1592.84838 cm^-1), Frequency(3419.73835 cm^-1), Frequency(3468.50052 cm^-1), Frequency(3479.35681 cm^-1)]\n",
      "Number of imaginary frequencies: 0\n"
     ]
    }
   ],
   "source": [
    "# Create and optimise an ammonia molecule\n",
    "nh3 = ade.Molecule(smiles=\"N\")\n",
    "nh3.optimise(method=xtb)\n",
    "\n",
    "# Calculate the thermochemistry by running a Hessian calculation at the\n",
    "# default level of theory\n",
    "nh3.calc_thermo(method=xtb)\n",
    "\n",
    "print(\"Zero-point energy               =\", nh3.zpe.to(\"kJ mol-1\"), \"kJ mol-1\")\n",
    "print(\"Enthalpy contribution           =\", nh3.h_cont)\n",
    "print(\"Free energy contribution        =\", nh3.g_cont)\n",
    "print(\"Total free energy               =\", nh3.free_energy)\n",
    "\n",
    "print(\"Frequencies:\", [freq.to(\"cm-1\") for freq in nh3.vib_frequencies])\n",
    "\n",
    "# Frequencies have a is_imaginary property. To print the number of imaginary-s:\n",
    "print(\n",
    "    \"Number of imaginary frequencies:\",\n",
    "    sum(freq.is_imaginary for freq in nh3.vib_frequencies),\n",
    ")"
   ]
  },
  {
   "cell_type": "markdown",
   "id": "cc61e5d6",
   "metadata": {},
   "source": [
    "### Normal modes"
   ]
  },
  {
   "cell_type": "code",
   "execution_count": 23,
   "id": "46db8370",
   "metadata": {},
   "outputs": [
    {
     "name": "stdout",
     "output_type": "stream",
     "text": [
      "Number of total frequencies is:       9\n",
      "Number of vibrational frequencies is: 3\n",
      "Frequencies in wave-numbers:          [1539.5102504473407, 3636.7835025814406, 3652.0096910802386]\n"
     ]
    }
   ],
   "source": [
    "# Optimise and calculate the Hessian for a water molecule\n",
    "h2o = ade.Molecule(smiles=\"O\")\n",
    "h2o.optimise(method=xtb)\n",
    "h2o.calc_hessian(method=xtb)\n",
    "\n",
    "print(\"Number of total frequencies is:      \", 3 * h2o.n_atoms)\n",
    "print(\"Number of vibrational frequencies is:\", len(h2o.vib_frequencies))\n",
    "print(\n",
    "    \"Frequencies in wave-numbers:         \",\n",
    "    [float(nu) for nu in h2o.vib_frequencies],\n",
    ")\n",
    "\n",
    "# Now, generate a set of normal mode-displaced h2o molecules displaced along\n",
    "# the highest frequency normal mode (index 8), where 0-2 are translations\n",
    "# 3-5 are rotations and (6, 7, 8) are vibrations\n",
    "mode = h2o.normal_mode(8)\n",
    "\n",
    "for i in range(30):\n",
    "    h2o.coordinates += 0.01 * mode\n",
    "    h2o.print_xyz_file(filename=\"h2o_mode2.xyz\", append=True)"
   ]
  },
  {
   "cell_type": "markdown",
   "id": "f9dfa401",
   "metadata": {},
   "source": [
    "### Hessians"
   ]
  },
  {
   "cell_type": "code",
   "execution_count": 25,
   "id": "f0267f27",
   "metadata": {},
   "outputs": [
    {
     "name": "stdout",
     "output_type": "stream",
     "text": [
      "Numerical frequency calculated at xtb level-of-theory: [Frequency(2439.26775 cm^-1)]\n"
     ]
    }
   ],
   "source": [
    "# Dinitrogen molecule\n",
    "n2 = ade.Molecule(smiles=\"N#N\")\n",
    "\n",
    "n2.optimise(method=xtb)\n",
    "n2.calc_hessian(\n",
    "    method=xtb, numerical=True, use_central_differences=True\n",
    ")\n",
    "\n",
    "print(f\"Numerical frequency calculated at {xtb.name} level-of-theory:\", n2.vib_frequencies)"
   ]
  },
  {
   "cell_type": "markdown",
   "id": "5fcc9eda",
   "metadata": {},
   "source": [
    "### Generate potential energy surface plots"
   ]
  },
  {
   "cell_type": "code",
   "execution_count": 26,
   "id": "57565dcf",
   "metadata": {},
   "outputs": [],
   "source": [
    "# 2+ dimensional PESs can also be calculated. For example, considering the\n",
    "# identity reaction CH3 + CH4 -> CH4 + CH3\n",
    "reactive_complex = ade.Molecule(\"../data/CH3_CH4.xyz\", mult=2)\n",
    "\n",
    "# Create then calculate the PES\n",
    "pes = ade.pes.RelaxedPESnD(\n",
    "    reactive_complex,\n",
    "    rs={(0, 1): (3.0, 8), (5, 1): (1.1, 8)},  # Current->3.0 Å in 8 steps\n",
    ")  # Current->1.1 Å in 8 steps\n",
    "pes.calculate(\n",
    "    method=xtb\n",
    ")  # Using 10 processing cores\n",
    "\n",
    "# and plot the 2D surface\n",
    "pes.plot(filename=\"CH3_CH4.pdf\")"
   ]
  },
  {
   "cell_type": "markdown",
   "id": "05f61042",
   "metadata": {},
   "source": [
    "### Reaction profiles"
   ]
  },
  {
   "cell_type": "markdown",
   "id": "d0b46875",
   "metadata": {},
   "source": [
    "As indicated before, we will not be using the interface of advanced electronic structure codes in this tutorial. However, as xTB does not include methods to search for transition states, one cannot generate reaction profiles exclusively with these methods. Since reaction profile generation is one of the key features of autodE, we include below a coding example to run such a calculation -- this cell will currently not work and is purely included as illustration; the output it generates can be inspected in the data folder ('data/reaction')."
   ]
  },
  {
   "cell_type": "code",
   "execution_count": 27,
   "id": "0c6ba0d5",
   "metadata": {},
   "outputs": [
    {
     "name": "stdout",
     "output_type": "stream",
     "text": [
      "Calculating the reaction profile for [Molecule(r0_CClH3, n_atoms=5, charge=0, mult=1), Molecule(r1_F, n_atoms=1, charge=-1, mult=1)]->[Molecule(p0_CFH3, n_atoms=5, charge=0, mult=1), Molecule(p1_Cl, n_atoms=1, charge=-1, mult=1)]\n",
      "Calculation failed because high method not available\n"
     ]
    }
   ],
   "source": [
    "ade.Config.lcode = \"xtb\"\n",
    "ade.Config.hcode = \"g09\"\n",
    "\n",
    "# Full reaction profiles can be calculated by again forming a reaction\n",
    "# and calling calculate_reaction_profile. Conformers will be searched,\n",
    "# a TS found and single point energies evaluated. The reaction is defined a\n",
    "# as a single string, with reactants and products separated by '>>'\n",
    "rxn = ade.Reaction(\"CCl.[F-]>>CF.[Cl-]\", solvent_name=\"water\")\n",
    "\n",
    "print(f\"Calculating the reaction profile for {rxn.reacs}->{rxn.prods}\")\n",
    "\n",
    "try:\n",
    "    rxn.calculate_reaction_profile()\n",
    "    print(\"∆E‡ =\", rxn.delta(\"E‡\").to(\"kcal mol-1\"))\n",
    "except:\n",
    "    print('Calculation failed because high method not available')"
   ]
  },
  {
   "cell_type": "markdown",
   "id": "058b1699",
   "metadata": {},
   "source": [
    "With the main functionality of autodE to explore chemical reactivity in an automated manner explained, you can now proceed to a second Notebook, namely: combinatorial_dataset_construction.ipynb. Alternatively, you can take at the intro_ts_tools.ipynb Notebook, to learn about another open-source software tool for mechanistic elucidation."
   ]
  }
 ],
 "metadata": {
  "kernelspec": {
   "display_name": "helsinki",
   "language": "python",
   "name": "python3"
  },
  "language_info": {
   "codemirror_mode": {
    "name": "ipython",
    "version": 3
   },
   "file_extension": ".py",
   "mimetype": "text/x-python",
   "name": "python",
   "nbconvert_exporter": "python",
   "pygments_lexer": "ipython3",
   "version": "3.10.18"
  }
 },
 "nbformat": 4,
 "nbformat_minor": 5
}
