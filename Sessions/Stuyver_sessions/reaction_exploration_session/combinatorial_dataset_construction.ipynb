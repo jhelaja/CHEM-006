{
 "cells": [
  {
   "cell_type": "markdown",
   "metadata": {},
   "source": [
    "### Introduction"
   ]
  },
  {
   "cell_type": "markdown",
   "metadata": {},
   "source": [
    "A common workflow in computational chemistry+ML is to generate combinatorial search spaces. Here, we provide an example of such workflow, exclusively based on RDKit functions, from a recent paper: https://www.nature.com/articles/s41597-023-01977-8. We note that other approaches (e.g., generative models), as well as specialized packages, may exist as well.\n",
    "\n",
    "\n",
    "The specific project we focus on here involves the development of a dataset of [3+2] cycloaddition reaction profiles, with the aim of building a predictive model for the screening of potential bioorthogonal click reactions. In first instance, we will generate a list of potential dipolarophiles, next we will turn to the dipoles."
   ]
  },
  {
   "cell_type": "code",
   "execution_count": 1,
   "metadata": {},
   "outputs": [],
   "source": [
    "import pandas as pd\n",
    "from rdkit import Chem\n",
    "import pandas as pd\n",
    "import itertools\n",
    "import re\n",
    "import subprocess\n",
    "from rdkit.Chem.EnumerateStereoisomers import EnumerateStereoisomers\n",
    "\n",
    "from rdkit import rdBase\n",
    "from rdkit import RDLogger\n",
    "\n",
    "# Suppress RDKit warnings\n",
    "rdBase.DisableLog('rdApp.*')\n",
    "RDLogger.DisableLog('rdApp.*')"
   ]
  },
  {
   "cell_type": "code",
   "execution_count": 2,
   "metadata": {},
   "outputs": [],
   "source": [
    "# substituent list\n",
    "subs_list_LR = ['C', 'F', 'Cl', 'Br', 'C#N', 'C(=O)OC', 'C(=O)C', 'C(=O)NC', \n",
    "                'c1ccccc1', 'OC', 'C(F)(F)F', None]"
   ]
  },
  {
   "cell_type": "code",
   "execution_count": 3,
   "metadata": {},
   "outputs": [],
   "source": [
    "# auxiliary functions\n",
    "def generate_dipolarophiles(smiles):\n",
    "    mol = Chem.MolFromSmiles(smiles)\n",
    "    return Chem.MolToSmiles(mol)\n",
    "\n",
    "def single_edit_mol(mol, label, subs):\n",
    "    if subs != None:\n",
    "        mod_mol = Chem.ReplaceSubstructs(mol, Chem.MolFromSmiles(label), Chem.MolFromSmiles(subs))[0]\n",
    "    else: \n",
    "        mod_mol = Chem.DeleteSubstructs(mol, Chem.MolFromSmiles(label))\n",
    "    return mod_mol\n",
    "\n",
    "def modify_mol(dipole, subs_comb_LR, labels):\n",
    "    mol = Chem.MolFromSmiles(dipole)\n",
    "    mod_mol = single_edit_mol(mol, labels[0],subs_comb_LR[0])\n",
    "    for i, subs in enumerate(subs_comb_LR[1:]):\n",
    "        mod_mol = single_edit_mol(mod_mol, labels[i + 1], subs)\n",
    "    \n",
    "    return Chem.MolFromSmiles(Chem.MolToSmiles(mod_mol))"
   ]
  },
  {
   "cell_type": "code",
   "execution_count": 4,
   "metadata": {},
   "outputs": [],
   "source": [
    "# generate all ethylene-based dipolarophiles -- metal centers are used a placeholders which indicate the substitution sites.\n",
    "dipolarophile = 'C(*)(*)=C(*)(*)'\n",
    "labels = ['[Ti]', '[Cr]', '[Mn]', '[Fe]']\n",
    "connectable_substituents = set(['C', 'C(=O)OC', 'C(=O)C', 'C(=O)NC', 'c1ccccc1', 'OC']) # for in bioorthogonal click reactions, \n",
    "                                                                                        # one needs at least one substituent that can be extended.\n",
    "generated_full_dipolarophiles = []\n",
    "valency_indices = [valency.start() for valency in re.finditer('\\(\\*\\)', dipolarophile)]\n",
    "\n",
    "for i in range(len(valency_indices)):\n",
    "    dipolarophile = dipolarophile.replace('*', labels[i], 1)\n",
    "\n",
    "substituent_combs = itertools.product(subs_list_LR, repeat = len(valency_indices))\n",
    "for subs_comb in substituent_combs:\n",
    "    if connectable_substituents.intersection(subs_comb) != set(): # make sure at least one substituent is connectable\n",
    "        if len(set(subs_comb)) == len(subs_comb) - 2: # make sure there are only two different type of substituents\n",
    "            generated_full_dipolarophiles.append(modify_mol(dipolarophile, subs_comb, labels))\n",
    "    else:\n",
    "        continue"
   ]
  },
  {
   "cell_type": "code",
   "execution_count": 5,
   "metadata": {
    "scrolled": true
   },
   "outputs": [
    {
     "name": "stdout",
     "output_type": "stream",
     "text": [
      "255\n"
     ]
    }
   ],
   "source": [
    "full_dipolarophile_set = set(list(map(lambda x: Chem.MolToSmiles(x), generated_full_dipolarophiles)))\n",
    "dipolarophiles_ethylene = set()\n",
    "\n",
    "for full_dipolarophile in full_dipolarophile_set:\n",
    "    isomers = tuple(EnumerateStereoisomers(Chem.MolFromSmiles(full_dipolarophile)))\n",
    "    for smi in set(list(map(lambda x: Chem.MolToSmiles(x), isomers))):\n",
    "        dipolarophiles_ethylene.add(smi)\n",
    "\n",
    "print(len(dipolarophiles_ethylene))"
   ]
  },
  {
   "cell_type": "code",
   "execution_count": 6,
   "metadata": {},
   "outputs": [],
   "source": [
    "# generate all acetylene-based dipolarophiles\n",
    "dipolarophile = 'C(*)#C(*)'\n",
    "connectable_substituents = set(['C', 'C(=O)OC', 'C(=O)C', 'C(=O)NC', 'c1ccccc1', 'OC'])\n",
    "generated_full_dipolarophiles = []\n",
    "\n",
    "valency_indices = [valency.start() for valency in re.finditer('\\(\\*\\)', dipolarophile)]\n",
    "for i in range(len(valency_indices)):\n",
    "    dipolarophile = dipolarophile.replace('*', labels[i], 1)\n",
    "substituent_combs = itertools.product(subs_list_LR, repeat = len(valency_indices))\n",
    "for subs_comb in substituent_combs:\n",
    "    if connectable_substituents.intersection(subs_comb) != set(): # make sure at least one substituent is connectable\n",
    "        generated_full_dipolarophiles.append(modify_mol(dipolarophile, subs_comb, labels))\n",
    "    else:\n",
    "        continue"
   ]
  },
  {
   "cell_type": "code",
   "execution_count": 7,
   "metadata": {},
   "outputs": [
    {
     "name": "stdout",
     "output_type": "stream",
     "text": [
      "57\n"
     ]
    }
   ],
   "source": [
    "full_dipolarophile_set = set(list(map(lambda x: Chem.MolToSmiles(x), generated_full_dipolarophiles)))\n",
    "dipolarophiles_acetylene = set()\n",
    "\n",
    "for full_dipolarophile in full_dipolarophile_set:\n",
    "    isomers = tuple(EnumerateStereoisomers(Chem.MolFromSmiles(full_dipolarophile)))\n",
    "    for smi in set(list(map(lambda x: Chem.MolToSmiles(x), isomers))):\n",
    "        dipolarophiles_acetylene.add(smi)\n",
    "\n",
    "print(len(dipolarophiles_acetylene))"
   ]
  },
  {
   "cell_type": "code",
   "execution_count": 8,
   "metadata": {},
   "outputs": [],
   "source": [
    "# generate all norbornen-based dipolarophiles\n",
    "dipolarophile = 'C(*)1=C(*)C2CCC1C2'\n",
    "connectable_substituents = set(['C', 'C(=O)OC', 'C(=O)C', 'C(=O)NC', 'c1ccccc1', 'OC'])\n",
    "generated_full_dipolarophiles = []\n",
    "\n",
    "valency_indices = [valency.start() for valency in re.finditer('\\(\\*\\)', dipolarophile)]\n",
    "for i in range(len(valency_indices)):\n",
    "    dipolarophile = dipolarophile.replace('*', labels[i], 1)\n",
    "substituent_combs = itertools.product(subs_list_LR, repeat = len(valency_indices))\n",
    "for subs_comb in substituent_combs:\n",
    "    generated_full_dipolarophiles.append(modify_mol(dipolarophile, subs_comb, labels))"
   ]
  },
  {
   "cell_type": "code",
   "execution_count": 9,
   "metadata": {},
   "outputs": [
    {
     "name": "stdout",
     "output_type": "stream",
     "text": [
      "78\n"
     ]
    }
   ],
   "source": [
    "dipolarophiles_norbornene = set(list(map(lambda x: Chem.MolToSmiles(x), generated_full_dipolarophiles)))\n",
    "print(len(dipolarophiles_norbornene))"
   ]
  },
  {
   "cell_type": "code",
   "execution_count": 10,
   "metadata": {},
   "outputs": [],
   "source": [
    "# generate all oxo-norbornadiene-based dipolarophiles\n",
    "dipolarophile = 'C(*)1=C(*)C2C=CC1O2'\n",
    "generated_full_dipolarophiles = []\n",
    "\n",
    "valency_indices = [valency.start() for valency in re.finditer('\\(\\*\\)', dipolarophile)]\n",
    "for i in range(len(valency_indices)):\n",
    "    dipolarophile = dipolarophile.replace('*', labels[i], 1)\n",
    "substituent_combs = itertools.product(subs_list_LR, repeat = len(valency_indices))\n",
    "\n",
    "for subs_comb in substituent_combs:\n",
    "    generated_full_dipolarophiles.append(modify_mol(dipolarophile, subs_comb, labels))"
   ]
  },
  {
   "cell_type": "code",
   "execution_count": 11,
   "metadata": {},
   "outputs": [
    {
     "name": "stdout",
     "output_type": "stream",
     "text": [
      "78\n"
     ]
    }
   ],
   "source": [
    "full_dipolarophile_set = set(list(map(lambda x: Chem.MolToSmiles(x), generated_full_dipolarophiles)))\n",
    "dipolarophiles_oxonorbornadiene = set()\n",
    "\n",
    "for full_dipolarophile in full_dipolarophile_set:\n",
    "    dipolarophiles_oxonorbornadiene.add(full_dipolarophile)\n",
    "\n",
    "print(len(dipolarophiles_oxonorbornadiene))"
   ]
  },
  {
   "cell_type": "code",
   "execution_count": 12,
   "metadata": {},
   "outputs": [],
   "source": [
    "# generate all cyclooctyne-based dipolarophiles\n",
    "dipolarophile = f'C1CCC(*)(*)C#CC(*)(*)C1'\n",
    "generated_full_dipolarophiles = []\n",
    "\n",
    "valency_indices = [valency.start() for valency in re.finditer('\\(\\*\\)', dipolarophile)]\n",
    "for i in range(len(valency_indices)):\n",
    "    dipolarophile = dipolarophile.replace('*', labels[i], 1)\n",
    "substituent_combs = itertools.product(subs_list_LR, repeat = len(valency_indices))\n",
    "\n",
    "for subs_comb in substituent_combs:\n",
    "    if subs_comb[0] == subs_comb[1] or subs_comb[2] == subs_comb[3]: # make sure the reactant is achiral\n",
    "    # if len(set(subs_comb)) != len(subs_comb): # make sure there are only two different type of substituents\n",
    "        generated_full_dipolarophiles.append(modify_mol(dipolarophile, subs_comb, labels))"
   ]
  },
  {
   "cell_type": "code",
   "execution_count": 13,
   "metadata": {},
   "outputs": [
    {
     "name": "stdout",
     "output_type": "stream",
     "text": [
      "870\n"
     ]
    }
   ],
   "source": [
    "full_dipolarophile_set = set(list(map(lambda x: Chem.MolToSmiles(x), generated_full_dipolarophiles)))\n",
    "dipolarophiles_cyclooctyne = set()\n",
    "\n",
    "for full_dipolarophile in full_dipolarophile_set:\n",
    "    dipolarophiles_cyclooctyne.add(full_dipolarophile)\n",
    "\n",
    "print(len(dipolarophiles_cyclooctyne))"
   ]
  },
  {
   "cell_type": "code",
   "execution_count": 14,
   "metadata": {},
   "outputs": [],
   "source": [
    "# turn lists into dataframes\n",
    "df_ethylene = pd.DataFrame(list(dipolarophiles_ethylene))\n",
    "df_acetylene = pd.DataFrame(list(dipolarophiles_acetylene))\n",
    "df_norbornene = pd.DataFrame(list(dipolarophiles_norbornene))\n",
    "df_oxonorbornadiene = pd.DataFrame(list(dipolarophiles_oxonorbornadiene))\n",
    "df_cyclooctyne = pd.DataFrame(list(dipolarophiles_cyclooctyne))"
   ]
  },
  {
   "cell_type": "code",
   "execution_count": 15,
   "metadata": {},
   "outputs": [],
   "source": [
    "# concatenate and save\n",
    "df = pd.concat((df_ethylene, df_acetylene, df_norbornene, df_oxonorbornadiene, df_cyclooctyne), ignore_index=True)\n",
    "df.columns = ['dipolarophile']\n",
    "df.to_csv('work_dir/dipolarophiles.csv')"
   ]
  },
  {
   "cell_type": "markdown",
   "metadata": {},
   "source": [
    "Now we turn to the dipoles"
   ]
  },
  {
   "cell_type": "code",
   "execution_count": 16,
   "metadata": {},
   "outputs": [],
   "source": [
    "# substituent lists -- seperate list for substituents left and right and substituents in the middle\n",
    "subs_list_LR = ['C', 'C#N', 'C(=O)OC', 'C(=O)C', 'C(=O)NC', 'c1ccccc1', None] \n",
    "subs_list_M = ['C', None]"
   ]
  },
  {
   "cell_type": "code",
   "execution_count": 17,
   "metadata": {},
   "outputs": [],
   "source": [
    "# auxiliary functions\n",
    "def generate_dipoles(smiles):\n",
    "    mol = Chem.MolFromSmiles(smiles)\n",
    "    return Chem.MolToSmiles(mol)\n",
    "\n",
    "def single_edit_mol(mol, label, subs):\n",
    "    if subs != None:\n",
    "        mod_mol = Chem.ReplaceSubstructs(mol, Chem.MolFromSmiles(label), Chem.MolFromSmiles(subs))[0]\n",
    "    else:\n",
    "        mod_mol = Chem.ReplaceSubstructs(mol, Chem.MolFromSmiles(label), Chem.MolFromSmiles('[H]'))[0]\n",
    "        mod_mol = Chem.RemoveHs(mod_mol)\n",
    "    return mod_mol\n",
    "\n",
    "def modify_mol(dipole, subs_comb_LR, subs_M, labels):\n",
    "    mol = Chem.MolFromSmiles(dipole)\n",
    "    if 'Sc' in dipole:\n",
    "        mod_mol = single_edit_mol(mol, '[Sc]', subs_M)\n",
    "        mod_mol = single_edit_mol(mod_mol, labels[0], subs_comb_LR[0])\n",
    "        for i, subs in enumerate(subs_comb_LR[1:]):\n",
    "            mod_mol = single_edit_mol(mod_mol, labels[i + 1], subs)\n",
    "    else:\n",
    "        mod_mol = single_edit_mol(mol, labels[0], subs_comb_LR[0])\n",
    "        for i, subs in enumerate(subs_comb_LR[1:]):\n",
    "            mod_mol = single_edit_mol(mod_mol, labels[i + 1], subs)\n",
    "    \n",
    "    return Chem.MolFromSmiles(Chem.MolToSmiles(mod_mol))"
   ]
  },
  {
   "cell_type": "code",
   "execution_count": 18,
   "metadata": {},
   "outputs": [
    {
     "name": "stdout",
     "output_type": "stream",
     "text": [
      "10\n",
      "['C(*)(*)=[O+][O-]', 'C(*)(*)=[O+][C-](*)(*)', 'C(*)(*)=[O+][N-](*)', 'C(*)(*)=[N+]([Sc])[O-]', 'C(*)(*)=[N+]([Sc])[C-](*)(*)', 'C(*)(*)=[N+]([Sc])[N-](*)', 'N(*)=[O+][O-]', 'N(*)=[O+][N-](*)', 'N(*)=[N+]([Sc])[O-]', 'N(*)=[N+]([Sc])[N-](*)']\n"
     ]
    }
   ],
   "source": [
    "# construct allyl-type dipoles\n",
    "dipole_scaffolds = []\n",
    "\n",
    "for L in ['C(*)(*)', 'N(*)']: # O on left side doesn't make sense because then there can be no connection site \n",
    "    for M in ['[O+]', '[N+]([Sc])']:\n",
    "        for R in ['[O-]', '[C-](*)(*)', '[N-](*)']:\n",
    "            dipole_scaffolds.append(f'{L}={M}{R}')\n",
    "\n",
    "            \n",
    "# remove pseudo-duplicates (resonance structure can be \"pushed\" to other side)\n",
    "dipole_scaffolds.remove('N(*)=[N+]([Sc])[C-](*)(*)')\n",
    "dipole_scaffolds.remove('N(*)=[O+][C-](*)(*)')\n",
    "print(len(dipole_scaffolds))\n",
    "print(dipole_scaffolds)"
   ]
  },
  {
   "cell_type": "code",
   "execution_count": 19,
   "metadata": {},
   "outputs": [],
   "source": [
    "labels = ['[Ti]', '[Cr]', '[Mn]', '[Fe]']\n",
    "connectable_substituents = set(['C', 'C(=O)OC', 'C(=O)C', 'C(=O)NC', 'c1ccccc1'])\n",
    "generated_full_dipoles = []\n",
    "\n",
    "for dipole in dipole_scaffolds:\n",
    "    valency_indices = [valency.start() for valency in re.finditer('\\(\\*\\)', dipole)]\n",
    "    for i in range(len(valency_indices)):\n",
    "        dipole = dipole.replace('*', labels[i], 1)\n",
    "    substituent_combs = itertools.product(subs_list_LR, repeat = len(valency_indices))\n",
    "    for subs_comb in substituent_combs:\n",
    "        if connectable_substituents.intersection(subs_comb) != set(): # make sure at least one substituent is connectable\n",
    "            for subs_M in subs_list_M:\n",
    "                generated_full_dipoles.append(modify_mol(dipole,subs_comb, subs_M, labels))\n",
    "        else:\n",
    "            continue"
   ]
  },
  {
   "cell_type": "code",
   "execution_count": 20,
   "metadata": {},
   "outputs": [
    {
     "name": "stdout",
     "output_type": "stream",
     "text": [
      "11260\n",
      "3120\n"
     ]
    }
   ],
   "source": [
    "print(len(generated_full_dipoles))\n",
    "dipoles_double = set(list(map(lambda x: Chem.MolToSmiles(x), generated_full_dipoles)))\n",
    "print(len(dipoles_double))"
   ]
  },
  {
   "cell_type": "code",
   "execution_count": 21,
   "metadata": {},
   "outputs": [
    {
     "name": "stdout",
     "output_type": "stream",
     "text": [
      "5\n"
     ]
    }
   ],
   "source": [
    "# construct propargyl-type dipoles\n",
    "dipole_scaffolds2 = []\n",
    "\n",
    "for L in ['C(*)', 'N']: # O on left side doesn't make sense because then there can no longer be a connection site \n",
    "    for M in ['[N+]']:\n",
    "        for R in ['[O-]', '[C-](*)(*)', '[N-](*)']:\n",
    "            dipole_scaffolds2.append(f'{L}#{M}{R}')\n",
    "\n",
    "dipole_scaffolds2.remove('N#[N+][O-]')\n",
    "print(len(dipole_scaffolds2))"
   ]
  },
  {
   "cell_type": "code",
   "execution_count": 22,
   "metadata": {},
   "outputs": [],
   "source": [
    "generated_full_dipoles2 = []\n",
    "\n",
    "for dipole in dipole_scaffolds2:\n",
    "    valency_indices = [valency.start() for valency in re.finditer('\\(\\*\\)', dipole)]\n",
    "    for i in range(len(valency_indices)):\n",
    "        dipole = dipole.replace('*', labels[i], 1)\n",
    "    substituent_combs = itertools.product(subs_list_LR, repeat = len(valency_indices))\n",
    "    for subs_comb in substituent_combs:\n",
    "        if connectable_substituents.intersection(subs_comb) != set(): # make sure at least one substituent is connectable\n",
    "            for subs_M in subs_list_M:\n",
    "                generated_full_dipoles2.append(modify_mol(dipole,subs_comb, subs_M, labels))\n",
    "        else:\n",
    "            continue"
   ]
  },
  {
   "cell_type": "code",
   "execution_count": 23,
   "metadata": {},
   "outputs": [
    {
     "name": "stdout",
     "output_type": "stream",
     "text": [
      "270\n"
     ]
    }
   ],
   "source": [
    "full_dipole_set2 = set(list(map(lambda x: Chem.MolToSmiles(x), generated_full_dipoles2)))\n",
    "dipoles_triple = set()\n",
    "\n",
    "for full_dipole in full_dipole_set2:\n",
    "    isomers = tuple(EnumerateStereoisomers(Chem.MolFromSmiles(full_dipole)))\n",
    "    for smi in set(list(map(lambda x: Chem.MolToSmiles(x), isomers))):\n",
    "        dipoles_triple.add(smi)\n",
    "        \n",
    "print(len(dipoles_triple))"
   ]
  },
  {
   "cell_type": "code",
   "execution_count": 24,
   "metadata": {},
   "outputs": [
    {
     "name": "stdout",
     "output_type": "stream",
     "text": [
      "8\n"
     ]
    }
   ],
   "source": [
    "#construct cyclic dipoles\n",
    "dipole_scaffolds3 = []\n",
    "\n",
    "for L in ['C(*)', 'N']: # O on left side doesn't make sense because then there can be not connection site \n",
    "    for M in ['[O+]', '[N+]([Sc])']:\n",
    "        for R in ['[C-](*)', '[N-]']:\n",
    "            dipole_scaffolds3.append(f'{L}2={M}{R}C(=O)O2')\n",
    "            \n",
    "print(len(dipole_scaffolds3))"
   ]
  },
  {
   "cell_type": "code",
   "execution_count": 25,
   "metadata": {},
   "outputs": [],
   "source": [
    "generated_full_dipoles3 = []\n",
    "\n",
    "for dipole in dipole_scaffolds3:\n",
    "    valency_indices = [valency.start() for valency in re.finditer('\\(\\*\\)', dipole)]\n",
    "    for i in range(len(valency_indices)):\n",
    "        dipole = dipole.replace('*', labels[i], 1)\n",
    "    substituent_combs = itertools.product(subs_list_LR, repeat = len(valency_indices))\n",
    "    for subs_comb in substituent_combs:\n",
    "        if connectable_substituents.intersection(subs_comb) != set(): # make sure at least one substituent is connectable\n",
    "            for subs_M in subs_list_M:\n",
    "                generated = modify_mol(dipole,subs_comb, subs_M, labels)\n",
    "                if generated != None:\n",
    "                    generated_full_dipoles3.append(generated)\n",
    "                else:\n",
    "                    print(dipole, subs_comb)\n",
    "        else:\n",
    "            continue"
   ]
  },
  {
   "cell_type": "code",
   "execution_count": 26,
   "metadata": {},
   "outputs": [
    {
     "name": "stdout",
     "output_type": "stream",
     "text": [
      "165\n"
     ]
    }
   ],
   "source": [
    "dipoles_ring = set(list(map(lambda x: Chem.MolToSmiles(x), generated_full_dipoles3)))    \n",
    "print(len(dipoles_ring))   "
   ]
  },
  {
   "cell_type": "code",
   "execution_count": 27,
   "metadata": {},
   "outputs": [],
   "source": [
    "# turn lists into dataframes\n",
    "df_double = pd.DataFrame(list(dipoles_double))\n",
    "df_triple = pd.DataFrame(list(dipoles_triple))\n",
    "df_ring = pd.DataFrame(list(dipoles_ring))"
   ]
  },
  {
   "cell_type": "code",
   "execution_count": 28,
   "metadata": {},
   "outputs": [],
   "source": [
    "# concatenate\n",
    "df = pd.concat((df_double, df_triple, df_ring))\n",
    "df.columns = ['dipole']\n",
    "df.to_csv('work_dir/dipoles.csv')"
   ]
  },
  {
   "cell_type": "markdown",
   "metadata": {},
   "source": [
    "### Combination into reaction SMILES"
   ]
  },
  {
   "cell_type": "markdown",
   "metadata": {},
   "source": [
    "The next step is to combine the lists of dipoles and dipolarophiles into reaction SMILES, which can be parsed by autodE (see previous Notebook). Doing so is a complex procedure, among others since the stereochemistry needs to made consistent between reactants and products. Because of time constraints, we will not go into detail on this point -- a script with the necessary functions to do this will be called below on a small subset of the generated dipoles and dipolarophiles as an illustration."
   ]
  },
  {
   "cell_type": "code",
   "execution_count": 29,
   "metadata": {},
   "outputs": [
    {
     "name": "stdout",
     "output_type": "stream",
     "text": [
      "\n",
      "  0%|          | 0/30 [00:00<?, ?it/s]\n",
      "  3%|▎         | 1/30 [00:00<00:05,  5.58it/s]\n",
      " 13%|█▎        | 4/30 [00:00<00:01, 15.69it/s]\n",
      " 27%|██▋       | 8/30 [00:00<00:01, 15.88it/s]\n",
      " 33%|███▎      | 10/30 [00:01<00:02,  7.68it/s]\n",
      " 43%|████▎     | 13/30 [00:01<00:01, 10.71it/s]\n",
      " 53%|█████▎    | 16/30 [00:01<00:01, 13.90it/s]\n",
      " 63%|██████▎   | 19/30 [00:01<00:00, 16.98it/s]\n",
      " 73%|███████▎  | 22/30 [00:01<00:00, 19.18it/s]\n",
      " 83%|████████▎ | 25/30 [00:01<00:00, 20.85it/s]\n",
      " 97%|█████████▋| 29/30 [00:01<00:00, 23.60it/s]\n",
      "100%|██████████| 30/30 [00:01<00:00, 16.40it/s]\n"
     ]
    }
   ],
   "source": [
    "command = 'python construct_reaction_smiles.py'\n",
    "process = subprocess.Popen(command.split(), stdout=subprocess.PIPE, stderr=subprocess.PIPE, text=True)\n",
    "\n",
    "# Print the error output line by line\n",
    "for line in iter(process.stderr.readline, ''):\n",
    "    print(line, end='')\n",
    "\n",
    "# Print the output line by line\n",
    "for line in iter(process.stdout.readline, ''):\n",
    "    print(line, end='')"
   ]
  },
  {
   "cell_type": "markdown",
   "metadata": {},
   "source": [
    "The resulting SMILES strings can be visualized by copying them and pasting them in ChemDraw. Take the time to look at a couple of them; for those that contain stereo-elements, you will see that they are conserved on both sides of the reaction, i.e., the reactions make stereochemical sense. Note that this is not automatically the case when applying reaction templates in RDKit!\n",
    "\n",
    "The generated reaction SMILES can now be passed on to autodE, though it needs to be taken into account that autodE does not automatically preserve stereochemistry in all species either, even when they are indicated in the reaction SMILES -> post-hoc correction of some reaction profiles/SMILES may be needed, but this falls outside of the scope of this tutorial (see e.g., https://www.nature.com/articles/s41597-023-01977-8)"
   ]
  }
 ],
 "metadata": {
  "kernelspec": {
   "display_name": "camlc24",
   "language": "python",
   "name": "python3"
  },
  "language_info": {
   "codemirror_mode": {
    "name": "ipython",
    "version": 3
   },
   "file_extension": ".py",
   "mimetype": "text/x-python",
   "name": "python",
   "nbconvert_exporter": "python",
   "pygments_lexer": "ipython3",
   "version": "3.10.14"
  }
 },
 "nbformat": 4,
 "nbformat_minor": 2
}
