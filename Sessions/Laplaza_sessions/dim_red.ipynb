{
 "cells": [
  {
   "cell_type": "code",
   "execution_count": 1,
   "id": "a951237f",
   "metadata": {},
   "outputs": [
    {
     "name": "stderr",
     "output_type": "stream",
     "text": [
      "/home/laplaza/anaconda3/envs/rubensinki/lib/python3.10/site-packages/tqdm/auto.py:21: TqdmWarning: IProgress not found. Please update jupyter and ipywidgets. See https://ipywidgets.readthedocs.io/en/stable/user_install.html\n",
      "  from .autonotebook import tqdm as notebook_tqdm\n"
     ]
    }
   ],
   "source": [
    "# Import necessary libraries\n",
    "import pandas as pd\n",
    "import numpy as np\n",
    "from rdkit import Chem\n",
    "from rdkit.Chem import AllChem, Descriptors\n",
    "from rdkit.Chem.Draw import MolToImage, rdMolDraw2D  # For generating images\n",
    "import base64  # For encoding images for Plotly hover\n",
    "from io import BytesIO  # For handling image data in memory\n",
    "from PIL import Image, ImageDraw\n",
    "from sklearn.preprocessing import StandardScaler\n",
    "from sklearn.decomposition import PCA\n",
    "from sklearn.manifold import TSNE\n",
    "from sklearn.cluster import AgglomerativeClustering, KMeans, DBSCAN\n",
    "import matplotlib.pyplot as plt\n",
    "import seaborn as sns\n",
    "import plotly.express as px\n",
    "import plotly.graph_objects as go\n",
    "import umap.umap_ as umap\n",
    "from dash import dcc, html, Input, Output, no_update\n",
    "import plotly.graph_objects as go\n",
    "\n",
    "try:\n",
    "    from mordred import Calculator, descriptors as mordred_descriptors\n",
    "\n",
    "    MORDRED_AVAILABLE = True\n",
    "except ImportError:\n",
    "    MORDRED_AVAILABLE = False\n",
    "    Calculator = None  # mordred.Calculator\n",
    "    mordred_descriptors = None  # mordred.descriptors\n",
    "\n",
    "try:\n",
    "    from openTSNE import (\n",
    "        TSNE as OpenTSNE,\n",
    "    )  # Use an alias to avoid conflict with sklearn.manifold.TSNE\n",
    "\n",
    "    OPENTSNE_AVAILABLE = True\n",
    "except ImportError:\n",
    "    OPENTSNE_AVAILABLE = False\n",
    "    OpenTSNE = None"
   ]
  },
  {
   "cell_type": "code",
   "execution_count": 2,
   "id": "31739aae",
   "metadata": {},
   "outputs": [],
   "source": [
    "\n",
    "from helpers import plot_scatter_plotly_2d, plot_scatter_plotly_3d\n"
   ]
  },
  {
   "cell_type": "code",
   "execution_count": 3,
   "id": "8997653a",
   "metadata": {},
   "outputs": [],
   "source": [
    "# 1. Load or Define Your Dataset\n",
    "# For demonstration, we'll use a small list of 100 SMILES strings from ZINC.\n",
    "# In a real scenario, you might load this from a CSV or SDF file.\n",
    "\n",
    "with open(\"SMILES_ZINC_5000.csv\", \"r\") as f:\n",
    "    smiles_list = [line.strip() for line in f.readlines()][:100]\n",
    "\n",
    "molecule_names = smiles_list # [f\"Mol_{i+1}\" for i in range(len(smiles_list))]\n",
    "\n",
    "# For later, lets create another small list of recognizable molecules\n",
    "smiles_list_extra = [\n",
    "    \"CCO\",  # Ethanol\n",
    "    \"CCC\",  # Propane\n",
    "    \"c1ccccc1\",  # Benzene\n",
    "    \"CC(=O)O\",  # Acetic acid\n",
    "    \"CNC(=O)C1=C(C=C(C=C1)N)N=NC2=CC=C(C=C2)S(=O)(=O)N\", # Prontosil\n",
    "    \"CC(C)CC1=CC=C(C=C1)C(C)C(=O)O\", # Ibuprofen\n",
    "    \"COC1=CC=C(C=C1)C(C2=CC=C(C=C2)OC)O\", # Anisoin\n",
    "    \"CC1=C(C(=O)N(C1=O)C2=CC=CC=C2)C3=CC=CC=C3\", # Phenazone\n",
    "    \"CN1C=NC2=C1C(=O)N(C(=O)N2C)C\", # Caffeine\n",
    "    \"C1=CC=C(C=C1)C(C2=CC=CC=C2)O\", # Benzhydrol\n",
    "    \"CC(=O)OC1=CC=CC=C1C(=O)O\" # Aspirin\n",
    "]\n",
    "\n",
    "molecule_names_extra = smiles_list_extra #[f\"Mol_{i+1+len(smiles_list)}\" for i in range(len(smiles_list_extra))]"
   ]
  },
  {
   "cell_type": "code",
   "execution_count": 4,
   "id": "a1fb8e95",
   "metadata": {},
   "outputs": [
    {
     "name": "stderr",
     "output_type": "stream",
     "text": [
      "[15:55:02] DEPRECATION WARNING: please use MorganGenerator\n",
      "[15:55:02] DEPRECATION WARNING: please use MorganGenerator\n",
      "[15:55:02] DEPRECATION WARNING: please use MorganGenerator\n",
      "[15:55:02] DEPRECATION WARNING: please use MorganGenerator\n",
      "[15:55:02] DEPRECATION WARNING: please use MorganGenerator\n",
      "[15:55:02] DEPRECATION WARNING: please use MorganGenerator\n",
      "[15:55:02] DEPRECATION WARNING: please use MorganGenerator\n",
      "[15:55:02] DEPRECATION WARNING: please use MorganGenerator\n",
      "[15:55:02] DEPRECATION WARNING: please use MorganGenerator\n",
      "[15:55:02] DEPRECATION WARNING: please use MorganGenerator\n",
      "[15:55:02] DEPRECATION WARNING: please use MorganGenerator\n",
      "[15:55:02] DEPRECATION WARNING: please use MorganGenerator\n",
      "[15:55:02] DEPRECATION WARNING: please use MorganGenerator\n",
      "[15:55:02] DEPRECATION WARNING: please use MorganGenerator\n",
      "[15:55:02] DEPRECATION WARNING: please use MorganGenerator\n",
      "[15:55:02] DEPRECATION WARNING: please use MorganGenerator\n",
      "[15:55:02] DEPRECATION WARNING: please use MorganGenerator\n",
      "[15:55:02] DEPRECATION WARNING: please use MorganGenerator\n",
      "[15:55:02] DEPRECATION WARNING: please use MorganGenerator\n",
      "[15:55:02] DEPRECATION WARNING: please use MorganGenerator\n",
      "[15:55:02] DEPRECATION WARNING: please use MorganGenerator\n",
      "[15:55:02] DEPRECATION WARNING: please use MorganGenerator\n",
      "[15:55:02] DEPRECATION WARNING: please use MorganGenerator\n",
      "[15:55:02] DEPRECATION WARNING: please use MorganGenerator\n",
      "[15:55:02] DEPRECATION WARNING: please use MorganGenerator\n",
      "[15:55:02] DEPRECATION WARNING: please use MorganGenerator\n",
      "[15:55:02] DEPRECATION WARNING: please use MorganGenerator\n",
      "[15:55:02] DEPRECATION WARNING: please use MorganGenerator\n",
      "[15:55:02] DEPRECATION WARNING: please use MorganGenerator\n",
      "[15:55:02] DEPRECATION WARNING: please use MorganGenerator\n",
      "[15:55:02] DEPRECATION WARNING: please use MorganGenerator\n",
      "[15:55:02] DEPRECATION WARNING: please use MorganGenerator\n",
      "[15:55:02] DEPRECATION WARNING: please use MorganGenerator\n",
      "[15:55:02] DEPRECATION WARNING: please use MorganGenerator\n",
      "[15:55:02] DEPRECATION WARNING: please use MorganGenerator\n",
      "[15:55:02] DEPRECATION WARNING: please use MorganGenerator\n",
      "[15:55:02] DEPRECATION WARNING: please use MorganGenerator\n",
      "[15:55:02] DEPRECATION WARNING: please use MorganGenerator\n",
      "[15:55:02] DEPRECATION WARNING: please use MorganGenerator\n",
      "[15:55:02] DEPRECATION WARNING: please use MorganGenerator\n",
      "[15:55:02] DEPRECATION WARNING: please use MorganGenerator\n",
      "[15:55:02] DEPRECATION WARNING: please use MorganGenerator\n",
      "[15:55:02] DEPRECATION WARNING: please use MorganGenerator\n",
      "[15:55:02] DEPRECATION WARNING: please use MorganGenerator\n",
      "[15:55:02] DEPRECATION WARNING: please use MorganGenerator\n",
      "[15:55:02] DEPRECATION WARNING: please use MorganGenerator\n",
      "[15:55:02] DEPRECATION WARNING: please use MorganGenerator\n",
      "[15:55:02] DEPRECATION WARNING: please use MorganGenerator\n",
      "[15:55:02] DEPRECATION WARNING: please use MorganGenerator\n",
      "[15:55:02] DEPRECATION WARNING: please use MorganGenerator\n",
      "[15:55:02] DEPRECATION WARNING: please use MorganGenerator\n",
      "[15:55:02] DEPRECATION WARNING: please use MorganGenerator\n",
      "[15:55:02] DEPRECATION WARNING: please use MorganGenerator\n",
      "[15:55:02] DEPRECATION WARNING: please use MorganGenerator\n",
      "[15:55:02] DEPRECATION WARNING: please use MorganGenerator\n",
      "[15:55:02] DEPRECATION WARNING: please use MorganGenerator\n",
      "[15:55:02] DEPRECATION WARNING: please use MorganGenerator\n",
      "[15:55:02] DEPRECATION WARNING: please use MorganGenerator\n",
      "[15:55:02] DEPRECATION WARNING: please use MorganGenerator\n",
      "[15:55:02] DEPRECATION WARNING: please use MorganGenerator\n",
      "[15:55:02] DEPRECATION WARNING: please use MorganGenerator\n",
      "[15:55:02] DEPRECATION WARNING: please use MorganGenerator\n",
      "[15:55:02] DEPRECATION WARNING: please use MorganGenerator\n",
      "[15:55:02] DEPRECATION WARNING: please use MorganGenerator\n",
      "[15:55:02] DEPRECATION WARNING: please use MorganGenerator\n",
      "[15:55:02] DEPRECATION WARNING: please use MorganGenerator\n",
      "[15:55:02] DEPRECATION WARNING: please use MorganGenerator\n",
      "[15:55:02] DEPRECATION WARNING: please use MorganGenerator\n",
      "[15:55:02] DEPRECATION WARNING: please use MorganGenerator\n",
      "[15:55:02] DEPRECATION WARNING: please use MorganGenerator\n",
      "[15:55:02] DEPRECATION WARNING: please use MorganGenerator\n",
      "[15:55:02] DEPRECATION WARNING: please use MorganGenerator\n",
      "[15:55:02] DEPRECATION WARNING: please use MorganGenerator\n",
      "[15:55:02] DEPRECATION WARNING: please use MorganGenerator\n",
      "[15:55:02] DEPRECATION WARNING: please use MorganGenerator\n",
      "[15:55:02] DEPRECATION WARNING: please use MorganGenerator\n",
      "[15:55:02] DEPRECATION WARNING: please use MorganGenerator\n",
      "[15:55:02] DEPRECATION WARNING: please use MorganGenerator\n",
      "[15:55:02] DEPRECATION WARNING: please use MorganGenerator\n",
      "[15:55:02] DEPRECATION WARNING: please use MorganGenerator\n",
      "[15:55:02] DEPRECATION WARNING: please use MorganGenerator\n",
      "[15:55:02] DEPRECATION WARNING: please use MorganGenerator\n",
      "[15:55:02] DEPRECATION WARNING: please use MorganGenerator\n",
      "[15:55:02] DEPRECATION WARNING: please use MorganGenerator\n",
      "[15:55:02] DEPRECATION WARNING: please use MorganGenerator\n",
      "[15:55:02] DEPRECATION WARNING: please use MorganGenerator\n",
      "[15:55:02] DEPRECATION WARNING: please use MorganGenerator\n",
      "[15:55:02] DEPRECATION WARNING: please use MorganGenerator\n",
      "[15:55:02] DEPRECATION WARNING: please use MorganGenerator\n",
      "[15:55:02] DEPRECATION WARNING: please use MorganGenerator\n",
      "[15:55:02] DEPRECATION WARNING: please use MorganGenerator\n",
      "[15:55:02] DEPRECATION WARNING: please use MorganGenerator\n",
      "[15:55:02] DEPRECATION WARNING: please use MorganGenerator\n",
      "[15:55:02] DEPRECATION WARNING: please use MorganGenerator\n",
      "[15:55:02] DEPRECATION WARNING: please use MorganGenerator\n",
      "[15:55:02] DEPRECATION WARNING: please use MorganGenerator\n",
      "[15:55:02] DEPRECATION WARNING: please use MorganGenerator\n",
      "[15:55:02] DEPRECATION WARNING: please use MorganGenerator\n",
      "[15:55:02] DEPRECATION WARNING: please use MorganGenerator\n",
      "[15:55:02] DEPRECATION WARNING: please use MorganGenerator\n"
     ]
    }
   ],
   "source": [
    "# 2. Generate Fingerprints\n",
    "# Convert SMILES to RDKit molecule objects\n",
    "mols = [Chem.MolFromSmiles(s) for s in smiles_list]\n",
    "mols_extra = [Chem.MolFromSmiles(s) for s in smiles_list_extra]\n",
    "\n",
    "# Filter out any molecules that couldn't be parsed\n",
    "valid_mols_indices = [i for i, mol in enumerate(mols) if mol is not None]\n",
    "mols = [mols[i] for i in valid_mols_indices]\n",
    "molecule_names = [molecule_names[i] for i in valid_mols_indices]\n",
    "\n",
    "if not mols:\n",
    "    raise ValueError(\"No valid molecules could be parsed from the SMILES list.\")\n",
    "\n",
    "# Using Morgan fingerprints (similar to ECFP)\n",
    "def generate_morgan_fingerprints(mol, radius=2, nBits=1024):\n",
    "    \"\"\"Generates Morgan fingerprints for a molecule.\"\"\"\n",
    "    if mol is None:\n",
    "        return np.zeros((nBits,), dtype=int)\n",
    "    fp = AllChem.GetMorganFingerprintAsBitVect(mol, radius, nBits=nBits)\n",
    "    return np.array(list(fp.ToBitString()), dtype=int)\n",
    "\n",
    "fingerprints = np.array([generate_morgan_fingerprints(mol) for mol in mols])\n",
    "fp_df = pd.DataFrame(fingerprints, columns=[f\"FP_{i}\" for i in range(fingerprints.shape[1])])\n",
    "fp_df.index = molecule_names"
   ]
  },
  {
   "cell_type": "code",
   "execution_count": 5,
   "id": "577550c7",
   "metadata": {},
   "outputs": [],
   "source": [
    "# 3. Generate Descriptors\n",
    "# Select a few 2D descriptors\n",
    "descriptor_names = [\n",
    "    \"MolWt\", \"HeavyAtomCount\", \"NumHAcceptors\", \"NumHDonors\",\n",
    "    \"MolLogP\", \"TPSA\", \"NumRotatableBonds\", \"RingCount\"\n",
    "]\n",
    "\n",
    "def calculate_descriptors(mol, descriptor_list):\n",
    "    \"\"\"Calculates a list of RDKit descriptors for a molecule.\"\"\"\n",
    "    if mol is None:\n",
    "        return [np.nan] * len(descriptor_list)\n",
    "    vals = []\n",
    "    for desc_name in descriptor_list:\n",
    "        try:\n",
    "            # Descriptor functions are attributes of the Descriptors module\n",
    "            desc_func = getattr(Descriptors, desc_name)\n",
    "            vals.append(desc_func(mol))\n",
    "        except AttributeError:\n",
    "            print(f\"Warning: Descriptor {desc_name} not found.\")\n",
    "            vals.append(np.nan)\n",
    "        except Exception as e:\n",
    "            print(f\"Warning: Could not calculate {desc_name} for a molecule: {e}\")\n",
    "            vals.append(np.nan)\n",
    "    return vals\n",
    "\n",
    "descriptors_data = np.array([calculate_descriptors(mol, descriptor_names) for mol in mols])\n",
    "desc_df = pd.DataFrame(descriptors_data, columns=descriptor_names)\n",
    "desc_df.index = molecule_names\n",
    "\n",
    "descriptors_data_extra = np.array([calculate_descriptors(mol, descriptor_names) for mol in mols_extra])\n",
    "desc_df_extra = pd.DataFrame(descriptors_data_extra, columns=descriptor_names)\n",
    "desc_df_extra.index = molecule_names_extra\n",
    "\n",
    "# Handle potential NaN values from descriptor calculation (e.g., if a descriptor can't be computed)\n",
    "# A simple strategy is to fill with the mean, or you could drop rows/columns or use more sophisticated imputation.\n",
    "desc_df = desc_df.fillna(desc_df.mean())"
   ]
  },
  {
   "cell_type": "code",
   "execution_count": 6,
   "id": "24b8ba5c",
   "metadata": {},
   "outputs": [
    {
     "name": "stdout",
     "output_type": "stream",
     "text": [
      "\n",
      "Calculating MORDRED descriptors...\n"
     ]
    },
    {
     "name": "stderr",
     "output_type": "stream",
     "text": [
      "100%|██████████| 100/100 [00:04<00:00, 22.78it/s]\n"
     ]
    },
    {
     "name": "stdout",
     "output_type": "stream",
     "text": [
      "Calculated 1510 MORDRED descriptors.\n"
     ]
    }
   ],
   "source": [
    "# 3b. Generate MORDRED Descriptors - alternative to RDKit 2D descriptors\n",
    "if MORDRED_AVAILABLE:\n",
    "    print(\"\\nCalculating MORDRED descriptors...\")\n",
    "    # Initialize Mordred calculator. We'll ignore 3D descriptors for simplicity as we only have SMILES.\n",
    "    mordred_calc = Calculator(mordred_descriptors, ignore_3D=True)\n",
    "\n",
    "    # Calculate Mordred descriptors for all valid molecules\n",
    "    # mordred_calc.pandas() returns a DataFrame\n",
    "    mordred_desc_df_raw = mordred_calc.pandas(mols)\n",
    "\n",
    "    # Mordred might return special 'Missing' objects or exceptions as strings.\n",
    "    # Convert all columns to numeric, coercing errors to NaN.\n",
    "    mordred_desc_df = mordred_desc_df_raw.apply(pd.to_numeric, errors='coerce')\n",
    "\n",
    "    # Handle NaN values (e.g., fill with mean).\n",
    "    # First, drop columns that are all NaN (if any descriptor failed for all molecules)\n",
    "    mordred_desc_df = mordred_desc_df.dropna(axis=1, how='all')\n",
    "    # Then fill remaining NaNs with the mean of their respective column\n",
    "    mordred_desc_df = mordred_desc_df.fillna(mordred_desc_df.mean())\n",
    "    mordred_desc_df.index = molecule_names # Align index with other dataframes\n",
    "    print(f\"Calculated {mordred_desc_df.shape[1]} MORDRED descriptors.\")\n",
    "else:\n",
    "    print(\"\\nMORDRED library not found. Skipping MORDRED descriptor calculation.\")\n",
    "    # Initialize mordred_desc_df as None or an empty DataFrame if you plan to use it later\n",
    "    # For this notebook, if features_df_mordred is used, it would require mordred_desc_df to be defined.\n",
    "    # If you uncomment that line, you might want to initialize mordred_desc_df to an empty DataFrame here:\n",
    "    # mordred_desc_df = pd.DataFrame(index=molecule_names)\n",
    "    mordred_desc_df = None # Or pd.DataFrame() if you uncomment the line below"
   ]
  },
  {
   "cell_type": "code",
   "execution_count": 7,
   "id": "4e2d2ce1",
   "metadata": {},
   "outputs": [
    {
     "name": "stdout",
     "output_type": "stream",
     "text": [
      "\n",
      "Created features_df_mordred by combining fingerprints and MORDRED descriptors.\n"
     ]
    }
   ],
   "source": [
    "# 4. Combine Features if we want to\n",
    "# Feature set 1: RDKit Fingerprints + RDKit 2D Descriptors\n",
    "features_df_rdkit = pd.concat([fp_df, desc_df], axis=1)\n",
    "\n",
    "# Feature set 2: RDKit Fingerprints + MORDRED Descriptors\n",
    "if MORDRED_AVAILABLE and mordred_desc_df is not None:\n",
    "    features_df_mordred = pd.concat([fp_df, mordred_desc_df], axis=1)\n",
    "    print(\"\\nCreated features_df_mordred by combining fingerprints and MORDRED descriptors.\")\n",
    "    \n"
   ]
  },
  {
   "cell_type": "code",
   "execution_count": 8,
   "id": "cf8c231b",
   "metadata": {},
   "outputs": [],
   "source": [
    "# 5. Preprocessing\n",
    "scaler_rdkit = StandardScaler()\n",
    "\n",
    "# We choose one set of features to work with\n",
    "scaled_features = scaler_rdkit.fit_transform(desc_df)\n",
    "\n",
    "# We can apply the scaler to unseen molecules without changing the scaler!\n",
    "scaled_features_extra = scaler_rdkit.transform(desc_df_extra)"
   ]
  },
  {
   "cell_type": "code",
   "execution_count": 9,
   "id": "f3ed8d9c",
   "metadata": {},
   "outputs": [
    {
     "name": "stdout",
     "output_type": "stream",
     "text": [
      "Explained variance by PCA components (RDKit Descriptors): [0.44504754 0.19895251]\n",
      "Total explained variance (RDKit Descriptors): 0.64\n"
     ]
    },
    {
     "data": {
      "application/vnd.plotly.v1+json": {
       "config": {
        "plotlyServerURL": "https://plot.ly"
       },
       "data": [
        {
         "hovertemplate": "%{hovertext}<extra></extra>",
         "hovertext": [
          "CCC1=NN2C(O)=C(SC2=N1)C(N1CC(C)OC(C)C1)C1=CC=CC(OC)=C1",
          "CCC1=CC=C(OCC(=O)NC2=CC=C(C)C=C2O)C=C1",
          "CC1=CN=C(CN2CCN(CC2)C2=NC=CC=C2F)C=N1",
          "CC(C)C1=NN=C2SCC(=NN12)C1=CC2=CC=CC=C2O1",
          "CNC1=CC=C2N=C(NC2=N1)C1(C)CC[NH2+]CC1",
          "COC1=CC(C=CC)=CC=C1OCC(=O)NC1CCC(C1)SC",
          "CC(N(C)C(=O)NC1=CN=C2N(C)C(=O)N(C)C(=O)C2=C1)C1=CC=CC=C1",
          "COC1=CC(=CC=C1O)C(C)NC1CC[NH+](C)CC1",
          "COC(=O)C1CC([NH3+])CN(C1)C(=O)OCC1=CC=CC=C1",
          "CC1=C(Cl)C=CC=C1NC=C1C(C)=C(C#N)C(=O)N(CC2CCCO2)C1=O",
          "FC1=CC=C(F)C(CCCC(=O)N2CCCC(C[NH+]3CCCCCC3)C2)=C1",
          "CC1=CC(=O)NC(NN=CC2=C(Cl)N=C3C=CC=CN3C2=O)=N1",
          "COCCC(=O)NC(C)CC1=C(Cl)C=CC=C1Cl",
          "CCC1(CNC(=O)C2=C(N=CS2)C2CC2)CCC1",
          "CCC(N(C)S(=O)(=O)C1=CC=C(C=C1C)C#N)C1=CC=NC=C1",
          "OC1=CC=C(C=C2SC(=O)N(CC3=CC=CC=C3C#N)C2=O)C=C1I",
          "CC(C)C1=NC=C(C2=CC(C)=NO2)C(=N1)C1CCC(CNC(=O)C2=C(C)N=CS2)CC1",
          "CC1=CC=C(N2C=C(N=N2)C(=S)N2CCOCC2)C(O)=C1",
          "CC[NH2+]C(C)C1=CC=NC(OC2=CN=CC(Br)=C2)=C1",
          "BrC1=CC=C(C=N1)C(=O)NCC1=CC=CC2=CC=CC=C12",
          "CC1=CC(C)=NC(NNS(=O)(=O)C2=CC=C(Cl)C=C2F)=N1",
          "CCC1=CC=C(C[NH+]2CCCC(C2)N2CCCC2=O)O1",
          "COC1=CC=CC(Cl)=C1CN(C)C(C)CC#N",
          "CN(CC1=COC=C1)C1(C[NH3+])CC(C)(C)OC1(C)C",
          "CC1(C[NH+]=C(N)N1CC1CCCO1)C1=CN=CC=N1",
          "COC1=C2OC(=CC2=CC=C1)C(=O)C1=C([O-])C(=O)N(C1C1=CC=C(F)C=C1)C1=NOC(C)=C1",
          "COC1=CC=C(CCC(C)NC(=O)C2=NC=CC=C2C(F)(F)F)C=C1",
          "CCC([NH2+]CC1=CNC=C1)C1=CC=CC=C1OC(F)F",
          "COC1=CC=C(NC(=O)NCC2CN3CCCCC3CO2)C=C1F",
          "ClC1=CC=C(C=NNC(=O)C(=O)NCC2=CC=CC=N2)C=C1",
          "CCN1C=C(CC(=O)N2CCS(=O)C(C)(C)C2)C2=CC=CC=C12",
          "FC1=CC=C(CN2CCN(CC(=O)NCC3=CC=CS3)C2=O)C(Cl)=C1",
          "CC1=CC=C(C=C1)C1C2C(=O)CC(CC2=NC2=NC=NN12)C1=CC=CO1",
          "CCC1=NSC(NC2=CC=C(NC(=O)C3CCCO3)C=C2)=N1",
          "CCCCNC(=O)CC1=C(C)N2N=C(SC)N=C2N=C1C",
          "CCC(NNC(=O)C1=CC(OC)=C(OC)C(OC)=C1)=C1C=CC(=O)C=C1",
          "CCC1=NOC(=N1)C1=CC=C(C[NH3+])C=C1",
          "C(CSC1=NC=NC2=CC=CC=C12)SC1=CC=CC=C1",
          "CCC[NH+]1CCC(CC1)N(C)CC1=C(C)N(C2CC2)C(C)=C1",
          "CCCCOC(=O)C(C)([NH3+])CC",
          "CC1=CC(F)=CC=C1C(O)C1(C[NH3+])CCOCC1",
          "CC(O)C1=CC=C(C)C=C1OCC1=NC(=CS1)C(C)(C)C",
          "COC(=O)C1=CC=C(OC)C=C1OCC(=O)NC1=CC=C(F)C(F)=C1",
          "CCC[NH+](CCC)CC1=CC=C(O)C(N)=C1",
          "CCCC1=CC(=NO1)C1CCCN1S(=O)(=O)C1=CC=C(OC)C(OC)=C1",
          "CCOC1=CC=CC=C1C[NH2+]C(CC)C1=CC=CC=C1",
          "COC1CCCC1NC(=O)C1=CC=NC=C1C#CCO",
          "CC1=CC=C(C=C1)C(CNC(=O)N1CCC(C)(C)C1)N1CCOCC1",
          "O=C(NN=CC1=CNC2=CC=CC=C12)C1=CC(=NC2=CC=CC=C12)C1CC1",
          "COC1=CC(C)=CC=C1NCC(=O)NCCC1=CC=CC=C1C",
          "COC1=CC=C(C=C1)N1N=C2CS(=O)(=O)CC2=C1NC(=O)C1=C(C)ON=C1C1=CC=CC=C1Cl",
          "COC(=O)C1=CC=C(NC(=O)C2CCCC(C)C2)C(O)=C1",
          "CCOC1=CC=CC=C1C=CC(=O)NCC(C)(O)C1=CC=C(F)C=C1",
          "COC1=CC=CC(=C1)N1CC(CC1=O)C(=O)NCCNC(=O)C1=CC=CO1",
          "CN1N=C(C)C(=C1NC1CCOC1C1=CC=C(Cl)C=C1)[N+]([O-])=O",
          "COC(=O)CC(C)(C[NH3+])C1=CC(F)=C(C)C=C1F",
          "FC1=CC=CC(F)=C1C=CC(=O)NNC(=O)CN1N=NC(=N1)C1=CC=CC=C1",
          "[O-][N+](=O)C1=CC=C(NN=C(C2=CC=CC=C2)C2=CC=NC=C2)C(=C1)[N+]([O-])=O",
          "O=C(CCC1=NC2=CC=CC=C2C(=O)N1)NC1CCC2=CC=CC=C12",
          "COC1=CC=C(CCNC(=O)C2CN(C2)C(=O)C2=NOC(C)=C2)C=C1OC",
          "CC1=CC=CC(NC(=O)NC2=CC=C3N=C(NS(C)(=O)=O)SC3=C2)=C1",
          "OC(C(=O)NC1=CC=CC(CS(=O)C2=CC=CC=C2)=C1)C1=CC=CC=C1",
          "CN(C1CCN(CC1)C1=CC=[NH+]C2=CC(F)=CC=C12)C(C)=O",
          "CC1CN(CC1C)C(=O)NCC1CCC(O1)C([O-])=O",
          "FC(F)(F)C1=NN=C(SCC(=O)NC2=CC=CC=C2C#N)N1CC=C",
          "COC(=O)C1=CC=CC(CCNC(=O)NC2=CC(F)=CC=C2C)=C1",
          "CCN(CC1=CC=CC(NC(=O)C2CC(C)OC(C)C2)=C1)C(C)=O",
          "COC(=O)C1=C(C)NC(C(=O)NCC(N(C)C)C2=C(F)C=CC=C2Cl)=C1C",
          "COC(=O)C1=CC=C(C=C1)C1C2C(ON1C1=CC=CC=C1)C(=O)N(C2=O)C1=CC=C(OC)C=C1",
          "COCC1=CC(C)=NC(OCC(=O)NN=CC2=CC=CC(F)=C2)=C1C#N",
          "CC1=C(N=C(NC(=O)C2CCC(=O)O2)S1)C1=CC=C(C)C=C1",
          "CC1=CC=C(C[NH2+]C(C)(C)CO)C(C)=C1",
          "FC1=CC=CC=C1OCCCNC1=NN=NN1C1=CC=CC=C1",
          "CCC(CC)OC1=CC=C(C=C1)C1(C)NC(=O)NC1=O",
          "CCC(CC)N(C)CC1=C(F)C=CC=C1[N+]([O-])=O",
          "O=C(CC1CCCCO1)NCCCCC#N",
          "CC1=CC=C(C=C1)C1=NNC=C1CN1CCC(C1)[NH+]1CCCC1",
          "CN(CC(O)CN1CCOCC1)CC1=NOC(=N1)C(C)(C)C",
          "CN(CC1=NN=C(C)N1C)C(=O)NCC1=CC=C(F)C(Cl)=C1",
          "ClC1=CC=CN=C1NNC(=O)C1=CC=C(OC2CCC2)C=C1Cl",
          "COC1=CC=C(CN2CCN(CC2)S(=O)(=O)C2=CC=CC=C2)C=C1Br",
          "COC1=CC=CC2=C1OC1=CC=CC=C1N=C2N1CCN(C(C)C1)C(=O)C1=C(F)C=CC=C1F",
          "CCCC1=CC=C(C=C1)C(=O)NC(CO)CC1=CNC2=CC=CC=C12",
          "CC1CSC(SCC2=C(F)C=CC=C2[N+]([O-])=O)=N1",
          "FC(F)(F)C1=CC=C(CCNC(=O)NCC2=CC=C(N=C2)N2C=CN=C2)C=C1",
          "CC1=CC2=C(N3CCC(CC3)C(=O)N3CCCC3)C(=CN=C2C=C1)C#N",
          "CC(C)CN1N=C(C)C(CCC(=O)N2CCCCCC2C2=CC=CN2C)=C1C",
          "COCCNS(=O)(=O)C1=CC=CC(=C1)C(=O)N(C)C1CCCC(C)C1",
          "[O-]C(=O)C1C[NH+](CC1C1CC1)C1CCN(CC1)C(=O)C1=CC=CC=C1",
          "CNC(=O)C1=CC=CC=C1NC(=O)CN(C)C(=O)C1=CC=CS1",
          "COC1=CC(CNC(=O)C2=C(Br)C=CO2)=CC=N1",
          "O=C(NCC1OCCN1S(=O)(=O)C1=CC=CS1)C(=O)NCC1=CC=NC=C1",
          "CC(N1C(CCNC(=O)C2=CC=CC=C2Cl)=NC2=CC=CC=C12)C(C)=O",
          "CCCCN(C)C(=O)CC1=CC=CC2=CC=CC=C12",
          "CCC[NH2+]C(CC#CC)C1(CCCCCC1)N(C)C",
          "ClC1=CC=C(C=C1)C(=O)C[NH+]1CCC(CC1)C1=NN=C(O1)C1=CC=CO1",
          "O=C(CC1OCCC2=CC=CC=C12)NNC(=O)CC1=CC=NC=C1",
          "CC([NH2+]CC1=C(C)N(CC2=CC=C(C)C=C2)N=C1C)C1=CC=C(Cl)C=C1",
          "CC(=O)C1=NC2=CC=CC=C2N1CC1CCCCN1C(=O)OCC1=CC=CC=C1",
          "CC1=CC(C=NNC(=O)C(=O)NC2=CC=C(Cl)C(Cl)=C2)=C(C)N1C1=CC=CC(Cl)=C1"
         ],
         "legendgroup": "",
         "marker": {
          "color": "#636efa",
          "size": 8,
          "symbol": "circle"
         },
         "mode": "markers",
         "name": "",
         "orientation": "v",
         "showlegend": false,
         "type": "scatter",
         "x": {
          "bdata": "fAQRMEs1B0DPeGMPt1Pzv1vypdu1cOO/sTJj5eE+5D/RBzVqifP/v2U/8xnKrNG/1jMZYjvc+D8Bi2K/WH0DwAQj+3LC/e+/p6ArhvjM+j8rvHJUdGzIvzO0eEEkjO8/93n/PcXgAsAS5Yzij8L2v2F65/0aW7A/zbADW3lkAUDbtxKc4QcQQNOui9Dta8e/2BQakg+U87/ckCcKLGLjv6Ah9xalkMy/zWNQmjZ6/b/LI/NiDccDwAl68+LG7P2/+1I/Kuln9r/TqhOojgQTQOsi02oiiaK/7paXmdzyAMBHiSp4DJ+sP3LD1YEk/OK/lusH09lZ1b+3cbnJ/b/fP8/4HGSIcgJAosXj7NTK3z+zU83u1ejNv2pSW1CJHu4/+0RqzlBoBsBZ86n9g/Lhv24LiBd6cfe/mgBM79+qEsBz+s/RiRcEwBNVLDYYeue/wTmpvh2k4T+CGHaWo6QMwOVfJBm7dv4/x13Llz/JAcAU51L7kWj4v79N1N4gW5G/mBRIzY+2+j8+X+1cUb/rvxT41mt6lBZAhuDzY+v66L/0T9qTF3XMv1AA0SNLufU/MGsgbrQ78D/R2khZ5SAGwF0o0tXAbf0/Tk5tZ+GUBUD10zfwQOPiP3ldN7wO4fo/hWcXg2LF9j+/auNd/EPlP5/qfz/AXPG/B/P3KFns+b/Vp6yBFurxP31pcWkWrta/5gstXSe91r8KUX7ATFPsP2rx16JtgRJAqulSksa48j9PgOBb3ULOP6Zz7NxEuxDA/o+5oKPU4D+qKoh0zED3v+n30Eib7gDAM5pkfqRjBsCNAh333XXqv4uHD5Vdj7O/sr0BrTuP4b8Pp1BwAovcPyG0f81IAPI/+6zFYNehD0C3b8teozG3vxV8LNjPP+y/BeNLFRWD9T/YgKZrrs3yPzPeYnK2/fU/w0V47F422j+KGjkHx0esPyK1CsUELta/DJgiSWGM8b+3dw9O9AcBQCo66z5Y4/A/QZvESekpA8BuhmxNCqoIwHv8yaL7+Pk/u5dt3I7nsz9lkCUqyeTOPxfmFmjtvQNAx/CQVtRbBEA=",
          "dtype": "f8"
         },
         "xaxis": "x",
         "y": {
          "bdata": "J+xm29nCyL8N9r/3gUOsP3cXscjo/NU/PuXanHW25j831FENroUCwIB/Hg+g5vE/g1zH4cYt87+daLIoWA34v7KSy9fY5fm/aTwPvpudrr9iJ3gB12YBQM2rx8D7VQbAaeRdSKZT8z/66/HFSv3wP48irpSqRuQ/SvUQhXaX0z+I7ImKdIXcP5G1LR+0uPG/QQPfVXgL4j9mqNnWq2L4P2O5m3jnhfe/c6Bl7o/t0j9uEswYz7f3P5ZxlOz4nbq/QMY3G6y9CMAVhV9f88eGvx/xpGH/pfU/G/GJBNYr6j/xdVk6Lubivx6EilAnM/m/3Cgj4Yg39T8a6PXby6DxP98G/iGPneI/oX+K4dyW7r8pDHDVuHfov9GTJ7pCCPS/KIUIilCW778bprt3MtUDQHvL323Vdvw/lhYi0vVA5r8ZJuWVfpjtv6o642UekvQ/Nli+Vp3ptb/4ONJfwRn0v4OERjaLSeA/z9o1IBvN/z/vCehRpwv9v1fdzz0U9e0/3WIROMGx4z8X7RgZ58DbP+COrH38ouG/HiY1nRRS7L9TlfNC6UvZPx8OIxHyEv2/b+dTCVan3L/ZWiXb7UTIvyfOVHkSUgDAtBoIxmlc8r+GPx4LOTnavyqG8lrqQfK/oCs7YE2B+b/icJUW5QTbPw9DhRO0RvU/my97kDE6AMCGtJ8EwA7XvyUMWIplR6K/771UkcJh5z8AxyQDftDFvwqxyZCwwOQ/sbuwtBi/8L9WRAiBWQe+v4SMhCRY8Ne/aYbFPx9Hm7+o2cldaFDkv20xs41XWPc/6rdrXH5I1L9q/7NFw5fMP+C3PgaSI/q/lgx+QXSJwL+W6yz1s7fUP77E6R1nvvc/ekmjOe+vAUBjXT1xQaJ4v9jEEdezI+g/tGB3hG3Rkz+L5nMCle7wP/alADhlnANANIgFvQQSq7/VJY5GFN/tv6mE/ejg1/K/f3dveanxyr8kee3evLYJwNeb9x4QL+4/EwoyVeoaBUBu5W4nZKz4P9LR/4htHpi/E2TfxNMI9r8l5jtAyG0CQFFwKBf11/o/bxs2YFzu5j8=",
          "dtype": "f8"
         },
         "yaxis": "y"
        }
       ],
       "layout": {
        "legend": {
         "tracegroupgap": 0
        },
        "template": {
         "data": {
          "bar": [
           {
            "error_x": {
             "color": "#2a3f5f"
            },
            "error_y": {
             "color": "#2a3f5f"
            },
            "marker": {
             "line": {
              "color": "#E5ECF6",
              "width": 0.5
             },
             "pattern": {
              "fillmode": "overlay",
              "size": 10,
              "solidity": 0.2
             }
            },
            "type": "bar"
           }
          ],
          "barpolar": [
           {
            "marker": {
             "line": {
              "color": "#E5ECF6",
              "width": 0.5
             },
             "pattern": {
              "fillmode": "overlay",
              "size": 10,
              "solidity": 0.2
             }
            },
            "type": "barpolar"
           }
          ],
          "carpet": [
           {
            "aaxis": {
             "endlinecolor": "#2a3f5f",
             "gridcolor": "white",
             "linecolor": "white",
             "minorgridcolor": "white",
             "startlinecolor": "#2a3f5f"
            },
            "baxis": {
             "endlinecolor": "#2a3f5f",
             "gridcolor": "white",
             "linecolor": "white",
             "minorgridcolor": "white",
             "startlinecolor": "#2a3f5f"
            },
            "type": "carpet"
           }
          ],
          "choropleth": [
           {
            "colorbar": {
             "outlinewidth": 0,
             "ticks": ""
            },
            "type": "choropleth"
           }
          ],
          "contour": [
           {
            "colorbar": {
             "outlinewidth": 0,
             "ticks": ""
            },
            "colorscale": [
             [
              0,
              "#0d0887"
             ],
             [
              0.1111111111111111,
              "#46039f"
             ],
             [
              0.2222222222222222,
              "#7201a8"
             ],
             [
              0.3333333333333333,
              "#9c179e"
             ],
             [
              0.4444444444444444,
              "#bd3786"
             ],
             [
              0.5555555555555556,
              "#d8576b"
             ],
             [
              0.6666666666666666,
              "#ed7953"
             ],
             [
              0.7777777777777778,
              "#fb9f3a"
             ],
             [
              0.8888888888888888,
              "#fdca26"
             ],
             [
              1,
              "#f0f921"
             ]
            ],
            "type": "contour"
           }
          ],
          "contourcarpet": [
           {
            "colorbar": {
             "outlinewidth": 0,
             "ticks": ""
            },
            "type": "contourcarpet"
           }
          ],
          "heatmap": [
           {
            "colorbar": {
             "outlinewidth": 0,
             "ticks": ""
            },
            "colorscale": [
             [
              0,
              "#0d0887"
             ],
             [
              0.1111111111111111,
              "#46039f"
             ],
             [
              0.2222222222222222,
              "#7201a8"
             ],
             [
              0.3333333333333333,
              "#9c179e"
             ],
             [
              0.4444444444444444,
              "#bd3786"
             ],
             [
              0.5555555555555556,
              "#d8576b"
             ],
             [
              0.6666666666666666,
              "#ed7953"
             ],
             [
              0.7777777777777778,
              "#fb9f3a"
             ],
             [
              0.8888888888888888,
              "#fdca26"
             ],
             [
              1,
              "#f0f921"
             ]
            ],
            "type": "heatmap"
           }
          ],
          "histogram": [
           {
            "marker": {
             "pattern": {
              "fillmode": "overlay",
              "size": 10,
              "solidity": 0.2
             }
            },
            "type": "histogram"
           }
          ],
          "histogram2d": [
           {
            "colorbar": {
             "outlinewidth": 0,
             "ticks": ""
            },
            "colorscale": [
             [
              0,
              "#0d0887"
             ],
             [
              0.1111111111111111,
              "#46039f"
             ],
             [
              0.2222222222222222,
              "#7201a8"
             ],
             [
              0.3333333333333333,
              "#9c179e"
             ],
             [
              0.4444444444444444,
              "#bd3786"
             ],
             [
              0.5555555555555556,
              "#d8576b"
             ],
             [
              0.6666666666666666,
              "#ed7953"
             ],
             [
              0.7777777777777778,
              "#fb9f3a"
             ],
             [
              0.8888888888888888,
              "#fdca26"
             ],
             [
              1,
              "#f0f921"
             ]
            ],
            "type": "histogram2d"
           }
          ],
          "histogram2dcontour": [
           {
            "colorbar": {
             "outlinewidth": 0,
             "ticks": ""
            },
            "colorscale": [
             [
              0,
              "#0d0887"
             ],
             [
              0.1111111111111111,
              "#46039f"
             ],
             [
              0.2222222222222222,
              "#7201a8"
             ],
             [
              0.3333333333333333,
              "#9c179e"
             ],
             [
              0.4444444444444444,
              "#bd3786"
             ],
             [
              0.5555555555555556,
              "#d8576b"
             ],
             [
              0.6666666666666666,
              "#ed7953"
             ],
             [
              0.7777777777777778,
              "#fb9f3a"
             ],
             [
              0.8888888888888888,
              "#fdca26"
             ],
             [
              1,
              "#f0f921"
             ]
            ],
            "type": "histogram2dcontour"
           }
          ],
          "mesh3d": [
           {
            "colorbar": {
             "outlinewidth": 0,
             "ticks": ""
            },
            "type": "mesh3d"
           }
          ],
          "parcoords": [
           {
            "line": {
             "colorbar": {
              "outlinewidth": 0,
              "ticks": ""
             }
            },
            "type": "parcoords"
           }
          ],
          "pie": [
           {
            "automargin": true,
            "type": "pie"
           }
          ],
          "scatter": [
           {
            "fillpattern": {
             "fillmode": "overlay",
             "size": 10,
             "solidity": 0.2
            },
            "type": "scatter"
           }
          ],
          "scatter3d": [
           {
            "line": {
             "colorbar": {
              "outlinewidth": 0,
              "ticks": ""
             }
            },
            "marker": {
             "colorbar": {
              "outlinewidth": 0,
              "ticks": ""
             }
            },
            "type": "scatter3d"
           }
          ],
          "scattercarpet": [
           {
            "marker": {
             "colorbar": {
              "outlinewidth": 0,
              "ticks": ""
             }
            },
            "type": "scattercarpet"
           }
          ],
          "scattergeo": [
           {
            "marker": {
             "colorbar": {
              "outlinewidth": 0,
              "ticks": ""
             }
            },
            "type": "scattergeo"
           }
          ],
          "scattergl": [
           {
            "marker": {
             "colorbar": {
              "outlinewidth": 0,
              "ticks": ""
             }
            },
            "type": "scattergl"
           }
          ],
          "scattermap": [
           {
            "marker": {
             "colorbar": {
              "outlinewidth": 0,
              "ticks": ""
             }
            },
            "type": "scattermap"
           }
          ],
          "scattermapbox": [
           {
            "marker": {
             "colorbar": {
              "outlinewidth": 0,
              "ticks": ""
             }
            },
            "type": "scattermapbox"
           }
          ],
          "scatterpolar": [
           {
            "marker": {
             "colorbar": {
              "outlinewidth": 0,
              "ticks": ""
             }
            },
            "type": "scatterpolar"
           }
          ],
          "scatterpolargl": [
           {
            "marker": {
             "colorbar": {
              "outlinewidth": 0,
              "ticks": ""
             }
            },
            "type": "scatterpolargl"
           }
          ],
          "scatterternary": [
           {
            "marker": {
             "colorbar": {
              "outlinewidth": 0,
              "ticks": ""
             }
            },
            "type": "scatterternary"
           }
          ],
          "surface": [
           {
            "colorbar": {
             "outlinewidth": 0,
             "ticks": ""
            },
            "colorscale": [
             [
              0,
              "#0d0887"
             ],
             [
              0.1111111111111111,
              "#46039f"
             ],
             [
              0.2222222222222222,
              "#7201a8"
             ],
             [
              0.3333333333333333,
              "#9c179e"
             ],
             [
              0.4444444444444444,
              "#bd3786"
             ],
             [
              0.5555555555555556,
              "#d8576b"
             ],
             [
              0.6666666666666666,
              "#ed7953"
             ],
             [
              0.7777777777777778,
              "#fb9f3a"
             ],
             [
              0.8888888888888888,
              "#fdca26"
             ],
             [
              1,
              "#f0f921"
             ]
            ],
            "type": "surface"
           }
          ],
          "table": [
           {
            "cells": {
             "fill": {
              "color": "#EBF0F8"
             },
             "line": {
              "color": "white"
             }
            },
            "header": {
             "fill": {
              "color": "#C8D4E3"
             },
             "line": {
              "color": "white"
             }
            },
            "type": "table"
           }
          ]
         },
         "layout": {
          "annotationdefaults": {
           "arrowcolor": "#2a3f5f",
           "arrowhead": 0,
           "arrowwidth": 1
          },
          "autotypenumbers": "strict",
          "coloraxis": {
           "colorbar": {
            "outlinewidth": 0,
            "ticks": ""
           }
          },
          "colorscale": {
           "diverging": [
            [
             0,
             "#8e0152"
            ],
            [
             0.1,
             "#c51b7d"
            ],
            [
             0.2,
             "#de77ae"
            ],
            [
             0.3,
             "#f1b6da"
            ],
            [
             0.4,
             "#fde0ef"
            ],
            [
             0.5,
             "#f7f7f7"
            ],
            [
             0.6,
             "#e6f5d0"
            ],
            [
             0.7,
             "#b8e186"
            ],
            [
             0.8,
             "#7fbc41"
            ],
            [
             0.9,
             "#4d9221"
            ],
            [
             1,
             "#276419"
            ]
           ],
           "sequential": [
            [
             0,
             "#0d0887"
            ],
            [
             0.1111111111111111,
             "#46039f"
            ],
            [
             0.2222222222222222,
             "#7201a8"
            ],
            [
             0.3333333333333333,
             "#9c179e"
            ],
            [
             0.4444444444444444,
             "#bd3786"
            ],
            [
             0.5555555555555556,
             "#d8576b"
            ],
            [
             0.6666666666666666,
             "#ed7953"
            ],
            [
             0.7777777777777778,
             "#fb9f3a"
            ],
            [
             0.8888888888888888,
             "#fdca26"
            ],
            [
             1,
             "#f0f921"
            ]
           ],
           "sequentialminus": [
            [
             0,
             "#0d0887"
            ],
            [
             0.1111111111111111,
             "#46039f"
            ],
            [
             0.2222222222222222,
             "#7201a8"
            ],
            [
             0.3333333333333333,
             "#9c179e"
            ],
            [
             0.4444444444444444,
             "#bd3786"
            ],
            [
             0.5555555555555556,
             "#d8576b"
            ],
            [
             0.6666666666666666,
             "#ed7953"
            ],
            [
             0.7777777777777778,
             "#fb9f3a"
            ],
            [
             0.8888888888888888,
             "#fdca26"
            ],
            [
             1,
             "#f0f921"
            ]
           ]
          },
          "colorway": [
           "#636efa",
           "#EF553B",
           "#00cc96",
           "#ab63fa",
           "#FFA15A",
           "#19d3f3",
           "#FF6692",
           "#B6E880",
           "#FF97FF",
           "#FECB52"
          ],
          "font": {
           "color": "#2a3f5f"
          },
          "geo": {
           "bgcolor": "white",
           "lakecolor": "white",
           "landcolor": "#E5ECF6",
           "showlakes": true,
           "showland": true,
           "subunitcolor": "white"
          },
          "hoverlabel": {
           "align": "left"
          },
          "hovermode": "closest",
          "mapbox": {
           "style": "light"
          },
          "paper_bgcolor": "white",
          "plot_bgcolor": "#E5ECF6",
          "polar": {
           "angularaxis": {
            "gridcolor": "white",
            "linecolor": "white",
            "ticks": ""
           },
           "bgcolor": "#E5ECF6",
           "radialaxis": {
            "gridcolor": "white",
            "linecolor": "white",
            "ticks": ""
           }
          },
          "scene": {
           "xaxis": {
            "backgroundcolor": "#E5ECF6",
            "gridcolor": "white",
            "gridwidth": 2,
            "linecolor": "white",
            "showbackground": true,
            "ticks": "",
            "zerolinecolor": "white"
           },
           "yaxis": {
            "backgroundcolor": "#E5ECF6",
            "gridcolor": "white",
            "gridwidth": 2,
            "linecolor": "white",
            "showbackground": true,
            "ticks": "",
            "zerolinecolor": "white"
           },
           "zaxis": {
            "backgroundcolor": "#E5ECF6",
            "gridcolor": "white",
            "gridwidth": 2,
            "linecolor": "white",
            "showbackground": true,
            "ticks": "",
            "zerolinecolor": "white"
           }
          },
          "shapedefaults": {
           "line": {
            "color": "#2a3f5f"
           }
          },
          "ternary": {
           "aaxis": {
            "gridcolor": "white",
            "linecolor": "white",
            "ticks": ""
           },
           "baxis": {
            "gridcolor": "white",
            "linecolor": "white",
            "ticks": ""
           },
           "bgcolor": "#E5ECF6",
           "caxis": {
            "gridcolor": "white",
            "linecolor": "white",
            "ticks": ""
           }
          },
          "title": {
           "x": 0.05
          },
          "xaxis": {
           "automargin": true,
           "gridcolor": "white",
           "linecolor": "white",
           "ticks": "",
           "title": {
            "standoff": 15
           },
           "zerolinecolor": "white",
           "zerolinewidth": 2
          },
          "yaxis": {
           "automargin": true,
           "gridcolor": "white",
           "linecolor": "white",
           "ticks": "",
           "title": {
            "standoff": 15
           },
           "zerolinecolor": "white",
           "zerolinewidth": 2
          }
         }
        },
        "title": {
         "text": "Chemical Space Visualization using PCA"
        },
        "xaxis": {
         "anchor": "y",
         "domain": [
          0,
          1
         ],
         "title": {
          "text": "Principal Component 1 (0.45 variance)"
         }
        },
        "yaxis": {
         "anchor": "x",
         "domain": [
          0,
          1
         ],
         "title": {
          "text": "Principal Component 2 (0.20 variance)"
         }
        }
       }
      }
     },
     "metadata": {},
     "output_type": "display_data"
    }
   ],
   "source": [
    "# 6. Visualize with PCA\n",
    "n_components = 2\n",
    "pca_rdkit = PCA(n_components=n_components, random_state=42) # Added random_state for reproducibility\n",
    "principal_components_rdkit = pca_rdkit.fit_transform(scaled_features)\n",
    "\n",
    "pca_df_rdkit = pd.DataFrame(data=principal_components_rdkit,\n",
    "                      columns=[f'Principal Component {i+1}' for i in range(n_components)])\n",
    "pca_df_rdkit.index = molecule_names\n",
    "\n",
    "# Explained variance\n",
    "explained_variance_ratio_rdkit = pca_rdkit.explained_variance_ratio_\n",
    "print(f\"Explained variance by PCA components (RDKit Descriptors): {explained_variance_ratio_rdkit}\")\n",
    "print(f\"Total explained variance (RDKit Descriptors): {sum(explained_variance_ratio_rdkit):.2f}\")\n",
    "\n",
    "# Visualize the Chemical Space using Plotly\n",
    "fig_pca_2d = plot_scatter_plotly_2d(\n",
    "    df=pca_df_rdkit,\n",
    "    x_col='Principal Component 1',\n",
    "    y_col='Principal Component 2',\n",
    "    text_col_data=pca_df_rdkit.index, # Use index for text annotations\n",
    "    title='Chemical Space Visualization using PCA',\n",
    "    labels_dict={\n",
    "        'Principal Component 1': f'Principal Component 1 ({explained_variance_ratio_rdkit[0]:.2f} variance)',\n",
    "        'Principal Component 2': f'Principal Component 2 ({explained_variance_ratio_rdkit[1]:.2f} variance)'\n",
    "    },\n",
    "    marker_size=8,\n",
    "    text_position='top right',\n",
    ")\n",
    "fig_pca_2d.show()\n",
    "\n",
    "# Original Matplotlib/Seaborn code:\n",
    "# plt.figure(figsize=(12, 8))\n",
    "# sns.scatterplot(x='Principal Component 1', y='Principal Component 2', data=pca_df_rdkit, s=100, legend=False)\n",
    "# for i, name in enumerate(pca_df_rdkit.index):\n",
    "#     plt.annotate(name, (pca_df_rdkit.iloc[i, 0], pca_df_rdkit.iloc[i, 1]), textcoords=\\\"offset points\\\", xytext=(5,5), ha='left')\n",
    "# plt.title('Chemical Space Visualization using PCA')\n",
    "# plt.xlabel(f'Principal Component 1 ({explained_variance_ratio_rdkit[0]:.2f} variance)')\n",
    "# plt.ylabel(f'Principal Component 2 ({explained_variance_ratio_rdkit[1]:.2f} variance)')\n",
    "# plt.grid(True)\n",
    "# plt.axhline(0, color='grey', lw=0.5)\n",
    "# plt.axvline(0, color='grey', lw=0.5)\n",
    "# plt.show()\n"
   ]
  },
  {
   "cell_type": "code",
   "execution_count": 10,
   "id": "pca-component-analysis",
   "metadata": {},
   "outputs": [
    {
     "name": "stdout",
     "output_type": "stream",
     "text": [
      "Explained variance by 3D PCA components: [0.44504754 0.19895251 0.15669709]\n",
      "Total explained variance by 3D PCA: 0.80\n"
     ]
    },
    {
     "data": {
      "application/vnd.plotly.v1+json": {
       "config": {
        "plotlyServerURL": "https://plot.ly"
       },
       "data": [
        {
         "hovertemplate": "%{hovertext}<extra></extra>",
         "hovertext": [
          "CCC1=NN2C(O)=C(SC2=N1)C(N1CC(C)OC(C)C1)C1=CC=CC(OC)=C1",
          "CCC1=CC=C(OCC(=O)NC2=CC=C(C)C=C2O)C=C1",
          "CC1=CN=C(CN2CCN(CC2)C2=NC=CC=C2F)C=N1",
          "CC(C)C1=NN=C2SCC(=NN12)C1=CC2=CC=CC=C2O1",
          "CNC1=CC=C2N=C(NC2=N1)C1(C)CC[NH2+]CC1",
          "COC1=CC(C=CC)=CC=C1OCC(=O)NC1CCC(C1)SC",
          "CC(N(C)C(=O)NC1=CN=C2N(C)C(=O)N(C)C(=O)C2=C1)C1=CC=CC=C1",
          "COC1=CC(=CC=C1O)C(C)NC1CC[NH+](C)CC1",
          "COC(=O)C1CC([NH3+])CN(C1)C(=O)OCC1=CC=CC=C1",
          "CC1=C(Cl)C=CC=C1NC=C1C(C)=C(C#N)C(=O)N(CC2CCCO2)C1=O",
          "FC1=CC=C(F)C(CCCC(=O)N2CCCC(C[NH+]3CCCCCC3)C2)=C1",
          "CC1=CC(=O)NC(NN=CC2=C(Cl)N=C3C=CC=CN3C2=O)=N1",
          "COCCC(=O)NC(C)CC1=C(Cl)C=CC=C1Cl",
          "CCC1(CNC(=O)C2=C(N=CS2)C2CC2)CCC1",
          "CCC(N(C)S(=O)(=O)C1=CC=C(C=C1C)C#N)C1=CC=NC=C1",
          "OC1=CC=C(C=C2SC(=O)N(CC3=CC=CC=C3C#N)C2=O)C=C1I",
          "CC(C)C1=NC=C(C2=CC(C)=NO2)C(=N1)C1CCC(CNC(=O)C2=C(C)N=CS2)CC1",
          "CC1=CC=C(N2C=C(N=N2)C(=S)N2CCOCC2)C(O)=C1",
          "CC[NH2+]C(C)C1=CC=NC(OC2=CN=CC(Br)=C2)=C1",
          "BrC1=CC=C(C=N1)C(=O)NCC1=CC=CC2=CC=CC=C12",
          "CC1=CC(C)=NC(NNS(=O)(=O)C2=CC=C(Cl)C=C2F)=N1",
          "CCC1=CC=C(C[NH+]2CCCC(C2)N2CCCC2=O)O1",
          "COC1=CC=CC(Cl)=C1CN(C)C(C)CC#N",
          "CN(CC1=COC=C1)C1(C[NH3+])CC(C)(C)OC1(C)C",
          "CC1(C[NH+]=C(N)N1CC1CCCO1)C1=CN=CC=N1",
          "COC1=C2OC(=CC2=CC=C1)C(=O)C1=C([O-])C(=O)N(C1C1=CC=C(F)C=C1)C1=NOC(C)=C1",
          "COC1=CC=C(CCC(C)NC(=O)C2=NC=CC=C2C(F)(F)F)C=C1",
          "CCC([NH2+]CC1=CNC=C1)C1=CC=CC=C1OC(F)F",
          "COC1=CC=C(NC(=O)NCC2CN3CCCCC3CO2)C=C1F",
          "ClC1=CC=C(C=NNC(=O)C(=O)NCC2=CC=CC=N2)C=C1",
          "CCN1C=C(CC(=O)N2CCS(=O)C(C)(C)C2)C2=CC=CC=C12",
          "FC1=CC=C(CN2CCN(CC(=O)NCC3=CC=CS3)C2=O)C(Cl)=C1",
          "CC1=CC=C(C=C1)C1C2C(=O)CC(CC2=NC2=NC=NN12)C1=CC=CO1",
          "CCC1=NSC(NC2=CC=C(NC(=O)C3CCCO3)C=C2)=N1",
          "CCCCNC(=O)CC1=C(C)N2N=C(SC)N=C2N=C1C",
          "CCC(NNC(=O)C1=CC(OC)=C(OC)C(OC)=C1)=C1C=CC(=O)C=C1",
          "CCC1=NOC(=N1)C1=CC=C(C[NH3+])C=C1",
          "C(CSC1=NC=NC2=CC=CC=C12)SC1=CC=CC=C1",
          "CCC[NH+]1CCC(CC1)N(C)CC1=C(C)N(C2CC2)C(C)=C1",
          "CCCCOC(=O)C(C)([NH3+])CC",
          "CC1=CC(F)=CC=C1C(O)C1(C[NH3+])CCOCC1",
          "CC(O)C1=CC=C(C)C=C1OCC1=NC(=CS1)C(C)(C)C",
          "COC(=O)C1=CC=C(OC)C=C1OCC(=O)NC1=CC=C(F)C(F)=C1",
          "CCC[NH+](CCC)CC1=CC=C(O)C(N)=C1",
          "CCCC1=CC(=NO1)C1CCCN1S(=O)(=O)C1=CC=C(OC)C(OC)=C1",
          "CCOC1=CC=CC=C1C[NH2+]C(CC)C1=CC=CC=C1",
          "COC1CCCC1NC(=O)C1=CC=NC=C1C#CCO",
          "CC1=CC=C(C=C1)C(CNC(=O)N1CCC(C)(C)C1)N1CCOCC1",
          "O=C(NN=CC1=CNC2=CC=CC=C12)C1=CC(=NC2=CC=CC=C12)C1CC1",
          "COC1=CC(C)=CC=C1NCC(=O)NCCC1=CC=CC=C1C",
          "COC1=CC=C(C=C1)N1N=C2CS(=O)(=O)CC2=C1NC(=O)C1=C(C)ON=C1C1=CC=CC=C1Cl",
          "COC(=O)C1=CC=C(NC(=O)C2CCCC(C)C2)C(O)=C1",
          "CCOC1=CC=CC=C1C=CC(=O)NCC(C)(O)C1=CC=C(F)C=C1",
          "COC1=CC=CC(=C1)N1CC(CC1=O)C(=O)NCCNC(=O)C1=CC=CO1",
          "CN1N=C(C)C(=C1NC1CCOC1C1=CC=C(Cl)C=C1)[N+]([O-])=O",
          "COC(=O)CC(C)(C[NH3+])C1=CC(F)=C(C)C=C1F",
          "FC1=CC=CC(F)=C1C=CC(=O)NNC(=O)CN1N=NC(=N1)C1=CC=CC=C1",
          "[O-][N+](=O)C1=CC=C(NN=C(C2=CC=CC=C2)C2=CC=NC=C2)C(=C1)[N+]([O-])=O",
          "O=C(CCC1=NC2=CC=CC=C2C(=O)N1)NC1CCC2=CC=CC=C12",
          "COC1=CC=C(CCNC(=O)C2CN(C2)C(=O)C2=NOC(C)=C2)C=C1OC",
          "CC1=CC=CC(NC(=O)NC2=CC=C3N=C(NS(C)(=O)=O)SC3=C2)=C1",
          "OC(C(=O)NC1=CC=CC(CS(=O)C2=CC=CC=C2)=C1)C1=CC=CC=C1",
          "CN(C1CCN(CC1)C1=CC=[NH+]C2=CC(F)=CC=C12)C(C)=O",
          "CC1CN(CC1C)C(=O)NCC1CCC(O1)C([O-])=O",
          "FC(F)(F)C1=NN=C(SCC(=O)NC2=CC=CC=C2C#N)N1CC=C",
          "COC(=O)C1=CC=CC(CCNC(=O)NC2=CC(F)=CC=C2C)=C1",
          "CCN(CC1=CC=CC(NC(=O)C2CC(C)OC(C)C2)=C1)C(C)=O",
          "COC(=O)C1=C(C)NC(C(=O)NCC(N(C)C)C2=C(F)C=CC=C2Cl)=C1C",
          "COC(=O)C1=CC=C(C=C1)C1C2C(ON1C1=CC=CC=C1)C(=O)N(C2=O)C1=CC=C(OC)C=C1",
          "COCC1=CC(C)=NC(OCC(=O)NN=CC2=CC=CC(F)=C2)=C1C#N",
          "CC1=C(N=C(NC(=O)C2CCC(=O)O2)S1)C1=CC=C(C)C=C1",
          "CC1=CC=C(C[NH2+]C(C)(C)CO)C(C)=C1",
          "FC1=CC=CC=C1OCCCNC1=NN=NN1C1=CC=CC=C1",
          "CCC(CC)OC1=CC=C(C=C1)C1(C)NC(=O)NC1=O",
          "CCC(CC)N(C)CC1=C(F)C=CC=C1[N+]([O-])=O",
          "O=C(CC1CCCCO1)NCCCCC#N",
          "CC1=CC=C(C=C1)C1=NNC=C1CN1CCC(C1)[NH+]1CCCC1",
          "CN(CC(O)CN1CCOCC1)CC1=NOC(=N1)C(C)(C)C",
          "CN(CC1=NN=C(C)N1C)C(=O)NCC1=CC=C(F)C(Cl)=C1",
          "ClC1=CC=CN=C1NNC(=O)C1=CC=C(OC2CCC2)C=C1Cl",
          "COC1=CC=C(CN2CCN(CC2)S(=O)(=O)C2=CC=CC=C2)C=C1Br",
          "COC1=CC=CC2=C1OC1=CC=CC=C1N=C2N1CCN(C(C)C1)C(=O)C1=C(F)C=CC=C1F",
          "CCCC1=CC=C(C=C1)C(=O)NC(CO)CC1=CNC2=CC=CC=C12",
          "CC1CSC(SCC2=C(F)C=CC=C2[N+]([O-])=O)=N1",
          "FC(F)(F)C1=CC=C(CCNC(=O)NCC2=CC=C(N=C2)N2C=CN=C2)C=C1",
          "CC1=CC2=C(N3CCC(CC3)C(=O)N3CCCC3)C(=CN=C2C=C1)C#N",
          "CC(C)CN1N=C(C)C(CCC(=O)N2CCCCCC2C2=CC=CN2C)=C1C",
          "COCCNS(=O)(=O)C1=CC=CC(=C1)C(=O)N(C)C1CCCC(C)C1",
          "[O-]C(=O)C1C[NH+](CC1C1CC1)C1CCN(CC1)C(=O)C1=CC=CC=C1",
          "CNC(=O)C1=CC=CC=C1NC(=O)CN(C)C(=O)C1=CC=CS1",
          "COC1=CC(CNC(=O)C2=C(Br)C=CO2)=CC=N1",
          "O=C(NCC1OCCN1S(=O)(=O)C1=CC=CS1)C(=O)NCC1=CC=NC=C1",
          "CC(N1C(CCNC(=O)C2=CC=CC=C2Cl)=NC2=CC=CC=C12)C(C)=O",
          "CCCCN(C)C(=O)CC1=CC=CC2=CC=CC=C12",
          "CCC[NH2+]C(CC#CC)C1(CCCCCC1)N(C)C",
          "ClC1=CC=C(C=C1)C(=O)C[NH+]1CCC(CC1)C1=NN=C(O1)C1=CC=CO1",
          "O=C(CC1OCCC2=CC=CC=C12)NNC(=O)CC1=CC=NC=C1",
          "CC([NH2+]CC1=C(C)N(CC2=CC=C(C)C=C2)N=C1C)C1=CC=C(Cl)C=C1",
          "CC(=O)C1=NC2=CC=CC=C2N1CC1CCCCN1C(=O)OCC1=CC=CC=C1",
          "CC1=CC(C=NNC(=O)C(=O)NC2=CC=C(Cl)C(Cl)=C2)=C(C)N1C1=CC=CC(Cl)=C1"
         ],
         "legendgroup": "",
         "marker": {
          "color": "#636efa",
          "size": 8,
          "symbol": "circle"
         },
         "mode": "markers",
         "name": "",
         "scene": "scene",
         "showlegend": false,
         "type": "scatter3d",
         "x": {
          "bdata": "fAQRMEs1B0DPeGMPt1Pzv1vypdu1cOO/sTJj5eE+5D/RBzVqifP/v2U/8xnKrNG/1jMZYjvc+D8Bi2K/WH0DwAQj+3LC/e+/p6ArhvjM+j8rvHJUdGzIvzO0eEEkjO8/93n/PcXgAsAS5Yzij8L2v2F65/0aW7A/zbADW3lkAUDbtxKc4QcQQNOui9Dta8e/2BQakg+U87/ckCcKLGLjv6Ah9xalkMy/zWNQmjZ6/b/LI/NiDccDwAl68+LG7P2/+1I/Kuln9r/TqhOojgQTQOsi02oiiaK/7paXmdzyAMBHiSp4DJ+sP3LD1YEk/OK/lusH09lZ1b+3cbnJ/b/fP8/4HGSIcgJAosXj7NTK3z+zU83u1ejNv2pSW1CJHu4/+0RqzlBoBsBZ86n9g/Lhv24LiBd6cfe/mgBM79+qEsBz+s/RiRcEwBNVLDYYeue/wTmpvh2k4T+CGHaWo6QMwOVfJBm7dv4/x13Llz/JAcAU51L7kWj4v79N1N4gW5G/mBRIzY+2+j8+X+1cUb/rvxT41mt6lBZAhuDzY+v66L/0T9qTF3XMv1AA0SNLufU/MGsgbrQ78D/R2khZ5SAGwF0o0tXAbf0/Tk5tZ+GUBUD10zfwQOPiP3ldN7wO4fo/hWcXg2LF9j+/auNd/EPlP5/qfz/AXPG/B/P3KFns+b/Vp6yBFurxP31pcWkWrta/5gstXSe91r8KUX7ATFPsP2rx16JtgRJAqulSksa48j9PgOBb3ULOP6Zz7NxEuxDA/o+5oKPU4D+qKoh0zED3v+n30Eib7gDAM5pkfqRjBsCNAh333XXqv4uHD5Vdj7O/sr0BrTuP4b8Pp1BwAovcPyG0f81IAPI/+6zFYNehD0C3b8teozG3vxV8LNjPP+y/BeNLFRWD9T/YgKZrrs3yPzPeYnK2/fU/w0V47F422j+KGjkHx0esPyK1CsUELta/DJgiSWGM8b+3dw9O9AcBQCo66z5Y4/A/QZvESekpA8BuhmxNCqoIwHv8yaL7+Pk/u5dt3I7nsz9lkCUqyeTOPxfmFmjtvQNAx/CQVtRbBEA=",
          "dtype": "f8"
         },
         "y": {
          "bdata": "J+xm29nCyL8N9r/3gUOsP3cXscjo/NU/PuXanHW25j831FENroUCwIB/Hg+g5vE/g1zH4cYt87+daLIoWA34v7KSy9fY5fm/aTwPvpudrr9iJ3gB12YBQM2rx8D7VQbAaeRdSKZT8z/66/HFSv3wP48irpSqRuQ/SvUQhXaX0z+I7ImKdIXcP5G1LR+0uPG/QQPfVXgL4j9mqNnWq2L4P2O5m3jnhfe/c6Bl7o/t0j9uEswYz7f3P5ZxlOz4nbq/QMY3G6y9CMAVhV9f88eGvx/xpGH/pfU/G/GJBNYr6j/xdVk6Lubivx6EilAnM/m/3Cgj4Yg39T8a6PXby6DxP98G/iGPneI/oX+K4dyW7r8pDHDVuHfov9GTJ7pCCPS/KIUIilCW778bprt3MtUDQHvL323Vdvw/lhYi0vVA5r8ZJuWVfpjtv6o642UekvQ/Nli+Vp3ptb/4ONJfwRn0v4OERjaLSeA/z9o1IBvN/z/vCehRpwv9v1fdzz0U9e0/3WIROMGx4z8X7RgZ58DbP+COrH38ouG/HiY1nRRS7L9TlfNC6UvZPx8OIxHyEv2/b+dTCVan3L/ZWiXb7UTIvyfOVHkSUgDAtBoIxmlc8r+GPx4LOTnavyqG8lrqQfK/oCs7YE2B+b/icJUW5QTbPw9DhRO0RvU/my97kDE6AMCGtJ8EwA7XvyUMWIplR6K/771UkcJh5z8AxyQDftDFvwqxyZCwwOQ/sbuwtBi/8L9WRAiBWQe+v4SMhCRY8Ne/aYbFPx9Hm7+o2cldaFDkv20xs41XWPc/6rdrXH5I1L9q/7NFw5fMP+C3PgaSI/q/lgx+QXSJwL+W6yz1s7fUP77E6R1nvvc/ekmjOe+vAUBjXT1xQaJ4v9jEEdezI+g/tGB3hG3Rkz+L5nMCle7wP/alADhlnANANIgFvQQSq7/VJY5GFN/tv6mE/ejg1/K/f3dveanxyr8kee3evLYJwNeb9x4QL+4/EwoyVeoaBUBu5W4nZKz4P9LR/4htHpi/E2TfxNMI9r8l5jtAyG0CQFFwKBf11/o/bxs2YFzu5j8=",
          "dtype": "f8"
         },
         "z": {
          "bdata": "4xTTR3iA0L8Jgh2ejLDmPxciOixV3QDA/8cUxqEaBsAfWkFpOeTzv2l9NXm9m/Y/v+2/2Fgy8r9HZsbc+PvIP0/k32CNjvO/u6vz5TIx1L/ZvQOLRRTqP1JbcVt/6+2/T/B1QVM57z8+gbeZL2rTv9XRgAysqce/DDZhxBWd5b/JKYfLzYXqP7+2xPfhYQHA7nLAm46NwD/CdUB2cUHwv96Y1d091rE/Y1MzXI8D8L9JXas73UfRv9FSuKF6VuW/YdJ2LbGx978nz1eSFLDjv2R1XU2RPvE/u7MFaWzf/D8Ve2xU/M/Cv0u1rxwx9Kk/jnQBCuZX+7+8wQiae2vnP6KlI5y0CAbAreygq8LL0z/9UuFx7D7fP8O/vNKkgP4/c3G8eENC+L9gO/YmNbrkv7r/qenxwtM/iUnpCO69sT/50yXS5i/ov+raLETeztK/WEQ5fIFQ7D+Ne3U58lf5P+Vo9esTA+c/e4xgP1aB9D/67p7lPnjpvyioj5cFs+C/S5ms1NiB07+SA0Wa8D/+P1ccWloywLM/GN6hjSpD3L/+WhGkEo4AQCMhbQgIAPo/38zQm6sG5L8VeUNEEoXXv3TJMihRXuE/yC352aPH6T+c9ckgVh/Sv8Uck6caC/E/EEnPW0OK5j/nyVCs/ov1P17uNrIFzwLAitKqZ2Ij9787dPwJqovtP9rRh6NQw+0/STIwPYQE2T8t41b3FMX6P04chxPHMOS/SJZFkQiC9j8SdejwWx30v4K/zluElrS//AwyptK46z85Hg4JEjniP4DFrQo119g/cZ57o13k4z9H1iMsrZTiv8vQB7Yi+NI/ZLFbnjYv2r+sAusP4IbkP2nq9n8F19S/Vj4QfqaiAMA5PT/+CMsCQJSp7gKu+fm/LX2cBc7r9T9U6Og87g8DwMGecNbkHto/1E3JUlvT9z/+f1Mqudfyvxcit3sfJeY/e1qHM05y4b+yYruDgXrtPwtW8eG8dOk/GsKaQ3UB2L8IJ3vnj/brP8p9N5oVXtC/iUIWQl0dyr9694eT64vsP6bq7fjl59u/aFcrnDfo5j8=",
          "dtype": "f8"
         }
        }
       ],
       "layout": {
        "legend": {
         "tracegroupgap": 0
        },
        "scene": {
         "domain": {
          "x": [
           0,
           1
          ],
          "y": [
           0,
           1
          ]
         },
         "xaxis": {
          "title": {
           "text": "PC 1 (0.45 var)"
          }
         },
         "yaxis": {
          "title": {
           "text": "PC 2 (0.20 var)"
          }
         },
         "zaxis": {
          "title": {
           "text": "PC 3 (0.16 var)"
          }
         }
        },
        "template": {
         "data": {
          "bar": [
           {
            "error_x": {
             "color": "#2a3f5f"
            },
            "error_y": {
             "color": "#2a3f5f"
            },
            "marker": {
             "line": {
              "color": "#E5ECF6",
              "width": 0.5
             },
             "pattern": {
              "fillmode": "overlay",
              "size": 10,
              "solidity": 0.2
             }
            },
            "type": "bar"
           }
          ],
          "barpolar": [
           {
            "marker": {
             "line": {
              "color": "#E5ECF6",
              "width": 0.5
             },
             "pattern": {
              "fillmode": "overlay",
              "size": 10,
              "solidity": 0.2
             }
            },
            "type": "barpolar"
           }
          ],
          "carpet": [
           {
            "aaxis": {
             "endlinecolor": "#2a3f5f",
             "gridcolor": "white",
             "linecolor": "white",
             "minorgridcolor": "white",
             "startlinecolor": "#2a3f5f"
            },
            "baxis": {
             "endlinecolor": "#2a3f5f",
             "gridcolor": "white",
             "linecolor": "white",
             "minorgridcolor": "white",
             "startlinecolor": "#2a3f5f"
            },
            "type": "carpet"
           }
          ],
          "choropleth": [
           {
            "colorbar": {
             "outlinewidth": 0,
             "ticks": ""
            },
            "type": "choropleth"
           }
          ],
          "contour": [
           {
            "colorbar": {
             "outlinewidth": 0,
             "ticks": ""
            },
            "colorscale": [
             [
              0,
              "#0d0887"
             ],
             [
              0.1111111111111111,
              "#46039f"
             ],
             [
              0.2222222222222222,
              "#7201a8"
             ],
             [
              0.3333333333333333,
              "#9c179e"
             ],
             [
              0.4444444444444444,
              "#bd3786"
             ],
             [
              0.5555555555555556,
              "#d8576b"
             ],
             [
              0.6666666666666666,
              "#ed7953"
             ],
             [
              0.7777777777777778,
              "#fb9f3a"
             ],
             [
              0.8888888888888888,
              "#fdca26"
             ],
             [
              1,
              "#f0f921"
             ]
            ],
            "type": "contour"
           }
          ],
          "contourcarpet": [
           {
            "colorbar": {
             "outlinewidth": 0,
             "ticks": ""
            },
            "type": "contourcarpet"
           }
          ],
          "heatmap": [
           {
            "colorbar": {
             "outlinewidth": 0,
             "ticks": ""
            },
            "colorscale": [
             [
              0,
              "#0d0887"
             ],
             [
              0.1111111111111111,
              "#46039f"
             ],
             [
              0.2222222222222222,
              "#7201a8"
             ],
             [
              0.3333333333333333,
              "#9c179e"
             ],
             [
              0.4444444444444444,
              "#bd3786"
             ],
             [
              0.5555555555555556,
              "#d8576b"
             ],
             [
              0.6666666666666666,
              "#ed7953"
             ],
             [
              0.7777777777777778,
              "#fb9f3a"
             ],
             [
              0.8888888888888888,
              "#fdca26"
             ],
             [
              1,
              "#f0f921"
             ]
            ],
            "type": "heatmap"
           }
          ],
          "histogram": [
           {
            "marker": {
             "pattern": {
              "fillmode": "overlay",
              "size": 10,
              "solidity": 0.2
             }
            },
            "type": "histogram"
           }
          ],
          "histogram2d": [
           {
            "colorbar": {
             "outlinewidth": 0,
             "ticks": ""
            },
            "colorscale": [
             [
              0,
              "#0d0887"
             ],
             [
              0.1111111111111111,
              "#46039f"
             ],
             [
              0.2222222222222222,
              "#7201a8"
             ],
             [
              0.3333333333333333,
              "#9c179e"
             ],
             [
              0.4444444444444444,
              "#bd3786"
             ],
             [
              0.5555555555555556,
              "#d8576b"
             ],
             [
              0.6666666666666666,
              "#ed7953"
             ],
             [
              0.7777777777777778,
              "#fb9f3a"
             ],
             [
              0.8888888888888888,
              "#fdca26"
             ],
             [
              1,
              "#f0f921"
             ]
            ],
            "type": "histogram2d"
           }
          ],
          "histogram2dcontour": [
           {
            "colorbar": {
             "outlinewidth": 0,
             "ticks": ""
            },
            "colorscale": [
             [
              0,
              "#0d0887"
             ],
             [
              0.1111111111111111,
              "#46039f"
             ],
             [
              0.2222222222222222,
              "#7201a8"
             ],
             [
              0.3333333333333333,
              "#9c179e"
             ],
             [
              0.4444444444444444,
              "#bd3786"
             ],
             [
              0.5555555555555556,
              "#d8576b"
             ],
             [
              0.6666666666666666,
              "#ed7953"
             ],
             [
              0.7777777777777778,
              "#fb9f3a"
             ],
             [
              0.8888888888888888,
              "#fdca26"
             ],
             [
              1,
              "#f0f921"
             ]
            ],
            "type": "histogram2dcontour"
           }
          ],
          "mesh3d": [
           {
            "colorbar": {
             "outlinewidth": 0,
             "ticks": ""
            },
            "type": "mesh3d"
           }
          ],
          "parcoords": [
           {
            "line": {
             "colorbar": {
              "outlinewidth": 0,
              "ticks": ""
             }
            },
            "type": "parcoords"
           }
          ],
          "pie": [
           {
            "automargin": true,
            "type": "pie"
           }
          ],
          "scatter": [
           {
            "fillpattern": {
             "fillmode": "overlay",
             "size": 10,
             "solidity": 0.2
            },
            "type": "scatter"
           }
          ],
          "scatter3d": [
           {
            "line": {
             "colorbar": {
              "outlinewidth": 0,
              "ticks": ""
             }
            },
            "marker": {
             "colorbar": {
              "outlinewidth": 0,
              "ticks": ""
             }
            },
            "type": "scatter3d"
           }
          ],
          "scattercarpet": [
           {
            "marker": {
             "colorbar": {
              "outlinewidth": 0,
              "ticks": ""
             }
            },
            "type": "scattercarpet"
           }
          ],
          "scattergeo": [
           {
            "marker": {
             "colorbar": {
              "outlinewidth": 0,
              "ticks": ""
             }
            },
            "type": "scattergeo"
           }
          ],
          "scattergl": [
           {
            "marker": {
             "colorbar": {
              "outlinewidth": 0,
              "ticks": ""
             }
            },
            "type": "scattergl"
           }
          ],
          "scattermap": [
           {
            "marker": {
             "colorbar": {
              "outlinewidth": 0,
              "ticks": ""
             }
            },
            "type": "scattermap"
           }
          ],
          "scattermapbox": [
           {
            "marker": {
             "colorbar": {
              "outlinewidth": 0,
              "ticks": ""
             }
            },
            "type": "scattermapbox"
           }
          ],
          "scatterpolar": [
           {
            "marker": {
             "colorbar": {
              "outlinewidth": 0,
              "ticks": ""
             }
            },
            "type": "scatterpolar"
           }
          ],
          "scatterpolargl": [
           {
            "marker": {
             "colorbar": {
              "outlinewidth": 0,
              "ticks": ""
             }
            },
            "type": "scatterpolargl"
           }
          ],
          "scatterternary": [
           {
            "marker": {
             "colorbar": {
              "outlinewidth": 0,
              "ticks": ""
             }
            },
            "type": "scatterternary"
           }
          ],
          "surface": [
           {
            "colorbar": {
             "outlinewidth": 0,
             "ticks": ""
            },
            "colorscale": [
             [
              0,
              "#0d0887"
             ],
             [
              0.1111111111111111,
              "#46039f"
             ],
             [
              0.2222222222222222,
              "#7201a8"
             ],
             [
              0.3333333333333333,
              "#9c179e"
             ],
             [
              0.4444444444444444,
              "#bd3786"
             ],
             [
              0.5555555555555556,
              "#d8576b"
             ],
             [
              0.6666666666666666,
              "#ed7953"
             ],
             [
              0.7777777777777778,
              "#fb9f3a"
             ],
             [
              0.8888888888888888,
              "#fdca26"
             ],
             [
              1,
              "#f0f921"
             ]
            ],
            "type": "surface"
           }
          ],
          "table": [
           {
            "cells": {
             "fill": {
              "color": "#EBF0F8"
             },
             "line": {
              "color": "white"
             }
            },
            "header": {
             "fill": {
              "color": "#C8D4E3"
             },
             "line": {
              "color": "white"
             }
            },
            "type": "table"
           }
          ]
         },
         "layout": {
          "annotationdefaults": {
           "arrowcolor": "#2a3f5f",
           "arrowhead": 0,
           "arrowwidth": 1
          },
          "autotypenumbers": "strict",
          "coloraxis": {
           "colorbar": {
            "outlinewidth": 0,
            "ticks": ""
           }
          },
          "colorscale": {
           "diverging": [
            [
             0,
             "#8e0152"
            ],
            [
             0.1,
             "#c51b7d"
            ],
            [
             0.2,
             "#de77ae"
            ],
            [
             0.3,
             "#f1b6da"
            ],
            [
             0.4,
             "#fde0ef"
            ],
            [
             0.5,
             "#f7f7f7"
            ],
            [
             0.6,
             "#e6f5d0"
            ],
            [
             0.7,
             "#b8e186"
            ],
            [
             0.8,
             "#7fbc41"
            ],
            [
             0.9,
             "#4d9221"
            ],
            [
             1,
             "#276419"
            ]
           ],
           "sequential": [
            [
             0,
             "#0d0887"
            ],
            [
             0.1111111111111111,
             "#46039f"
            ],
            [
             0.2222222222222222,
             "#7201a8"
            ],
            [
             0.3333333333333333,
             "#9c179e"
            ],
            [
             0.4444444444444444,
             "#bd3786"
            ],
            [
             0.5555555555555556,
             "#d8576b"
            ],
            [
             0.6666666666666666,
             "#ed7953"
            ],
            [
             0.7777777777777778,
             "#fb9f3a"
            ],
            [
             0.8888888888888888,
             "#fdca26"
            ],
            [
             1,
             "#f0f921"
            ]
           ],
           "sequentialminus": [
            [
             0,
             "#0d0887"
            ],
            [
             0.1111111111111111,
             "#46039f"
            ],
            [
             0.2222222222222222,
             "#7201a8"
            ],
            [
             0.3333333333333333,
             "#9c179e"
            ],
            [
             0.4444444444444444,
             "#bd3786"
            ],
            [
             0.5555555555555556,
             "#d8576b"
            ],
            [
             0.6666666666666666,
             "#ed7953"
            ],
            [
             0.7777777777777778,
             "#fb9f3a"
            ],
            [
             0.8888888888888888,
             "#fdca26"
            ],
            [
             1,
             "#f0f921"
            ]
           ]
          },
          "colorway": [
           "#636efa",
           "#EF553B",
           "#00cc96",
           "#ab63fa",
           "#FFA15A",
           "#19d3f3",
           "#FF6692",
           "#B6E880",
           "#FF97FF",
           "#FECB52"
          ],
          "font": {
           "color": "#2a3f5f"
          },
          "geo": {
           "bgcolor": "white",
           "lakecolor": "white",
           "landcolor": "#E5ECF6",
           "showlakes": true,
           "showland": true,
           "subunitcolor": "white"
          },
          "hoverlabel": {
           "align": "left"
          },
          "hovermode": "closest",
          "mapbox": {
           "style": "light"
          },
          "paper_bgcolor": "white",
          "plot_bgcolor": "#E5ECF6",
          "polar": {
           "angularaxis": {
            "gridcolor": "white",
            "linecolor": "white",
            "ticks": ""
           },
           "bgcolor": "#E5ECF6",
           "radialaxis": {
            "gridcolor": "white",
            "linecolor": "white",
            "ticks": ""
           }
          },
          "scene": {
           "xaxis": {
            "backgroundcolor": "#E5ECF6",
            "gridcolor": "white",
            "gridwidth": 2,
            "linecolor": "white",
            "showbackground": true,
            "ticks": "",
            "zerolinecolor": "white"
           },
           "yaxis": {
            "backgroundcolor": "#E5ECF6",
            "gridcolor": "white",
            "gridwidth": 2,
            "linecolor": "white",
            "showbackground": true,
            "ticks": "",
            "zerolinecolor": "white"
           },
           "zaxis": {
            "backgroundcolor": "#E5ECF6",
            "gridcolor": "white",
            "gridwidth": 2,
            "linecolor": "white",
            "showbackground": true,
            "ticks": "",
            "zerolinecolor": "white"
           }
          },
          "shapedefaults": {
           "line": {
            "color": "#2a3f5f"
           }
          },
          "ternary": {
           "aaxis": {
            "gridcolor": "white",
            "linecolor": "white",
            "ticks": ""
           },
           "baxis": {
            "gridcolor": "white",
            "linecolor": "white",
            "ticks": ""
           },
           "bgcolor": "#E5ECF6",
           "caxis": {
            "gridcolor": "white",
            "linecolor": "white",
            "ticks": ""
           }
          },
          "title": {
           "x": 0.05
          },
          "xaxis": {
           "automargin": true,
           "gridcolor": "white",
           "linecolor": "white",
           "ticks": "",
           "title": {
            "standoff": 15
           },
           "zerolinecolor": "white",
           "zerolinewidth": 2
          },
          "yaxis": {
           "automargin": true,
           "gridcolor": "white",
           "linecolor": "white",
           "ticks": "",
           "title": {
            "standoff": 15
           },
           "zerolinecolor": "white",
           "zerolinewidth": 2
          }
         }
        },
        "title": {
         "text": "Chemical Space Visualization using 3D PCA"
        }
       }
      }
     },
     "metadata": {},
     "output_type": "display_data"
    }
   ],
   "source": [
    "# 6c. Visualize with PCA (3D)\n",
    "n_components_3d = 3\n",
    "pca_3d = PCA(n_components=n_components_3d, random_state=42)\n",
    "principal_components_3d = pca_3d.fit_transform(scaled_features)\n",
    "\n",
    "pca_df_3d = pd.DataFrame(data=principal_components_3d,\n",
    "                         columns=[f'Principal Component {i+1}' for i in range(n_components_3d)])\n",
    "pca_df_3d.index = molecule_names\n",
    "\n",
    "# Explained variance\n",
    "explained_variance_ratio_3d = pca_3d.explained_variance_ratio_\n",
    "print(f\"Explained variance by 3D PCA components: {explained_variance_ratio_3d}\")\n",
    "print(f\"Total explained variance by 3D PCA: {sum(explained_variance_ratio_3d):.2f}\")\n",
    "\n",
    "# Visualize the Chemical Space in 3D using Plotly\n",
    "fig_pca_3d = plot_scatter_plotly_3d(\n",
    "    df=pca_df_3d,\n",
    "    x_col='Principal Component 1',\n",
    "    y_col='Principal Component 2',\n",
    "    z_col='Principal Component 3',\n",
    "    text_col_data=pca_df_3d.index, # Use index for text annotations\n",
    "    title='Chemical Space Visualization using 3D PCA',\n",
    "    scene_labels={ # Use scene_labels for 3D axis titles\n",
    "        'Principal Component 1': f'PC 1 ({explained_variance_ratio_3d[0]:.2f} var)',\n",
    "        'Principal Component 2': f'PC 2 ({explained_variance_ratio_3d[1]:.2f} var)',\n",
    "        'Principal Component 3': f'PC 3 ({explained_variance_ratio_3d[2]:.2f} var)'\n",
    "    },\n",
    "    marker_size=8,\n",
    ")\n",
    "fig_pca_3d.show()\n",
    "\n",
    "# Original Matplotlib code:\n",
    "# fig = plt.figure(figsize=(12, 10))\n",
    "# ax = fig.add_subplot(111, projection='3d')\n",
    "# sc = ax.scatter(pca_df_3d['Principal Component 1'],\n",
    "#                 pca_df_3d['Principal Component 2'],\n",
    "#                 pca_df_3d['Principal Component 3'],\n",
    "#                 s=100)\n",
    "# for i, name in enumerate(pca_df_3d.index):\n",
    "#     ax.text(pca_df_3d.iloc[i, 0],\n",
    "#             pca_df_3d.iloc[i, 1],\n",
    "#             pca_df_3d.iloc[i, 2],\n",
    "#             name,\n",
    "#             size=8, zorder=1, color='k')\n",
    "# ax.set_title('Chemical Space Visualization using 3D PCA')\n",
    "# ax.set_xlabel(f'PC 1 ({explained_variance_ratio_3d[0]:.2f} var)')\n",
    "# ax.set_ylabel(f'PC 2 ({explained_variance_ratio_3d[1]:.2f} var)')\n",
    "# ax.set_zlabel(f'PC 3 ({explained_variance_ratio_3d[2]:.2f} var)')\n",
    "# plt.show()"
   ]
  },
  {
   "cell_type": "code",
   "execution_count": 11,
   "id": "pca-3d-visualization",
   "metadata": {},
   "outputs": [
    {
     "name": "stdout",
     "output_type": "stream",
     "text": [
      "Feature contributions to 2D Principal Components (Loadings):\n",
      "\n",
      "\n",
      "Top 5 features for Principal Component 1:\n",
      "HeavyAtomCount    0.497321\n",
      "MolWt             0.493285\n",
      "RingCount         0.413671\n",
      "NumHAcceptors     0.396115\n",
      "TPSA              0.330188\n",
      "Name: Principal Component 1, dtype: float64\n",
      "\n",
      "Top 5 features for Principal Component 2:\n",
      "MolLogP              0.570224\n",
      "TPSA                -0.557997\n",
      "NumHDonors          -0.466699\n",
      "NumHAcceptors       -0.326779\n",
      "NumRotatableBonds    0.129369\n",
      "Name: Principal Component 2, dtype: float64\n",
      "\n",
      "\n",
      "Feature contributions to 3D Principal Components (Loadings):\n",
      "\n",
      "\n",
      "Top 5 features for Principal Component 1:\n",
      "HeavyAtomCount    0.497321\n",
      "MolWt             0.493285\n",
      "RingCount         0.413671\n",
      "NumHAcceptors     0.396115\n",
      "TPSA              0.330188\n",
      "Name: Principal Component 1, dtype: float64\n",
      "\n",
      "Top 5 features for Principal Component 2:\n",
      "MolLogP              0.570224\n",
      "TPSA                -0.557997\n",
      "NumHDonors          -0.466699\n",
      "NumHAcceptors       -0.326779\n",
      "NumRotatableBonds    0.129369\n",
      "Name: Principal Component 2, dtype: float64\n",
      "\n",
      "Top 5 features for Principal Component 3:\n",
      "NumRotatableBonds    0.810678\n",
      "NumHDonors           0.404460\n",
      "RingCount           -0.318765\n",
      "MolLogP              0.157014\n",
      "MolWt                0.131881\n",
      "Name: Principal Component 3, dtype: float64\n"
     ]
    }
   ],
   "source": [
    "# 6c. Analyze PCA Component Loadings (Feature Contributions)\n",
    "\n",
    "# For the 2D PCA (pca_rdkit, based on desc_df)\n",
    "if 'pca_rdkit' in locals() and 'desc_df' in locals():\n",
    "    print(\"Feature contributions to 2D Principal Components (Loadings):\\n\")\n",
    "    loadings_2d_df = pd.DataFrame(\n",
    "        pca_rdkit.components_,\n",
    "        columns=desc_df.columns, # Original feature names\n",
    "        index=[f'Principal Component {i+1}' for i in range(pca_rdkit.n_components_)]\n",
    "    )\n",
    "    # Display the full loadings matrix (can be large if many features)\n",
    "    # print(loadings_2d_df.T)\n",
    "\n",
    "    # Display top N features for each component by absolute loading value\n",
    "    n_top_features = 5 \n",
    "    for pc_name in loadings_2d_df.index:\n",
    "        print(f\"\\nTop {n_top_features} features for {pc_name}:\")\n",
    "        pc_loadings = loadings_2d_df.loc[pc_name]\n",
    "        sorted_loadings = pc_loadings.abs().sort_values(ascending=False)\n",
    "        print(loadings_2d_df.loc[pc_name, sorted_loadings.index[:n_top_features]])\n",
    "else:\n",
    "    print(\"Skipping 2D PCA component analysis: pca_rdkit or desc_df not found.\")\n",
    "\n",
    "# For the 3D PCA (pca_3d, also based on desc_df via scaled_features)\n",
    "if 'pca_3d' in locals() and 'desc_df' in locals():\n",
    "    print(\"\\n\\nFeature contributions to 3D Principal Components (Loadings):\\n\")\n",
    "    loadings_3d_df = pd.DataFrame(\n",
    "        pca_3d.components_,\n",
    "        columns=desc_df.columns, # Original feature names\n",
    "        index=[f'Principal Component {i+1}' for i in range(pca_3d.n_components_)]\n",
    "    )\n",
    "    n_top_features = 5\n",
    "    for pc_name in loadings_3d_df.index:\n",
    "        print(f\"\\nTop {n_top_features} features for {pc_name}:\")\n",
    "        pc_loadings = loadings_3d_df.loc[pc_name]\n",
    "        sorted_loadings = pc_loadings.abs().sort_values(ascending=False)\n",
    "        print(loadings_3d_df.loc[pc_name, sorted_loadings.index[:n_top_features]])\n",
    "else:\n",
    "    print(\"\\nSkipping 3D PCA component analysis: pca_3d or desc_df not found.\")\n"
   ]
  },
  {
   "cell_type": "code",
   "execution_count": 12,
   "id": "25769d0c",
   "metadata": {},
   "outputs": [
    {
     "name": "stdout",
     "output_type": "stream",
     "text": [
      "\n",
      "Determining optimal number of clusters using Elbow Method for KMeans...\n"
     ]
    },
    {
     "data": {
      "image/png": "[encoded data removed]",
      "text/plain": [
       "<Figure size 1000x600 with 1 Axes>"
      ]
     },
     "metadata": {},
     "output_type": "display_data"
    },
    {
     "name": "stdout",
     "output_type": "stream",
     "text": [
      "\n",
      "Performing KMeans clustering with k=5...\n",
      "Cluster labels: [4 3 0 0 2 0 1 2 2 4 0 1 0 0 0 4 4 2 0 0 3 2 0 2 2 4 0 3 3 3 0 0 4 1 1 1 2\n",
      " 0 0 2 2 0 1 2 1 0 2 0 4 3 4 3 3 1 1 2 1 1 3 1 1 3 0 2 1 3 0 1 4 1 3 2 1 3\n",
      " 0 2 3 1 3 3 4 4 3 0 1 4 4 1 3 3 3 1 1 0 0 4 3 0 4 4]\n"
     ]
    }
   ],
   "source": [
    "# 7. Clustering with KMeans and Elbow Plot\n",
    "if scaled_features.shape[0] > 1:\n",
    "    print(\"\\nDetermining optimal number of clusters using Elbow Method for KMeans...\")\n",
    "    inertia = []\n",
    "    # Consider a range of k values. Max k should be less than number of samples.\n",
    "    max_k = min(10, scaled_features.shape[0] -1) # Max 10 clusters or n_samples-1\n",
    "    k_range = range(1, max_k + 1)\n",
    "\n",
    "    if max_k > 0:\n",
    "        for k_val in k_range:\n",
    "            kmeans = KMeans(n_clusters=k_val, random_state=42, n_init='auto')\n",
    "            kmeans.fit(scaled_features)\n",
    "            inertia.append(kmeans.inertia_)\n",
    "\n",
    "        # Plot the elbow curve\n",
    "        plt.figure(figsize=(10, 6))\n",
    "        plt.plot(k_range, inertia, marker='o')\n",
    "        plt.title('Elbow Method for Optimal k')\n",
    "        plt.xlabel('Number of clusters (k)')\n",
    "        plt.ylabel('Inertia')\n",
    "        plt.xticks(k_range)\n",
    "        plt.grid(True)\n",
    "        plt.show()\n",
    "\n",
    "        # Based on the elbow plot, choose an optimal k.\n",
    "        # For this small dataset, let's assume k=3 or k=4 might be reasonable.\n",
    "        # You would typically inspect the plot to find the \"elbow\".\n",
    "        optimal_k = 5 # Example: Choose 3 clusters. Adjust based on your elbow plot.\n",
    "        if optimal_k > max_k:\n",
    "            optimal_k = max_k # Ensure optimal_k is not too large\n",
    "        \n",
    "        if optimal_k > 0:\n",
    "            print(f\"\\nPerforming KMeans clustering with k={optimal_k}...\")\n",
    "            kmeans_final = KMeans(n_clusters=optimal_k, random_state=42, n_init='auto')\n",
    "            cluster_labels_kmeans = kmeans_final.fit_predict(scaled_features)\n",
    "            print(f\"Cluster labels: {cluster_labels_kmeans}\")\n",
    "        else:\n",
    "            print(\"Skipping KMeans clustering as optimal_k is 0.\")\n",
    "            cluster_labels_kmeans = None\n",
    "    else:\n",
    "        print(\"Skipping Elbow Method: Not enough samples to form multiple clusters.\")\n",
    "        cluster_labels_kmeans = None\n",
    "else:\n",
    "    print(\"Skipping Clustering: Not enough samples.\")\n",
    "    cluster_labels_kmeans = None"
   ]
  },
  {
   "cell_type": "code",
   "execution_count": 13,
   "id": "agglomerative-clustering-7b",
   "metadata": {},
   "outputs": [
    {
     "name": "stdout",
     "output_type": "stream",
     "text": [
      "Using optimal_k = 5 from KMeans for Agglomerative Clustering.\n",
      "\n",
      "Performing Agglomerative Clustering with n_clusters=5...\n",
      "Agglomerative cluster labels (first 50): [2 0 1 1 4 1 0 4 4 0 1 0 3 1 1 2 2 1 1 1 0 4 3 3 4 2 1 3 0 0 1 1 1 0 0 0 3\n",
      " 1 1 3 4 1 0 3 0 3 4 1 0 0]\n"
     ]
    }
   ],
   "source": [
    "# 7b. Clustering with Agglomerative Clustering\n",
    "if 'scaled_features' in locals() and scaled_features.shape[0] > 1:\n",
    "    # Define the number of clusters. This can be based on domain knowledge, elbow method for other algorithms, or a fixed value.\n",
    "    # Here, we try to use optimal_k from KMeans if available and valid, otherwise a default.\n",
    "    n_clusters_agg = 0\n",
    "    if 'optimal_k' in locals() and isinstance(optimal_k, int) and optimal_k > 0 and optimal_k <= scaled_features.shape[0]:\n",
    "        n_clusters_agg = optimal_k\n",
    "        print(f\"Using optimal_k = {optimal_k} from KMeans for Agglomerative Clustering.\")\n",
    "    else:\n",
    "        # Fallback: choose a number of clusters, e.g., 3 or 5, or make it dynamic based on sample size\n",
    "        n_clusters_agg = min(5, scaled_features.shape[0]) # Default to 5 or max possible if less than 5 samples\n",
    "        if scaled_features.shape[0] < 2: n_clusters_agg = 0 # Cannot cluster if < 2 samples\n",
    "        print(f\"optimal_k from KMeans not available or invalid. Using n_clusters = {n_clusters_agg} for Agglomerative Clustering.\")\n",
    "\n",
    "    if n_clusters_agg >= 2: # AgglomerativeClustering needs n_clusters >= 2\n",
    "        print(f\"\\nPerforming Agglomerative Clustering with n_clusters={n_clusters_agg}...\")\n",
    "        agg_clustering_model = AgglomerativeClustering(n_clusters=n_clusters_agg)\n",
    "        cluster_labels_agg = agg_clustering_model.fit_predict(scaled_features)\n",
    "        print(f\"Agglomerative cluster labels (first 50): {cluster_labels_agg[:50]}\")\n",
    "    else:\n",
    "        print(\"Skipping Agglomerative Clustering: Not enough samples or n_clusters < 2.\")\n",
    "        cluster_labels_agg = None\n",
    "else:\n",
    "    print(\"\\nSkipping Agglomerative Clustering: scaled_features not available or not enough samples.\")\n",
    "    cluster_labels_agg = None"
   ]
  },
  {
   "cell_type": "code",
   "execution_count": 14,
   "id": "dbscan-clustering-7c",
   "metadata": {},
   "outputs": [
    {
     "name": "stdout",
     "output_type": "stream",
     "text": [
      "DBSCAN estimated number of clusters: 0\n",
      "DBSCAN estimated number of noise points: 100\n"
     ]
    }
   ],
   "source": [
    "# 7c. Clustering with DBSCAN\n",
    "if 'scaled_features' in locals() and scaled_features.shape[0] > 1:\n",
    "    # DBSCAN parameters: \n",
    "    # eps: The maximum distance between two samples for one to be considered as in the neighborhood of the other.\n",
    "    # min_samples: The number of samples in a neighborhood for a point to be considered as a core point.\n",
    "    # These parameters are sensitive and often require tuning based on the dataset.\n",
    "\n",
    "    # Example parameters (these will likely need adjustment for your specific dataset)\n",
    "    dbscan_eps = 0.5 # This is a critical parameter to tune.\n",
    "    if scaled_features.shape[1] > 0:\n",
    "        dbscan_min_samples = max(3, 2 * scaled_features.shape[1]) # e.g., 2 * number_of_features\n",
    "    else: \n",
    "        dbscan_min_samples = 5 \n",
    "\n",
    "    # Ensure min_samples is not greater than the number of samples and at least 1\n",
    "    if scaled_features.shape[0] < dbscan_min_samples:\n",
    "        print(f\"Warning: min_samples ({dbscan_min_samples}) is too large for the number of samples ({scaled_features.shape[0]}).\")\n",
    "        dbscan_min_samples = max(1, scaled_features.shape[0] // 10) # Adjust to a fraction or a small number\n",
    "        if scaled_features.shape[0] == 1 : dbscan_min_samples = 1\n",
    "        print(f\"Adjusted min_samples to {dbscan_min_samples}.\")\n",
    "\n",
    "    if dbscan_min_samples > 0 and scaled_features.shape[0] >= dbscan_min_samples:\n",
    "        try:\n",
    "            dbscan_model = DBSCAN(eps=dbscan_eps, min_samples=dbscan_min_samples)\n",
    "            cluster_labels_dbscan = dbscan_model.fit_predict(scaled_features)\n",
    "            \n",
    "            n_clusters_dbscan_ = len(set(cluster_labels_dbscan)) - (1 if -1 in cluster_labels_dbscan else 0)\n",
    "            n_noise_dbscan_ = list(cluster_labels_dbscan).count(-1)\n",
    "            \n",
    "            print(f\"DBSCAN estimated number of clusters: {n_clusters_dbscan_}\")\n",
    "            print(f\"DBSCAN estimated number of noise points: {n_noise_dbscan_}\")\n",
    "            # print(f\"DBSCAN cluster labels (first 50): {cluster_labels_dbscan[:50]}\") # Can be very long\n",
    "        except ValueError as e:\n",
    "            print(f\"Error during DBSCAN: {e}. Skipping DBSCAN.\")\n",
    "            cluster_labels_dbscan = None\n",
    "    else:\n",
    "        print(f\"Skipping DBSCAN: Not enough samples ({scaled_features.shape[0]}) for min_samples ({dbscan_min_samples}), or min_samples is 0.\")\n",
    "        cluster_labels_dbscan = None\n",
    "else:\n",
    "    print(\"\\nSkipping DBSCAN clustering: scaled_features not available or not enough samples.\")\n",
    "    cluster_labels_dbscan = None"
   ]
  },
  {
   "cell_type": "code",
   "execution_count": 15,
   "id": "pca-2d-kmeans-colored",
   "metadata": {},
   "outputs": [
    {
     "data": {
      "application/vnd.plotly.v1+json": {
       "config": {
        "plotlyServerURL": "https://plot.ly"
       },
       "data": [
        {
         "hovertemplate": "%{hovertext}<extra></extra>",
         "hovertext": [
          "CCC1=NN2C(O)=C(SC2=N1)C(N1CC(C)OC(C)C1)C1=CC=CC(OC)=C1",
          "CC1=C(Cl)C=CC=C1NC=C1C(C)=C(C#N)C(=O)N(CC2CCCO2)C1=O",
          "OC1=CC=C(C=C2SC(=O)N(CC3=CC=CC=C3C#N)C2=O)C=C1I",
          "CC(C)C1=NC=C(C2=CC(C)=NO2)C(=N1)C1CCC(CNC(=O)C2=C(C)N=CS2)CC1",
          "COC1=C2OC(=CC2=CC=C1)C(=O)C1=C([O-])C(=O)N(C1C1=CC=C(F)C=C1)C1=NOC(C)=C1",
          "CC1=CC=C(C=C1)C1C2C(=O)CC(CC2=NC2=NC=NN12)C1=CC=CO1",
          "O=C(NN=CC1=CNC2=CC=CC=C12)C1=CC(=NC2=CC=CC=C12)C1CC1",
          "COC1=CC=C(C=C1)N1N=C2CS(=O)(=O)CC2=C1NC(=O)C1=C(C)ON=C1C1=CC=CC=C1Cl",
          "COC(=O)C1=CC=C(C=C1)C1C2C(ON1C1=CC=CC=C1)C(=O)N(C2=O)C1=CC=C(OC)C=C1",
          "COC1=CC=C(CN2CCN(CC2)S(=O)(=O)C2=CC=CC=C2)C=C1Br",
          "COC1=CC=CC2=C1OC1=CC=CC=C1N=C2N1CCN(C(C)C1)C(=O)C1=C(F)C=CC=C1F",
          "CC1=CC2=C(N3CCC(CC3)C(=O)N3CCCC3)C(=CN=C2C=C1)C#N",
          "CC(C)CN1N=C(C)C(CCC(=O)N2CCCCCC2C2=CC=CN2C)=C1C",
          "ClC1=CC=C(C=C1)C(=O)C[NH+]1CCC(CC1)C1=NN=C(O1)C1=CC=CO1",
          "CC(=O)C1=NC2=CC=CC=C2N1CC1CCCCN1C(=O)OCC1=CC=CC=C1",
          "CC1=CC(C=NNC(=O)C(=O)NC2=CC=C(Cl)C(Cl)=C2)=C(C)N1C1=CC=CC(Cl)=C1"
         ],
         "legendgroup": "4",
         "marker": {
          "color": "#636efa",
          "size": 8,
          "symbol": "circle"
         },
         "mode": "markers",
         "name": "4",
         "orientation": "v",
         "showlegend": true,
         "type": "scatter",
         "x": {
          "bdata": "fAQRMEs1B0CnoCuG+Mz6P82wA1t5ZAFA27cSnOEHEEDTqhOojgQTQM/4HGSIcgJAmBRIzY+2+j8U+NZrepQWQGrx16JtgRJAIbR/zUgA8j/7rMVg16EPQNiApmuuzfI/M95icrb99T97/Mmi+/j5PxfmFmjtvQNAx/CQVtRbBEA=",
          "dtype": "f8"
         },
         "xaxis": "x",
         "y": {
          "bdata": "J+xm29nCyL9pPA++m52uv0r1EIV2l9M/iOyJinSF3D8VhV9f88eGv98G/iGPneI/3WIROMGx4z/gjqx9/KLhvwqxyZCwwOQ/vsTpHWe+9z96SaM5768BQIvmcwKV7vA/9qUAOGWcA0DS0f+IbR6Yv1FwKBf11/o/bxs2YFzu5j8=",
          "dtype": "f8"
         },
         "yaxis": "y"
        },
        {
         "hovertemplate": "%{hovertext}<extra></extra>",
         "hovertext": [
          "CCC1=CC=C(OCC(=O)NC2=CC=C(C)C=C2O)C=C1",
          "CC1=CC(C)=NC(NNS(=O)(=O)C2=CC=C(Cl)C=C2F)=N1",
          "CCC([NH2+]CC1=CNC=C1)C1=CC=CC=C1OC(F)F",
          "COC1=CC=C(NC(=O)NCC2CN3CCCCC3CO2)C=C1F",
          "ClC1=CC=C(C=NNC(=O)C(=O)NCC2=CC=CC=N2)C=C1",
          "COC1=CC(C)=CC=C1NCC(=O)NCCC1=CC=CC=C1C",
          "COC(=O)C1=CC=C(NC(=O)C2CCCC(C)C2)C(O)=C1",
          "CCOC1=CC=CC=C1C=CC(=O)NCC(C)(O)C1=CC=C(F)C=C1",
          "O=C(CCC1=NC2=CC=CC=C2C(=O)N1)NC1CCC2=CC=CC=C12",
          "OC(C(=O)NC1=CC=CC(CS(=O)C2=CC=CC=C2)=C1)C1=CC=CC=C1",
          "COC(=O)C1=CC=CC(CCNC(=O)NC2=CC(F)=CC=C2C)=C1",
          "CC1=C(N=C(NC(=O)C2CCC(=O)O2)S1)C1=CC=C(C)C=C1",
          "CCC(CC)OC1=CC=C(C=C1)C1(C)NC(=O)NC1=O",
          "CC1=CC=C(C=C1)C1=NNC=C1CN1CCC(C1)[NH+]1CCCC1",
          "CN(CC1=NN=C(C)N1C)C(=O)NCC1=CC=C(F)C(Cl)=C1",
          "ClC1=CC=CN=C1NNC(=O)C1=CC=C(OC2CCC2)C=C1Cl",
          "CCCC1=CC=C(C=C1)C(=O)NC(CO)CC1=CNC2=CC=CC=C12",
          "[O-]C(=O)C1C[NH+](CC1C1CC1)C1CCN(CC1)C(=O)C1=CC=CC=C1",
          "CNC(=O)C1=CC=CC=C1NC(=O)CN(C)C(=O)C1=CC=CS1",
          "COC1=CC(CNC(=O)C2=C(Br)C=CO2)=CC=N1",
          "O=C(CC1OCCC2=CC=CC=C12)NNC(=O)CC1=CC=NC=C1"
         ],
         "legendgroup": "3",
         "marker": {
          "color": "#EF553B",
          "size": 8,
          "symbol": "circle"
         },
         "mode": "markers",
         "name": "3",
         "orientation": "v",
         "showlegend": true,
         "type": "scatter",
         "x": {
          "bdata": "z3hjD7dT87+gIfcWpZDMv+6Wl5nc8gDAR4kqeAyfrD9yw9WBJPzivz5f7VxRv+u/huDzY+v66L/0T9qTF3XMv/XTN/BA4+I/v2rjXfxD5T99aXFpFq7Wv0+A4FvdQs4/qiqIdMxA97+NAh333XXqv7K9Aa07j+G/D6dQcAKL3D+3b8teozG3v4oaOQfHR6w/IrUKxQQu1r8MmCJJYYzxv7uXbdyO57M/",
          "dtype": "f8"
         },
         "xaxis": "x",
         "y": {
          "bdata": "Dfa/94FDrD9juZt454X3vxvxiQTWK+o/8XVZOi7m4r8ehIpQJzP5vxftGBnnwNs/HiY1nRRS7L9TlfNC6UvZP4Y/Hgs5Odq/4nCVFuUE2z8lDFiKZUeiv1ZECIFZB76/qNnJXWhQ5L9q/7NFw5fMP5YMfkF0icC/luss9bO31D9jXT1xQaJ4v9UljkYU3+2/qYT96ODX8r9/d295qfHKvxNk38TTCPa/",
          "dtype": "f8"
         },
         "yaxis": "y"
        },
        {
         "hovertemplate": "%{hovertext}<extra></extra>",
         "hovertext": [
          "CC1=CN=C(CN2CCN(CC2)C2=NC=CC=C2F)C=N1",
          "CC(C)C1=NN=C2SCC(=NN12)C1=CC2=CC=CC=C2O1",
          "COC1=CC(C=CC)=CC=C1OCC(=O)NC1CCC(C1)SC",
          "FC1=CC=C(F)C(CCCC(=O)N2CCCC(C[NH+]3CCCCCC3)C2)=C1",
          "COCCC(=O)NC(C)CC1=C(Cl)C=CC=C1Cl",
          "CCC1(CNC(=O)C2=C(N=CS2)C2CC2)CCC1",
          "CCC(N(C)S(=O)(=O)C1=CC=C(C=C1C)C#N)C1=CC=NC=C1",
          "CC[NH2+]C(C)C1=CC=NC(OC2=CN=CC(Br)=C2)=C1",
          "BrC1=CC=C(C=N1)C(=O)NCC1=CC=CC2=CC=CC=C12",
          "COC1=CC=CC(Cl)=C1CN(C)C(C)CC#N",
          "COC1=CC=C(CCC(C)NC(=O)C2=NC=CC=C2C(F)(F)F)C=C1",
          "CCN1C=C(CC(=O)N2CCS(=O)C(C)(C)C2)C2=CC=CC=C12",
          "FC1=CC=C(CN2CCN(CC(=O)NCC3=CC=CS3)C2=O)C(Cl)=C1",
          "C(CSC1=NC=NC2=CC=CC=C12)SC1=CC=CC=C1",
          "CCC[NH+]1CCC(CC1)N(C)CC1=C(C)N(C2CC2)C(C)=C1",
          "CC(O)C1=CC=C(C)C=C1OCC1=NC(=CS1)C(C)(C)C",
          "CCOC1=CC=CC=C1C[NH2+]C(CC)C1=CC=CC=C1",
          "CC1=CC=C(C=C1)C(CNC(=O)N1CCC(C)(C)C1)N1CCOCC1",
          "CN(C1CCN(CC1)C1=CC=[NH+]C2=CC(F)=CC=C12)C(C)=O",
          "CCN(CC1=CC=CC(NC(=O)C2CC(C)OC(C)C2)=C1)C(C)=O",
          "CCC(CC)N(C)CC1=C(F)C=CC=C1[N+]([O-])=O",
          "CC1CSC(SCC2=C(F)C=CC=C2[N+]([O-])=O)=N1",
          "CCCCN(C)C(=O)CC1=CC=CC2=CC=CC=C12",
          "CCC[NH2+]C(CC#CC)C1(CCCCCC1)N(C)C",
          "CC([NH2+]CC1=C(C)N(CC2=CC=C(C)C=C2)N=C1C)C1=CC=C(Cl)C=C1"
         ],
         "legendgroup": "0",
         "marker": {
          "color": "#00cc96",
          "size": 8,
          "symbol": "circle"
         },
         "mode": "markers",
         "name": "0",
         "orientation": "v",
         "showlegend": true,
         "type": "scatter",
         "x": {
          "bdata": "W/Kl27Vw47+xMmPl4T7kP2U/8xnKrNG/K7xyVHRsyL/3ef89xeACwBLljOKPwva/YXrn/RpbsD/YFBqSD5Tzv9yQJwosYuO/yyPzYg3HA8DrItNqIomiv5brB9PZWdW/t3G5yf2/3z9Z86n9g/Lhv24LiBd6cfe/E1UsNhh657/HXcuXP8kBwL9N1N4gW5G/n+p/P8Bc8b/mCy1dJ73Wv+n30Eib7gDAFXws2M8/7L9Bm8RJ6SkDwG6GbE0KqgjAZZAlKsnkzj8=",
          "dtype": "f8"
         },
         "xaxis": "x",
         "y": {
          "bdata": "dxexyOj81T8+5dqcdbbmP4B/Hg+g5vE/Yid4AddmAUBp5F1IplPzP/rr8cVK/fA/jyKulKpG5D9BA99VeAviP2ao2darYvg/bhLMGM+39z8f8aRh/6X1P9woI+GIN/U/Guj128ug8T8bprt3MtUDQHvL323Vdvw/qjrjZR6S9D/P2jUgG83/P1fdzz0U9e0/D0OFE7RG9T/vvVSRwmHnP20xs41XWPc/2MQR17Mj6D8TCjJV6hoFQG7lbidkrPg/JeY7QMhtAkA=",
          "dtype": "f8"
         },
         "yaxis": "y"
        },
        {
         "hovertemplate": "%{hovertext}<extra></extra>",
         "hovertext": [
          "CNC1=CC=C2N=C(NC2=N1)C1(C)CC[NH2+]CC1",
          "COC1=CC(=CC=C1O)C(C)NC1CC[NH+](C)CC1",
          "COC(=O)C1CC([NH3+])CN(C1)C(=O)OCC1=CC=CC=C1",
          "CC1=CC=C(N2C=C(N=N2)C(=S)N2CCOCC2)C(O)=C1",
          "CCC1=CC=C(C[NH+]2CCCC(C2)N2CCCC2=O)O1",
          "CN(CC1=COC=C1)C1(C[NH3+])CC(C)(C)OC1(C)C",
          "CC1(C[NH+]=C(N)N1CC1CCCO1)C1=CN=CC=N1",
          "CCC1=NOC(=N1)C1=CC=C(C[NH3+])C=C1",
          "CCCCOC(=O)C(C)([NH3+])CC",
          "CC1=CC(F)=CC=C1C(O)C1(C[NH3+])CCOCC1",
          "CCC[NH+](CCC)CC1=CC=C(O)C(N)=C1",
          "COC1CCCC1NC(=O)C1=CC=NC=C1C#CCO",
          "COC(=O)CC(C)(C[NH3+])C1=CC(F)=C(C)C=C1F",
          "CC1CN(CC1C)C(=O)NCC1CCC(O1)C([O-])=O",
          "CC1=CC=C(C[NH2+]C(C)(C)CO)C(C)=C1",
          "O=C(CC1CCCCO1)NCCCCC#N"
         ],
         "legendgroup": "2",
         "marker": {
          "color": "#ab63fa",
          "size": 8,
          "symbol": "circle"
         },
         "mode": "markers",
         "name": "2",
         "orientation": "v",
         "showlegend": true,
         "type": "scatter",
         "x": {
          "bdata": "0Qc1aonz/78Bi2K/WH0DwAQj+3LC/e+/066L0O1rx7/NY1CaNnr9vwl68+LG7P2/+1I/Kuln9r/7RGrOUGgGwJoATO/fqhLAc/rP0YkXBMCCGHaWo6QMwBTnUvuRaPi/0dpIWeUgBsAH8/coWez5v6Zz7NxEuxDAM5pkfqRjBsA=",
          "dtype": "f8"
         },
         "xaxis": "x",
         "y": {
          "bdata": "N9RRDa6FAsCdaLIoWA34v7KSy9fY5fm/kbUtH7S48b9zoGXuj+3SP5ZxlOz4nbq/QMY3G6y9CMAohQiKUJbvv5YWItL1QOa/GSbllX6Y7b/4ONJfwRn0v+8J6FGnC/2/2Vol2+1EyL+bL3uQMToAwISMhCRY8Ne/6rdrXH5I1L8=",
          "dtype": "f8"
         },
         "yaxis": "y"
        },
        {
         "hovertemplate": "%{hovertext}<extra></extra>",
         "hovertext": [
          "CC(N(C)C(=O)NC1=CN=C2N(C)C(=O)N(C)C(=O)C2=C1)C1=CC=CC=C1",
          "CC1=CC(=O)NC(NN=CC2=C(Cl)N=C3C=CC=CN3C2=O)=N1",
          "CCC1=NSC(NC2=CC=C(NC(=O)C3CCCO3)C=C2)=N1",
          "CCCCNC(=O)CC1=C(C)N2N=C(SC)N=C2N=C1C",
          "CCC(NNC(=O)C1=CC(OC)=C(OC)C(OC)=C1)=C1C=CC(=O)C=C1",
          "COC(=O)C1=CC=C(OC)C=C1OCC(=O)NC1=CC=C(F)C(F)=C1",
          "CCCC1=CC(=NO1)C1CCCN1S(=O)(=O)C1=CC=C(OC)C(OC)=C1",
          "COC1=CC=CC(=C1)N1CC(CC1=O)C(=O)NCCNC(=O)C1=CC=CO1",
          "CN1N=C(C)C(=C1NC1CCOC1C1=CC=C(Cl)C=C1)[N+]([O-])=O",
          "FC1=CC=CC(F)=C1C=CC(=O)NNC(=O)CN1N=NC(=N1)C1=CC=CC=C1",
          "[O-][N+](=O)C1=CC=C(NN=C(C2=CC=CC=C2)C2=CC=NC=C2)C(=C1)[N+]([O-])=O",
          "COC1=CC=C(CCNC(=O)C2CN(C2)C(=O)C2=NOC(C)=C2)C=C1OC",
          "CC1=CC=CC(NC(=O)NC2=CC=C3N=C(NS(C)(=O)=O)SC3=C2)=C1",
          "FC(F)(F)C1=NN=C(SCC(=O)NC2=CC=CC=C2C#N)N1CC=C",
          "COC(=O)C1=C(C)NC(C(=O)NCC(N(C)C)C2=C(F)C=CC=C2Cl)=C1C",
          "COCC1=CC(C)=NC(OCC(=O)NN=CC2=CC=CC(F)=C2)=C1C#N",
          "FC1=CC=CC=C1OCCCNC1=NN=NN1C1=CC=CC=C1",
          "CN(CC(O)CN1CCOCC1)CC1=NOC(=N1)C(C)(C)C",
          "FC(F)(F)C1=CC=C(CCNC(=O)NCC2=CC=C(N=C2)N2C=CN=C2)C=C1",
          "COCCNS(=O)(=O)C1=CC=CC(=C1)C(=O)N(C)C1CCCC(C)C1",
          "O=C(NCC1OCCN1S(=O)(=O)C1=CC=CS1)C(=O)NCC1=CC=NC=C1",
          "CC(N1C(CCNC(=O)C2=CC=CC=C2Cl)=NC2=CC=CC=C12)C(C)=O"
         ],
         "legendgroup": "1",
         "marker": {
          "color": "#FFA15A",
          "size": 8,
          "symbol": "circle"
         },
         "mode": "markers",
         "name": "1",
         "orientation": "v",
         "showlegend": true,
         "type": "scatter",
         "x": {
          "bdata": "1jMZYjvc+D8ztHhBJIzvP6LF4+zUyt8/s1PN7tXozb9qUltQiR7uP8E5qb4dpOE/5V8kGbt2/j9QANEjS7n1PzBrIG60O/A/XSjS1cBt/T9OTm1n4ZQFQHldN7wO4fo/hWcXg2LF9j/Vp6yBFurxPwpRfsBMU+w/qulSksa48j/+j7mgo9TgP4uHD5Vdj7O/BeNLFRWD9T/DRXjsXjbaP7d3D070BwFAKjrrPljj8D8=",
          "dtype": "f8"
         },
         "xaxis": "x",
         "y": {
          "bdata": "g1zH4cYt87/Nq8fA+1UGwKF/iuHclu6/KQxw1bh36L/Rkye6Qgj0vzZYvlad6bW/g4RGNotJ4D8fDiMR8hL9v2/nUwlWp9y/J85UeRJSAMC0GgjGaVzyvyqG8lrqQfK/oCs7YE2B+b+GtJ8EwA7XvwDHJAN+0MW/sbuwtBi/8L9phsU/H0ebv+C3PgaSI/q/tGB3hG3Rkz80iAW9BBKrvyR57d68tgnA15v3HhAv7j8=",
          "dtype": "f8"
         },
         "yaxis": "y"
        }
       ],
       "layout": {
        "legend": {
         "title": {
          "text": "Cluster"
         },
         "tracegroupgap": 0
        },
        "template": {
         "data": {
          "bar": [
           {
            "error_x": {
             "color": "#2a3f5f"
            },
            "error_y": {
             "color": "#2a3f5f"
            },
            "marker": {
             "line": {
              "color": "#E5ECF6",
              "width": 0.5
             },
             "pattern": {
              "fillmode": "overlay",
              "size": 10,
              "solidity": 0.2
             }
            },
            "type": "bar"
           }
          ],
          "barpolar": [
           {
            "marker": {
             "line": {
              "color": "#E5ECF6",
              "width": 0.5
             },
             "pattern": {
              "fillmode": "overlay",
              "size": 10,
              "solidity": 0.2
             }
            },
            "type": "barpolar"
           }
          ],
          "carpet": [
           {
            "aaxis": {
             "endlinecolor": "#2a3f5f",
             "gridcolor": "white",
             "linecolor": "white",
             "minorgridcolor": "white",
             "startlinecolor": "#2a3f5f"
            },
            "baxis": {
             "endlinecolor": "#2a3f5f",
             "gridcolor": "white",
             "linecolor": "white",
             "minorgridcolor": "white",
             "startlinecolor": "#2a3f5f"
            },
            "type": "carpet"
           }
          ],
          "choropleth": [
           {
            "colorbar": {
             "outlinewidth": 0,
             "ticks": ""
            },
            "type": "choropleth"
           }
          ],
          "contour": [
           {
            "colorbar": {
             "outlinewidth": 0,
             "ticks": ""
            },
            "colorscale": [
             [
              0,
              "#0d0887"
             ],
             [
              0.1111111111111111,
              "#46039f"
             ],
             [
              0.2222222222222222,
              "#7201a8"
             ],
             [
              0.3333333333333333,
              "#9c179e"
             ],
             [
              0.4444444444444444,
              "#bd3786"
             ],
             [
              0.5555555555555556,
              "#d8576b"
             ],
             [
              0.6666666666666666,
              "#ed7953"
             ],
             [
              0.7777777777777778,
              "#fb9f3a"
             ],
             [
              0.8888888888888888,
              "#fdca26"
             ],
             [
              1,
              "#f0f921"
             ]
            ],
            "type": "contour"
           }
          ],
          "contourcarpet": [
           {
            "colorbar": {
             "outlinewidth": 0,
             "ticks": ""
            },
            "type": "contourcarpet"
           }
          ],
          "heatmap": [
           {
            "colorbar": {
             "outlinewidth": 0,
             "ticks": ""
            },
            "colorscale": [
             [
              0,
              "#0d0887"
             ],
             [
              0.1111111111111111,
              "#46039f"
             ],
             [
              0.2222222222222222,
              "#7201a8"
             ],
             [
              0.3333333333333333,
              "#9c179e"
             ],
             [
              0.4444444444444444,
              "#bd3786"
             ],
             [
              0.5555555555555556,
              "#d8576b"
             ],
             [
              0.6666666666666666,
              "#ed7953"
             ],
             [
              0.7777777777777778,
              "#fb9f3a"
             ],
             [
              0.8888888888888888,
              "#fdca26"
             ],
             [
              1,
              "#f0f921"
             ]
            ],
            "type": "heatmap"
           }
          ],
          "histogram": [
           {
            "marker": {
             "pattern": {
              "fillmode": "overlay",
              "size": 10,
              "solidity": 0.2
             }
            },
            "type": "histogram"
           }
          ],
          "histogram2d": [
           {
            "colorbar": {
             "outlinewidth": 0,
             "ticks": ""
            },
            "colorscale": [
             [
              0,
              "#0d0887"
             ],
             [
              0.1111111111111111,
              "#46039f"
             ],
             [
              0.2222222222222222,
              "#7201a8"
             ],
             [
              0.3333333333333333,
              "#9c179e"
             ],
             [
              0.4444444444444444,
              "#bd3786"
             ],
             [
              0.5555555555555556,
              "#d8576b"
             ],
             [
              0.6666666666666666,
              "#ed7953"
             ],
             [
              0.7777777777777778,
              "#fb9f3a"
             ],
             [
              0.8888888888888888,
              "#fdca26"
             ],
             [
              1,
              "#f0f921"
             ]
            ],
            "type": "histogram2d"
           }
          ],
          "histogram2dcontour": [
           {
            "colorbar": {
             "outlinewidth": 0,
             "ticks": ""
            },
            "colorscale": [
             [
              0,
              "#0d0887"
             ],
             [
              0.1111111111111111,
              "#46039f"
             ],
             [
              0.2222222222222222,
              "#7201a8"
             ],
             [
              0.3333333333333333,
              "#9c179e"
             ],
             [
              0.4444444444444444,
              "#bd3786"
             ],
             [
              0.5555555555555556,
              "#d8576b"
             ],
             [
              0.6666666666666666,
              "#ed7953"
             ],
             [
              0.7777777777777778,
              "#fb9f3a"
             ],
             [
              0.8888888888888888,
              "#fdca26"
             ],
             [
              1,
              "#f0f921"
             ]
            ],
            "type": "histogram2dcontour"
           }
          ],
          "mesh3d": [
           {
            "colorbar": {
             "outlinewidth": 0,
             "ticks": ""
            },
            "type": "mesh3d"
           }
          ],
          "parcoords": [
           {
            "line": {
             "colorbar": {
              "outlinewidth": 0,
              "ticks": ""
             }
            },
            "type": "parcoords"
           }
          ],
          "pie": [
           {
            "automargin": true,
            "type": "pie"
           }
          ],
          "scatter": [
           {
            "fillpattern": {
             "fillmode": "overlay",
             "size": 10,
             "solidity": 0.2
            },
            "type": "scatter"
           }
          ],
          "scatter3d": [
           {
            "line": {
             "colorbar": {
              "outlinewidth": 0,
              "ticks": ""
             }
            },
            "marker": {
             "colorbar": {
              "outlinewidth": 0,
              "ticks": ""
             }
            },
            "type": "scatter3d"
           }
          ],
          "scattercarpet": [
           {
            "marker": {
             "colorbar": {
              "outlinewidth": 0,
              "ticks": ""
             }
            },
            "type": "scattercarpet"
           }
          ],
          "scattergeo": [
           {
            "marker": {
             "colorbar": {
              "outlinewidth": 0,
              "ticks": ""
             }
            },
            "type": "scattergeo"
           }
          ],
          "scattergl": [
           {
            "marker": {
             "colorbar": {
              "outlinewidth": 0,
              "ticks": ""
             }
            },
            "type": "scattergl"
           }
          ],
          "scattermap": [
           {
            "marker": {
             "colorbar": {
              "outlinewidth": 0,
              "ticks": ""
             }
            },
            "type": "scattermap"
           }
          ],
          "scattermapbox": [
           {
            "marker": {
             "colorbar": {
              "outlinewidth": 0,
              "ticks": ""
             }
            },
            "type": "scattermapbox"
           }
          ],
          "scatterpolar": [
           {
            "marker": {
             "colorbar": {
              "outlinewidth": 0,
              "ticks": ""
             }
            },
            "type": "scatterpolar"
           }
          ],
          "scatterpolargl": [
           {
            "marker": {
             "colorbar": {
              "outlinewidth": 0,
              "ticks": ""
             }
            },
            "type": "scatterpolargl"
           }
          ],
          "scatterternary": [
           {
            "marker": {
             "colorbar": {
              "outlinewidth": 0,
              "ticks": ""
             }
            },
            "type": "scatterternary"
           }
          ],
          "surface": [
           {
            "colorbar": {
             "outlinewidth": 0,
             "ticks": ""
            },
            "colorscale": [
             [
              0,
              "#0d0887"
             ],
             [
              0.1111111111111111,
              "#46039f"
             ],
             [
              0.2222222222222222,
              "#7201a8"
             ],
             [
              0.3333333333333333,
              "#9c179e"
             ],
             [
              0.4444444444444444,
              "#bd3786"
             ],
             [
              0.5555555555555556,
              "#d8576b"
             ],
             [
              0.6666666666666666,
              "#ed7953"
             ],
             [
              0.7777777777777778,
              "#fb9f3a"
             ],
             [
              0.8888888888888888,
              "#fdca26"
             ],
             [
              1,
              "#f0f921"
             ]
            ],
            "type": "surface"
           }
          ],
          "table": [
           {
            "cells": {
             "fill": {
              "color": "#EBF0F8"
             },
             "line": {
              "color": "white"
             }
            },
            "header": {
             "fill": {
              "color": "#C8D4E3"
             },
             "line": {
              "color": "white"
             }
            },
            "type": "table"
           }
          ]
         },
         "layout": {
          "annotationdefaults": {
           "arrowcolor": "#2a3f5f",
           "arrowhead": 0,
           "arrowwidth": 1
          },
          "autotypenumbers": "strict",
          "coloraxis": {
           "colorbar": {
            "outlinewidth": 0,
            "ticks": ""
           }
          },
          "colorscale": {
           "diverging": [
            [
             0,
             "#8e0152"
            ],
            [
             0.1,
             "#c51b7d"
            ],
            [
             0.2,
             "#de77ae"
            ],
            [
             0.3,
             "#f1b6da"
            ],
            [
             0.4,
             "#fde0ef"
            ],
            [
             0.5,
             "#f7f7f7"
            ],
            [
             0.6,
             "#e6f5d0"
            ],
            [
             0.7,
             "#b8e186"
            ],
            [
             0.8,
             "#7fbc41"
            ],
            [
             0.9,
             "#4d9221"
            ],
            [
             1,
             "#276419"
            ]
           ],
           "sequential": [
            [
             0,
             "#0d0887"
            ],
            [
             0.1111111111111111,
             "#46039f"
            ],
            [
             0.2222222222222222,
             "#7201a8"
            ],
            [
             0.3333333333333333,
             "#9c179e"
            ],
            [
             0.4444444444444444,
             "#bd3786"
            ],
            [
             0.5555555555555556,
             "#d8576b"
            ],
            [
             0.6666666666666666,
             "#ed7953"
            ],
            [
             0.7777777777777778,
             "#fb9f3a"
            ],
            [
             0.8888888888888888,
             "#fdca26"
            ],
            [
             1,
             "#f0f921"
            ]
           ],
           "sequentialminus": [
            [
             0,
             "#0d0887"
            ],
            [
             0.1111111111111111,
             "#46039f"
            ],
            [
             0.2222222222222222,
             "#7201a8"
            ],
            [
             0.3333333333333333,
             "#9c179e"
            ],
            [
             0.4444444444444444,
             "#bd3786"
            ],
            [
             0.5555555555555556,
             "#d8576b"
            ],
            [
             0.6666666666666666,
             "#ed7953"
            ],
            [
             0.7777777777777778,
             "#fb9f3a"
            ],
            [
             0.8888888888888888,
             "#fdca26"
            ],
            [
             1,
             "#f0f921"
            ]
           ]
          },
          "colorway": [
           "#636efa",
           "#EF553B",
           "#00cc96",
           "#ab63fa",
           "#FFA15A",
           "#19d3f3",
           "#FF6692",
           "#B6E880",
           "#FF97FF",
           "#FECB52"
          ],
          "font": {
           "color": "#2a3f5f"
          },
          "geo": {
           "bgcolor": "white",
           "lakecolor": "white",
           "landcolor": "#E5ECF6",
           "showlakes": true,
           "showland": true,
           "subunitcolor": "white"
          },
          "hoverlabel": {
           "align": "left"
          },
          "hovermode": "closest",
          "mapbox": {
           "style": "light"
          },
          "paper_bgcolor": "white",
          "plot_bgcolor": "#E5ECF6",
          "polar": {
           "angularaxis": {
            "gridcolor": "white",
            "linecolor": "white",
            "ticks": ""
           },
           "bgcolor": "#E5ECF6",
           "radialaxis": {
            "gridcolor": "white",
            "linecolor": "white",
            "ticks": ""
           }
          },
          "scene": {
           "xaxis": {
            "backgroundcolor": "#E5ECF6",
            "gridcolor": "white",
            "gridwidth": 2,
            "linecolor": "white",
            "showbackground": true,
            "ticks": "",
            "zerolinecolor": "white"
           },
           "yaxis": {
            "backgroundcolor": "#E5ECF6",
            "gridcolor": "white",
            "gridwidth": 2,
            "linecolor": "white",
            "showbackground": true,
            "ticks": "",
            "zerolinecolor": "white"
           },
           "zaxis": {
            "backgroundcolor": "#E5ECF6",
            "gridcolor": "white",
            "gridwidth": 2,
            "linecolor": "white",
            "showbackground": true,
            "ticks": "",
            "zerolinecolor": "white"
           }
          },
          "shapedefaults": {
           "line": {
            "color": "#2a3f5f"
           }
          },
          "ternary": {
           "aaxis": {
            "gridcolor": "white",
            "linecolor": "white",
            "ticks": ""
           },
           "baxis": {
            "gridcolor": "white",
            "linecolor": "white",
            "ticks": ""
           },
           "bgcolor": "#E5ECF6",
           "caxis": {
            "gridcolor": "white",
            "linecolor": "white",
            "ticks": ""
           }
          },
          "title": {
           "x": 0.05
          },
          "xaxis": {
           "automargin": true,
           "gridcolor": "white",
           "linecolor": "white",
           "ticks": "",
           "title": {
            "standoff": 15
           },
           "zerolinecolor": "white",
           "zerolinewidth": 2
          },
          "yaxis": {
           "automargin": true,
           "gridcolor": "white",
           "linecolor": "white",
           "ticks": "",
           "title": {
            "standoff": 15
           },
           "zerolinecolor": "white",
           "zerolinewidth": 2
          }
         }
        },
        "title": {
         "text": "2D PCA with KMeans Cluster Labels"
        },
        "xaxis": {
         "anchor": "y",
         "domain": [
          0,
          1
         ],
         "title": {
          "text": "Principal Component 1 (0.45 variance)"
         }
        },
        "yaxis": {
         "anchor": "x",
         "domain": [
          0,
          1
         ],
         "title": {
          "text": "Principal Component 2 (0.20 variance)"
         }
        }
       }
      }
     },
     "metadata": {},
     "output_type": "display_data"
    }
   ],
   "source": [
    "# 7d. Visualize 2D PCA with cluster Labels\n",
    "if 'cluster_labels_kmeans' in locals() and cluster_labels_kmeans is not None and 'pca_df_rdkit' in locals() and 'explained_variance_ratio_rdkit' in locals():\n",
    "    pca_df_rdkit_clustered = pca_df_rdkit.copy()\n",
    "    pca_df_rdkit_clustered['Cluster'] = cluster_labels_kmeans\n",
    "    # Plotly handles categorical coloring automatically, ensure 'Cluster' column is suitable (e.g., string or category)\n",
    "    pca_df_rdkit_clustered['Cluster'] = pca_df_rdkit_clustered['Cluster'].astype(str)\n",
    "\n",
    "\n",
    "    fig_pca_2d_clustered = plot_scatter_plotly_2d(\n",
    "        df=pca_df_rdkit_clustered,\n",
    "        x_col='Principal Component 1',\n",
    "        y_col='Principal Component 2',\n",
    "        color_col='Cluster',\n",
    "        text_col_data=pca_df_rdkit_clustered.index,\n",
    "        title='2D PCA with KMeans Cluster Labels',\n",
    "        labels_dict={\n",
    "            'Principal Component 1': f'Principal Component 1 ({explained_variance_ratio_rdkit[0]:.2f} variance)',\n",
    "            'Principal Component 2': f'Principal Component 2 ({explained_variance_ratio_rdkit[1]:.2f} variance)',\n",
    "            'Cluster': 'Cluster'\n",
    "        },\n",
    "        marker_size=8,\n",
    "        text_position='top right',\n",
    "        # color_discrete_map can be used here if specific colors are desired for clusters\n",
    "    )\n",
    "    fig_pca_2d_clustered.show()\n",
    "else:\n",
    "    print(\"Skipping 2D PCA with KMeans cluster colors: Prerequisite data not available.\")\n",
    "\n"
   ]
  },
  {
   "cell_type": "code",
   "execution_count": 16,
   "id": "pca-3d-kmeans-colored",
   "metadata": {},
   "outputs": [
    {
     "data": {
      "application/vnd.plotly.v1+json": {
       "config": {
        "plotlyServerURL": "https://plot.ly"
       },
       "data": [
        {
         "hovertemplate": "%{hovertext}<extra></extra>",
         "hovertext": [
          "CCC1=NN2C(O)=C(SC2=N1)C(N1CC(C)OC(C)C1)C1=CC=CC(OC)=C1",
          "CC1=C(Cl)C=CC=C1NC=C1C(C)=C(C#N)C(=O)N(CC2CCCO2)C1=O",
          "OC1=CC=C(C=C2SC(=O)N(CC3=CC=CC=C3C#N)C2=O)C=C1I",
          "CC(C)C1=NC=C(C2=CC(C)=NO2)C(=N1)C1CCC(CNC(=O)C2=C(C)N=CS2)CC1",
          "COC1=C2OC(=CC2=CC=C1)C(=O)C1=C([O-])C(=O)N(C1C1=CC=C(F)C=C1)C1=NOC(C)=C1",
          "CC1=CC=C(C=C1)C1C2C(=O)CC(CC2=NC2=NC=NN12)C1=CC=CO1",
          "O=C(NN=CC1=CNC2=CC=CC=C12)C1=CC(=NC2=CC=CC=C12)C1CC1",
          "COC1=CC=C(C=C1)N1N=C2CS(=O)(=O)CC2=C1NC(=O)C1=C(C)ON=C1C1=CC=CC=C1Cl",
          "COC(=O)C1=CC=C(C=C1)C1C2C(ON1C1=CC=CC=C1)C(=O)N(C2=O)C1=CC=C(OC)C=C1",
          "COC1=CC=C(CN2CCN(CC2)S(=O)(=O)C2=CC=CC=C2)C=C1Br",
          "COC1=CC=CC2=C1OC1=CC=CC=C1N=C2N1CCN(C(C)C1)C(=O)C1=C(F)C=CC=C1F",
          "CC1=CC2=C(N3CCC(CC3)C(=O)N3CCCC3)C(=CN=C2C=C1)C#N",
          "CC(C)CN1N=C(C)C(CCC(=O)N2CCCCCC2C2=CC=CN2C)=C1C",
          "ClC1=CC=C(C=C1)C(=O)C[NH+]1CCC(CC1)C1=NN=C(O1)C1=CC=CO1",
          "CC(=O)C1=NC2=CC=CC=C2N1CC1CCCCN1C(=O)OCC1=CC=CC=C1",
          "CC1=CC(C=NNC(=O)C(=O)NC2=CC=C(Cl)C(Cl)=C2)=C(C)N1C1=CC=CC(Cl)=C1"
         ],
         "legendgroup": "4",
         "marker": {
          "color": "#636efa",
          "size": 8,
          "symbol": "circle"
         },
         "mode": "markers",
         "name": "4",
         "scene": "scene",
         "showlegend": true,
         "type": "scatter3d",
         "x": {
          "bdata": "fAQRMEs1B0CnoCuG+Mz6P82wA1t5ZAFA27cSnOEHEEDTqhOojgQTQM/4HGSIcgJAmBRIzY+2+j8U+NZrepQWQGrx16JtgRJAIbR/zUgA8j/7rMVg16EPQNiApmuuzfI/M95icrb99T97/Mmi+/j5PxfmFmjtvQNAx/CQVtRbBEA=",
          "dtype": "f8"
         },
         "y": {
          "bdata": "J+xm29nCyL9pPA++m52uv0r1EIV2l9M/iOyJinSF3D8VhV9f88eGv98G/iGPneI/3WIROMGx4z/gjqx9/KLhvwqxyZCwwOQ/vsTpHWe+9z96SaM5768BQIvmcwKV7vA/9qUAOGWcA0DS0f+IbR6Yv1FwKBf11/o/bxs2YFzu5j8=",
          "dtype": "f8"
         },
         "z": {
          "bdata": "4xTTR3iA0L+7q/PlMjHUvww2YcQVneW/ySmHy82F6j8nz1eSFLDjv6KlI5y0CAbAS5ms1NiB079XHFpaMsCzP04chxPHMOS/aer2fwXX1L9WPhB+pqIAwFTo6DzuDwPAwZ5w1uQe2j/KfTeaFV7Qv6bq7fjl59u/aFcrnDfo5j8=",
          "dtype": "f8"
         }
        },
        {
         "hovertemplate": "%{hovertext}<extra></extra>",
         "hovertext": [
          "CCC1=CC=C(OCC(=O)NC2=CC=C(C)C=C2O)C=C1",
          "CC1=CC(C)=NC(NNS(=O)(=O)C2=CC=C(Cl)C=C2F)=N1",
          "CCC([NH2+]CC1=CNC=C1)C1=CC=CC=C1OC(F)F",
          "COC1=CC=C(NC(=O)NCC2CN3CCCCC3CO2)C=C1F",
          "ClC1=CC=C(C=NNC(=O)C(=O)NCC2=CC=CC=N2)C=C1",
          "COC1=CC(C)=CC=C1NCC(=O)NCCC1=CC=CC=C1C",
          "COC(=O)C1=CC=C(NC(=O)C2CCCC(C)C2)C(O)=C1",
          "CCOC1=CC=CC=C1C=CC(=O)NCC(C)(O)C1=CC=C(F)C=C1",
          "O=C(CCC1=NC2=CC=CC=C2C(=O)N1)NC1CCC2=CC=CC=C12",
          "OC(C(=O)NC1=CC=CC(CS(=O)C2=CC=CC=C2)=C1)C1=CC=CC=C1",
          "COC(=O)C1=CC=CC(CCNC(=O)NC2=CC(F)=CC=C2C)=C1",
          "CC1=C(N=C(NC(=O)C2CCC(=O)O2)S1)C1=CC=C(C)C=C1",
          "CCC(CC)OC1=CC=C(C=C1)C1(C)NC(=O)NC1=O",
          "CC1=CC=C(C=C1)C1=NNC=C1CN1CCC(C1)[NH+]1CCCC1",
          "CN(CC1=NN=C(C)N1C)C(=O)NCC1=CC=C(F)C(Cl)=C1",
          "ClC1=CC=CN=C1NNC(=O)C1=CC=C(OC2CCC2)C=C1Cl",
          "CCCC1=CC=C(C=C1)C(=O)NC(CO)CC1=CNC2=CC=CC=C12",
          "[O-]C(=O)C1C[NH+](CC1C1CC1)C1CCN(CC1)C(=O)C1=CC=CC=C1",
          "CNC(=O)C1=CC=CC=C1NC(=O)CN(C)C(=O)C1=CC=CS1",
          "COC1=CC(CNC(=O)C2=C(Br)C=CO2)=CC=N1",
          "O=C(CC1OCCC2=CC=CC=C12)NNC(=O)CC1=CC=NC=C1"
         ],
         "legendgroup": "3",
         "marker": {
          "color": "#EF553B",
          "size": 8,
          "symbol": "circle"
         },
         "mode": "markers",
         "name": "3",
         "scene": "scene",
         "showlegend": true,
         "type": "scatter3d",
         "x": {
          "bdata": "z3hjD7dT87+gIfcWpZDMv+6Wl5nc8gDAR4kqeAyfrD9yw9WBJPzivz5f7VxRv+u/huDzY+v66L/0T9qTF3XMv/XTN/BA4+I/v2rjXfxD5T99aXFpFq7Wv0+A4FvdQs4/qiqIdMxA97+NAh333XXqv7K9Aa07j+G/D6dQcAKL3D+3b8teozG3v4oaOQfHR6w/IrUKxQQu1r8MmCJJYYzxv7uXbdyO57M/",
          "dtype": "f8"
         },
         "y": {
          "bdata": "Dfa/94FDrD9juZt454X3vxvxiQTWK+o/8XVZOi7m4r8ehIpQJzP5vxftGBnnwNs/HiY1nRRS7L9TlfNC6UvZP4Y/Hgs5Odq/4nCVFuUE2z8lDFiKZUeiv1ZECIFZB76/qNnJXWhQ5L9q/7NFw5fMP5YMfkF0icC/luss9bO31D9jXT1xQaJ4v9UljkYU3+2/qYT96ODX8r9/d295qfHKvxNk38TTCPa/",
          "dtype": "f8"
         },
         "z": {
          "bdata": "CYIdnoyw5j/emNXdPdaxP7uzBWls3/w/FXtsVPzPwr9Lta8cMfSpP5IDRZrwP/4/GN6hjSpD3L/+WhGkEo4AQJz1ySBWH9K/58lQrP6L9T/a0YejUMPtPxJ16PBbHfS/OR4OCRI54j9H1iMsrZTiv2SxW542L9q/rALrD+CG5D85PT/+CMsCQP5/Uyq51/K/FyK3ex8l5j97WoczTnLhv4lCFkJdHcq/",
          "dtype": "f8"
         }
        },
        {
         "hovertemplate": "%{hovertext}<extra></extra>",
         "hovertext": [
          "CC1=CN=C(CN2CCN(CC2)C2=NC=CC=C2F)C=N1",
          "CC(C)C1=NN=C2SCC(=NN12)C1=CC2=CC=CC=C2O1",
          "COC1=CC(C=CC)=CC=C1OCC(=O)NC1CCC(C1)SC",
          "FC1=CC=C(F)C(CCCC(=O)N2CCCC(C[NH+]3CCCCCC3)C2)=C1",
          "COCCC(=O)NC(C)CC1=C(Cl)C=CC=C1Cl",
          "CCC1(CNC(=O)C2=C(N=CS2)C2CC2)CCC1",
          "CCC(N(C)S(=O)(=O)C1=CC=C(C=C1C)C#N)C1=CC=NC=C1",
          "CC[NH2+]C(C)C1=CC=NC(OC2=CN=CC(Br)=C2)=C1",
          "BrC1=CC=C(C=N1)C(=O)NCC1=CC=CC2=CC=CC=C12",
          "COC1=CC=CC(Cl)=C1CN(C)C(C)CC#N",
          "COC1=CC=C(CCC(C)NC(=O)C2=NC=CC=C2C(F)(F)F)C=C1",
          "CCN1C=C(CC(=O)N2CCS(=O)C(C)(C)C2)C2=CC=CC=C12",
          "FC1=CC=C(CN2CCN(CC(=O)NCC3=CC=CS3)C2=O)C(Cl)=C1",
          "C(CSC1=NC=NC2=CC=CC=C12)SC1=CC=CC=C1",
          "CCC[NH+]1CCC(CC1)N(C)CC1=C(C)N(C2CC2)C(C)=C1",
          "CC(O)C1=CC=C(C)C=C1OCC1=NC(=CS1)C(C)(C)C",
          "CCOC1=CC=CC=C1C[NH2+]C(CC)C1=CC=CC=C1",
          "CC1=CC=C(C=C1)C(CNC(=O)N1CCC(C)(C)C1)N1CCOCC1",
          "CN(C1CCN(CC1)C1=CC=[NH+]C2=CC(F)=CC=C12)C(C)=O",
          "CCN(CC1=CC=CC(NC(=O)C2CC(C)OC(C)C2)=C1)C(C)=O",
          "CCC(CC)N(C)CC1=C(F)C=CC=C1[N+]([O-])=O",
          "CC1CSC(SCC2=C(F)C=CC=C2[N+]([O-])=O)=N1",
          "CCCCN(C)C(=O)CC1=CC=CC2=CC=CC=C12",
          "CCC[NH2+]C(CC#CC)C1(CCCCCC1)N(C)C",
          "CC([NH2+]CC1=C(C)N(CC2=CC=C(C)C=C2)N=C1C)C1=CC=C(Cl)C=C1"
         ],
         "legendgroup": "0",
         "marker": {
          "color": "#00cc96",
          "size": 8,
          "symbol": "circle"
         },
         "mode": "markers",
         "name": "0",
         "scene": "scene",
         "showlegend": true,
         "type": "scatter3d",
         "x": {
          "bdata": "W/Kl27Vw47+xMmPl4T7kP2U/8xnKrNG/K7xyVHRsyL/3ef89xeACwBLljOKPwva/YXrn/RpbsD/YFBqSD5Tzv9yQJwosYuO/yyPzYg3HA8DrItNqIomiv5brB9PZWdW/t3G5yf2/3z9Z86n9g/Lhv24LiBd6cfe/E1UsNhh657/HXcuXP8kBwL9N1N4gW5G/n+p/P8Bc8b/mCy1dJ73Wv+n30Eib7gDAFXws2M8/7L9Bm8RJ6SkDwG6GbE0KqgjAZZAlKsnkzj8=",
          "dtype": "f8"
         },
         "y": {
          "bdata": "dxexyOj81T8+5dqcdbbmP4B/Hg+g5vE/Yid4AddmAUBp5F1IplPzP/rr8cVK/fA/jyKulKpG5D9BA99VeAviP2ao2darYvg/bhLMGM+39z8f8aRh/6X1P9woI+GIN/U/Guj128ug8T8bprt3MtUDQHvL323Vdvw/qjrjZR6S9D/P2jUgG83/P1fdzz0U9e0/D0OFE7RG9T/vvVSRwmHnP20xs41XWPc/2MQR17Mj6D8TCjJV6hoFQG7lbidkrPg/JeY7QMhtAkA=",
          "dtype": "f8"
         },
         "z": {
          "bdata": "FyI6LFXdAMD/xxTGoRoGwGl9NXm9m/Y/2b0Di0UU6j9P8HVBUznvPz6Bt5kvatO/1dGADKypx7/ucsCbjo3AP8J1QHZxQfC/SV2rO91H0b9kdV1NkT7xP450AQrmV/u/vMEImntr5z9gO/YmNbrkv7r/qenxwtM/6tosRN7O0r97jGA/VoH0Pyioj5cFs+C/Xu42sgXPAsBJMjA9hATZP4DFrQo119g/lKnuAq75+b8awppDdQHYvwgne+eP9us/eveHk+uL7D8=",
          "dtype": "f8"
         }
        },
        {
         "hovertemplate": "%{hovertext}<extra></extra>",
         "hovertext": [
          "CNC1=CC=C2N=C(NC2=N1)C1(C)CC[NH2+]CC1",
          "COC1=CC(=CC=C1O)C(C)NC1CC[NH+](C)CC1",
          "COC(=O)C1CC([NH3+])CN(C1)C(=O)OCC1=CC=CC=C1",
          "CC1=CC=C(N2C=C(N=N2)C(=S)N2CCOCC2)C(O)=C1",
          "CCC1=CC=C(C[NH+]2CCCC(C2)N2CCCC2=O)O1",
          "CN(CC1=COC=C1)C1(C[NH3+])CC(C)(C)OC1(C)C",
          "CC1(C[NH+]=C(N)N1CC1CCCO1)C1=CN=CC=N1",
          "CCC1=NOC(=N1)C1=CC=C(C[NH3+])C=C1",
          "CCCCOC(=O)C(C)([NH3+])CC",
          "CC1=CC(F)=CC=C1C(O)C1(C[NH3+])CCOCC1",
          "CCC[NH+](CCC)CC1=CC=C(O)C(N)=C1",
          "COC1CCCC1NC(=O)C1=CC=NC=C1C#CCO",
          "COC(=O)CC(C)(C[NH3+])C1=CC(F)=C(C)C=C1F",
          "CC1CN(CC1C)C(=O)NCC1CCC(O1)C([O-])=O",
          "CC1=CC=C(C[NH2+]C(C)(C)CO)C(C)=C1",
          "O=C(CC1CCCCO1)NCCCCC#N"
         ],
         "legendgroup": "2",
         "marker": {
          "color": "#ab63fa",
          "size": 8,
          "symbol": "circle"
         },
         "mode": "markers",
         "name": "2",
         "scene": "scene",
         "showlegend": true,
         "type": "scatter3d",
         "x": {
          "bdata": "0Qc1aonz/78Bi2K/WH0DwAQj+3LC/e+/066L0O1rx7/NY1CaNnr9vwl68+LG7P2/+1I/Kuln9r/7RGrOUGgGwJoATO/fqhLAc/rP0YkXBMCCGHaWo6QMwBTnUvuRaPi/0dpIWeUgBsAH8/coWez5v6Zz7NxEuxDAM5pkfqRjBsA=",
          "dtype": "f8"
         },
         "y": {
          "bdata": "N9RRDa6FAsCdaLIoWA34v7KSy9fY5fm/kbUtH7S48b9zoGXuj+3SP5ZxlOz4nbq/QMY3G6y9CMAohQiKUJbvv5YWItL1QOa/GSbllX6Y7b/4ONJfwRn0v+8J6FGnC/2/2Vol2+1EyL+bL3uQMToAwISMhCRY8Ne/6rdrXH5I1L8=",
          "dtype": "f8"
         },
         "z": {
          "bdata": "H1pBaTnk879HZsbc+PvIP0/k32CNjvO/v7bE9+FhAcBjUzNcjwPwv9FSuKF6VuW/YdJ2LbGx979zcbx4Q0L4v4lJ6QjuvbE/+dMl0uYv6L+Ne3U58lf5P/runuU+eOm/FXlDRBKF17+K0qpnYiP3v4K/zluElrS/cZ57o13k4z8=",
          "dtype": "f8"
         }
        },
        {
         "hovertemplate": "%{hovertext}<extra></extra>",
         "hovertext": [
          "CC(N(C)C(=O)NC1=CN=C2N(C)C(=O)N(C)C(=O)C2=C1)C1=CC=CC=C1",
          "CC1=CC(=O)NC(NN=CC2=C(Cl)N=C3C=CC=CN3C2=O)=N1",
          "CCC1=NSC(NC2=CC=C(NC(=O)C3CCCO3)C=C2)=N1",
          "CCCCNC(=O)CC1=C(C)N2N=C(SC)N=C2N=C1C",
          "CCC(NNC(=O)C1=CC(OC)=C(OC)C(OC)=C1)=C1C=CC(=O)C=C1",
          "COC(=O)C1=CC=C(OC)C=C1OCC(=O)NC1=CC=C(F)C(F)=C1",
          "CCCC1=CC(=NO1)C1CCCN1S(=O)(=O)C1=CC=C(OC)C(OC)=C1",
          "COC1=CC=CC(=C1)N1CC(CC1=O)C(=O)NCCNC(=O)C1=CC=CO1",
          "CN1N=C(C)C(=C1NC1CCOC1C1=CC=C(Cl)C=C1)[N+]([O-])=O",
          "FC1=CC=CC(F)=C1C=CC(=O)NNC(=O)CN1N=NC(=N1)C1=CC=CC=C1",
          "[O-][N+](=O)C1=CC=C(NN=C(C2=CC=CC=C2)C2=CC=NC=C2)C(=C1)[N+]([O-])=O",
          "COC1=CC=C(CCNC(=O)C2CN(C2)C(=O)C2=NOC(C)=C2)C=C1OC",
          "CC1=CC=CC(NC(=O)NC2=CC=C3N=C(NS(C)(=O)=O)SC3=C2)=C1",
          "FC(F)(F)C1=NN=C(SCC(=O)NC2=CC=CC=C2C#N)N1CC=C",
          "COC(=O)C1=C(C)NC(C(=O)NCC(N(C)C)C2=C(F)C=CC=C2Cl)=C1C",
          "COCC1=CC(C)=NC(OCC(=O)NN=CC2=CC=CC(F)=C2)=C1C#N",
          "FC1=CC=CC=C1OCCCNC1=NN=NN1C1=CC=CC=C1",
          "CN(CC(O)CN1CCOCC1)CC1=NOC(=N1)C(C)(C)C",
          "FC(F)(F)C1=CC=C(CCNC(=O)NCC2=CC=C(N=C2)N2C=CN=C2)C=C1",
          "COCCNS(=O)(=O)C1=CC=CC(=C1)C(=O)N(C)C1CCCC(C)C1",
          "O=C(NCC1OCCN1S(=O)(=O)C1=CC=CS1)C(=O)NCC1=CC=NC=C1",
          "CC(N1C(CCNC(=O)C2=CC=CC=C2Cl)=NC2=CC=CC=C12)C(C)=O"
         ],
         "legendgroup": "1",
         "marker": {
          "color": "#FFA15A",
          "size": 8,
          "symbol": "circle"
         },
         "mode": "markers",
         "name": "1",
         "scene": "scene",
         "showlegend": true,
         "type": "scatter3d",
         "x": {
          "bdata": "1jMZYjvc+D8ztHhBJIzvP6LF4+zUyt8/s1PN7tXozb9qUltQiR7uP8E5qb4dpOE/5V8kGbt2/j9QANEjS7n1PzBrIG60O/A/XSjS1cBt/T9OTm1n4ZQFQHldN7wO4fo/hWcXg2LF9j/Vp6yBFurxPwpRfsBMU+w/qulSksa48j/+j7mgo9TgP4uHD5Vdj7O/BeNLFRWD9T/DRXjsXjbaP7d3D070BwFAKjrrPljj8D8=",
          "dtype": "f8"
         },
         "y": {
          "bdata": "g1zH4cYt87/Nq8fA+1UGwKF/iuHclu6/KQxw1bh36L/Rkye6Qgj0vzZYvlad6bW/g4RGNotJ4D8fDiMR8hL9v2/nUwlWp9y/J85UeRJSAMC0GgjGaVzyvyqG8lrqQfK/oCs7YE2B+b+GtJ8EwA7XvwDHJAN+0MW/sbuwtBi/8L9phsU/H0ebv+C3PgaSI/q/tGB3hG3Rkz80iAW9BBKrvyR57d68tgnA15v3HhAv7j8=",
          "dtype": "f8"
         },
         "z": {
          "bdata": "v+2/2Fgy8r9SW3Fbf+vtv63soKvCy9M//VLhcew+3z/Dv7zSpID+P1hEOXyBUOw/5Wj16xMD5z8jIW0ICAD6P9/M0JurBuS/dMkyKFFe4T/ILfnZo8fpP8Uck6caC/E/EEnPW0OK5j87dPwJqovtPy3jVvcUxfo/SJZFkQiC9j/8DDKm0rjrP8vQB7Yi+NI/LX2cBc7r9T/UTclSW9P3P7Jiu4OBeu0/C1bx4bx06T8=",
          "dtype": "f8"
         }
        }
       ],
       "layout": {
        "legend": {
         "title": {
          "text": "Cluster"
         },
         "tracegroupgap": 0
        },
        "scene": {
         "domain": {
          "x": [
           0,
           1
          ],
          "y": [
           0,
           1
          ]
         },
         "xaxis": {
          "title": {
           "text": "PC 1 (0.45 var)"
          }
         },
         "yaxis": {
          "title": {
           "text": "PC 2 (0.20 var)"
          }
         },
         "zaxis": {
          "title": {
           "text": "PC 3 (0.16 var)"
          }
         }
        },
        "template": {
         "data": {
          "bar": [
           {
            "error_x": {
             "color": "#2a3f5f"
            },
            "error_y": {
             "color": "#2a3f5f"
            },
            "marker": {
             "line": {
              "color": "#E5ECF6",
              "width": 0.5
             },
             "pattern": {
              "fillmode": "overlay",
              "size": 10,
              "solidity": 0.2
             }
            },
            "type": "bar"
           }
          ],
          "barpolar": [
           {
            "marker": {
             "line": {
              "color": "#E5ECF6",
              "width": 0.5
             },
             "pattern": {
              "fillmode": "overlay",
              "size": 10,
              "solidity": 0.2
             }
            },
            "type": "barpolar"
           }
          ],
          "carpet": [
           {
            "aaxis": {
             "endlinecolor": "#2a3f5f",
             "gridcolor": "white",
             "linecolor": "white",
             "minorgridcolor": "white",
             "startlinecolor": "#2a3f5f"
            },
            "baxis": {
             "endlinecolor": "#2a3f5f",
             "gridcolor": "white",
             "linecolor": "white",
             "minorgridcolor": "white",
             "startlinecolor": "#2a3f5f"
            },
            "type": "carpet"
           }
          ],
          "choropleth": [
           {
            "colorbar": {
             "outlinewidth": 0,
             "ticks": ""
            },
            "type": "choropleth"
           }
          ],
          "contour": [
           {
            "colorbar": {
             "outlinewidth": 0,
             "ticks": ""
            },
            "colorscale": [
             [
              0,
              "#0d0887"
             ],
             [
              0.1111111111111111,
              "#46039f"
             ],
             [
              0.2222222222222222,
              "#7201a8"
             ],
             [
              0.3333333333333333,
              "#9c179e"
             ],
             [
              0.4444444444444444,
              "#bd3786"
             ],
             [
              0.5555555555555556,
              "#d8576b"
             ],
             [
              0.6666666666666666,
              "#ed7953"
             ],
             [
              0.7777777777777778,
              "#fb9f3a"
             ],
             [
              0.8888888888888888,
              "#fdca26"
             ],
             [
              1,
              "#f0f921"
             ]
            ],
            "type": "contour"
           }
          ],
          "contourcarpet": [
           {
            "colorbar": {
             "outlinewidth": 0,
             "ticks": ""
            },
            "type": "contourcarpet"
           }
          ],
          "heatmap": [
           {
            "colorbar": {
             "outlinewidth": 0,
             "ticks": ""
            },
            "colorscale": [
             [
              0,
              "#0d0887"
             ],
             [
              0.1111111111111111,
              "#46039f"
             ],
             [
              0.2222222222222222,
              "#7201a8"
             ],
             [
              0.3333333333333333,
              "#9c179e"
             ],
             [
              0.4444444444444444,
              "#bd3786"
             ],
             [
              0.5555555555555556,
              "#d8576b"
             ],
             [
              0.6666666666666666,
              "#ed7953"
             ],
             [
              0.7777777777777778,
              "#fb9f3a"
             ],
             [
              0.8888888888888888,
              "#fdca26"
             ],
             [
              1,
              "#f0f921"
             ]
            ],
            "type": "heatmap"
           }
          ],
          "histogram": [
           {
            "marker": {
             "pattern": {
              "fillmode": "overlay",
              "size": 10,
              "solidity": 0.2
             }
            },
            "type": "histogram"
           }
          ],
          "histogram2d": [
           {
            "colorbar": {
             "outlinewidth": 0,
             "ticks": ""
            },
            "colorscale": [
             [
              0,
              "#0d0887"
             ],
             [
              0.1111111111111111,
              "#46039f"
             ],
             [
              0.2222222222222222,
              "#7201a8"
             ],
             [
              0.3333333333333333,
              "#9c179e"
             ],
             [
              0.4444444444444444,
              "#bd3786"
             ],
             [
              0.5555555555555556,
              "#d8576b"
             ],
             [
              0.6666666666666666,
              "#ed7953"
             ],
             [
              0.7777777777777778,
              "#fb9f3a"
             ],
             [
              0.8888888888888888,
              "#fdca26"
             ],
             [
              1,
              "#f0f921"
             ]
            ],
            "type": "histogram2d"
           }
          ],
          "histogram2dcontour": [
           {
            "colorbar": {
             "outlinewidth": 0,
             "ticks": ""
            },
            "colorscale": [
             [
              0,
              "#0d0887"
             ],
             [
              0.1111111111111111,
              "#46039f"
             ],
             [
              0.2222222222222222,
              "#7201a8"
             ],
             [
              0.3333333333333333,
              "#9c179e"
             ],
             [
              0.4444444444444444,
              "#bd3786"
             ],
             [
              0.5555555555555556,
              "#d8576b"
             ],
             [
              0.6666666666666666,
              "#ed7953"
             ],
             [
              0.7777777777777778,
              "#fb9f3a"
             ],
             [
              0.8888888888888888,
              "#fdca26"
             ],
             [
              1,
              "#f0f921"
             ]
            ],
            "type": "histogram2dcontour"
           }
          ],
          "mesh3d": [
           {
            "colorbar": {
             "outlinewidth": 0,
             "ticks": ""
            },
            "type": "mesh3d"
           }
          ],
          "parcoords": [
           {
            "line": {
             "colorbar": {
              "outlinewidth": 0,
              "ticks": ""
             }
            },
            "type": "parcoords"
           }
          ],
          "pie": [
           {
            "automargin": true,
            "type": "pie"
           }
          ],
          "scatter": [
           {
            "fillpattern": {
             "fillmode": "overlay",
             "size": 10,
             "solidity": 0.2
            },
            "type": "scatter"
           }
          ],
          "scatter3d": [
           {
            "line": {
             "colorbar": {
              "outlinewidth": 0,
              "ticks": ""
             }
            },
            "marker": {
             "colorbar": {
              "outlinewidth": 0,
              "ticks": ""
             }
            },
            "type": "scatter3d"
           }
          ],
          "scattercarpet": [
           {
            "marker": {
             "colorbar": {
              "outlinewidth": 0,
              "ticks": ""
             }
            },
            "type": "scattercarpet"
           }
          ],
          "scattergeo": [
           {
            "marker": {
             "colorbar": {
              "outlinewidth": 0,
              "ticks": ""
             }
            },
            "type": "scattergeo"
           }
          ],
          "scattergl": [
           {
            "marker": {
             "colorbar": {
              "outlinewidth": 0,
              "ticks": ""
             }
            },
            "type": "scattergl"
           }
          ],
          "scattermap": [
           {
            "marker": {
             "colorbar": {
              "outlinewidth": 0,
              "ticks": ""
             }
            },
            "type": "scattermap"
           }
          ],
          "scattermapbox": [
           {
            "marker": {
             "colorbar": {
              "outlinewidth": 0,
              "ticks": ""
             }
            },
            "type": "scattermapbox"
           }
          ],
          "scatterpolar": [
           {
            "marker": {
             "colorbar": {
              "outlinewidth": 0,
              "ticks": ""
             }
            },
            "type": "scatterpolar"
           }
          ],
          "scatterpolargl": [
           {
            "marker": {
             "colorbar": {
              "outlinewidth": 0,
              "ticks": ""
             }
            },
            "type": "scatterpolargl"
           }
          ],
          "scatterternary": [
           {
            "marker": {
             "colorbar": {
              "outlinewidth": 0,
              "ticks": ""
             }
            },
            "type": "scatterternary"
           }
          ],
          "surface": [
           {
            "colorbar": {
             "outlinewidth": 0,
             "ticks": ""
            },
            "colorscale": [
             [
              0,
              "#0d0887"
             ],
             [
              0.1111111111111111,
              "#46039f"
             ],
             [
              0.2222222222222222,
              "#7201a8"
             ],
             [
              0.3333333333333333,
              "#9c179e"
             ],
             [
              0.4444444444444444,
              "#bd3786"
             ],
             [
              0.5555555555555556,
              "#d8576b"
             ],
             [
              0.6666666666666666,
              "#ed7953"
             ],
             [
              0.7777777777777778,
              "#fb9f3a"
             ],
             [
              0.8888888888888888,
              "#fdca26"
             ],
             [
              1,
              "#f0f921"
             ]
            ],
            "type": "surface"
           }
          ],
          "table": [
           {
            "cells": {
             "fill": {
              "color": "#EBF0F8"
             },
             "line": {
              "color": "white"
             }
            },
            "header": {
             "fill": {
              "color": "#C8D4E3"
             },
             "line": {
              "color": "white"
             }
            },
            "type": "table"
           }
          ]
         },
         "layout": {
          "annotationdefaults": {
           "arrowcolor": "#2a3f5f",
           "arrowhead": 0,
           "arrowwidth": 1
          },
          "autotypenumbers": "strict",
          "coloraxis": {
           "colorbar": {
            "outlinewidth": 0,
            "ticks": ""
           }
          },
          "colorscale": {
           "diverging": [
            [
             0,
             "#8e0152"
            ],
            [
             0.1,
             "#c51b7d"
            ],
            [
             0.2,
             "#de77ae"
            ],
            [
             0.3,
             "#f1b6da"
            ],
            [
             0.4,
             "#fde0ef"
            ],
            [
             0.5,
             "#f7f7f7"
            ],
            [
             0.6,
             "#e6f5d0"
            ],
            [
             0.7,
             "#b8e186"
            ],
            [
             0.8,
             "#7fbc41"
            ],
            [
             0.9,
             "#4d9221"
            ],
            [
             1,
             "#276419"
            ]
           ],
           "sequential": [
            [
             0,
             "#0d0887"
            ],
            [
             0.1111111111111111,
             "#46039f"
            ],
            [
             0.2222222222222222,
             "#7201a8"
            ],
            [
             0.3333333333333333,
             "#9c179e"
            ],
            [
             0.4444444444444444,
             "#bd3786"
            ],
            [
             0.5555555555555556,
             "#d8576b"
            ],
            [
             0.6666666666666666,
             "#ed7953"
            ],
            [
             0.7777777777777778,
             "#fb9f3a"
            ],
            [
             0.8888888888888888,
             "#fdca26"
            ],
            [
             1,
             "#f0f921"
            ]
           ],
           "sequentialminus": [
            [
             0,
             "#0d0887"
            ],
            [
             0.1111111111111111,
             "#46039f"
            ],
            [
             0.2222222222222222,
             "#7201a8"
            ],
            [
             0.3333333333333333,
             "#9c179e"
            ],
            [
             0.4444444444444444,
             "#bd3786"
            ],
            [
             0.5555555555555556,
             "#d8576b"
            ],
            [
             0.6666666666666666,
             "#ed7953"
            ],
            [
             0.7777777777777778,
             "#fb9f3a"
            ],
            [
             0.8888888888888888,
             "#fdca26"
            ],
            [
             1,
             "#f0f921"
            ]
           ]
          },
          "colorway": [
           "#636efa",
           "#EF553B",
           "#00cc96",
           "#ab63fa",
           "#FFA15A",
           "#19d3f3",
           "#FF6692",
           "#B6E880",
           "#FF97FF",
           "#FECB52"
          ],
          "font": {
           "color": "#2a3f5f"
          },
          "geo": {
           "bgcolor": "white",
           "lakecolor": "white",
           "landcolor": "#E5ECF6",
           "showlakes": true,
           "showland": true,
           "subunitcolor": "white"
          },
          "hoverlabel": {
           "align": "left"
          },
          "hovermode": "closest",
          "mapbox": {
           "style": "light"
          },
          "paper_bgcolor": "white",
          "plot_bgcolor": "#E5ECF6",
          "polar": {
           "angularaxis": {
            "gridcolor": "white",
            "linecolor": "white",
            "ticks": ""
           },
           "bgcolor": "#E5ECF6",
           "radialaxis": {
            "gridcolor": "white",
            "linecolor": "white",
            "ticks": ""
           }
          },
          "scene": {
           "xaxis": {
            "backgroundcolor": "#E5ECF6",
            "gridcolor": "white",
            "gridwidth": 2,
            "linecolor": "white",
            "showbackground": true,
            "ticks": "",
            "zerolinecolor": "white"
           },
           "yaxis": {
            "backgroundcolor": "#E5ECF6",
            "gridcolor": "white",
            "gridwidth": 2,
            "linecolor": "white",
            "showbackground": true,
            "ticks": "",
            "zerolinecolor": "white"
           },
           "zaxis": {
            "backgroundcolor": "#E5ECF6",
            "gridcolor": "white",
            "gridwidth": 2,
            "linecolor": "white",
            "showbackground": true,
            "ticks": "",
            "zerolinecolor": "white"
           }
          },
          "shapedefaults": {
           "line": {
            "color": "#2a3f5f"
           }
          },
          "ternary": {
           "aaxis": {
            "gridcolor": "white",
            "linecolor": "white",
            "ticks": ""
           },
           "baxis": {
            "gridcolor": "white",
            "linecolor": "white",
            "ticks": ""
           },
           "bgcolor": "#E5ECF6",
           "caxis": {
            "gridcolor": "white",
            "linecolor": "white",
            "ticks": ""
           }
          },
          "title": {
           "x": 0.05
          },
          "xaxis": {
           "automargin": true,
           "gridcolor": "white",
           "linecolor": "white",
           "ticks": "",
           "title": {
            "standoff": 15
           },
           "zerolinecolor": "white",
           "zerolinewidth": 2
          },
          "yaxis": {
           "automargin": true,
           "gridcolor": "white",
           "linecolor": "white",
           "ticks": "",
           "title": {
            "standoff": 15
           },
           "zerolinecolor": "white",
           "zerolinewidth": 2
          }
         }
        },
        "title": {
         "text": "3D PCA with KMeans Cluster Labels"
        }
       }
      }
     },
     "metadata": {},
     "output_type": "display_data"
    }
   ],
   "source": [
    "# 7e. Visualize 3D PCA with cluster Labels\n",
    "if 'cluster_labels_kmeans' in locals() and cluster_labels_kmeans is not None and 'pca_df_3d' in locals() and 'explained_variance_ratio_3d' in locals():\n",
    "    pca_df_3d_clustered = pca_df_3d.copy()\n",
    "    pca_df_3d_clustered['Cluster'] = cluster_labels_kmeans\n",
    "    # Plotly handles categorical coloring automatically, ensure 'Cluster' column is suitable\n",
    "    pca_df_3d_clustered['Cluster'] = pca_df_3d_clustered['Cluster'].astype(str)\n",
    "\n",
    "    fig_pca_3d_clustered = plot_scatter_plotly_3d(\n",
    "        df=pca_df_3d_clustered,\n",
    "        x_col='Principal Component 1',\n",
    "        y_col='Principal Component 2',\n",
    "        z_col='Principal Component 3',\n",
    "        color_col='Cluster',\n",
    "        text_col_data=pca_df_3d_clustered.index,\n",
    "        title='3D PCA with KMeans Cluster Labels',\n",
    "        scene_labels={\n",
    "            'Principal Component 1': f'PC 1 ({explained_variance_ratio_3d[0]:.2f} var)',\n",
    "            'Principal Component 2': f'PC 2 ({explained_variance_ratio_3d[1]:.2f} var)',\n",
    "            'Principal Component 3': f'PC 3 ({explained_variance_ratio_3d[2]:.2f} var)',\n",
    "            'Cluster': 'Cluster'\n",
    "        },\n",
    "        marker_size=8,\n",
    "        text_position='top right',\n",
    "        # color_discrete_map can be used here\n",
    "    )\n",
    "    fig_pca_3d_clustered.show()\n",
    "else:\n",
    "    print(\"Skipping 3D PCA with KMeans cluster colors: Prerequisite data not available.\")\n"
   ]
  },
  {
   "cell_type": "code",
   "execution_count": 17,
   "id": "b6caf3d0",
   "metadata": {},
   "outputs": [
    {
     "data": {
      "application/vnd.plotly.v1+json": {
       "config": {
        "plotlyServerURL": "https://plot.ly"
       },
       "data": [
        {
         "hovertemplate": "%{hovertext}<extra></extra>",
         "hovertext": [
          "CCC1=NN2C(O)=C(SC2=N1)C(N1CC(C)OC(C)C1)C1=CC=CC(OC)=C1",
          "CCC1=CC=C(OCC(=O)NC2=CC=C(C)C=C2O)C=C1",
          "CC1=CN=C(CN2CCN(CC2)C2=NC=CC=C2F)C=N1",
          "CC(C)C1=NN=C2SCC(=NN12)C1=CC2=CC=CC=C2O1",
          "CNC1=CC=C2N=C(NC2=N1)C1(C)CC[NH2+]CC1",
          "COC1=CC(C=CC)=CC=C1OCC(=O)NC1CCC(C1)SC",
          "CC(N(C)C(=O)NC1=CN=C2N(C)C(=O)N(C)C(=O)C2=C1)C1=CC=CC=C1",
          "COC1=CC(=CC=C1O)C(C)NC1CC[NH+](C)CC1",
          "COC(=O)C1CC([NH3+])CN(C1)C(=O)OCC1=CC=CC=C1",
          "CC1=C(Cl)C=CC=C1NC=C1C(C)=C(C#N)C(=O)N(CC2CCCO2)C1=O",
          "FC1=CC=C(F)C(CCCC(=O)N2CCCC(C[NH+]3CCCCCC3)C2)=C1",
          "CC1=CC(=O)NC(NN=CC2=C(Cl)N=C3C=CC=CN3C2=O)=N1",
          "COCCC(=O)NC(C)CC1=C(Cl)C=CC=C1Cl",
          "CCC1(CNC(=O)C2=C(N=CS2)C2CC2)CCC1",
          "CCC(N(C)S(=O)(=O)C1=CC=C(C=C1C)C#N)C1=CC=NC=C1",
          "OC1=CC=C(C=C2SC(=O)N(CC3=CC=CC=C3C#N)C2=O)C=C1I",
          "CC(C)C1=NC=C(C2=CC(C)=NO2)C(=N1)C1CCC(CNC(=O)C2=C(C)N=CS2)CC1",
          "CC1=CC=C(N2C=C(N=N2)C(=S)N2CCOCC2)C(O)=C1",
          "CC[NH2+]C(C)C1=CC=NC(OC2=CN=CC(Br)=C2)=C1",
          "BrC1=CC=C(C=N1)C(=O)NCC1=CC=CC2=CC=CC=C12",
          "CC1=CC(C)=NC(NNS(=O)(=O)C2=CC=C(Cl)C=C2F)=N1",
          "CCC1=CC=C(C[NH+]2CCCC(C2)N2CCCC2=O)O1",
          "COC1=CC=CC(Cl)=C1CN(C)C(C)CC#N",
          "CN(CC1=COC=C1)C1(C[NH3+])CC(C)(C)OC1(C)C",
          "CC1(C[NH+]=C(N)N1CC1CCCO1)C1=CN=CC=N1",
          "COC1=C2OC(=CC2=CC=C1)C(=O)C1=C([O-])C(=O)N(C1C1=CC=C(F)C=C1)C1=NOC(C)=C1",
          "COC1=CC=C(CCC(C)NC(=O)C2=NC=CC=C2C(F)(F)F)C=C1",
          "CCC([NH2+]CC1=CNC=C1)C1=CC=CC=C1OC(F)F",
          "COC1=CC=C(NC(=O)NCC2CN3CCCCC3CO2)C=C1F",
          "ClC1=CC=C(C=NNC(=O)C(=O)NCC2=CC=CC=N2)C=C1",
          "CCN1C=C(CC(=O)N2CCS(=O)C(C)(C)C2)C2=CC=CC=C12",
          "FC1=CC=C(CN2CCN(CC(=O)NCC3=CC=CS3)C2=O)C(Cl)=C1",
          "CC1=CC=C(C=C1)C1C2C(=O)CC(CC2=NC2=NC=NN12)C1=CC=CO1",
          "CCC1=NSC(NC2=CC=C(NC(=O)C3CCCO3)C=C2)=N1",
          "CCCCNC(=O)CC1=C(C)N2N=C(SC)N=C2N=C1C",
          "CCC(NNC(=O)C1=CC(OC)=C(OC)C(OC)=C1)=C1C=CC(=O)C=C1",
          "CCC1=NOC(=N1)C1=CC=C(C[NH3+])C=C1",
          "C(CSC1=NC=NC2=CC=CC=C12)SC1=CC=CC=C1",
          "CCC[NH+]1CCC(CC1)N(C)CC1=C(C)N(C2CC2)C(C)=C1",
          "CCCCOC(=O)C(C)([NH3+])CC",
          "CC1=CC(F)=CC=C1C(O)C1(C[NH3+])CCOCC1",
          "CC(O)C1=CC=C(C)C=C1OCC1=NC(=CS1)C(C)(C)C",
          "COC(=O)C1=CC=C(OC)C=C1OCC(=O)NC1=CC=C(F)C(F)=C1",
          "CCC[NH+](CCC)CC1=CC=C(O)C(N)=C1",
          "CCCC1=CC(=NO1)C1CCCN1S(=O)(=O)C1=CC=C(OC)C(OC)=C1",
          "CCOC1=CC=CC=C1C[NH2+]C(CC)C1=CC=CC=C1",
          "COC1CCCC1NC(=O)C1=CC=NC=C1C#CCO",
          "CC1=CC=C(C=C1)C(CNC(=O)N1CCC(C)(C)C1)N1CCOCC1",
          "O=C(NN=CC1=CNC2=CC=CC=C12)C1=CC(=NC2=CC=CC=C12)C1CC1",
          "COC1=CC(C)=CC=C1NCC(=O)NCCC1=CC=CC=C1C",
          "COC1=CC=C(C=C1)N1N=C2CS(=O)(=O)CC2=C1NC(=O)C1=C(C)ON=C1C1=CC=CC=C1Cl",
          "COC(=O)C1=CC=C(NC(=O)C2CCCC(C)C2)C(O)=C1",
          "CCOC1=CC=CC=C1C=CC(=O)NCC(C)(O)C1=CC=C(F)C=C1",
          "COC1=CC=CC(=C1)N1CC(CC1=O)C(=O)NCCNC(=O)C1=CC=CO1",
          "CN1N=C(C)C(=C1NC1CCOC1C1=CC=C(Cl)C=C1)[N+]([O-])=O",
          "COC(=O)CC(C)(C[NH3+])C1=CC(F)=C(C)C=C1F",
          "FC1=CC=CC(F)=C1C=CC(=O)NNC(=O)CN1N=NC(=N1)C1=CC=CC=C1",
          "[O-][N+](=O)C1=CC=C(NN=C(C2=CC=CC=C2)C2=CC=NC=C2)C(=C1)[N+]([O-])=O",
          "O=C(CCC1=NC2=CC=CC=C2C(=O)N1)NC1CCC2=CC=CC=C12",
          "COC1=CC=C(CCNC(=O)C2CN(C2)C(=O)C2=NOC(C)=C2)C=C1OC",
          "CC1=CC=CC(NC(=O)NC2=CC=C3N=C(NS(C)(=O)=O)SC3=C2)=C1",
          "OC(C(=O)NC1=CC=CC(CS(=O)C2=CC=CC=C2)=C1)C1=CC=CC=C1",
          "CN(C1CCN(CC1)C1=CC=[NH+]C2=CC(F)=CC=C12)C(C)=O",
          "CC1CN(CC1C)C(=O)NCC1CCC(O1)C([O-])=O",
          "FC(F)(F)C1=NN=C(SCC(=O)NC2=CC=CC=C2C#N)N1CC=C",
          "COC(=O)C1=CC=CC(CCNC(=O)NC2=CC(F)=CC=C2C)=C1",
          "CCN(CC1=CC=CC(NC(=O)C2CC(C)OC(C)C2)=C1)C(C)=O",
          "COC(=O)C1=C(C)NC(C(=O)NCC(N(C)C)C2=C(F)C=CC=C2Cl)=C1C",
          "COC(=O)C1=CC=C(C=C1)C1C2C(ON1C1=CC=CC=C1)C(=O)N(C2=O)C1=CC=C(OC)C=C1",
          "COCC1=CC(C)=NC(OCC(=O)NN=CC2=CC=CC(F)=C2)=C1C#N",
          "CC1=C(N=C(NC(=O)C2CCC(=O)O2)S1)C1=CC=C(C)C=C1",
          "CC1=CC=C(C[NH2+]C(C)(C)CO)C(C)=C1",
          "FC1=CC=CC=C1OCCCNC1=NN=NN1C1=CC=CC=C1",
          "CCC(CC)OC1=CC=C(C=C1)C1(C)NC(=O)NC1=O",
          "CCC(CC)N(C)CC1=C(F)C=CC=C1[N+]([O-])=O",
          "O=C(CC1CCCCO1)NCCCCC#N",
          "CC1=CC=C(C=C1)C1=NNC=C1CN1CCC(C1)[NH+]1CCCC1",
          "CN(CC(O)CN1CCOCC1)CC1=NOC(=N1)C(C)(C)C",
          "CN(CC1=NN=C(C)N1C)C(=O)NCC1=CC=C(F)C(Cl)=C1",
          "ClC1=CC=CN=C1NNC(=O)C1=CC=C(OC2CCC2)C=C1Cl",
          "COC1=CC=C(CN2CCN(CC2)S(=O)(=O)C2=CC=CC=C2)C=C1Br",
          "COC1=CC=CC2=C1OC1=CC=CC=C1N=C2N1CCN(C(C)C1)C(=O)C1=C(F)C=CC=C1F",
          "CCCC1=CC=C(C=C1)C(=O)NC(CO)CC1=CNC2=CC=CC=C12",
          "CC1CSC(SCC2=C(F)C=CC=C2[N+]([O-])=O)=N1",
          "FC(F)(F)C1=CC=C(CCNC(=O)NCC2=CC=C(N=C2)N2C=CN=C2)C=C1",
          "CC1=CC2=C(N3CCC(CC3)C(=O)N3CCCC3)C(=CN=C2C=C1)C#N",
          "CC(C)CN1N=C(C)C(CCC(=O)N2CCCCCC2C2=CC=CN2C)=C1C",
          "COCCNS(=O)(=O)C1=CC=CC(=C1)C(=O)N(C)C1CCCC(C)C1",
          "[O-]C(=O)C1C[NH+](CC1C1CC1)C1CCN(CC1)C(=O)C1=CC=CC=C1",
          "CNC(=O)C1=CC=CC=C1NC(=O)CN(C)C(=O)C1=CC=CS1",
          "COC1=CC(CNC(=O)C2=C(Br)C=CO2)=CC=N1",
          "O=C(NCC1OCCN1S(=O)(=O)C1=CC=CS1)C(=O)NCC1=CC=NC=C1",
          "CC(N1C(CCNC(=O)C2=CC=CC=C2Cl)=NC2=CC=CC=C12)C(C)=O",
          "CCCCN(C)C(=O)CC1=CC=CC2=CC=CC=C12",
          "CCC[NH2+]C(CC#CC)C1(CCCCCC1)N(C)C",
          "ClC1=CC=C(C=C1)C(=O)C[NH+]1CCC(CC1)C1=NN=C(O1)C1=CC=CO1",
          "O=C(CC1OCCC2=CC=CC=C12)NNC(=O)CC1=CC=NC=C1",
          "CC([NH2+]CC1=C(C)N(CC2=CC=C(C)C=C2)N=C1C)C1=CC=C(Cl)C=C1",
          "CC(=O)C1=NC2=CC=CC=C2N1CC1CCCCN1C(=O)OCC1=CC=CC=C1",
          "CC1=CC(C=NNC(=O)C(=O)NC2=CC=C(Cl)C(Cl)=C2)=C(C)N1C1=CC=CC(Cl)=C1"
         ],
         "legendgroup": "",
         "marker": {
          "color": "#636efa",
          "size": 8,
          "symbol": "circle"
         },
         "mode": "markers",
         "name": "",
         "orientation": "v",
         "showlegend": false,
         "type": "scatter",
         "x": {
          "bdata": "Zl6vwBQTjb6vxj9AyO90QJSmmkAVIwbA/xZ/QHqjq0DDMo0/qLFZQMoJS8BBa7RAMo7uv93Fwb5I10HATUDsP0ZpysBiCFhAXojvvlCG2D8TMQRARBsLP8sCsL+YTm4+MlWwwLrmz8CbaArAKOsMwNGk+j9ciss/tvceQK4DLsDceYdA/8UwQM+bSMA3RLS/SnJgP0KanT/2ucS/kAJuwCAr0j/7tGu9tS8GwFE32EDV2VbA9b71v0Kr2z8NQLE/kOBEQF+/nL9EedvA1T3OPwekq7/kTJi/N+JVQKc2RMDjatFA2lOEwP6aG0DpQAvAo1zOP9yPJb943CpAmzWPwKWkB8DfsYO+5Sqhv9oeJ7+YvdvA0wIPwKWOSEApAHbA5882wOygrD5xpMi/eyA5wPmqcT/G3GHASX8AP8wOIL6mc4HAsKpCwJkVlb8T3xtAJ1zDvkuVc0DitIrAP60AwKiCm0DArHs/iM2hPgfy40CFJg/AHUAmvzp29b8VUVBA4hcDQK3BR8A3B57AGYShPw==",
          "dtype": "f4"
         },
         "xaxis": "x",
         "y": {
          "bdata": "TV6vQIgzc792o2XA4JdDwJCWvj5sn1e+4CxCP8Adqz6aRQI/buDWP9+s8r8z90W/wRWXwLZIgMDvO0Q/6o+SQA1mr0A3bK2/wEQiwKKZZMCLhrc9QaRrwPbXtcBUSyfAvRm0PzXQmUCQ8C6/zStRwNRllT9W0LQ9GnN1wD8jZb5TTi/Azs9DP5WIL0BV33FAMNfRP1ewqsAs1VjA3kWzwPsQyb8hOFvA8jcoQCzOSz/1BoRAu1eAwKCEcr/qLTrA8iFUQII7mL70r6hAsIo0v2DZpj44CJNA/L0DPyPLl8BGDFi/oeOhQJwXF0CQCpNA1tVLQIIpyD/BBoTAytXGP19SWEDIHC09MxWkv5+HHEBxkJBA7QGDQMNmWL8FHpzAmhs+QPH3ZL/uyLPAID+0wHULesDAGj1AESDjv5aMlz/W7aC+Hz7eQDVEYT8oepfAgKETQNJCNsADo+m+NQUiQBjpDkA+yag+vHoAwA67k7/GlIE/IlCrwPvEmMDTwQVA5uJ/P8zprr8CEko+T2SXQA==",
          "dtype": "f4"
         },
         "yaxis": "y"
        }
       ],
       "layout": {
        "legend": {
         "tracegroupgap": 0
        },
        "template": {
         "data": {
          "bar": [
           {
            "error_x": {
             "color": "#2a3f5f"
            },
            "error_y": {
             "color": "#2a3f5f"
            },
            "marker": {
             "line": {
              "color": "#E5ECF6",
              "width": 0.5
             },
             "pattern": {
              "fillmode": "overlay",
              "size": 10,
              "solidity": 0.2
             }
            },
            "type": "bar"
           }
          ],
          "barpolar": [
           {
            "marker": {
             "line": {
              "color": "#E5ECF6",
              "width": 0.5
             },
             "pattern": {
              "fillmode": "overlay",
              "size": 10,
              "solidity": 0.2
             }
            },
            "type": "barpolar"
           }
          ],
          "carpet": [
           {
            "aaxis": {
             "endlinecolor": "#2a3f5f",
             "gridcolor": "white",
             "linecolor": "white",
             "minorgridcolor": "white",
             "startlinecolor": "#2a3f5f"
            },
            "baxis": {
             "endlinecolor": "#2a3f5f",
             "gridcolor": "white",
             "linecolor": "white",
             "minorgridcolor": "white",
             "startlinecolor": "#2a3f5f"
            },
            "type": "carpet"
           }
          ],
          "choropleth": [
           {
            "colorbar": {
             "outlinewidth": 0,
             "ticks": ""
            },
            "type": "choropleth"
           }
          ],
          "contour": [
           {
            "colorbar": {
             "outlinewidth": 0,
             "ticks": ""
            },
            "colorscale": [
             [
              0,
              "#0d0887"
             ],
             [
              0.1111111111111111,
              "#46039f"
             ],
             [
              0.2222222222222222,
              "#7201a8"
             ],
             [
              0.3333333333333333,
              "#9c179e"
             ],
             [
              0.4444444444444444,
              "#bd3786"
             ],
             [
              0.5555555555555556,
              "#d8576b"
             ],
             [
              0.6666666666666666,
              "#ed7953"
             ],
             [
              0.7777777777777778,
              "#fb9f3a"
             ],
             [
              0.8888888888888888,
              "#fdca26"
             ],
             [
              1,
              "#f0f921"
             ]
            ],
            "type": "contour"
           }
          ],
          "contourcarpet": [
           {
            "colorbar": {
             "outlinewidth": 0,
             "ticks": ""
            },
            "type": "contourcarpet"
           }
          ],
          "heatmap": [
           {
            "colorbar": {
             "outlinewidth": 0,
             "ticks": ""
            },
            "colorscale": [
             [
              0,
              "#0d0887"
             ],
             [
              0.1111111111111111,
              "#46039f"
             ],
             [
              0.2222222222222222,
              "#7201a8"
             ],
             [
              0.3333333333333333,
              "#9c179e"
             ],
             [
              0.4444444444444444,
              "#bd3786"
             ],
             [
              0.5555555555555556,
              "#d8576b"
             ],
             [
              0.6666666666666666,
              "#ed7953"
             ],
             [
              0.7777777777777778,
              "#fb9f3a"
             ],
             [
              0.8888888888888888,
              "#fdca26"
             ],
             [
              1,
              "#f0f921"
             ]
            ],
            "type": "heatmap"
           }
          ],
          "histogram": [
           {
            "marker": {
             "pattern": {
              "fillmode": "overlay",
              "size": 10,
              "solidity": 0.2
             }
            },
            "type": "histogram"
           }
          ],
          "histogram2d": [
           {
            "colorbar": {
             "outlinewidth": 0,
             "ticks": ""
            },
            "colorscale": [
             [
              0,
              "#0d0887"
             ],
             [
              0.1111111111111111,
              "#46039f"
             ],
             [
              0.2222222222222222,
              "#7201a8"
             ],
             [
              0.3333333333333333,
              "#9c179e"
             ],
             [
              0.4444444444444444,
              "#bd3786"
             ],
             [
              0.5555555555555556,
              "#d8576b"
             ],
             [
              0.6666666666666666,
              "#ed7953"
             ],
             [
              0.7777777777777778,
              "#fb9f3a"
             ],
             [
              0.8888888888888888,
              "#fdca26"
             ],
             [
              1,
              "#f0f921"
             ]
            ],
            "type": "histogram2d"
           }
          ],
          "histogram2dcontour": [
           {
            "colorbar": {
             "outlinewidth": 0,
             "ticks": ""
            },
            "colorscale": [
             [
              0,
              "#0d0887"
             ],
             [
              0.1111111111111111,
              "#46039f"
             ],
             [
              0.2222222222222222,
              "#7201a8"
             ],
             [
              0.3333333333333333,
              "#9c179e"
             ],
             [
              0.4444444444444444,
              "#bd3786"
             ],
             [
              0.5555555555555556,
              "#d8576b"
             ],
             [
              0.6666666666666666,
              "#ed7953"
             ],
             [
              0.7777777777777778,
              "#fb9f3a"
             ],
             [
              0.8888888888888888,
              "#fdca26"
             ],
             [
              1,
              "#f0f921"
             ]
            ],
            "type": "histogram2dcontour"
           }
          ],
          "mesh3d": [
           {
            "colorbar": {
             "outlinewidth": 0,
             "ticks": ""
            },
            "type": "mesh3d"
           }
          ],
          "parcoords": [
           {
            "line": {
             "colorbar": {
              "outlinewidth": 0,
              "ticks": ""
             }
            },
            "type": "parcoords"
           }
          ],
          "pie": [
           {
            "automargin": true,
            "type": "pie"
           }
          ],
          "scatter": [
           {
            "fillpattern": {
             "fillmode": "overlay",
             "size": 10,
             "solidity": 0.2
            },
            "type": "scatter"
           }
          ],
          "scatter3d": [
           {
            "line": {
             "colorbar": {
              "outlinewidth": 0,
              "ticks": ""
             }
            },
            "marker": {
             "colorbar": {
              "outlinewidth": 0,
              "ticks": ""
             }
            },
            "type": "scatter3d"
           }
          ],
          "scattercarpet": [
           {
            "marker": {
             "colorbar": {
              "outlinewidth": 0,
              "ticks": ""
             }
            },
            "type": "scattercarpet"
           }
          ],
          "scattergeo": [
           {
            "marker": {
             "colorbar": {
              "outlinewidth": 0,
              "ticks": ""
             }
            },
            "type": "scattergeo"
           }
          ],
          "scattergl": [
           {
            "marker": {
             "colorbar": {
              "outlinewidth": 0,
              "ticks": ""
             }
            },
            "type": "scattergl"
           }
          ],
          "scattermap": [
           {
            "marker": {
             "colorbar": {
              "outlinewidth": 0,
              "ticks": ""
             }
            },
            "type": "scattermap"
           }
          ],
          "scattermapbox": [
           {
            "marker": {
             "colorbar": {
              "outlinewidth": 0,
              "ticks": ""
             }
            },
            "type": "scattermapbox"
           }
          ],
          "scatterpolar": [
           {
            "marker": {
             "colorbar": {
              "outlinewidth": 0,
              "ticks": ""
             }
            },
            "type": "scatterpolar"
           }
          ],
          "scatterpolargl": [
           {
            "marker": {
             "colorbar": {
              "outlinewidth": 0,
              "ticks": ""
             }
            },
            "type": "scatterpolargl"
           }
          ],
          "scatterternary": [
           {
            "marker": {
             "colorbar": {
              "outlinewidth": 0,
              "ticks": ""
             }
            },
            "type": "scatterternary"
           }
          ],
          "surface": [
           {
            "colorbar": {
             "outlinewidth": 0,
             "ticks": ""
            },
            "colorscale": [
             [
              0,
              "#0d0887"
             ],
             [
              0.1111111111111111,
              "#46039f"
             ],
             [
              0.2222222222222222,
              "#7201a8"
             ],
             [
              0.3333333333333333,
              "#9c179e"
             ],
             [
              0.4444444444444444,
              "#bd3786"
             ],
             [
              0.5555555555555556,
              "#d8576b"
             ],
             [
              0.6666666666666666,
              "#ed7953"
             ],
             [
              0.7777777777777778,
              "#fb9f3a"
             ],
             [
              0.8888888888888888,
              "#fdca26"
             ],
             [
              1,
              "#f0f921"
             ]
            ],
            "type": "surface"
           }
          ],
          "table": [
           {
            "cells": {
             "fill": {
              "color": "#EBF0F8"
             },
             "line": {
              "color": "white"
             }
            },
            "header": {
             "fill": {
              "color": "#C8D4E3"
             },
             "line": {
              "color": "white"
             }
            },
            "type": "table"
           }
          ]
         },
         "layout": {
          "annotationdefaults": {
           "arrowcolor": "#2a3f5f",
           "arrowhead": 0,
           "arrowwidth": 1
          },
          "autotypenumbers": "strict",
          "coloraxis": {
           "colorbar": {
            "outlinewidth": 0,
            "ticks": ""
           }
          },
          "colorscale": {
           "diverging": [
            [
             0,
             "#8e0152"
            ],
            [
             0.1,
             "#c51b7d"
            ],
            [
             0.2,
             "#de77ae"
            ],
            [
             0.3,
             "#f1b6da"
            ],
            [
             0.4,
             "#fde0ef"
            ],
            [
             0.5,
             "#f7f7f7"
            ],
            [
             0.6,
             "#e6f5d0"
            ],
            [
             0.7,
             "#b8e186"
            ],
            [
             0.8,
             "#7fbc41"
            ],
            [
             0.9,
             "#4d9221"
            ],
            [
             1,
             "#276419"
            ]
           ],
           "sequential": [
            [
             0,
             "#0d0887"
            ],
            [
             0.1111111111111111,
             "#46039f"
            ],
            [
             0.2222222222222222,
             "#7201a8"
            ],
            [
             0.3333333333333333,
             "#9c179e"
            ],
            [
             0.4444444444444444,
             "#bd3786"
            ],
            [
             0.5555555555555556,
             "#d8576b"
            ],
            [
             0.6666666666666666,
             "#ed7953"
            ],
            [
             0.7777777777777778,
             "#fb9f3a"
            ],
            [
             0.8888888888888888,
             "#fdca26"
            ],
            [
             1,
             "#f0f921"
            ]
           ],
           "sequentialminus": [
            [
             0,
             "#0d0887"
            ],
            [
             0.1111111111111111,
             "#46039f"
            ],
            [
             0.2222222222222222,
             "#7201a8"
            ],
            [
             0.3333333333333333,
             "#9c179e"
            ],
            [
             0.4444444444444444,
             "#bd3786"
            ],
            [
             0.5555555555555556,
             "#d8576b"
            ],
            [
             0.6666666666666666,
             "#ed7953"
            ],
            [
             0.7777777777777778,
             "#fb9f3a"
            ],
            [
             0.8888888888888888,
             "#fdca26"
            ],
            [
             1,
             "#f0f921"
            ]
           ]
          },
          "colorway": [
           "#636efa",
           "#EF553B",
           "#00cc96",
           "#ab63fa",
           "#FFA15A",
           "#19d3f3",
           "#FF6692",
           "#B6E880",
           "#FF97FF",
           "#FECB52"
          ],
          "font": {
           "color": "#2a3f5f"
          },
          "geo": {
           "bgcolor": "white",
           "lakecolor": "white",
           "landcolor": "#E5ECF6",
           "showlakes": true,
           "showland": true,
           "subunitcolor": "white"
          },
          "hoverlabel": {
           "align": "left"
          },
          "hovermode": "closest",
          "mapbox": {
           "style": "light"
          },
          "paper_bgcolor": "white",
          "plot_bgcolor": "#E5ECF6",
          "polar": {
           "angularaxis": {
            "gridcolor": "white",
            "linecolor": "white",
            "ticks": ""
           },
           "bgcolor": "#E5ECF6",
           "radialaxis": {
            "gridcolor": "white",
            "linecolor": "white",
            "ticks": ""
           }
          },
          "scene": {
           "xaxis": {
            "backgroundcolor": "#E5ECF6",
            "gridcolor": "white",
            "gridwidth": 2,
            "linecolor": "white",
            "showbackground": true,
            "ticks": "",
            "zerolinecolor": "white"
           },
           "yaxis": {
            "backgroundcolor": "#E5ECF6",
            "gridcolor": "white",
            "gridwidth": 2,
            "linecolor": "white",
            "showbackground": true,
            "ticks": "",
            "zerolinecolor": "white"
           },
           "zaxis": {
            "backgroundcolor": "#E5ECF6",
            "gridcolor": "white",
            "gridwidth": 2,
            "linecolor": "white",
            "showbackground": true,
            "ticks": "",
            "zerolinecolor": "white"
           }
          },
          "shapedefaults": {
           "line": {
            "color": "#2a3f5f"
           }
          },
          "ternary": {
           "aaxis": {
            "gridcolor": "white",
            "linecolor": "white",
            "ticks": ""
           },
           "baxis": {
            "gridcolor": "white",
            "linecolor": "white",
            "ticks": ""
           },
           "bgcolor": "#E5ECF6",
           "caxis": {
            "gridcolor": "white",
            "linecolor": "white",
            "ticks": ""
           }
          },
          "title": {
           "x": 0.05
          },
          "xaxis": {
           "automargin": true,
           "gridcolor": "white",
           "linecolor": "white",
           "ticks": "",
           "title": {
            "standoff": 15
           },
           "zerolinecolor": "white",
           "zerolinewidth": 2
          },
          "yaxis": {
           "automargin": true,
           "gridcolor": "white",
           "linecolor": "white",
           "ticks": "",
           "title": {
            "standoff": 15
           },
           "zerolinecolor": "white",
           "zerolinewidth": 2
          }
         }
        },
        "title": {
         "text": "Chemical Space Visualization using t-SNE"
        },
        "xaxis": {
         "anchor": "y",
         "domain": [
          0,
          1
         ],
         "title": {
          "text": "t-SNE Component 1"
         },
         "zeroline": false
        },
        "yaxis": {
         "anchor": "x",
         "domain": [
          0,
          1
         ],
         "title": {
          "text": "t-SNE Component 2"
         },
         "zeroline": false
        }
       }
      }
     },
     "metadata": {},
     "output_type": "display_data"
    }
   ],
   "source": [
    "# 8. Visualize with t-SNE (can sometimes give better cluster separation)\n",
    "if 'scaled_features' in locals() and scaled_features.shape[0] > 1: # t-SNE needs more than 1 sample\n",
    "    # Adjust perplexity based on your dataset size, typically 5-50\n",
    "    perplexity_value = min(30, scaled_features.shape[0] - 1)\n",
    "    if perplexity_value > 0:\n",
    "        tsne = TSNE(n_components=2, random_state=42, perplexity=perplexity_value, max_iter=300, init='pca') # Added init='pca' for stability\n",
    "        tsne_results = tsne.fit_transform(scaled_features) # or scaled_features_mordred\n",
    "\n",
    "        tsne_df = pd.DataFrame(data=tsne_results,\n",
    "                               columns=['t-SNE Component 1', 't-SNE Component 2'])\n",
    "        tsne_df.index = molecule_names\n",
    "\n",
    "        fig_tsne = plot_scatter_plotly_2d(\n",
    "            df=tsne_df,\n",
    "            x_col='t-SNE Component 1',\n",
    "            y_col='t-SNE Component 2',\n",
    "            text_col_data=tsne_df.index,\n",
    "            title='Chemical Space Visualization using t-SNE',\n",
    "            labels_dict={\n",
    "                't-SNE Component 1': 't-SNE Component 1',\n",
    "                't-SNE Component 2': 't-SNE Component 2'\n",
    "            },\n",
    "            marker_size=8,\n",
    "            text_position='top right',\n",
    "            add_zerolines=False # t-SNE axes don't typically have meaning at zero\n",
    "        )\n",
    "        fig_tsne.show()\n",
    "    else:\n",
    "        print(\"Skipping t-SNE: Not enough samples for the chosen perplexity.\")\n",
    "        tsne_df = None # Ensure tsne_df is defined if t-SNE is skipped\n",
    "else:\n",
    "    print(\"Skipping t-SNE: Not enough samples or scaled_features not available.\")\n",
    "    tsne_df = None # Ensure tsne_df is defined if t-SNE is skipped\n",
    "\n",
    "\n"
   ]
  },
  {
   "cell_type": "code",
   "execution_count": 18,
   "id": "agglomerative-clustering-tsne-01",
   "metadata": {},
   "outputs": [
    {
     "data": {
      "application/vnd.plotly.v1+json": {
       "config": {
        "plotlyServerURL": "https://plot.ly"
       },
       "data": [
        {
         "hovertemplate": "%{hovertext}<extra></extra>",
         "hovertext": [
          "CCC1=NN2C(O)=C(SC2=N1)C(N1CC(C)OC(C)C1)C1=CC=CC(OC)=C1",
          "OC1=CC=C(C=C2SC(=O)N(CC3=CC=CC=C3C#N)C2=O)C=C1I",
          "CC(C)C1=NC=C(C2=CC(C)=NO2)C(=N1)C1CCC(CNC(=O)C2=C(C)N=CS2)CC1",
          "COC1=C2OC(=CC2=CC=C1)C(=O)C1=C([O-])C(=O)N(C1C1=CC=C(F)C=C1)C1=NOC(C)=C1",
          "COC1=CC=C(C=C1)N1N=C2CS(=O)(=O)CC2=C1NC(=O)C1=C(C)ON=C1C1=CC=CC=C1Cl",
          "[O-][N+](=O)C1=CC=C(NN=C(C2=CC=CC=C2)C2=CC=NC=C2)C(=C1)[N+]([O-])=O",
          "COC(=O)C1=CC=C(C=C1)C1C2C(ON1C1=CC=CC=C1)C(=O)N(C2=O)C1=CC=C(OC)C=C1",
          "COC1=CC=CC2=C1OC1=CC=CC=C1N=C2N1CCN(C(C)C1)C(=O)C1=C(F)C=CC=C1F",
          "CC1=CC(C=NNC(=O)C(=O)NC2=CC=C(Cl)C(Cl)=C2)=C(C)N1C1=CC=CC(Cl)=C1"
         ],
         "legendgroup": "2",
         "marker": {
          "color": "#636efa",
          "size": 8,
          "symbol": "circle"
         },
         "mode": "markers",
         "name": "2",
         "orientation": "v",
         "showlegend": true,
         "type": "scatter",
         "x": {
          "bdata": "Zl6vwE1A7D9GacrAuubPwER528DaU4TAmL3bwLCqQsAZhKE/",
          "dtype": "f4"
         },
         "xaxis": "x",
         "y": {
          "bdata": "TV6vQOqPkkANZq9ANdCZQPSvqECh46FAcZCQQB8+3kBPZJdA",
          "dtype": "f4"
         },
         "yaxis": "y"
        },
        {
         "hovertemplate": "%{hovertext}<extra></extra>",
         "hovertext": [
          "CCC1=CC=C(OCC(=O)NC2=CC=C(C)C=C2O)C=C1",
          "CC(N(C)C(=O)NC1=CN=C2N(C)C(=O)N(C)C(=O)C2=C1)C1=CC=CC=C1",
          "CC1=C(Cl)C=CC=C1NC=C1C(C)=C(C#N)C(=O)N(CC2CCCO2)C1=O",
          "CC1=CC(=O)NC(NN=CC2=C(Cl)N=C3C=CC=CN3C2=O)=N1",
          "CC1=CC(C)=NC(NNS(=O)(=O)C2=CC=C(Cl)C=C2F)=N1",
          "COC1=CC=C(NC(=O)NCC2CN3CCCCC3CO2)C=C1F",
          "ClC1=CC=C(C=NNC(=O)C(=O)NCC2=CC=CC=N2)C=C1",
          "CCC1=NSC(NC2=CC=C(NC(=O)C3CCCO3)C=C2)=N1",
          "CCCCNC(=O)CC1=C(C)N2N=C(SC)N=C2N=C1C",
          "CCC(NNC(=O)C1=CC(OC)=C(OC)C(OC)=C1)=C1C=CC(=O)C=C1",
          "COC(=O)C1=CC=C(OC)C=C1OCC(=O)NC1=CC=C(F)C(F)=C1",
          "CCCC1=CC(=NO1)C1CCCN1S(=O)(=O)C1=CC=C(OC)C(OC)=C1",
          "O=C(NN=CC1=CNC2=CC=CC=C12)C1=CC(=NC2=CC=CC=C12)C1CC1",
          "COC1=CC(C)=CC=C1NCC(=O)NCCC1=CC=CC=C1C",
          "COC(=O)C1=CC=C(NC(=O)C2CCCC(C)C2)C(O)=C1",
          "CCOC1=CC=CC=C1C=CC(=O)NCC(C)(O)C1=CC=C(F)C=C1",
          "COC1=CC=CC(=C1)N1CC(CC1=O)C(=O)NCCNC(=O)C1=CC=CO1",
          "CN1N=C(C)C(=C1NC1CCOC1C1=CC=C(Cl)C=C1)[N+]([O-])=O",
          "FC1=CC=CC(F)=C1C=CC(=O)NNC(=O)CN1N=NC(=N1)C1=CC=CC=C1",
          "O=C(CCC1=NC2=CC=CC=C2C(=O)N1)NC1CCC2=CC=CC=C12",
          "COC1=CC=C(CCNC(=O)C2CN(C2)C(=O)C2=NOC(C)=C2)C=C1OC",
          "CC1=CC=CC(NC(=O)NC2=CC=C3N=C(NS(C)(=O)=O)SC3=C2)=C1",
          "OC(C(=O)NC1=CC=CC(CS(=O)C2=CC=CC=C2)=C1)C1=CC=CC=C1",
          "FC(F)(F)C1=NN=C(SCC(=O)NC2=CC=CC=C2C#N)N1CC=C",
          "COC(=O)C1=CC=CC(CCNC(=O)NC2=CC(F)=CC=C2C)=C1",
          "COC(=O)C1=C(C)NC(C(=O)NCC(N(C)C)C2=C(F)C=CC=C2Cl)=C1C",
          "COCC1=CC(C)=NC(OCC(=O)NN=CC2=CC=CC(F)=C2)=C1C#N",
          "CC1=C(N=C(NC(=O)C2CCC(=O)O2)S1)C1=CC=C(C)C=C1",
          "FC1=CC=CC=C1OCCCNC1=NN=NN1C1=CC=CC=C1",
          "CCC(CC)OC1=CC=C(C=C1)C1(C)NC(=O)NC1=O",
          "CN(CC(O)CN1CCOCC1)CC1=NOC(=N1)C(C)(C)C",
          "ClC1=CC=CN=C1NNC(=O)C1=CC=C(OC2CCC2)C=C1Cl",
          "CCCC1=CC=C(C=C1)C(=O)NC(CO)CC1=CNC2=CC=CC=C12",
          "FC(F)(F)C1=CC=C(CCNC(=O)NCC2=CC=C(N=C2)N2C=CN=C2)C=C1",
          "COCCNS(=O)(=O)C1=CC=CC(=C1)C(=O)N(C)C1CCCC(C)C1",
          "CNC(=O)C1=CC=CC=C1NC(=O)CN(C)C(=O)C1=CC=CS1",
          "O=C(NCC1OCCN1S(=O)(=O)C1=CC=CS1)C(=O)NCC1=CC=NC=C1",
          "ClC1=CC=C(C=C1)C(=O)C[NH+]1CCC(CC1)C1=NN=C(O1)C1=CC=CO1",
          "O=C(CC1OCCC2=CC=CC=C12)NNC(=O)CC1=CC=NC=C1"
         ],
         "legendgroup": "1",
         "marker": {
          "color": "#EF553B",
          "size": 8,
          "symbol": "circle"
         },
         "mode": "markers",
         "name": "1",
         "orientation": "v",
         "showlegend": true,
         "type": "scatter",
         "x": {
          "bdata": "FBONvv8Wf0CosVlAQWu0QBMxBEDRpPo/XIrLP//FMEDPm0jAN0S0v7UvBsDV2VbAkOBEQF+/nL/VPc4/B6Srv+RMmL834lVA42rRQP6aG0DpQAvAo1zOP9yPJb+lpAfA37GDvtoeJ7/TAg/ApY5IQOfPNsDsoKw+xtxhwMwOIL6ZFZW/J1zDvj+tAMDArHs/B/LjQBVRUEDiFwNA",
          "dtype": "f4"
         },
         "xaxis": "x",
         "y": {
          "bdata": "iDNzv+AsQj9u4NY/M/dFv4uGtz3UZZU/VtC0Pc7PQz+ViC9AVd9xQPI3KED1BoRA8iFUQII7mL6wijS/YNmmPjgIk0D8vQM/RgxYv5wXF0CQCpNA1tVLQIIpyD9fUlhAyBwtPZ+HHEDtAYNAw2ZYv5obPkDx92S/wBo9QJaMlz81RGE/gKETQDUFIkA+yag+DruTv9PBBUDm4n8/",
          "dtype": "f4"
         },
         "yaxis": "y"
        },
        {
         "hovertemplate": "%{hovertext}<extra></extra>",
         "hovertext": [
          "CC1=CN=C(CN2CCN(CC2)C2=NC=CC=C2F)C=N1",
          "CC(C)C1=NN=C2SCC(=NN12)C1=CC2=CC=CC=C2O1",
          "COC1=CC(C=CC)=CC=C1OCC(=O)NC1CCC(C1)SC",
          "FC1=CC=C(F)C(CCCC(=O)N2CCCC(C[NH+]3CCCCCC3)C2)=C1",
          "CCC1(CNC(=O)C2=C(N=CS2)C2CC2)CCC1",
          "CCC(N(C)S(=O)(=O)C1=CC=C(C=C1C)C#N)C1=CC=NC=C1",
          "CC1=CC=C(N2C=C(N=N2)C(=S)N2CCOCC2)C(O)=C1",
          "CC[NH2+]C(C)C1=CC=NC(OC2=CN=CC(Br)=C2)=C1",
          "BrC1=CC=C(C=N1)C(=O)NCC1=CC=CC2=CC=CC=C12",
          "COC1=CC=C(CCC(C)NC(=O)C2=NC=CC=C2C(F)(F)F)C=C1",
          "CCN1C=C(CC(=O)N2CCS(=O)C(C)(C)C2)C2=CC=CC=C12",
          "FC1=CC=C(CN2CCN(CC(=O)NCC3=CC=CS3)C2=O)C(Cl)=C1",
          "CC1=CC=C(C=C1)C1C2C(=O)CC(CC2=NC2=NC=NN12)C1=CC=CO1",
          "C(CSC1=NC=NC2=CC=CC=C12)SC1=CC=CC=C1",
          "CCC[NH+]1CCC(CC1)N(C)CC1=C(C)N(C2CC2)C(C)=C1",
          "CC(O)C1=CC=C(C)C=C1OCC1=NC(=CS1)C(C)(C)C",
          "CC1=CC=C(C=C1)C(CNC(=O)N1CCC(C)(C)C1)N1CCOCC1",
          "CN(C1CCN(CC1)C1=CC=[NH+]C2=CC(F)=CC=C12)C(C)=O",
          "CCN(CC1=CC=CC(NC(=O)C2CC(C)OC(C)C2)=C1)C(C)=O",
          "CN(CC1=NN=C(C)N1C)C(=O)NCC1=CC=C(F)C(Cl)=C1",
          "COC1=CC=C(CN2CCN(CC2)S(=O)(=O)C2=CC=CC=C2)C=C1Br",
          "CC1CSC(SCC2=C(F)C=CC=C2[N+]([O-])=O)=N1",
          "CC1=CC2=C(N3CCC(CC3)C(=O)N3CCCC3)C(=CN=C2C=C1)C#N",
          "CC(C)CN1N=C(C)C(CCC(=O)N2CCCCCC2C2=CC=CN2C)=C1C",
          "COC1=CC(CNC(=O)C2=C(Br)C=CO2)=CC=N1",
          "CC(N1C(CCNC(=O)C2=CC=CC=C2Cl)=NC2=CC=CC=C12)C(C)=O",
          "CC([NH2+]CC1=C(C)N(CC2=CC=C(C)C=C2)N=C1C)C1=CC=C(Cl)C=C1",
          "CC(=O)C1=NC2=CC=CC=C2N1CC1CCCCN1C(=O)OCC1=CC=CC=C1"
         ],
         "legendgroup": "3",
         "marker": {
          "color": "#00cc96",
          "size": 8,
          "symbol": "circle"
         },
         "mode": "markers",
         "name": "3",
         "orientation": "v",
         "showlegend": true,
         "type": "scatter",
         "x": {
          "bdata": "r8Y/QMjvdEAVIwbAyglLwN3Fwb5I10HAYghYQF6I775Qhtg/m2gKwLb3HkCuAy7A3HmHQEKanT/2ucS/+7RrvQ1AsT943CpA5Sqhv0l/AD+mc4HAE98bQEuVc0DitIrAiM2hPoUmD8CtwUfANweewA==",
          "dtype": "f4"
         },
         "xaxis": "x",
         "y": {
          "bdata": "dqNlwOCXQ8Bsn1e+36zyv7ZIgMDvO0Q/N2ytv8BEIsCimWTAkPAuvxpzdcA/I2W+U04vwFewqsAs1VjAIThbwOotOsDBBoTAMxWkvxEg47/W7aC+KHqXwNJCNsADo+m+vHoAwMaUgT/M6a6/AhJKPg==",
          "dtype": "f4"
         },
         "yaxis": "y"
        },
        {
         "hovertemplate": "%{hovertext}<extra></extra>",
         "hovertext": [
          "CNC1=CC=C2N=C(NC2=N1)C1(C)CC[NH2+]CC1",
          "COC1=CC(=CC=C1O)C(C)NC1CC[NH+](C)CC1",
          "COC(=O)C1CC([NH3+])CN(C1)C(=O)OCC1=CC=CC=C1",
          "COCCC(=O)NC(C)CC1=C(Cl)C=CC=C1Cl",
          "CCC1=CC=C(C[NH+]2CCCC(C2)N2CCCC2=O)O1",
          "COC1=CC=CC(Cl)=C1CN(C)C(C)CC#N",
          "CN(CC1=COC=C1)C1(C[NH3+])CC(C)(C)OC1(C)C",
          "CC1(C[NH+]=C(N)N1CC1CCCO1)C1=CN=CC=N1",
          "CCC([NH2+]CC1=CNC=C1)C1=CC=CC=C1OC(F)F",
          "CCC1=NOC(=N1)C1=CC=C(C[NH3+])C=C1",
          "CCCCOC(=O)C(C)([NH3+])CC",
          "CC1=CC(F)=CC=C1C(O)C1(C[NH3+])CCOCC1",
          "CCC[NH+](CCC)CC1=CC=C(O)C(N)=C1",
          "CCOC1=CC=CC=C1C[NH2+]C(CC)C1=CC=CC=C1",
          "COC1CCCC1NC(=O)C1=CC=NC=C1C#CCO",
          "COC(=O)CC(C)(C[NH3+])C1=CC(F)=C(C)C=C1F",
          "CC1CN(CC1C)C(=O)NCC1CCC(O1)C([O-])=O",
          "CC1=CC=C(C[NH2+]C(C)(C)CO)C(C)=C1",
          "CCC(CC)N(C)CC1=C(F)C=CC=C1[N+]([O-])=O",
          "O=C(CC1CCCCO1)NCCCCC#N",
          "CC1=CC=C(C=C1)C1=NNC=C1CN1CCC(C1)[NH+]1CCCC1",
          "[O-]C(=O)C1C[NH+](CC1C1CC1)C1CCN(CC1)C(=O)C1=CC=CC=C1",
          "CCCCN(C)C(=O)CC1=CC=CC2=CC=CC=C12",
          "CCC[NH2+]C(CC#CC)C1(CCCCCC1)N(C)C"
         ],
         "legendgroup": "0",
         "marker": {
          "color": "#ab63fa",
          "size": 8,
          "symbol": "circle"
         },
         "mode": "markers",
         "name": "0",
         "orientation": "v",
         "showlegend": true,
         "type": "scatter",
         "x": {
          "bdata": "lKaaQHqjq0DDMo0/Mo7uv0QbCz/LArC/mE5uPjJVsMAo6wzASnJgP5ACbsAgK9I/UTfYQPW+9b9Cq9s/pzZEwJs1j8ApAHbAcaTIv3sgOcD5qnE/qIKbQB1AJr86dvW/",
          "dtype": "f4"
         },
         "xaxis": "x",
         "y": {
          "bdata": "kJa+PsAdqz6aRQI/wRWXwEGka8D217XAVEsnwL0ZtD/NK1HAMNfRP95Fs8D7EMm/LM5LP7tXgMCghHK/I8uXwMrVxj8FHpzA7sizwCA/tMB1C3rAGOkOQCJQq8D7xJjA",
          "dtype": "f4"
         },
         "yaxis": "y"
        }
       ],
       "layout": {
        "legend": {
         "title": {
          "text": "Cluster"
         },
         "tracegroupgap": 0
        },
        "template": {
         "data": {
          "bar": [
           {
            "error_x": {
             "color": "#2a3f5f"
            },
            "error_y": {
             "color": "#2a3f5f"
            },
            "marker": {
             "line": {
              "color": "#E5ECF6",
              "width": 0.5
             },
             "pattern": {
              "fillmode": "overlay",
              "size": 10,
              "solidity": 0.2
             }
            },
            "type": "bar"
           }
          ],
          "barpolar": [
           {
            "marker": {
             "line": {
              "color": "#E5ECF6",
              "width": 0.5
             },
             "pattern": {
              "fillmode": "overlay",
              "size": 10,
              "solidity": 0.2
             }
            },
            "type": "barpolar"
           }
          ],
          "carpet": [
           {
            "aaxis": {
             "endlinecolor": "#2a3f5f",
             "gridcolor": "white",
             "linecolor": "white",
             "minorgridcolor": "white",
             "startlinecolor": "#2a3f5f"
            },
            "baxis": {
             "endlinecolor": "#2a3f5f",
             "gridcolor": "white",
             "linecolor": "white",
             "minorgridcolor": "white",
             "startlinecolor": "#2a3f5f"
            },
            "type": "carpet"
           }
          ],
          "choropleth": [
           {
            "colorbar": {
             "outlinewidth": 0,
             "ticks": ""
            },
            "type": "choropleth"
           }
          ],
          "contour": [
           {
            "colorbar": {
             "outlinewidth": 0,
             "ticks": ""
            },
            "colorscale": [
             [
              0,
              "#0d0887"
             ],
             [
              0.1111111111111111,
              "#46039f"
             ],
             [
              0.2222222222222222,
              "#7201a8"
             ],
             [
              0.3333333333333333,
              "#9c179e"
             ],
             [
              0.4444444444444444,
              "#bd3786"
             ],
             [
              0.5555555555555556,
              "#d8576b"
             ],
             [
              0.6666666666666666,
              "#ed7953"
             ],
             [
              0.7777777777777778,
              "#fb9f3a"
             ],
             [
              0.8888888888888888,
              "#fdca26"
             ],
             [
              1,
              "#f0f921"
             ]
            ],
            "type": "contour"
           }
          ],
          "contourcarpet": [
           {
            "colorbar": {
             "outlinewidth": 0,
             "ticks": ""
            },
            "type": "contourcarpet"
           }
          ],
          "heatmap": [
           {
            "colorbar": {
             "outlinewidth": 0,
             "ticks": ""
            },
            "colorscale": [
             [
              0,
              "#0d0887"
             ],
             [
              0.1111111111111111,
              "#46039f"
             ],
             [
              0.2222222222222222,
              "#7201a8"
             ],
             [
              0.3333333333333333,
              "#9c179e"
             ],
             [
              0.4444444444444444,
              "#bd3786"
             ],
             [
              0.5555555555555556,
              "#d8576b"
             ],
             [
              0.6666666666666666,
              "#ed7953"
             ],
             [
              0.7777777777777778,
              "#fb9f3a"
             ],
             [
              0.8888888888888888,
              "#fdca26"
             ],
             [
              1,
              "#f0f921"
             ]
            ],
            "type": "heatmap"
           }
          ],
          "histogram": [
           {
            "marker": {
             "pattern": {
              "fillmode": "overlay",
              "size": 10,
              "solidity": 0.2
             }
            },
            "type": "histogram"
           }
          ],
          "histogram2d": [
           {
            "colorbar": {
             "outlinewidth": 0,
             "ticks": ""
            },
            "colorscale": [
             [
              0,
              "#0d0887"
             ],
             [
              0.1111111111111111,
              "#46039f"
             ],
             [
              0.2222222222222222,
              "#7201a8"
             ],
             [
              0.3333333333333333,
              "#9c179e"
             ],
             [
              0.4444444444444444,
              "#bd3786"
             ],
             [
              0.5555555555555556,
              "#d8576b"
             ],
             [
              0.6666666666666666,
              "#ed7953"
             ],
             [
              0.7777777777777778,
              "#fb9f3a"
             ],
             [
              0.8888888888888888,
              "#fdca26"
             ],
             [
              1,
              "#f0f921"
             ]
            ],
            "type": "histogram2d"
           }
          ],
          "histogram2dcontour": [
           {
            "colorbar": {
             "outlinewidth": 0,
             "ticks": ""
            },
            "colorscale": [
             [
              0,
              "#0d0887"
             ],
             [
              0.1111111111111111,
              "#46039f"
             ],
             [
              0.2222222222222222,
              "#7201a8"
             ],
             [
              0.3333333333333333,
              "#9c179e"
             ],
             [
              0.4444444444444444,
              "#bd3786"
             ],
             [
              0.5555555555555556,
              "#d8576b"
             ],
             [
              0.6666666666666666,
              "#ed7953"
             ],
             [
              0.7777777777777778,
              "#fb9f3a"
             ],
             [
              0.8888888888888888,
              "#fdca26"
             ],
             [
              1,
              "#f0f921"
             ]
            ],
            "type": "histogram2dcontour"
           }
          ],
          "mesh3d": [
           {
            "colorbar": {
             "outlinewidth": 0,
             "ticks": ""
            },
            "type": "mesh3d"
           }
          ],
          "parcoords": [
           {
            "line": {
             "colorbar": {
              "outlinewidth": 0,
              "ticks": ""
             }
            },
            "type": "parcoords"
           }
          ],
          "pie": [
           {
            "automargin": true,
            "type": "pie"
           }
          ],
          "scatter": [
           {
            "fillpattern": {
             "fillmode": "overlay",
             "size": 10,
             "solidity": 0.2
            },
            "type": "scatter"
           }
          ],
          "scatter3d": [
           {
            "line": {
             "colorbar": {
              "outlinewidth": 0,
              "ticks": ""
             }
            },
            "marker": {
             "colorbar": {
              "outlinewidth": 0,
              "ticks": ""
             }
            },
            "type": "scatter3d"
           }
          ],
          "scattercarpet": [
           {
            "marker": {
             "colorbar": {
              "outlinewidth": 0,
              "ticks": ""
             }
            },
            "type": "scattercarpet"
           }
          ],
          "scattergeo": [
           {
            "marker": {
             "colorbar": {
              "outlinewidth": 0,
              "ticks": ""
             }
            },
            "type": "scattergeo"
           }
          ],
          "scattergl": [
           {
            "marker": {
             "colorbar": {
              "outlinewidth": 0,
              "ticks": ""
             }
            },
            "type": "scattergl"
           }
          ],
          "scattermap": [
           {
            "marker": {
             "colorbar": {
              "outlinewidth": 0,
              "ticks": ""
             }
            },
            "type": "scattermap"
           }
          ],
          "scattermapbox": [
           {
            "marker": {
             "colorbar": {
              "outlinewidth": 0,
              "ticks": ""
             }
            },
            "type": "scattermapbox"
           }
          ],
          "scatterpolar": [
           {
            "marker": {
             "colorbar": {
              "outlinewidth": 0,
              "ticks": ""
             }
            },
            "type": "scatterpolar"
           }
          ],
          "scatterpolargl": [
           {
            "marker": {
             "colorbar": {
              "outlinewidth": 0,
              "ticks": ""
             }
            },
            "type": "scatterpolargl"
           }
          ],
          "scatterternary": [
           {
            "marker": {
             "colorbar": {
              "outlinewidth": 0,
              "ticks": ""
             }
            },
            "type": "scatterternary"
           }
          ],
          "surface": [
           {
            "colorbar": {
             "outlinewidth": 0,
             "ticks": ""
            },
            "colorscale": [
             [
              0,
              "#0d0887"
             ],
             [
              0.1111111111111111,
              "#46039f"
             ],
             [
              0.2222222222222222,
              "#7201a8"
             ],
             [
              0.3333333333333333,
              "#9c179e"
             ],
             [
              0.4444444444444444,
              "#bd3786"
             ],
             [
              0.5555555555555556,
              "#d8576b"
             ],
             [
              0.6666666666666666,
              "#ed7953"
             ],
             [
              0.7777777777777778,
              "#fb9f3a"
             ],
             [
              0.8888888888888888,
              "#fdca26"
             ],
             [
              1,
              "#f0f921"
             ]
            ],
            "type": "surface"
           }
          ],
          "table": [
           {
            "cells": {
             "fill": {
              "color": "#EBF0F8"
             },
             "line": {
              "color": "white"
             }
            },
            "header": {
             "fill": {
              "color": "#C8D4E3"
             },
             "line": {
              "color": "white"
             }
            },
            "type": "table"
           }
          ]
         },
         "layout": {
          "annotationdefaults": {
           "arrowcolor": "#2a3f5f",
           "arrowhead": 0,
           "arrowwidth": 1
          },
          "autotypenumbers": "strict",
          "coloraxis": {
           "colorbar": {
            "outlinewidth": 0,
            "ticks": ""
           }
          },
          "colorscale": {
           "diverging": [
            [
             0,
             "#8e0152"
            ],
            [
             0.1,
             "#c51b7d"
            ],
            [
             0.2,
             "#de77ae"
            ],
            [
             0.3,
             "#f1b6da"
            ],
            [
             0.4,
             "#fde0ef"
            ],
            [
             0.5,
             "#f7f7f7"
            ],
            [
             0.6,
             "#e6f5d0"
            ],
            [
             0.7,
             "#b8e186"
            ],
            [
             0.8,
             "#7fbc41"
            ],
            [
             0.9,
             "#4d9221"
            ],
            [
             1,
             "#276419"
            ]
           ],
           "sequential": [
            [
             0,
             "#0d0887"
            ],
            [
             0.1111111111111111,
             "#46039f"
            ],
            [
             0.2222222222222222,
             "#7201a8"
            ],
            [
             0.3333333333333333,
             "#9c179e"
            ],
            [
             0.4444444444444444,
             "#bd3786"
            ],
            [
             0.5555555555555556,
             "#d8576b"
            ],
            [
             0.6666666666666666,
             "#ed7953"
            ],
            [
             0.7777777777777778,
             "#fb9f3a"
            ],
            [
             0.8888888888888888,
             "#fdca26"
            ],
            [
             1,
             "#f0f921"
            ]
           ],
           "sequentialminus": [
            [
             0,
             "#0d0887"
            ],
            [
             0.1111111111111111,
             "#46039f"
            ],
            [
             0.2222222222222222,
             "#7201a8"
            ],
            [
             0.3333333333333333,
             "#9c179e"
            ],
            [
             0.4444444444444444,
             "#bd3786"
            ],
            [
             0.5555555555555556,
             "#d8576b"
            ],
            [
             0.6666666666666666,
             "#ed7953"
            ],
            [
             0.7777777777777778,
             "#fb9f3a"
            ],
            [
             0.8888888888888888,
             "#fdca26"
            ],
            [
             1,
             "#f0f921"
            ]
           ]
          },
          "colorway": [
           "#636efa",
           "#EF553B",
           "#00cc96",
           "#ab63fa",
           "#FFA15A",
           "#19d3f3",
           "#FF6692",
           "#B6E880",
           "#FF97FF",
           "#FECB52"
          ],
          "font": {
           "color": "#2a3f5f"
          },
          "geo": {
           "bgcolor": "white",
           "lakecolor": "white",
           "landcolor": "#E5ECF6",
           "showlakes": true,
           "showland": true,
           "subunitcolor": "white"
          },
          "hoverlabel": {
           "align": "left"
          },
          "hovermode": "closest",
          "mapbox": {
           "style": "light"
          },
          "paper_bgcolor": "white",
          "plot_bgcolor": "#E5ECF6",
          "polar": {
           "angularaxis": {
            "gridcolor": "white",
            "linecolor": "white",
            "ticks": ""
           },
           "bgcolor": "#E5ECF6",
           "radialaxis": {
            "gridcolor": "white",
            "linecolor": "white",
            "ticks": ""
           }
          },
          "scene": {
           "xaxis": {
            "backgroundcolor": "#E5ECF6",
            "gridcolor": "white",
            "gridwidth": 2,
            "linecolor": "white",
            "showbackground": true,
            "ticks": "",
            "zerolinecolor": "white"
           },
           "yaxis": {
            "backgroundcolor": "#E5ECF6",
            "gridcolor": "white",
            "gridwidth": 2,
            "linecolor": "white",
            "showbackground": true,
            "ticks": "",
            "zerolinecolor": "white"
           },
           "zaxis": {
            "backgroundcolor": "#E5ECF6",
            "gridcolor": "white",
            "gridwidth": 2,
            "linecolor": "white",
            "showbackground": true,
            "ticks": "",
            "zerolinecolor": "white"
           }
          },
          "shapedefaults": {
           "line": {
            "color": "#2a3f5f"
           }
          },
          "ternary": {
           "aaxis": {
            "gridcolor": "white",
            "linecolor": "white",
            "ticks": ""
           },
           "baxis": {
            "gridcolor": "white",
            "linecolor": "white",
            "ticks": ""
           },
           "bgcolor": "#E5ECF6",
           "caxis": {
            "gridcolor": "white",
            "linecolor": "white",
            "ticks": ""
           }
          },
          "title": {
           "x": 0.05
          },
          "xaxis": {
           "automargin": true,
           "gridcolor": "white",
           "linecolor": "white",
           "ticks": "",
           "title": {
            "standoff": 15
           },
           "zerolinecolor": "white",
           "zerolinewidth": 2
          },
          "yaxis": {
           "automargin": true,
           "gridcolor": "white",
           "linecolor": "white",
           "ticks": "",
           "title": {
            "standoff": 15
           },
           "zerolinecolor": "white",
           "zerolinewidth": 2
          }
         }
        },
        "title": {
         "text": "t-SNE Visualization with 4 Agglomerative Clusters"
        },
        "xaxis": {
         "anchor": "y",
         "domain": [
          0,
          1
         ],
         "title": {
          "text": "t-SNE Component 1"
         },
         "zeroline": false
        },
        "yaxis": {
         "anchor": "x",
         "domain": [
          0,
          1
         ],
         "title": {
          "text": "t-SNE Component 2"
         },
         "zeroline": false
        }
       }
      }
     },
     "metadata": {},
     "output_type": "display_data"
    }
   ],
   "source": [
    "# 8b. Cluster with Agglomerative Clustering and Color t-SNE Plot\n",
    "if 'scaled_features' in locals() and scaled_features.shape[0] > 1:\n",
    "    # Check if tsne_df was created (i.e., t-SNE ran successfully)\n",
    "    if 'tsne_df' in locals() and tsne_df is not None and not tsne_df.empty:\n",
    "        n_clusters = 0\n",
    "        if scaled_features.shape[0] > 0:\n",
    "            n_clusters = min(4, scaled_features.shape[0]) \n",
    "\n",
    "        if n_clusters >= 2: \n",
    "            agg_clustering = AgglomerativeClustering(n_clusters=n_clusters)\n",
    "            cluster_labels = agg_clustering.fit_predict(scaled_features)\n",
    "\n",
    "            tsne_df_clustered = tsne_df.copy()\n",
    "            tsne_df_clustered['Cluster'] = cluster_labels\n",
    "            tsne_df_clustered['Cluster'] = tsne_df_clustered['Cluster'].astype(str) \n",
    "\n",
    "            fig_tsne_clustered = plot_scatter_plotly_2d(\n",
    "                df=tsne_df_clustered,\n",
    "                x_col='t-SNE Component 1',\n",
    "                y_col='t-SNE Component 2',\n",
    "                color_col='Cluster',\n",
    "                text_col_data=tsne_df_clustered.index,\n",
    "                title=f't-SNE Visualization with {n_clusters} Agglomerative Clusters',\n",
    "                labels_dict={\n",
    "                    't-SNE Component 1': 't-SNE Component 1',\n",
    "                    't-SNE Component 2': 't-SNE Component 2',\n",
    "                    'Cluster': 'Cluster'\n",
    "                },\n",
    "                marker_size=8,\n",
    "                text_position='top right',\n",
    "                add_zerolines=False\n",
    "            )\n",
    "            fig_tsne_clustered.show()\n",
    "        else:\n",
    "            print(\"Skipping Agglomerative Clustering: Not enough samples or clusters to form meaningful groups (need at least 2 clusters and enough samples).\")\n",
    "    elif 'tsne_df' not in locals() or tsne_df is None or tsne_df.empty:\n",
    "        print(\"Skipping Agglomerative Clustering visualization: t-SNE results (tsne_df) not available or empty.\")\n",
    "else:\n",
    "    print(\"Skipping Agglomerative Clustering: Not enough samples for t-SNE (and thus for clustering).\")\n"
   ]
  },
  {
   "cell_type": "code",
   "execution_count": 19,
   "id": "tsne-logp-affinity",
   "metadata": {},
   "outputs": [
    {
     "name": "stdout",
     "output_type": "stream",
     "text": [
      "\n",
      "Visualizing with t-SNE using LogP distance matrix (perplexity=30)...\n"
     ]
    },
    {
     "data": {
      "application/vnd.plotly.v1+json": {
       "config": {
        "plotlyServerURL": "https://plot.ly"
       },
       "data": [
        {
         "hovertemplate": "%{hovertext}<extra></extra>",
         "hovertext": [
          "CCC1=NN2C(O)=C(SC2=N1)C(N1CC(C)OC(C)C1)C1=CC=CC(OC)=C1",
          "CCC1=CC=C(OCC(=O)NC2=CC=C(C)C=C2O)C=C1",
          "CC1=CN=C(CN2CCN(CC2)C2=NC=CC=C2F)C=N1",
          "CC(C)C1=NN=C2SCC(=NN12)C1=CC2=CC=CC=C2O1",
          "CNC1=CC=C2N=C(NC2=N1)C1(C)CC[NH2+]CC1",
          "COC1=CC(C=CC)=CC=C1OCC(=O)NC1CCC(C1)SC",
          "CC(N(C)C(=O)NC1=CN=C2N(C)C(=O)N(C)C(=O)C2=C1)C1=CC=CC=C1",
          "COC1=CC(=CC=C1O)C(C)NC1CC[NH+](C)CC1",
          "COC(=O)C1CC([NH3+])CN(C1)C(=O)OCC1=CC=CC=C1",
          "CC1=C(Cl)C=CC=C1NC=C1C(C)=C(C#N)C(=O)N(CC2CCCO2)C1=O",
          "FC1=CC=C(F)C(CCCC(=O)N2CCCC(C[NH+]3CCCCCC3)C2)=C1",
          "CC1=CC(=O)NC(NN=CC2=C(Cl)N=C3C=CC=CN3C2=O)=N1",
          "COCCC(=O)NC(C)CC1=C(Cl)C=CC=C1Cl",
          "CCC1(CNC(=O)C2=C(N=CS2)C2CC2)CCC1",
          "CCC(N(C)S(=O)(=O)C1=CC=C(C=C1C)C#N)C1=CC=NC=C1",
          "OC1=CC=C(C=C2SC(=O)N(CC3=CC=CC=C3C#N)C2=O)C=C1I",
          "CC(C)C1=NC=C(C2=CC(C)=NO2)C(=N1)C1CCC(CNC(=O)C2=C(C)N=CS2)CC1",
          "CC1=CC=C(N2C=C(N=N2)C(=S)N2CCOCC2)C(O)=C1",
          "CC[NH2+]C(C)C1=CC=NC(OC2=CN=CC(Br)=C2)=C1",
          "BrC1=CC=C(C=N1)C(=O)NCC1=CC=CC2=CC=CC=C12",
          "CC1=CC(C)=NC(NNS(=O)(=O)C2=CC=C(Cl)C=C2F)=N1",
          "CCC1=CC=C(C[NH+]2CCCC(C2)N2CCCC2=O)O1",
          "COC1=CC=CC(Cl)=C1CN(C)C(C)CC#N",
          "CN(CC1=COC=C1)C1(C[NH3+])CC(C)(C)OC1(C)C",
          "CC1(C[NH+]=C(N)N1CC1CCCO1)C1=CN=CC=N1",
          "COC1=C2OC(=CC2=CC=C1)C(=O)C1=C([O-])C(=O)N(C1C1=CC=C(F)C=C1)C1=NOC(C)=C1",
          "COC1=CC=C(CCC(C)NC(=O)C2=NC=CC=C2C(F)(F)F)C=C1",
          "CCC([NH2+]CC1=CNC=C1)C1=CC=CC=C1OC(F)F",
          "COC1=CC=C(NC(=O)NCC2CN3CCCCC3CO2)C=C1F",
          "ClC1=CC=C(C=NNC(=O)C(=O)NCC2=CC=CC=N2)C=C1",
          "CCN1C=C(CC(=O)N2CCS(=O)C(C)(C)C2)C2=CC=CC=C12",
          "FC1=CC=C(CN2CCN(CC(=O)NCC3=CC=CS3)C2=O)C(Cl)=C1",
          "CC1=CC=C(C=C1)C1C2C(=O)CC(CC2=NC2=NC=NN12)C1=CC=CO1",
          "CCC1=NSC(NC2=CC=C(NC(=O)C3CCCO3)C=C2)=N1",
          "CCCCNC(=O)CC1=C(C)N2N=C(SC)N=C2N=C1C",
          "CCC(NNC(=O)C1=CC(OC)=C(OC)C(OC)=C1)=C1C=CC(=O)C=C1",
          "CCC1=NOC(=N1)C1=CC=C(C[NH3+])C=C1",
          "C(CSC1=NC=NC2=CC=CC=C12)SC1=CC=CC=C1",
          "CCC[NH+]1CCC(CC1)N(C)CC1=C(C)N(C2CC2)C(C)=C1",
          "CCCCOC(=O)C(C)([NH3+])CC",
          "CC1=CC(F)=CC=C1C(O)C1(C[NH3+])CCOCC1",
          "CC(O)C1=CC=C(C)C=C1OCC1=NC(=CS1)C(C)(C)C",
          "COC(=O)C1=CC=C(OC)C=C1OCC(=O)NC1=CC=C(F)C(F)=C1",
          "CCC[NH+](CCC)CC1=CC=C(O)C(N)=C1",
          "CCCC1=CC(=NO1)C1CCCN1S(=O)(=O)C1=CC=C(OC)C(OC)=C1",
          "CCOC1=CC=CC=C1C[NH2+]C(CC)C1=CC=CC=C1",
          "COC1CCCC1NC(=O)C1=CC=NC=C1C#CCO",
          "CC1=CC=C(C=C1)C(CNC(=O)N1CCC(C)(C)C1)N1CCOCC1",
          "O=C(NN=CC1=CNC2=CC=CC=C12)C1=CC(=NC2=CC=CC=C12)C1CC1",
          "COC1=CC(C)=CC=C1NCC(=O)NCCC1=CC=CC=C1C",
          "COC1=CC=C(C=C1)N1N=C2CS(=O)(=O)CC2=C1NC(=O)C1=C(C)ON=C1C1=CC=CC=C1Cl",
          "COC(=O)C1=CC=C(NC(=O)C2CCCC(C)C2)C(O)=C1",
          "CCOC1=CC=CC=C1C=CC(=O)NCC(C)(O)C1=CC=C(F)C=C1",
          "COC1=CC=CC(=C1)N1CC(CC1=O)C(=O)NCCNC(=O)C1=CC=CO1",
          "CN1N=C(C)C(=C1NC1CCOC1C1=CC=C(Cl)C=C1)[N+]([O-])=O",
          "COC(=O)CC(C)(C[NH3+])C1=CC(F)=C(C)C=C1F",
          "FC1=CC=CC(F)=C1C=CC(=O)NNC(=O)CN1N=NC(=N1)C1=CC=CC=C1",
          "[O-][N+](=O)C1=CC=C(NN=C(C2=CC=CC=C2)C2=CC=NC=C2)C(=C1)[N+]([O-])=O",
          "O=C(CCC1=NC2=CC=CC=C2C(=O)N1)NC1CCC2=CC=CC=C12",
          "COC1=CC=C(CCNC(=O)C2CN(C2)C(=O)C2=NOC(C)=C2)C=C1OC",
          "CC1=CC=CC(NC(=O)NC2=CC=C3N=C(NS(C)(=O)=O)SC3=C2)=C1",
          "OC(C(=O)NC1=CC=CC(CS(=O)C2=CC=CC=C2)=C1)C1=CC=CC=C1",
          "CN(C1CCN(CC1)C1=CC=[NH+]C2=CC(F)=CC=C12)C(C)=O",
          "CC1CN(CC1C)C(=O)NCC1CCC(O1)C([O-])=O",
          "FC(F)(F)C1=NN=C(SCC(=O)NC2=CC=CC=C2C#N)N1CC=C",
          "COC(=O)C1=CC=CC(CCNC(=O)NC2=CC(F)=CC=C2C)=C1",
          "CCN(CC1=CC=CC(NC(=O)C2CC(C)OC(C)C2)=C1)C(C)=O",
          "COC(=O)C1=C(C)NC(C(=O)NCC(N(C)C)C2=C(F)C=CC=C2Cl)=C1C",
          "COC(=O)C1=CC=C(C=C1)C1C2C(ON1C1=CC=CC=C1)C(=O)N(C2=O)C1=CC=C(OC)C=C1",
          "COCC1=CC(C)=NC(OCC(=O)NN=CC2=CC=CC(F)=C2)=C1C#N",
          "CC1=C(N=C(NC(=O)C2CCC(=O)O2)S1)C1=CC=C(C)C=C1",
          "CC1=CC=C(C[NH2+]C(C)(C)CO)C(C)=C1",
          "FC1=CC=CC=C1OCCCNC1=NN=NN1C1=CC=CC=C1",
          "CCC(CC)OC1=CC=C(C=C1)C1(C)NC(=O)NC1=O",
          "CCC(CC)N(C)CC1=C(F)C=CC=C1[N+]([O-])=O",
          "O=C(CC1CCCCO1)NCCCCC#N",
          "CC1=CC=C(C=C1)C1=NNC=C1CN1CCC(C1)[NH+]1CCCC1",
          "CN(CC(O)CN1CCOCC1)CC1=NOC(=N1)C(C)(C)C",
          "CN(CC1=NN=C(C)N1C)C(=O)NCC1=CC=C(F)C(Cl)=C1",
          "ClC1=CC=CN=C1NNC(=O)C1=CC=C(OC2CCC2)C=C1Cl",
          "COC1=CC=C(CN2CCN(CC2)S(=O)(=O)C2=CC=CC=C2)C=C1Br",
          "COC1=CC=CC2=C1OC1=CC=CC=C1N=C2N1CCN(C(C)C1)C(=O)C1=C(F)C=CC=C1F",
          "CCCC1=CC=C(C=C1)C(=O)NC(CO)CC1=CNC2=CC=CC=C12",
          "CC1CSC(SCC2=C(F)C=CC=C2[N+]([O-])=O)=N1",
          "FC(F)(F)C1=CC=C(CCNC(=O)NCC2=CC=C(N=C2)N2C=CN=C2)C=C1",
          "CC1=CC2=C(N3CCC(CC3)C(=O)N3CCCC3)C(=CN=C2C=C1)C#N",
          "CC(C)CN1N=C(C)C(CCC(=O)N2CCCCCC2C2=CC=CN2C)=C1C",
          "COCCNS(=O)(=O)C1=CC=CC(=C1)C(=O)N(C)C1CCCC(C)C1",
          "[O-]C(=O)C1C[NH+](CC1C1CC1)C1CCN(CC1)C(=O)C1=CC=CC=C1",
          "CNC(=O)C1=CC=CC=C1NC(=O)CN(C)C(=O)C1=CC=CS1",
          "COC1=CC(CNC(=O)C2=C(Br)C=CO2)=CC=N1",
          "O=C(NCC1OCCN1S(=O)(=O)C1=CC=CS1)C(=O)NCC1=CC=NC=C1",
          "CC(N1C(CCNC(=O)C2=CC=CC=C2Cl)=NC2=CC=CC=C12)C(C)=O",
          "CCCCN(C)C(=O)CC1=CC=CC2=CC=CC=C12",
          "CCC[NH2+]C(CC#CC)C1(CCCCCC1)N(C)C",
          "ClC1=CC=C(C=C1)C(=O)C[NH+]1CCC(CC1)C1=NN=C(O1)C1=CC=CO1",
          "O=C(CC1OCCC2=CC=CC=C12)NNC(=O)CC1=CC=NC=C1",
          "CC([NH2+]CC1=C(C)N(CC2=CC=C(C)C=C2)N=C1C)C1=CC=C(Cl)C=C1",
          "CC(=O)C1=NC2=CC=CC=C2N1CC1CCCCN1C(=O)OCC1=CC=CC=C1",
          "CC1=CC(C=NNC(=O)C(=O)NC2=CC=C(Cl)C(Cl)=C2)=C(C)N1C1=CC=CC(Cl)=C1"
         ],
         "legendgroup": "",
         "marker": {
          "color": "#636efa",
          "size": 8,
          "symbol": "circle"
         },
         "mode": "markers",
         "name": "",
         "orientation": "v",
         "showlegend": false,
         "type": "scatter",
         "x": {
          "bdata": "ctoyQEpRWkB4uZPACsp6QDKp3sCofYZAaOZ3wEC+3sCYuOrAlrFQQJGerj+LvrvAd5DPP9V3akBYot8/EyunQN2eq0Bxt7rAcG7zvgWNqEChDzPAxdHMwIjWA0D+x5TABhgHwelcf0CfzKRAb+XpPt8jJsDepJ/A6oyHv4seD0CaLoxALcGRP1dMacCDWP2/CVbGwAGcrEAqXArA2KTfwNbbtsCOLbVAFwCuPWcAxcDK4iNAuKs9QPHj2MBWzIo+0hi0QAbz3T//HLNAwrtnP8G5KkAVdLzAXLQ/QKFvrsCpLKrASOCgQOUrF78oPq3Azl2LQMnHmECVyRPAZPcBwaLYDkCo6VxAYqkZQPHbLEDJRJBAM4ZIwM7c0z9YD8jATwfUvqedDsDQOnVAMlOGwPS+mcD8n+nAVRokwBKsqUDYDIc/JRmtQJUmbUAxyodAG3lUQI+kSUAHY7VAXhgQwFTaAcH7r4TAi5javz2J+8BNiZtA8tiaQLa+2r+Ouku/eESiwADLpkB1g6dAa/OsQA==",
          "dtype": "f4"
         },
         "xaxis": "x",
         "y": {
          "bdata": "wcAjQNvpDUBNzXDA4FaBQGUpoMCRdXdA219TwC7Ai8CvaZrADoRDQKtGDj9Mk5DAG3e/PwM0LUA5s0M/9fbFQAxw90BE6XLA3GtOv7QAs0D6SRLAKTOLwBk1lj+rN1zAYGygwPT5Z0BmlaxA8FrjvaBbIMAdo4LAGqSfv0ISlT++ypJASi4MP1uIP8DqswzA5XuXwB4C40CaiuG/w8CHwNamksAk/thA2PexvinhdMDEydQ/Nr89QGjNnMBQjyS+DQbXQJfGxz8n08hA7boIP4nYKkB2dozABr7zP5K0iMCYxmLAJwugQOIdWb+iJWvAajGSQFhHk0Biwx7A5C6gwNHCiD+aVRRAsToEQPrXFUB/bHZAmskpwN8rrj8is3vAUMg2v/Ei6r8mtjBApMVmwGNJXMCB8pDAu74BwPqWwUAE3S4/l5H2QMZkbUD5zVFARn8/QNSXBEAeNeZAjYgXwH/YnsDIs0bA+3Ltv0PpnMBi96hAo1eMQMTx27/t/3y/3tSDwNyl10Bap95Az0n7QA==",
          "dtype": "f4"
         },
         "yaxis": "y"
        }
       ],
       "layout": {
        "legend": {
         "tracegroupgap": 0
        },
        "template": {
         "data": {
          "bar": [
           {
            "error_x": {
             "color": "#2a3f5f"
            },
            "error_y": {
             "color": "#2a3f5f"
            },
            "marker": {
             "line": {
              "color": "#E5ECF6",
              "width": 0.5
             },
             "pattern": {
              "fillmode": "overlay",
              "size": 10,
              "solidity": 0.2
             }
            },
            "type": "bar"
           }
          ],
          "barpolar": [
           {
            "marker": {
             "line": {
              "color": "#E5ECF6",
              "width": 0.5
             },
             "pattern": {
              "fillmode": "overlay",
              "size": 10,
              "solidity": 0.2
             }
            },
            "type": "barpolar"
           }
          ],
          "carpet": [
           {
            "aaxis": {
             "endlinecolor": "#2a3f5f",
             "gridcolor": "white",
             "linecolor": "white",
             "minorgridcolor": "white",
             "startlinecolor": "#2a3f5f"
            },
            "baxis": {
             "endlinecolor": "#2a3f5f",
             "gridcolor": "white",
             "linecolor": "white",
             "minorgridcolor": "white",
             "startlinecolor": "#2a3f5f"
            },
            "type": "carpet"
           }
          ],
          "choropleth": [
           {
            "colorbar": {
             "outlinewidth": 0,
             "ticks": ""
            },
            "type": "choropleth"
           }
          ],
          "contour": [
           {
            "colorbar": {
             "outlinewidth": 0,
             "ticks": ""
            },
            "colorscale": [
             [
              0,
              "#0d0887"
             ],
             [
              0.1111111111111111,
              "#46039f"
             ],
             [
              0.2222222222222222,
              "#7201a8"
             ],
             [
              0.3333333333333333,
              "#9c179e"
             ],
             [
              0.4444444444444444,
              "#bd3786"
             ],
             [
              0.5555555555555556,
              "#d8576b"
             ],
             [
              0.6666666666666666,
              "#ed7953"
             ],
             [
              0.7777777777777778,
              "#fb9f3a"
             ],
             [
              0.8888888888888888,
              "#fdca26"
             ],
             [
              1,
              "#f0f921"
             ]
            ],
            "type": "contour"
           }
          ],
          "contourcarpet": [
           {
            "colorbar": {
             "outlinewidth": 0,
             "ticks": ""
            },
            "type": "contourcarpet"
           }
          ],
          "heatmap": [
           {
            "colorbar": {
             "outlinewidth": 0,
             "ticks": ""
            },
            "colorscale": [
             [
              0,
              "#0d0887"
             ],
             [
              0.1111111111111111,
              "#46039f"
             ],
             [
              0.2222222222222222,
              "#7201a8"
             ],
             [
              0.3333333333333333,
              "#9c179e"
             ],
             [
              0.4444444444444444,
              "#bd3786"
             ],
             [
              0.5555555555555556,
              "#d8576b"
             ],
             [
              0.6666666666666666,
              "#ed7953"
             ],
             [
              0.7777777777777778,
              "#fb9f3a"
             ],
             [
              0.8888888888888888,
              "#fdca26"
             ],
             [
              1,
              "#f0f921"
             ]
            ],
            "type": "heatmap"
           }
          ],
          "histogram": [
           {
            "marker": {
             "pattern": {
              "fillmode": "overlay",
              "size": 10,
              "solidity": 0.2
             }
            },
            "type": "histogram"
           }
          ],
          "histogram2d": [
           {
            "colorbar": {
             "outlinewidth": 0,
             "ticks": ""
            },
            "colorscale": [
             [
              0,
              "#0d0887"
             ],
             [
              0.1111111111111111,
              "#46039f"
             ],
             [
              0.2222222222222222,
              "#7201a8"
             ],
             [
              0.3333333333333333,
              "#9c179e"
             ],
             [
              0.4444444444444444,
              "#bd3786"
             ],
             [
              0.5555555555555556,
              "#d8576b"
             ],
             [
              0.6666666666666666,
              "#ed7953"
             ],
             [
              0.7777777777777778,
              "#fb9f3a"
             ],
             [
              0.8888888888888888,
              "#fdca26"
             ],
             [
              1,
              "#f0f921"
             ]
            ],
            "type": "histogram2d"
           }
          ],
          "histogram2dcontour": [
           {
            "colorbar": {
             "outlinewidth": 0,
             "ticks": ""
            },
            "colorscale": [
             [
              0,
              "#0d0887"
             ],
             [
              0.1111111111111111,
              "#46039f"
             ],
             [
              0.2222222222222222,
              "#7201a8"
             ],
             [
              0.3333333333333333,
              "#9c179e"
             ],
             [
              0.4444444444444444,
              "#bd3786"
             ],
             [
              0.5555555555555556,
              "#d8576b"
             ],
             [
              0.6666666666666666,
              "#ed7953"
             ],
             [
              0.7777777777777778,
              "#fb9f3a"
             ],
             [
              0.8888888888888888,
              "#fdca26"
             ],
             [
              1,
              "#f0f921"
             ]
            ],
            "type": "histogram2dcontour"
           }
          ],
          "mesh3d": [
           {
            "colorbar": {
             "outlinewidth": 0,
             "ticks": ""
            },
            "type": "mesh3d"
           }
          ],
          "parcoords": [
           {
            "line": {
             "colorbar": {
              "outlinewidth": 0,
              "ticks": ""
             }
            },
            "type": "parcoords"
           }
          ],
          "pie": [
           {
            "automargin": true,
            "type": "pie"
           }
          ],
          "scatter": [
           {
            "fillpattern": {
             "fillmode": "overlay",
             "size": 10,
             "solidity": 0.2
            },
            "type": "scatter"
           }
          ],
          "scatter3d": [
           {
            "line": {
             "colorbar": {
              "outlinewidth": 0,
              "ticks": ""
             }
            },
            "marker": {
             "colorbar": {
              "outlinewidth": 0,
              "ticks": ""
             }
            },
            "type": "scatter3d"
           }
          ],
          "scattercarpet": [
           {
            "marker": {
             "colorbar": {
              "outlinewidth": 0,
              "ticks": ""
             }
            },
            "type": "scattercarpet"
           }
          ],
          "scattergeo": [
           {
            "marker": {
             "colorbar": {
              "outlinewidth": 0,
              "ticks": ""
             }
            },
            "type": "scattergeo"
           }
          ],
          "scattergl": [
           {
            "marker": {
             "colorbar": {
              "outlinewidth": 0,
              "ticks": ""
             }
            },
            "type": "scattergl"
           }
          ],
          "scattermap": [
           {
            "marker": {
             "colorbar": {
              "outlinewidth": 0,
              "ticks": ""
             }
            },
            "type": "scattermap"
           }
          ],
          "scattermapbox": [
           {
            "marker": {
             "colorbar": {
              "outlinewidth": 0,
              "ticks": ""
             }
            },
            "type": "scattermapbox"
           }
          ],
          "scatterpolar": [
           {
            "marker": {
             "colorbar": {
              "outlinewidth": 0,
              "ticks": ""
             }
            },
            "type": "scatterpolar"
           }
          ],
          "scatterpolargl": [
           {
            "marker": {
             "colorbar": {
              "outlinewidth": 0,
              "ticks": ""
             }
            },
            "type": "scatterpolargl"
           }
          ],
          "scatterternary": [
           {
            "marker": {
             "colorbar": {
              "outlinewidth": 0,
              "ticks": ""
             }
            },
            "type": "scatterternary"
           }
          ],
          "surface": [
           {
            "colorbar": {
             "outlinewidth": 0,
             "ticks": ""
            },
            "colorscale": [
             [
              0,
              "#0d0887"
             ],
             [
              0.1111111111111111,
              "#46039f"
             ],
             [
              0.2222222222222222,
              "#7201a8"
             ],
             [
              0.3333333333333333,
              "#9c179e"
             ],
             [
              0.4444444444444444,
              "#bd3786"
             ],
             [
              0.5555555555555556,
              "#d8576b"
             ],
             [
              0.6666666666666666,
              "#ed7953"
             ],
             [
              0.7777777777777778,
              "#fb9f3a"
             ],
             [
              0.8888888888888888,
              "#fdca26"
             ],
             [
              1,
              "#f0f921"
             ]
            ],
            "type": "surface"
           }
          ],
          "table": [
           {
            "cells": {
             "fill": {
              "color": "#EBF0F8"
             },
             "line": {
              "color": "white"
             }
            },
            "header": {
             "fill": {
              "color": "#C8D4E3"
             },
             "line": {
              "color": "white"
             }
            },
            "type": "table"
           }
          ]
         },
         "layout": {
          "annotationdefaults": {
           "arrowcolor": "#2a3f5f",
           "arrowhead": 0,
           "arrowwidth": 1
          },
          "autotypenumbers": "strict",
          "coloraxis": {
           "colorbar": {
            "outlinewidth": 0,
            "ticks": ""
           }
          },
          "colorscale": {
           "diverging": [
            [
             0,
             "#8e0152"
            ],
            [
             0.1,
             "#c51b7d"
            ],
            [
             0.2,
             "#de77ae"
            ],
            [
             0.3,
             "#f1b6da"
            ],
            [
             0.4,
             "#fde0ef"
            ],
            [
             0.5,
             "#f7f7f7"
            ],
            [
             0.6,
             "#e6f5d0"
            ],
            [
             0.7,
             "#b8e186"
            ],
            [
             0.8,
             "#7fbc41"
            ],
            [
             0.9,
             "#4d9221"
            ],
            [
             1,
             "#276419"
            ]
           ],
           "sequential": [
            [
             0,
             "#0d0887"
            ],
            [
             0.1111111111111111,
             "#46039f"
            ],
            [
             0.2222222222222222,
             "#7201a8"
            ],
            [
             0.3333333333333333,
             "#9c179e"
            ],
            [
             0.4444444444444444,
             "#bd3786"
            ],
            [
             0.5555555555555556,
             "#d8576b"
            ],
            [
             0.6666666666666666,
             "#ed7953"
            ],
            [
             0.7777777777777778,
             "#fb9f3a"
            ],
            [
             0.8888888888888888,
             "#fdca26"
            ],
            [
             1,
             "#f0f921"
            ]
           ],
           "sequentialminus": [
            [
             0,
             "#0d0887"
            ],
            [
             0.1111111111111111,
             "#46039f"
            ],
            [
             0.2222222222222222,
             "#7201a8"
            ],
            [
             0.3333333333333333,
             "#9c179e"
            ],
            [
             0.4444444444444444,
             "#bd3786"
            ],
            [
             0.5555555555555556,
             "#d8576b"
            ],
            [
             0.6666666666666666,
             "#ed7953"
            ],
            [
             0.7777777777777778,
             "#fb9f3a"
            ],
            [
             0.8888888888888888,
             "#fdca26"
            ],
            [
             1,
             "#f0f921"
            ]
           ]
          },
          "colorway": [
           "#636efa",
           "#EF553B",
           "#00cc96",
           "#ab63fa",
           "#FFA15A",
           "#19d3f3",
           "#FF6692",
           "#B6E880",
           "#FF97FF",
           "#FECB52"
          ],
          "font": {
           "color": "#2a3f5f"
          },
          "geo": {
           "bgcolor": "white",
           "lakecolor": "white",
           "landcolor": "#E5ECF6",
           "showlakes": true,
           "showland": true,
           "subunitcolor": "white"
          },
          "hoverlabel": {
           "align": "left"
          },
          "hovermode": "closest",
          "mapbox": {
           "style": "light"
          },
          "paper_bgcolor": "white",
          "plot_bgcolor": "#E5ECF6",
          "polar": {
           "angularaxis": {
            "gridcolor": "white",
            "linecolor": "white",
            "ticks": ""
           },
           "bgcolor": "#E5ECF6",
           "radialaxis": {
            "gridcolor": "white",
            "linecolor": "white",
            "ticks": ""
           }
          },
          "scene": {
           "xaxis": {
            "backgroundcolor": "#E5ECF6",
            "gridcolor": "white",
            "gridwidth": 2,
            "linecolor": "white",
            "showbackground": true,
            "ticks": "",
            "zerolinecolor": "white"
           },
           "yaxis": {
            "backgroundcolor": "#E5ECF6",
            "gridcolor": "white",
            "gridwidth": 2,
            "linecolor": "white",
            "showbackground": true,
            "ticks": "",
            "zerolinecolor": "white"
           },
           "zaxis": {
            "backgroundcolor": "#E5ECF6",
            "gridcolor": "white",
            "gridwidth": 2,
            "linecolor": "white",
            "showbackground": true,
            "ticks": "",
            "zerolinecolor": "white"
           }
          },
          "shapedefaults": {
           "line": {
            "color": "#2a3f5f"
           }
          },
          "ternary": {
           "aaxis": {
            "gridcolor": "white",
            "linecolor": "white",
            "ticks": ""
           },
           "baxis": {
            "gridcolor": "white",
            "linecolor": "white",
            "ticks": ""
           },
           "bgcolor": "#E5ECF6",
           "caxis": {
            "gridcolor": "white",
            "linecolor": "white",
            "ticks": ""
           }
          },
          "title": {
           "x": 0.05
          },
          "xaxis": {
           "automargin": true,
           "gridcolor": "white",
           "linecolor": "white",
           "ticks": "",
           "title": {
            "standoff": 15
           },
           "zerolinecolor": "white",
           "zerolinewidth": 2
          },
          "yaxis": {
           "automargin": true,
           "gridcolor": "white",
           "linecolor": "white",
           "ticks": "",
           "title": {
            "standoff": 15
           },
           "zerolinecolor": "white",
           "zerolinewidth": 2
          }
         }
        },
        "title": {
         "text": "Chemical Space Visualization using t-SNE (LogP Distance)"
        },
        "xaxis": {
         "anchor": "y",
         "domain": [
          0,
          1
         ],
         "title": {
          "text": "t-SNE LogP Component 1"
         },
         "zeroline": false
        },
        "yaxis": {
         "anchor": "x",
         "domain": [
          0,
          1
         ],
         "title": {
          "text": "t-SNE LogP Component 2"
         },
         "zeroline": false
        }
       }
      }
     },
     "metadata": {},
     "output_type": "display_data"
    }
   ],
   "source": [
    "# 8c. Visualize with t-SNE using LogP difference as affinity\n",
    "if 'desc_df' in locals() and 'MolLogP' in desc_df.columns:\n",
    "    logp_values = desc_df['MolLogP'].values\n",
    "    n_samples_logp = len(logp_values)\n",
    "\n",
    "    if n_samples_logp > 1:\n",
    "        logp_distance_matrix = np.abs(logp_values[:, np.newaxis] - logp_values[np.newaxis, :])\n",
    "        perplexity_value_logp = min(30, n_samples_logp - 1)\n",
    "\n",
    "        if perplexity_value_logp > 0:\n",
    "            print(f\"\\nVisualizing with t-SNE using LogP distance matrix (perplexity={perplexity_value_logp})...\")\n",
    "            tsne_logp = TSNE(n_components=2, random_state=42, perplexity=perplexity_value_logp,\n",
    "                             metric=\"precomputed\", max_iter=300, init=\"random\") # init=\"random\" or \"pca\" if precomputed\n",
    "            tsne_logp_results = tsne_logp.fit_transform(logp_distance_matrix)\n",
    "\n",
    "            tsne_logp_df = pd.DataFrame(data=tsne_logp_results,\n",
    "                                       columns=['t-SNE LogP Component 1', 't-SNE LogP Component 2'])\n",
    "            tsne_logp_df.index = molecule_names # Assuming molecule_names is still aligned\n",
    "\n",
    "            fig_tsne_logp = plot_scatter_plotly_2d(\n",
    "                df=tsne_logp_df,\n",
    "                x_col='t-SNE LogP Component 1',\n",
    "                y_col='t-SNE LogP Component 2',\n",
    "                text_col_data=tsne_logp_df.index,\n",
    "                title='Chemical Space Visualization using t-SNE (LogP Distance)',\n",
    "                labels_dict={\n",
    "                    't-SNE LogP Component 1': 't-SNE LogP Component 1',\n",
    "                    't-SNE LogP Component 2': 't-SNE LogP Component 2'\n",
    "                },\n",
    "                marker_size=8,\n",
    "                text_position='top right',\n",
    "                add_zerolines=False\n",
    "            )\n",
    "            fig_tsne_logp.show()\n",
    "\n",
    "            # Original Matplotlib/Seaborn code:\n",
    "            # plt.figure(figsize=(12, 8))\n",
    "            # sns.scatterplot(x='t-SNE LogP Component 1', y='t-SNE LogP Component 2', data=tsne_logp_df, s=100, legend=False)\n",
    "            # for i, name in enumerate(tsne_logp_df.index):\n",
    "            #     plt.annotate(name, (tsne_logp_df.iloc[i, 0], tsne_logp_df.iloc[i, 1]), textcoords=\"offset points\", xytext=(5,5), ha='left')\n",
    "            # plt.title('Chemical Space Visualization using t-SNE (LogP Distance)')\n",
    "            # plt.xlabel('t-SNE LogP Component 1')\n",
    "            # plt.ylabel('t-SNE LogP Component 2')\n",
    "            # plt.grid(True)\n",
    "            # plt.show()\n",
    "        else:\n",
    "            print(\"Skipping t-SNE with LogP distance: Not enough samples for the chosen perplexity.\")\n",
    "    else:\n",
    "        print(\"Skipping t-SNE with LogP distance: Not enough samples.\")\n",
    "else:\n",
    "    print(\"\\nSkipping t-SNE with LogP distance: MolLogP data not found in desc_df.\")\n"
   ]
  },
  {
   "cell_type": "code",
   "execution_count": 20,
   "id": "opentsne-visualization",
   "metadata": {},
   "outputs": [
    {
     "name": "stdout",
     "output_type": "stream",
     "text": [
      "\n",
      "Visualizing with openTSNE...\n"
     ]
    },
    {
     "data": {
      "application/vnd.plotly.v1+json": {
       "config": {
        "plotlyServerURL": "https://plot.ly"
       },
       "data": [
        {
         "hovertemplate": "%{hovertext}<extra></extra>",
         "hovertext": [
          "CCC1=NN2C(O)=C(SC2=N1)C(N1CC(C)OC(C)C1)C1=CC=CC(OC)=C1",
          "CCC1=CC=C(OCC(=O)NC2=CC=C(C)C=C2O)C=C1",
          "CC1=CN=C(CN2CCN(CC2)C2=NC=CC=C2F)C=N1",
          "CC(C)C1=NN=C2SCC(=NN12)C1=CC2=CC=CC=C2O1",
          "CNC1=CC=C2N=C(NC2=N1)C1(C)CC[NH2+]CC1",
          "COC1=CC(C=CC)=CC=C1OCC(=O)NC1CCC(C1)SC",
          "CC(N(C)C(=O)NC1=CN=C2N(C)C(=O)N(C)C(=O)C2=C1)C1=CC=CC=C1",
          "COC1=CC(=CC=C1O)C(C)NC1CC[NH+](C)CC1",
          "COC(=O)C1CC([NH3+])CN(C1)C(=O)OCC1=CC=CC=C1",
          "CC1=C(Cl)C=CC=C1NC=C1C(C)=C(C#N)C(=O)N(CC2CCCO2)C1=O",
          "FC1=CC=C(F)C(CCCC(=O)N2CCCC(C[NH+]3CCCCCC3)C2)=C1",
          "CC1=CC(=O)NC(NN=CC2=C(Cl)N=C3C=CC=CN3C2=O)=N1",
          "COCCC(=O)NC(C)CC1=C(Cl)C=CC=C1Cl",
          "CCC1(CNC(=O)C2=C(N=CS2)C2CC2)CCC1",
          "CCC(N(C)S(=O)(=O)C1=CC=C(C=C1C)C#N)C1=CC=NC=C1",
          "OC1=CC=C(C=C2SC(=O)N(CC3=CC=CC=C3C#N)C2=O)C=C1I",
          "CC(C)C1=NC=C(C2=CC(C)=NO2)C(=N1)C1CCC(CNC(=O)C2=C(C)N=CS2)CC1",
          "CC1=CC=C(N2C=C(N=N2)C(=S)N2CCOCC2)C(O)=C1",
          "CC[NH2+]C(C)C1=CC=NC(OC2=CN=CC(Br)=C2)=C1",
          "BrC1=CC=C(C=N1)C(=O)NCC1=CC=CC2=CC=CC=C12",
          "CC1=CC(C)=NC(NNS(=O)(=O)C2=CC=C(Cl)C=C2F)=N1",
          "CCC1=CC=C(C[NH+]2CCCC(C2)N2CCCC2=O)O1",
          "COC1=CC=CC(Cl)=C1CN(C)C(C)CC#N",
          "CN(CC1=COC=C1)C1(C[NH3+])CC(C)(C)OC1(C)C",
          "CC1(C[NH+]=C(N)N1CC1CCCO1)C1=CN=CC=N1",
          "COC1=C2OC(=CC2=CC=C1)C(=O)C1=C([O-])C(=O)N(C1C1=CC=C(F)C=C1)C1=NOC(C)=C1",
          "COC1=CC=C(CCC(C)NC(=O)C2=NC=CC=C2C(F)(F)F)C=C1",
          "CCC([NH2+]CC1=CNC=C1)C1=CC=CC=C1OC(F)F",
          "COC1=CC=C(NC(=O)NCC2CN3CCCCC3CO2)C=C1F",
          "ClC1=CC=C(C=NNC(=O)C(=O)NCC2=CC=CC=N2)C=C1",
          "CCN1C=C(CC(=O)N2CCS(=O)C(C)(C)C2)C2=CC=CC=C12",
          "FC1=CC=C(CN2CCN(CC(=O)NCC3=CC=CS3)C2=O)C(Cl)=C1",
          "CC1=CC=C(C=C1)C1C2C(=O)CC(CC2=NC2=NC=NN12)C1=CC=CO1",
          "CCC1=NSC(NC2=CC=C(NC(=O)C3CCCO3)C=C2)=N1",
          "CCCCNC(=O)CC1=C(C)N2N=C(SC)N=C2N=C1C",
          "CCC(NNC(=O)C1=CC(OC)=C(OC)C(OC)=C1)=C1C=CC(=O)C=C1",
          "CCC1=NOC(=N1)C1=CC=C(C[NH3+])C=C1",
          "C(CSC1=NC=NC2=CC=CC=C12)SC1=CC=CC=C1",
          "CCC[NH+]1CCC(CC1)N(C)CC1=C(C)N(C2CC2)C(C)=C1",
          "CCCCOC(=O)C(C)([NH3+])CC",
          "CC1=CC(F)=CC=C1C(O)C1(C[NH3+])CCOCC1",
          "CC(O)C1=CC=C(C)C=C1OCC1=NC(=CS1)C(C)(C)C",
          "COC(=O)C1=CC=C(OC)C=C1OCC(=O)NC1=CC=C(F)C(F)=C1",
          "CCC[NH+](CCC)CC1=CC=C(O)C(N)=C1",
          "CCCC1=CC(=NO1)C1CCCN1S(=O)(=O)C1=CC=C(OC)C(OC)=C1",
          "CCOC1=CC=CC=C1C[NH2+]C(CC)C1=CC=CC=C1",
          "COC1CCCC1NC(=O)C1=CC=NC=C1C#CCO",
          "CC1=CC=C(C=C1)C(CNC(=O)N1CCC(C)(C)C1)N1CCOCC1",
          "O=C(NN=CC1=CNC2=CC=CC=C12)C1=CC(=NC2=CC=CC=C12)C1CC1",
          "COC1=CC(C)=CC=C1NCC(=O)NCCC1=CC=CC=C1C",
          "COC1=CC=C(C=C1)N1N=C2CS(=O)(=O)CC2=C1NC(=O)C1=C(C)ON=C1C1=CC=CC=C1Cl",
          "COC(=O)C1=CC=C(NC(=O)C2CCCC(C)C2)C(O)=C1",
          "CCOC1=CC=CC=C1C=CC(=O)NCC(C)(O)C1=CC=C(F)C=C1",
          "COC1=CC=CC(=C1)N1CC(CC1=O)C(=O)NCCNC(=O)C1=CC=CO1",
          "CN1N=C(C)C(=C1NC1CCOC1C1=CC=C(Cl)C=C1)[N+]([O-])=O",
          "COC(=O)CC(C)(C[NH3+])C1=CC(F)=C(C)C=C1F",
          "FC1=CC=CC(F)=C1C=CC(=O)NNC(=O)CN1N=NC(=N1)C1=CC=CC=C1",
          "[O-][N+](=O)C1=CC=C(NN=C(C2=CC=CC=C2)C2=CC=NC=C2)C(=C1)[N+]([O-])=O",
          "O=C(CCC1=NC2=CC=CC=C2C(=O)N1)NC1CCC2=CC=CC=C12",
          "COC1=CC=C(CCNC(=O)C2CN(C2)C(=O)C2=NOC(C)=C2)C=C1OC",
          "CC1=CC=CC(NC(=O)NC2=CC=C3N=C(NS(C)(=O)=O)SC3=C2)=C1",
          "OC(C(=O)NC1=CC=CC(CS(=O)C2=CC=CC=C2)=C1)C1=CC=CC=C1",
          "CN(C1CCN(CC1)C1=CC=[NH+]C2=CC(F)=CC=C12)C(C)=O",
          "CC1CN(CC1C)C(=O)NCC1CCC(O1)C([O-])=O",
          "FC(F)(F)C1=NN=C(SCC(=O)NC2=CC=CC=C2C#N)N1CC=C",
          "COC(=O)C1=CC=CC(CCNC(=O)NC2=CC(F)=CC=C2C)=C1",
          "CCN(CC1=CC=CC(NC(=O)C2CC(C)OC(C)C2)=C1)C(C)=O",
          "COC(=O)C1=C(C)NC(C(=O)NCC(N(C)C)C2=C(F)C=CC=C2Cl)=C1C",
          "COC(=O)C1=CC=C(C=C1)C1C2C(ON1C1=CC=CC=C1)C(=O)N(C2=O)C1=CC=C(OC)C=C1",
          "COCC1=CC(C)=NC(OCC(=O)NN=CC2=CC=CC(F)=C2)=C1C#N",
          "CC1=C(N=C(NC(=O)C2CCC(=O)O2)S1)C1=CC=C(C)C=C1",
          "CC1=CC=C(C[NH2+]C(C)(C)CO)C(C)=C1",
          "FC1=CC=CC=C1OCCCNC1=NN=NN1C1=CC=CC=C1",
          "CCC(CC)OC1=CC=C(C=C1)C1(C)NC(=O)NC1=O",
          "CCC(CC)N(C)CC1=C(F)C=CC=C1[N+]([O-])=O",
          "O=C(CC1CCCCO1)NCCCCC#N",
          "CC1=CC=C(C=C1)C1=NNC=C1CN1CCC(C1)[NH+]1CCCC1",
          "CN(CC(O)CN1CCOCC1)CC1=NOC(=N1)C(C)(C)C",
          "CN(CC1=NN=C(C)N1C)C(=O)NCC1=CC=C(F)C(Cl)=C1",
          "ClC1=CC=CN=C1NNC(=O)C1=CC=C(OC2CCC2)C=C1Cl",
          "COC1=CC=C(CN2CCN(CC2)S(=O)(=O)C2=CC=CC=C2)C=C1Br",
          "COC1=CC=CC2=C1OC1=CC=CC=C1N=C2N1CCN(C(C)C1)C(=O)C1=C(F)C=CC=C1F",
          "CCCC1=CC=C(C=C1)C(=O)NC(CO)CC1=CNC2=CC=CC=C12",
          "CC1CSC(SCC2=C(F)C=CC=C2[N+]([O-])=O)=N1",
          "FC(F)(F)C1=CC=C(CCNC(=O)NCC2=CC=C(N=C2)N2C=CN=C2)C=C1",
          "CC1=CC2=C(N3CCC(CC3)C(=O)N3CCCC3)C(=CN=C2C=C1)C#N",
          "CC(C)CN1N=C(C)C(CCC(=O)N2CCCCCC2C2=CC=CN2C)=C1C",
          "COCCNS(=O)(=O)C1=CC=CC(=C1)C(=O)N(C)C1CCCC(C)C1",
          "[O-]C(=O)C1C[NH+](CC1C1CC1)C1CCN(CC1)C(=O)C1=CC=CC=C1",
          "CNC(=O)C1=CC=CC=C1NC(=O)CN(C)C(=O)C1=CC=CS1",
          "COC1=CC(CNC(=O)C2=C(Br)C=CO2)=CC=N1",
          "O=C(NCC1OCCN1S(=O)(=O)C1=CC=CS1)C(=O)NCC1=CC=NC=C1",
          "CC(N1C(CCNC(=O)C2=CC=CC=C2Cl)=NC2=CC=CC=C12)C(C)=O",
          "CCCCN(C)C(=O)CC1=CC=CC2=CC=CC=C12",
          "CCC[NH2+]C(CC#CC)C1(CCCCCC1)N(C)C",
          "ClC1=CC=C(C=C1)C(=O)C[NH+]1CCC(CC1)C1=NN=C(O1)C1=CC=CO1",
          "O=C(CC1OCCC2=CC=CC=C12)NNC(=O)CC1=CC=NC=C1",
          "CC([NH2+]CC1=C(C)N(CC2=CC=C(C)C=C2)N=C1C)C1=CC=C(Cl)C=C1",
          "CC(=O)C1=NC2=CC=CC=C2N1CC1CCCCN1C(=O)OCC1=CC=CC=C1",
          "CC1=CC(C=NNC(=O)C(=O)NC2=CC=C(Cl)C(Cl)=C2)=C(C)N1C1=CC=CC(Cl)=C1"
         ],
         "legendgroup": "",
         "marker": {
          "color": "#636efa",
          "size": 8,
          "symbol": "circle"
         },
         "mode": "markers",
         "name": "",
         "orientation": "v",
         "showlegend": false,
         "type": "scatter",
         "x": {
          "bdata": "v0BQpFdqFkBrQmvNiQ35v4DZcZZ5o/a/qgv/yBMp3T9Pg9SeA0sTwCUh3Igibec/Bu+qqql2EUAVuNjwghoVwP6zjgPUzQnASZmIGzDmD0BeovYC5efsP5mPs+fhrMU/oXP7Ez+ZFMCBi+SeuP8HwMuD7My+y+m/siWxhcFgEUD2sHJAQuMYQBis1QPwMwPAXVfkGHMFBcBv0cqG7Cvzv5SirzLeV/K/k9QTK8QbDsBZrvxjvWYXwJO//9sHig/Aechfv5nOD8BvkeSPefwZQIxOAXYIv+c/yJrjQoqoEMDUaYehSsPQv9DG94SqiPi/UBW75RD46r/BkomPxKX5PwRX8SKswvk/IRnN4sy49j/X2FkljYMHQETuC/cvpRBAQyx3jU1ME8BzAatGRHAFwJjra5JWIw7ALgi8RSyYGcCgyTohtqkSwI8v8KFFSgDAa/nZQrVsCkAffmGdlgQZwKAajaiv0RNAHPDLRi78EcAYLklixoANwNjtORJjQNu/oXACqpFJ8j81yoj8q2W9P6UvPF1p9xpAHWvXi4fa/r+8wjI2lw7oP9PuN4DoWhRAJsJ5JZGqDEDh225EXlYUwON2F4MCOBRAxbaOQu/GF0DUC9JT+VzcP3FyL9oVQBRA/qhpAq038j8olrvhDSH4Px8s//B/s+6/5yAAwj4ADcBLRzHwa6YPQL7QfI+Vp9a/HtTq8a462L80BHgAx8sBQDLAU4KGCxlA0ehN8zIBEkDWmn3/F2vyv81xRdP88xfAN/0xmlwbCUDawLSHKs8AwAtps5WwlxfA177Nd8U4F8BDDhTuXO0IwJg1PeZOIQlAn1PnJ8gD/r+oFXe7HS7xP7iph8/EBARAcdrUjU0CFEAl6EMW5CbnPxiUghzsTgLATnnNkxJBAUAhk1sVR2TwPzNN5qHGvwRAXcGgcMqpCUBIbls+9w7+v7lcLdrvDO2/KLChp36JBMCKf3Z5qPcVQCDHOMILjwFAWmHzn+3qE8AbPaaOFUEUwGBolCiA0AxAuCTtNl314b+ziwQMro/yP4lSKnOCoQ1AX5OK1OrfEUA=",
          "dtype": "f8"
         },
         "xaxis": "x",
         "y": {
          "bdata": "DF4F/Q1f6T97GtlSoYbjv26Jts9H/hFAiMnefWcNFEC/PcKu3IsIwCvoc+cqKPA/RcwOnbUQuT+zxQsOMvkCwDIl+n5ScgnAH/Xx8j0n5j82+3Gp1msFQP6G9wrZwxHAUXz+z5Sq+j/yJzg/yL3+PxwhtplT8fg/BXOl9Pg9+D8UmzaFZOL0Pzq1J3qDUAzA3Y4dT1tR8D86qEBntW0HQPa/8KQnIwXA8jCzbZ/a07/QtanLcZ4BQD/sbhG6B72/gqjsOCiuD8AVYhm4MZIAQJmww+6kuPU/jy0shWfq+D+Sqeo3v9kAwBn+tB2TgQTASgIs02kHD0CmJAMPhZv3P2VLRNldpxNA6S4hLYoCBsAkUOO+0CUJwJgx+oqf5gTAE0oHqje98r8+kiV3LdQIQK9Out9o0AVA8VcHMr/Owb9OubdKRuL8v+HVBuQhigJAewaISzIE+L9uUKA1XZL4v4sOeM1Qzu+/ovRGiAeWAkByDKNfyRMFwC8fm9lQ4wNAvxuE+WcH/r+V5x8RzKjEP6GRDjwFxfw/k/qzRSQl/r+bvPBCW5O+P/qghHFSgwjAOo6w33+YpL959tP/5GjMv0C+DSTIBwvAlzDSoz1f8r8YgauFlh4BwGHSGn9hyQLATA/pxPE8DcAt+DrQBDXRvwtqedtTfRBAU3AFHJLqCsB33p/hNxD5v6PjH/egIue/iAaXI+Pd8z+zknHoEXjmvxb9SX3m0QFA1vaqN+xAAcDWwhLBiTPjP/80s4QhM+2/gUsxaNa5A8D4gwFVkPzvvx7rmyMxEwFAbEP4rWEl3T8XDr5cxEXwv2UFYuHYkw3APxem4yoB2z/w0hp/8NPuv9BF5m98oANAKu+IVuidC0ACWhQPWu7ev1sor0qwMg9AEYKehT2v1b8gT9n0d8kSQKd+Rt3llwVApC8rGrZ/+L/0LaNWbFQSwDhQyU1EGgHA9SwJyIes1j9xUypW8VoNwCsnbxDt2O0/Fc/zAD70B0CT/HeG98b+P9z0rU7Up+Q/OA17e7e7BsAtH0gVKKICQGDWRfJ95wVAjJ4QsYPM/T8=",
          "dtype": "f8"
         },
         "yaxis": "y"
        }
       ],
       "layout": {
        "legend": {
         "tracegroupgap": 0
        },
        "template": {
         "data": {
          "bar": [
           {
            "error_x": {
             "color": "#2a3f5f"
            },
            "error_y": {
             "color": "#2a3f5f"
            },
            "marker": {
             "line": {
              "color": "#E5ECF6",
              "width": 0.5
             },
             "pattern": {
              "fillmode": "overlay",
              "size": 10,
              "solidity": 0.2
             }
            },
            "type": "bar"
           }
          ],
          "barpolar": [
           {
            "marker": {
             "line": {
              "color": "#E5ECF6",
              "width": 0.5
             },
             "pattern": {
              "fillmode": "overlay",
              "size": 10,
              "solidity": 0.2
             }
            },
            "type": "barpolar"
           }
          ],
          "carpet": [
           {
            "aaxis": {
             "endlinecolor": "#2a3f5f",
             "gridcolor": "white",
             "linecolor": "white",
             "minorgridcolor": "white",
             "startlinecolor": "#2a3f5f"
            },
            "baxis": {
             "endlinecolor": "#2a3f5f",
             "gridcolor": "white",
             "linecolor": "white",
             "minorgridcolor": "white",
             "startlinecolor": "#2a3f5f"
            },
            "type": "carpet"
           }
          ],
          "choropleth": [
           {
            "colorbar": {
             "outlinewidth": 0,
             "ticks": ""
            },
            "type": "choropleth"
           }
          ],
          "contour": [
           {
            "colorbar": {
             "outlinewidth": 0,
             "ticks": ""
            },
            "colorscale": [
             [
              0,
              "#0d0887"
             ],
             [
              0.1111111111111111,
              "#46039f"
             ],
             [
              0.2222222222222222,
              "#7201a8"
             ],
             [
              0.3333333333333333,
              "#9c179e"
             ],
             [
              0.4444444444444444,
              "#bd3786"
             ],
             [
              0.5555555555555556,
              "#d8576b"
             ],
             [
              0.6666666666666666,
              "#ed7953"
             ],
             [
              0.7777777777777778,
              "#fb9f3a"
             ],
             [
              0.8888888888888888,
              "#fdca26"
             ],
             [
              1,
              "#f0f921"
             ]
            ],
            "type": "contour"
           }
          ],
          "contourcarpet": [
           {
            "colorbar": {
             "outlinewidth": 0,
             "ticks": ""
            },
            "type": "contourcarpet"
           }
          ],
          "heatmap": [
           {
            "colorbar": {
             "outlinewidth": 0,
             "ticks": ""
            },
            "colorscale": [
             [
              0,
              "#0d0887"
             ],
             [
              0.1111111111111111,
              "#46039f"
             ],
             [
              0.2222222222222222,
              "#7201a8"
             ],
             [
              0.3333333333333333,
              "#9c179e"
             ],
             [
              0.4444444444444444,
              "#bd3786"
             ],
             [
              0.5555555555555556,
              "#d8576b"
             ],
             [
              0.6666666666666666,
              "#ed7953"
             ],
             [
              0.7777777777777778,
              "#fb9f3a"
             ],
             [
              0.8888888888888888,
              "#fdca26"
             ],
             [
              1,
              "#f0f921"
             ]
            ],
            "type": "heatmap"
           }
          ],
          "histogram": [
           {
            "marker": {
             "pattern": {
              "fillmode": "overlay",
              "size": 10,
              "solidity": 0.2
             }
            },
            "type": "histogram"
           }
          ],
          "histogram2d": [
           {
            "colorbar": {
             "outlinewidth": 0,
             "ticks": ""
            },
            "colorscale": [
             [
              0,
              "#0d0887"
             ],
             [
              0.1111111111111111,
              "#46039f"
             ],
             [
              0.2222222222222222,
              "#7201a8"
             ],
             [
              0.3333333333333333,
              "#9c179e"
             ],
             [
              0.4444444444444444,
              "#bd3786"
             ],
             [
              0.5555555555555556,
              "#d8576b"
             ],
             [
              0.6666666666666666,
              "#ed7953"
             ],
             [
              0.7777777777777778,
              "#fb9f3a"
             ],
             [
              0.8888888888888888,
              "#fdca26"
             ],
             [
              1,
              "#f0f921"
             ]
            ],
            "type": "histogram2d"
           }
          ],
          "histogram2dcontour": [
           {
            "colorbar": {
             "outlinewidth": 0,
             "ticks": ""
            },
            "colorscale": [
             [
              0,
              "#0d0887"
             ],
             [
              0.1111111111111111,
              "#46039f"
             ],
             [
              0.2222222222222222,
              "#7201a8"
             ],
             [
              0.3333333333333333,
              "#9c179e"
             ],
             [
              0.4444444444444444,
              "#bd3786"
             ],
             [
              0.5555555555555556,
              "#d8576b"
             ],
             [
              0.6666666666666666,
              "#ed7953"
             ],
             [
              0.7777777777777778,
              "#fb9f3a"
             ],
             [
              0.8888888888888888,
              "#fdca26"
             ],
             [
              1,
              "#f0f921"
             ]
            ],
            "type": "histogram2dcontour"
           }
          ],
          "mesh3d": [
           {
            "colorbar": {
             "outlinewidth": 0,
             "ticks": ""
            },
            "type": "mesh3d"
           }
          ],
          "parcoords": [
           {
            "line": {
             "colorbar": {
              "outlinewidth": 0,
              "ticks": ""
             }
            },
            "type": "parcoords"
           }
          ],
          "pie": [
           {
            "automargin": true,
            "type": "pie"
           }
          ],
          "scatter": [
           {
            "fillpattern": {
             "fillmode": "overlay",
             "size": 10,
             "solidity": 0.2
            },
            "type": "scatter"
           }
          ],
          "scatter3d": [
           {
            "line": {
             "colorbar": {
              "outlinewidth": 0,
              "ticks": ""
             }
            },
            "marker": {
             "colorbar": {
              "outlinewidth": 0,
              "ticks": ""
             }
            },
            "type": "scatter3d"
           }
          ],
          "scattercarpet": [
           {
            "marker": {
             "colorbar": {
              "outlinewidth": 0,
              "ticks": ""
             }
            },
            "type": "scattercarpet"
           }
          ],
          "scattergeo": [
           {
            "marker": {
             "colorbar": {
              "outlinewidth": 0,
              "ticks": ""
             }
            },
            "type": "scattergeo"
           }
          ],
          "scattergl": [
           {
            "marker": {
             "colorbar": {
              "outlinewidth": 0,
              "ticks": ""
             }
            },
            "type": "scattergl"
           }
          ],
          "scattermap": [
           {
            "marker": {
             "colorbar": {
              "outlinewidth": 0,
              "ticks": ""
             }
            },
            "type": "scattermap"
           }
          ],
          "scattermapbox": [
           {
            "marker": {
             "colorbar": {
              "outlinewidth": 0,
              "ticks": ""
             }
            },
            "type": "scattermapbox"
           }
          ],
          "scatterpolar": [
           {
            "marker": {
             "colorbar": {
              "outlinewidth": 0,
              "ticks": ""
             }
            },
            "type": "scatterpolar"
           }
          ],
          "scatterpolargl": [
           {
            "marker": {
             "colorbar": {
              "outlinewidth": 0,
              "ticks": ""
             }
            },
            "type": "scatterpolargl"
           }
          ],
          "scatterternary": [
           {
            "marker": {
             "colorbar": {
              "outlinewidth": 0,
              "ticks": ""
             }
            },
            "type": "scatterternary"
           }
          ],
          "surface": [
           {
            "colorbar": {
             "outlinewidth": 0,
             "ticks": ""
            },
            "colorscale": [
             [
              0,
              "#0d0887"
             ],
             [
              0.1111111111111111,
              "#46039f"
             ],
             [
              0.2222222222222222,
              "#7201a8"
             ],
             [
              0.3333333333333333,
              "#9c179e"
             ],
             [
              0.4444444444444444,
              "#bd3786"
             ],
             [
              0.5555555555555556,
              "#d8576b"
             ],
             [
              0.6666666666666666,
              "#ed7953"
             ],
             [
              0.7777777777777778,
              "#fb9f3a"
             ],
             [
              0.8888888888888888,
              "#fdca26"
             ],
             [
              1,
              "#f0f921"
             ]
            ],
            "type": "surface"
           }
          ],
          "table": [
           {
            "cells": {
             "fill": {
              "color": "#EBF0F8"
             },
             "line": {
              "color": "white"
             }
            },
            "header": {
             "fill": {
              "color": "#C8D4E3"
             },
             "line": {
              "color": "white"
             }
            },
            "type": "table"
           }
          ]
         },
         "layout": {
          "annotationdefaults": {
           "arrowcolor": "#2a3f5f",
           "arrowhead": 0,
           "arrowwidth": 1
          },
          "autotypenumbers": "strict",
          "coloraxis": {
           "colorbar": {
            "outlinewidth": 0,
            "ticks": ""
           }
          },
          "colorscale": {
           "diverging": [
            [
             0,
             "#8e0152"
            ],
            [
             0.1,
             "#c51b7d"
            ],
            [
             0.2,
             "#de77ae"
            ],
            [
             0.3,
             "#f1b6da"
            ],
            [
             0.4,
             "#fde0ef"
            ],
            [
             0.5,
             "#f7f7f7"
            ],
            [
             0.6,
             "#e6f5d0"
            ],
            [
             0.7,
             "#b8e186"
            ],
            [
             0.8,
             "#7fbc41"
            ],
            [
             0.9,
             "#4d9221"
            ],
            [
             1,
             "#276419"
            ]
           ],
           "sequential": [
            [
             0,
             "#0d0887"
            ],
            [
             0.1111111111111111,
             "#46039f"
            ],
            [
             0.2222222222222222,
             "#7201a8"
            ],
            [
             0.3333333333333333,
             "#9c179e"
            ],
            [
             0.4444444444444444,
             "#bd3786"
            ],
            [
             0.5555555555555556,
             "#d8576b"
            ],
            [
             0.6666666666666666,
             "#ed7953"
            ],
            [
             0.7777777777777778,
             "#fb9f3a"
            ],
            [
             0.8888888888888888,
             "#fdca26"
            ],
            [
             1,
             "#f0f921"
            ]
           ],
           "sequentialminus": [
            [
             0,
             "#0d0887"
            ],
            [
             0.1111111111111111,
             "#46039f"
            ],
            [
             0.2222222222222222,
             "#7201a8"
            ],
            [
             0.3333333333333333,
             "#9c179e"
            ],
            [
             0.4444444444444444,
             "#bd3786"
            ],
            [
             0.5555555555555556,
             "#d8576b"
            ],
            [
             0.6666666666666666,
             "#ed7953"
            ],
            [
             0.7777777777777778,
             "#fb9f3a"
            ],
            [
             0.8888888888888888,
             "#fdca26"
            ],
            [
             1,
             "#f0f921"
            ]
           ]
          },
          "colorway": [
           "#636efa",
           "#EF553B",
           "#00cc96",
           "#ab63fa",
           "#FFA15A",
           "#19d3f3",
           "#FF6692",
           "#B6E880",
           "#FF97FF",
           "#FECB52"
          ],
          "font": {
           "color": "#2a3f5f"
          },
          "geo": {
           "bgcolor": "white",
           "lakecolor": "white",
           "landcolor": "#E5ECF6",
           "showlakes": true,
           "showland": true,
           "subunitcolor": "white"
          },
          "hoverlabel": {
           "align": "left"
          },
          "hovermode": "closest",
          "mapbox": {
           "style": "light"
          },
          "paper_bgcolor": "white",
          "plot_bgcolor": "#E5ECF6",
          "polar": {
           "angularaxis": {
            "gridcolor": "white",
            "linecolor": "white",
            "ticks": ""
           },
           "bgcolor": "#E5ECF6",
           "radialaxis": {
            "gridcolor": "white",
            "linecolor": "white",
            "ticks": ""
           }
          },
          "scene": {
           "xaxis": {
            "backgroundcolor": "#E5ECF6",
            "gridcolor": "white",
            "gridwidth": 2,
            "linecolor": "white",
            "showbackground": true,
            "ticks": "",
            "zerolinecolor": "white"
           },
           "yaxis": {
            "backgroundcolor": "#E5ECF6",
            "gridcolor": "white",
            "gridwidth": 2,
            "linecolor": "white",
            "showbackground": true,
            "ticks": "",
            "zerolinecolor": "white"
           },
           "zaxis": {
            "backgroundcolor": "#E5ECF6",
            "gridcolor": "white",
            "gridwidth": 2,
            "linecolor": "white",
            "showbackground": true,
            "ticks": "",
            "zerolinecolor": "white"
           }
          },
          "shapedefaults": {
           "line": {
            "color": "#2a3f5f"
           }
          },
          "ternary": {
           "aaxis": {
            "gridcolor": "white",
            "linecolor": "white",
            "ticks": ""
           },
           "baxis": {
            "gridcolor": "white",
            "linecolor": "white",
            "ticks": ""
           },
           "bgcolor": "#E5ECF6",
           "caxis": {
            "gridcolor": "white",
            "linecolor": "white",
            "ticks": ""
           }
          },
          "title": {
           "x": 0.05
          },
          "xaxis": {
           "automargin": true,
           "gridcolor": "white",
           "linecolor": "white",
           "ticks": "",
           "title": {
            "standoff": 15
           },
           "zerolinecolor": "white",
           "zerolinewidth": 2
          },
          "yaxis": {
           "automargin": true,
           "gridcolor": "white",
           "linecolor": "white",
           "ticks": "",
           "title": {
            "standoff": 15
           },
           "zerolinecolor": "white",
           "zerolinewidth": 2
          }
         }
        },
        "title": {
         "text": "Chemical Space Visualization using openTSNE"
        },
        "xaxis": {
         "anchor": "y",
         "domain": [
          0,
          1
         ],
         "title": {
          "text": "openTSNE Component 1"
         },
         "zeroline": false
        },
        "yaxis": {
         "anchor": "x",
         "domain": [
          0,
          1
         ],
         "title": {
          "text": "openTSNE Component 2"
         },
         "zeroline": false
        }
       }
      }
     },
     "metadata": {},
     "output_type": "display_data"
    }
   ],
   "source": [
    "# 8d. Visualize with openTSNE (alternative t-SNE implementation)\n",
    "if OPENTSNE_AVAILABLE:\n",
    "    print(\"\\nVisualizing with openTSNE...\")\n",
    "    if 'scaled_features' in locals() and scaled_features.shape[0] > 1:\n",
    "        perplexity_value_otsne = min(30, scaled_features.shape[0] - 1)\n",
    "        if perplexity_value_otsne > 0:\n",
    "            otsne = OpenTSNE(n_components=2, perplexity=perplexity_value_otsne, random_state=42, n_jobs=-1, n_iter=300)\n",
    "            otsne_embedding = otsne.fit(scaled_features) # openTSNE's fit returns the embedding\n",
    "\n",
    "            otsne_df = pd.DataFrame(data=otsne_embedding,\n",
    "                                   columns=['openTSNE Component 1', 'openTSNE Component 2'])\n",
    "            otsne_df.index = molecule_names # Assuming molecule_names is aligned\n",
    "\n",
    "            fig_otsne = plot_scatter_plotly_2d(\n",
    "                df=otsne_df,\n",
    "                x_col='openTSNE Component 1',\n",
    "                y_col='openTSNE Component 2',\n",
    "                text_col_data=otsne_df.index,\n",
    "                title='Chemical Space Visualization using openTSNE',\n",
    "                labels_dict={\n",
    "                    'openTSNE Component 1': 'openTSNE Component 1',\n",
    "                    'openTSNE Component 2': 'openTSNE Component 2'\n",
    "                },\n",
    "                marker_size=8,\n",
    "                text_position='top right',\n",
    "                add_zerolines=False\n",
    "            )\n",
    "            fig_otsne.show()\n",
    "\n",
    "            # Original Matplotlib/Seaborn code:\n",
    "            # plt.figure(figsize=(12, 8))\n",
    "            # sns.scatterplot(x='openTSNE Component 1', y='openTSNE Component 2', data=otsne_df, s=100, legend=False)\n",
    "            # for i, name in enumerate(otsne_df.index):\n",
    "            #     plt.annotate(name, (otsne_df.iloc[i, 0], otsne_df.iloc[i, 1]), textcoords=\"offset points\", xytext=(5,5), ha='left')\n",
    "            # plt.title('Chemical Space Visualization using openTSNE')\n",
    "            # plt.xlabel('openTSNE Component 1')\n",
    "            # plt.ylabel('openTSNE Component 2')\n",
    "            # plt.grid(True)\n",
    "            # plt.show()\n",
    "        else:\n",
    "            print(\"Skipping openTSNE: Not enough samples for the chosen perplexity.\")\n",
    "    else:\n",
    "        print(\"Skipping openTSNE: Not enough samples or scaled_features not available.\")\n",
    "else:\n",
    "    print(\"\\nopenTSNE library not found. Skipping openTSNE visualization.\")\n"
   ]
  },
  {
   "cell_type": "code",
   "execution_count": 21,
   "id": "umap-visualization",
   "metadata": {},
   "outputs": [
    {
     "name": "stderr",
     "output_type": "stream",
     "text": [
      "/home/laplaza/anaconda3/envs/rubensinki/lib/python3.10/site-packages/sklearn/utils/deprecation.py:132: FutureWarning:\n",
      "\n",
      "'force_all_finite' was renamed to 'ensure_all_finite' in 1.6 and will be removed in 1.8.\n",
      "\n",
      "/home/laplaza/anaconda3/envs/rubensinki/lib/python3.10/site-packages/umap/umap_.py:1952: UserWarning:\n",
      "\n",
      "n_jobs value 1 overridden to 1 by setting random_state. Use no seed for parallelism.\n",
      "\n",
      "/home/laplaza/anaconda3/envs/rubensinki/lib/python3.10/site-packages/numba/np/ufunc/parallel.py:371: NumbaWarning:\n",
      "\n",
      "The TBB threading layer requires TBB version 2021 update 6 or later i.e., TBB_INTERFACE_VERSION >= 12060. Found TBB_INTERFACE_VERSION = 12050. The TBB threading layer is disabled.\n",
      "\n"
     ]
    },
    {
     "data": {
      "application/vnd.plotly.v1+json": {
       "config": {
        "plotlyServerURL": "https://plot.ly"
       },
       "data": [
        {
         "hovertemplate": "%{hovertext}<extra></extra>",
         "hovertext": [
          "CCC1=NN2C(O)=C(SC2=N1)C(N1CC(C)OC(C)C1)C1=CC=CC(OC)=C1",
          "CCC1=CC=C(OCC(=O)NC2=CC=C(C)C=C2O)C=C1",
          "CC1=CN=C(CN2CCN(CC2)C2=NC=CC=C2F)C=N1",
          "CC(C)C1=NN=C2SCC(=NN12)C1=CC2=CC=CC=C2O1",
          "CNC1=CC=C2N=C(NC2=N1)C1(C)CC[NH2+]CC1",
          "COC1=CC(C=CC)=CC=C1OCC(=O)NC1CCC(C1)SC",
          "CC(N(C)C(=O)NC1=CN=C2N(C)C(=O)N(C)C(=O)C2=C1)C1=CC=CC=C1",
          "COC1=CC(=CC=C1O)C(C)NC1CC[NH+](C)CC1",
          "COC(=O)C1CC([NH3+])CN(C1)C(=O)OCC1=CC=CC=C1",
          "CC1=C(Cl)C=CC=C1NC=C1C(C)=C(C#N)C(=O)N(CC2CCCO2)C1=O",
          "FC1=CC=C(F)C(CCCC(=O)N2CCCC(C[NH+]3CCCCCC3)C2)=C1",
          "CC1=CC(=O)NC(NN=CC2=C(Cl)N=C3C=CC=CN3C2=O)=N1",
          "COCCC(=O)NC(C)CC1=C(Cl)C=CC=C1Cl",
          "CCC1(CNC(=O)C2=C(N=CS2)C2CC2)CCC1",
          "CCC(N(C)S(=O)(=O)C1=CC=C(C=C1C)C#N)C1=CC=NC=C1",
          "OC1=CC=C(C=C2SC(=O)N(CC3=CC=CC=C3C#N)C2=O)C=C1I",
          "CC(C)C1=NC=C(C2=CC(C)=NO2)C(=N1)C1CCC(CNC(=O)C2=C(C)N=CS2)CC1",
          "CC1=CC=C(N2C=C(N=N2)C(=S)N2CCOCC2)C(O)=C1",
          "CC[NH2+]C(C)C1=CC=NC(OC2=CN=CC(Br)=C2)=C1",
          "BrC1=CC=C(C=N1)C(=O)NCC1=CC=CC2=CC=CC=C12",
          "CC1=CC(C)=NC(NNS(=O)(=O)C2=CC=C(Cl)C=C2F)=N1",
          "CCC1=CC=C(C[NH+]2CCCC(C2)N2CCCC2=O)O1",
          "COC1=CC=CC(Cl)=C1CN(C)C(C)CC#N",
          "CN(CC1=COC=C1)C1(C[NH3+])CC(C)(C)OC1(C)C",
          "CC1(C[NH+]=C(N)N1CC1CCCO1)C1=CN=CC=N1",
          "COC1=C2OC(=CC2=CC=C1)C(=O)C1=C([O-])C(=O)N(C1C1=CC=C(F)C=C1)C1=NOC(C)=C1",
          "COC1=CC=C(CCC(C)NC(=O)C2=NC=CC=C2C(F)(F)F)C=C1",
          "CCC([NH2+]CC1=CNC=C1)C1=CC=CC=C1OC(F)F",
          "COC1=CC=C(NC(=O)NCC2CN3CCCCC3CO2)C=C1F",
          "ClC1=CC=C(C=NNC(=O)C(=O)NCC2=CC=CC=N2)C=C1",
          "CCN1C=C(CC(=O)N2CCS(=O)C(C)(C)C2)C2=CC=CC=C12",
          "FC1=CC=C(CN2CCN(CC(=O)NCC3=CC=CS3)C2=O)C(Cl)=C1",
          "CC1=CC=C(C=C1)C1C2C(=O)CC(CC2=NC2=NC=NN12)C1=CC=CO1",
          "CCC1=NSC(NC2=CC=C(NC(=O)C3CCCO3)C=C2)=N1",
          "CCCCNC(=O)CC1=C(C)N2N=C(SC)N=C2N=C1C",
          "CCC(NNC(=O)C1=CC(OC)=C(OC)C(OC)=C1)=C1C=CC(=O)C=C1",
          "CCC1=NOC(=N1)C1=CC=C(C[NH3+])C=C1",
          "C(CSC1=NC=NC2=CC=CC=C12)SC1=CC=CC=C1",
          "CCC[NH+]1CCC(CC1)N(C)CC1=C(C)N(C2CC2)C(C)=C1",
          "CCCCOC(=O)C(C)([NH3+])CC",
          "CC1=CC(F)=CC=C1C(O)C1(C[NH3+])CCOCC1",
          "CC(O)C1=CC=C(C)C=C1OCC1=NC(=CS1)C(C)(C)C",
          "COC(=O)C1=CC=C(OC)C=C1OCC(=O)NC1=CC=C(F)C(F)=C1",
          "CCC[NH+](CCC)CC1=CC=C(O)C(N)=C1",
          "CCCC1=CC(=NO1)C1CCCN1S(=O)(=O)C1=CC=C(OC)C(OC)=C1",
          "CCOC1=CC=CC=C1C[NH2+]C(CC)C1=CC=CC=C1",
          "COC1CCCC1NC(=O)C1=CC=NC=C1C#CCO",
          "CC1=CC=C(C=C1)C(CNC(=O)N1CCC(C)(C)C1)N1CCOCC1",
          "O=C(NN=CC1=CNC2=CC=CC=C12)C1=CC(=NC2=CC=CC=C12)C1CC1",
          "COC1=CC(C)=CC=C1NCC(=O)NCCC1=CC=CC=C1C",
          "COC1=CC=C(C=C1)N1N=C2CS(=O)(=O)CC2=C1NC(=O)C1=C(C)ON=C1C1=CC=CC=C1Cl",
          "COC(=O)C1=CC=C(NC(=O)C2CCCC(C)C2)C(O)=C1",
          "CCOC1=CC=CC=C1C=CC(=O)NCC(C)(O)C1=CC=C(F)C=C1",
          "COC1=CC=CC(=C1)N1CC(CC1=O)C(=O)NCCNC(=O)C1=CC=CO1",
          "CN1N=C(C)C(=C1NC1CCOC1C1=CC=C(Cl)C=C1)[N+]([O-])=O",
          "COC(=O)CC(C)(C[NH3+])C1=CC(F)=C(C)C=C1F",
          "FC1=CC=CC(F)=C1C=CC(=O)NNC(=O)CN1N=NC(=N1)C1=CC=CC=C1",
          "[O-][N+](=O)C1=CC=C(NN=C(C2=CC=CC=C2)C2=CC=NC=C2)C(=C1)[N+]([O-])=O",
          "O=C(CCC1=NC2=CC=CC=C2C(=O)N1)NC1CCC2=CC=CC=C12",
          "COC1=CC=C(CCNC(=O)C2CN(C2)C(=O)C2=NOC(C)=C2)C=C1OC",
          "CC1=CC=CC(NC(=O)NC2=CC=C3N=C(NS(C)(=O)=O)SC3=C2)=C1",
          "OC(C(=O)NC1=CC=CC(CS(=O)C2=CC=CC=C2)=C1)C1=CC=CC=C1",
          "CN(C1CCN(CC1)C1=CC=[NH+]C2=CC(F)=CC=C12)C(C)=O",
          "CC1CN(CC1C)C(=O)NCC1CCC(O1)C([O-])=O",
          "FC(F)(F)C1=NN=C(SCC(=O)NC2=CC=CC=C2C#N)N1CC=C",
          "COC(=O)C1=CC=CC(CCNC(=O)NC2=CC(F)=CC=C2C)=C1",
          "CCN(CC1=CC=CC(NC(=O)C2CC(C)OC(C)C2)=C1)C(C)=O",
          "COC(=O)C1=C(C)NC(C(=O)NCC(N(C)C)C2=C(F)C=CC=C2Cl)=C1C",
          "COC(=O)C1=CC=C(C=C1)C1C2C(ON1C1=CC=CC=C1)C(=O)N(C2=O)C1=CC=C(OC)C=C1",
          "COCC1=CC(C)=NC(OCC(=O)NN=CC2=CC=CC(F)=C2)=C1C#N",
          "CC1=C(N=C(NC(=O)C2CCC(=O)O2)S1)C1=CC=C(C)C=C1",
          "CC1=CC=C(C[NH2+]C(C)(C)CO)C(C)=C1",
          "FC1=CC=CC=C1OCCCNC1=NN=NN1C1=CC=CC=C1",
          "CCC(CC)OC1=CC=C(C=C1)C1(C)NC(=O)NC1=O",
          "CCC(CC)N(C)CC1=C(F)C=CC=C1[N+]([O-])=O",
          "O=C(CC1CCCCO1)NCCCCC#N",
          "CC1=CC=C(C=C1)C1=NNC=C1CN1CCC(C1)[NH+]1CCCC1",
          "CN(CC(O)CN1CCOCC1)CC1=NOC(=N1)C(C)(C)C",
          "CN(CC1=NN=C(C)N1C)C(=O)NCC1=CC=C(F)C(Cl)=C1",
          "ClC1=CC=CN=C1NNC(=O)C1=CC=C(OC2CCC2)C=C1Cl",
          "COC1=CC=C(CN2CCN(CC2)S(=O)(=O)C2=CC=CC=C2)C=C1Br",
          "COC1=CC=CC2=C1OC1=CC=CC=C1N=C2N1CCN(C(C)C1)C(=O)C1=C(F)C=CC=C1F",
          "CCCC1=CC=C(C=C1)C(=O)NC(CO)CC1=CNC2=CC=CC=C12",
          "CC1CSC(SCC2=C(F)C=CC=C2[N+]([O-])=O)=N1",
          "FC(F)(F)C1=CC=C(CCNC(=O)NCC2=CC=C(N=C2)N2C=CN=C2)C=C1",
          "CC1=CC2=C(N3CCC(CC3)C(=O)N3CCCC3)C(=CN=C2C=C1)C#N",
          "CC(C)CN1N=C(C)C(CCC(=O)N2CCCCCC2C2=CC=CN2C)=C1C",
          "COCCNS(=O)(=O)C1=CC=CC(=C1)C(=O)N(C)C1CCCC(C)C1",
          "[O-]C(=O)C1C[NH+](CC1C1CC1)C1CCN(CC1)C(=O)C1=CC=CC=C1",
          "CNC(=O)C1=CC=CC=C1NC(=O)CN(C)C(=O)C1=CC=CS1",
          "COC1=CC(CNC(=O)C2=C(Br)C=CO2)=CC=N1",
          "O=C(NCC1OCCN1S(=O)(=O)C1=CC=CS1)C(=O)NCC1=CC=NC=C1",
          "CC(N1C(CCNC(=O)C2=CC=CC=C2Cl)=NC2=CC=CC=C12)C(C)=O",
          "CCCCN(C)C(=O)CC1=CC=CC2=CC=CC=C12",
          "CCC[NH2+]C(CC#CC)C1(CCCCCC1)N(C)C",
          "ClC1=CC=C(C=C1)C(=O)C[NH+]1CCC(CC1)C1=NN=C(O1)C1=CC=CO1",
          "O=C(CC1OCCC2=CC=CC=C12)NNC(=O)CC1=CC=NC=C1",
          "CC([NH2+]CC1=C(C)N(CC2=CC=C(C)C=C2)N=C1C)C1=CC=C(Cl)C=C1",
          "CC(=O)C1=NC2=CC=CC=C2N1CC1CCCCN1C(=O)OCC1=CC=CC=C1",
          "CC1=CC(C=NNC(=O)C(=O)NC2=CC=C(Cl)C(Cl)=C2)=C(C)N1C1=CC=CC(Cl)=C1"
         ],
         "legendgroup": "",
         "marker": {
          "color": "#636efa",
          "size": 8,
          "symbol": "circle"
         },
         "mode": "markers",
         "name": "",
         "orientation": "v",
         "showlegend": false,
         "type": "scatter",
         "x": {
          "bdata": "yYUdQDqyokB+P4hATmd0QDnfi0BLmJdAxakpQPcUlUCUFolAo/otQNUIn0DzfxBA9DvOQJkAu0AlHqFAqSRCQJl9GUCgiW9Ap0mxQEDop0BEPkpAL/ifQA/oyUDO9qdAuhqDQNSTEUCyFZRAnjbVQCaMWUDCOWFAL8iTQJYPiUCMdFxA8W4wQGwqOj8Uf44/ETOjQKtRtkAvA8xA4Nu2QHntnEBO665Am7OfPzvlqkA0NcU/o8XXQKzPhED2MJdAsN5iQM01n0AU/BdAsaJmQB9RkkCZVpw/W0s4QOwVr0BL6s0/uijIPzURUUAcwpQ//rooQASfhkBRRJFAimeNQNOekj/6zo9ABZ2kQJWLbUB6HyJAWJWAPzbRY0C+o6tA5ydnP8Fbk0ACb8lAVA67QN74g0CSBCk/LEyVQOUsgECodHxAn/M/QEOgkUARmZ5AdGlxQAB+fEDrxYFAyHaHP10ucEB05klAKbKoQM7Arj802nlA2+nTQPu+2EA2bTRAsMtTQKL2l0BPMEZA86NMQA==",
          "dtype": "f4"
         },
         "xaxis": "x",
         "y": {
          "bdata": "qn4YQRSZOEEGpTBBhvoqQe1SUkE2gxBB6CgnQTBfUkF78UpBlAcfQcNWDEG0SjBB4oFAQUsDOEGslSVBzWcaQbOoEkFTfTVBVdI6QeLyL0EB90FB18tCQatUQEGVIEdBQJROQeDmEkGVww9BFGYyQeyDOEHk5kZBN54uQcwCC0FL0yRBl/E2QXelG0FwASFBbFpMQfEpMUHE/TRBvbBNQS4lUEGhBjNBohEXQeu4U0HHQBVBKt83QSxUUEHFWytBEbYdQTVbF0GIkxBBWahFQa1pFkEMpSVBxNAmQaCcSkHVWipBW3MbQaZaNUHTsh9B26w1QbBsFkFGSTFB/VNMQZlEHEGtlR9BgjIjQV3eFEFU5xFB8/0bQSwBMEEJPFJBUZ4YQTFNQkF3qUBB9fVJQT8mOkF6Qx5BZlg6QWg6GkGpIQhBSrkQQQnaF0FJVjVB1UAWQcn8KEFQOgdBNz4UQXkCPkGLtz9BSgo+QfmsKEGKmQ1BgKw7QSOKP0Gsax9BG/o8QUdLCUHd1wxB7kYYQQ==",
          "dtype": "f4"
         },
         "yaxis": "y"
        }
       ],
       "layout": {
        "legend": {
         "tracegroupgap": 0
        },
        "template": {
         "data": {
          "bar": [
           {
            "error_x": {
             "color": "#2a3f5f"
            },
            "error_y": {
             "color": "#2a3f5f"
            },
            "marker": {
             "line": {
              "color": "#E5ECF6",
              "width": 0.5
             },
             "pattern": {
              "fillmode": "overlay",
              "size": 10,
              "solidity": 0.2
             }
            },
            "type": "bar"
           }
          ],
          "barpolar": [
           {
            "marker": {
             "line": {
              "color": "#E5ECF6",
              "width": 0.5
             },
             "pattern": {
              "fillmode": "overlay",
              "size": 10,
              "solidity": 0.2
             }
            },
            "type": "barpolar"
           }
          ],
          "carpet": [
           {
            "aaxis": {
             "endlinecolor": "#2a3f5f",
             "gridcolor": "white",
             "linecolor": "white",
             "minorgridcolor": "white",
             "startlinecolor": "#2a3f5f"
            },
            "baxis": {
             "endlinecolor": "#2a3f5f",
             "gridcolor": "white",
             "linecolor": "white",
             "minorgridcolor": "white",
             "startlinecolor": "#2a3f5f"
            },
            "type": "carpet"
           }
          ],
          "choropleth": [
           {
            "colorbar": {
             "outlinewidth": 0,
             "ticks": ""
            },
            "type": "choropleth"
           }
          ],
          "contour": [
           {
            "colorbar": {
             "outlinewidth": 0,
             "ticks": ""
            },
            "colorscale": [
             [
              0,
              "#0d0887"
             ],
             [
              0.1111111111111111,
              "#46039f"
             ],
             [
              0.2222222222222222,
              "#7201a8"
             ],
             [
              0.3333333333333333,
              "#9c179e"
             ],
             [
              0.4444444444444444,
              "#bd3786"
             ],
             [
              0.5555555555555556,
              "#d8576b"
             ],
             [
              0.6666666666666666,
              "#ed7953"
             ],
             [
              0.7777777777777778,
              "#fb9f3a"
             ],
             [
              0.8888888888888888,
              "#fdca26"
             ],
             [
              1,
              "#f0f921"
             ]
            ],
            "type": "contour"
           }
          ],
          "contourcarpet": [
           {
            "colorbar": {
             "outlinewidth": 0,
             "ticks": ""
            },
            "type": "contourcarpet"
           }
          ],
          "heatmap": [
           {
            "colorbar": {
             "outlinewidth": 0,
             "ticks": ""
            },
            "colorscale": [
             [
              0,
              "#0d0887"
             ],
             [
              0.1111111111111111,
              "#46039f"
             ],
             [
              0.2222222222222222,
              "#7201a8"
             ],
             [
              0.3333333333333333,
              "#9c179e"
             ],
             [
              0.4444444444444444,
              "#bd3786"
             ],
             [
              0.5555555555555556,
              "#d8576b"
             ],
             [
              0.6666666666666666,
              "#ed7953"
             ],
             [
              0.7777777777777778,
              "#fb9f3a"
             ],
             [
              0.8888888888888888,
              "#fdca26"
             ],
             [
              1,
              "#f0f921"
             ]
            ],
            "type": "heatmap"
           }
          ],
          "histogram": [
           {
            "marker": {
             "pattern": {
              "fillmode": "overlay",
              "size": 10,
              "solidity": 0.2
             }
            },
            "type": "histogram"
           }
          ],
          "histogram2d": [
           {
            "colorbar": {
             "outlinewidth": 0,
             "ticks": ""
            },
            "colorscale": [
             [
              0,
              "#0d0887"
             ],
             [
              0.1111111111111111,
              "#46039f"
             ],
             [
              0.2222222222222222,
              "#7201a8"
             ],
             [
              0.3333333333333333,
              "#9c179e"
             ],
             [
              0.4444444444444444,
              "#bd3786"
             ],
             [
              0.5555555555555556,
              "#d8576b"
             ],
             [
              0.6666666666666666,
              "#ed7953"
             ],
             [
              0.7777777777777778,
              "#fb9f3a"
             ],
             [
              0.8888888888888888,
              "#fdca26"
             ],
             [
              1,
              "#f0f921"
             ]
            ],
            "type": "histogram2d"
           }
          ],
          "histogram2dcontour": [
           {
            "colorbar": {
             "outlinewidth": 0,
             "ticks": ""
            },
            "colorscale": [
             [
              0,
              "#0d0887"
             ],
             [
              0.1111111111111111,
              "#46039f"
             ],
             [
              0.2222222222222222,
              "#7201a8"
             ],
             [
              0.3333333333333333,
              "#9c179e"
             ],
             [
              0.4444444444444444,
              "#bd3786"
             ],
             [
              0.5555555555555556,
              "#d8576b"
             ],
             [
              0.6666666666666666,
              "#ed7953"
             ],
             [
              0.7777777777777778,
              "#fb9f3a"
             ],
             [
              0.8888888888888888,
              "#fdca26"
             ],
             [
              1,
              "#f0f921"
             ]
            ],
            "type": "histogram2dcontour"
           }
          ],
          "mesh3d": [
           {
            "colorbar": {
             "outlinewidth": 0,
             "ticks": ""
            },
            "type": "mesh3d"
           }
          ],
          "parcoords": [
           {
            "line": {
             "colorbar": {
              "outlinewidth": 0,
              "ticks": ""
             }
            },
            "type": "parcoords"
           }
          ],
          "pie": [
           {
            "automargin": true,
            "type": "pie"
           }
          ],
          "scatter": [
           {
            "fillpattern": {
             "fillmode": "overlay",
             "size": 10,
             "solidity": 0.2
            },
            "type": "scatter"
           }
          ],
          "scatter3d": [
           {
            "line": {
             "colorbar": {
              "outlinewidth": 0,
              "ticks": ""
             }
            },
            "marker": {
             "colorbar": {
              "outlinewidth": 0,
              "ticks": ""
             }
            },
            "type": "scatter3d"
           }
          ],
          "scattercarpet": [
           {
            "marker": {
             "colorbar": {
              "outlinewidth": 0,
              "ticks": ""
             }
            },
            "type": "scattercarpet"
           }
          ],
          "scattergeo": [
           {
            "marker": {
             "colorbar": {
              "outlinewidth": 0,
              "ticks": ""
             }
            },
            "type": "scattergeo"
           }
          ],
          "scattergl": [
           {
            "marker": {
             "colorbar": {
              "outlinewidth": 0,
              "ticks": ""
             }
            },
            "type": "scattergl"
           }
          ],
          "scattermap": [
           {
            "marker": {
             "colorbar": {
              "outlinewidth": 0,
              "ticks": ""
             }
            },
            "type": "scattermap"
           }
          ],
          "scattermapbox": [
           {
            "marker": {
             "colorbar": {
              "outlinewidth": 0,
              "ticks": ""
             }
            },
            "type": "scattermapbox"
           }
          ],
          "scatterpolar": [
           {
            "marker": {
             "colorbar": {
              "outlinewidth": 0,
              "ticks": ""
             }
            },
            "type": "scatterpolar"
           }
          ],
          "scatterpolargl": [
           {
            "marker": {
             "colorbar": {
              "outlinewidth": 0,
              "ticks": ""
             }
            },
            "type": "scatterpolargl"
           }
          ],
          "scatterternary": [
           {
            "marker": {
             "colorbar": {
              "outlinewidth": 0,
              "ticks": ""
             }
            },
            "type": "scatterternary"
           }
          ],
          "surface": [
           {
            "colorbar": {
             "outlinewidth": 0,
             "ticks": ""
            },
            "colorscale": [
             [
              0,
              "#0d0887"
             ],
             [
              0.1111111111111111,
              "#46039f"
             ],
             [
              0.2222222222222222,
              "#7201a8"
             ],
             [
              0.3333333333333333,
              "#9c179e"
             ],
             [
              0.4444444444444444,
              "#bd3786"
             ],
             [
              0.5555555555555556,
              "#d8576b"
             ],
             [
              0.6666666666666666,
              "#ed7953"
             ],
             [
              0.7777777777777778,
              "#fb9f3a"
             ],
             [
              0.8888888888888888,
              "#fdca26"
             ],
             [
              1,
              "#f0f921"
             ]
            ],
            "type": "surface"
           }
          ],
          "table": [
           {
            "cells": {
             "fill": {
              "color": "#EBF0F8"
             },
             "line": {
              "color": "white"
             }
            },
            "header": {
             "fill": {
              "color": "#C8D4E3"
             },
             "line": {
              "color": "white"
             }
            },
            "type": "table"
           }
          ]
         },
         "layout": {
          "annotationdefaults": {
           "arrowcolor": "#2a3f5f",
           "arrowhead": 0,
           "arrowwidth": 1
          },
          "autotypenumbers": "strict",
          "coloraxis": {
           "colorbar": {
            "outlinewidth": 0,
            "ticks": ""
           }
          },
          "colorscale": {
           "diverging": [
            [
             0,
             "#8e0152"
            ],
            [
             0.1,
             "#c51b7d"
            ],
            [
             0.2,
             "#de77ae"
            ],
            [
             0.3,
             "#f1b6da"
            ],
            [
             0.4,
             "#fde0ef"
            ],
            [
             0.5,
             "#f7f7f7"
            ],
            [
             0.6,
             "#e6f5d0"
            ],
            [
             0.7,
             "#b8e186"
            ],
            [
             0.8,
             "#7fbc41"
            ],
            [
             0.9,
             "#4d9221"
            ],
            [
             1,
             "#276419"
            ]
           ],
           "sequential": [
            [
             0,
             "#0d0887"
            ],
            [
             0.1111111111111111,
             "#46039f"
            ],
            [
             0.2222222222222222,
             "#7201a8"
            ],
            [
             0.3333333333333333,
             "#9c179e"
            ],
            [
             0.4444444444444444,
             "#bd3786"
            ],
            [
             0.5555555555555556,
             "#d8576b"
            ],
            [
             0.6666666666666666,
             "#ed7953"
            ],
            [
             0.7777777777777778,
             "#fb9f3a"
            ],
            [
             0.8888888888888888,
             "#fdca26"
            ],
            [
             1,
             "#f0f921"
            ]
           ],
           "sequentialminus": [
            [
             0,
             "#0d0887"
            ],
            [
             0.1111111111111111,
             "#46039f"
            ],
            [
             0.2222222222222222,
             "#7201a8"
            ],
            [
             0.3333333333333333,
             "#9c179e"
            ],
            [
             0.4444444444444444,
             "#bd3786"
            ],
            [
             0.5555555555555556,
             "#d8576b"
            ],
            [
             0.6666666666666666,
             "#ed7953"
            ],
            [
             0.7777777777777778,
             "#fb9f3a"
            ],
            [
             0.8888888888888888,
             "#fdca26"
            ],
            [
             1,
             "#f0f921"
            ]
           ]
          },
          "colorway": [
           "#636efa",
           "#EF553B",
           "#00cc96",
           "#ab63fa",
           "#FFA15A",
           "#19d3f3",
           "#FF6692",
           "#B6E880",
           "#FF97FF",
           "#FECB52"
          ],
          "font": {
           "color": "#2a3f5f"
          },
          "geo": {
           "bgcolor": "white",
           "lakecolor": "white",
           "landcolor": "#E5ECF6",
           "showlakes": true,
           "showland": true,
           "subunitcolor": "white"
          },
          "hoverlabel": {
           "align": "left"
          },
          "hovermode": "closest",
          "mapbox": {
           "style": "light"
          },
          "paper_bgcolor": "white",
          "plot_bgcolor": "#E5ECF6",
          "polar": {
           "angularaxis": {
            "gridcolor": "white",
            "linecolor": "white",
            "ticks": ""
           },
           "bgcolor": "#E5ECF6",
           "radialaxis": {
            "gridcolor": "white",
            "linecolor": "white",
            "ticks": ""
           }
          },
          "scene": {
           "xaxis": {
            "backgroundcolor": "#E5ECF6",
            "gridcolor": "white",
            "gridwidth": 2,
            "linecolor": "white",
            "showbackground": true,
            "ticks": "",
            "zerolinecolor": "white"
           },
           "yaxis": {
            "backgroundcolor": "#E5ECF6",
            "gridcolor": "white",
            "gridwidth": 2,
            "linecolor": "white",
            "showbackground": true,
            "ticks": "",
            "zerolinecolor": "white"
           },
           "zaxis": {
            "backgroundcolor": "#E5ECF6",
            "gridcolor": "white",
            "gridwidth": 2,
            "linecolor": "white",
            "showbackground": true,
            "ticks": "",
            "zerolinecolor": "white"
           }
          },
          "shapedefaults": {
           "line": {
            "color": "#2a3f5f"
           }
          },
          "ternary": {
           "aaxis": {
            "gridcolor": "white",
            "linecolor": "white",
            "ticks": ""
           },
           "baxis": {
            "gridcolor": "white",
            "linecolor": "white",
            "ticks": ""
           },
           "bgcolor": "#E5ECF6",
           "caxis": {
            "gridcolor": "white",
            "linecolor": "white",
            "ticks": ""
           }
          },
          "title": {
           "x": 0.05
          },
          "xaxis": {
           "automargin": true,
           "gridcolor": "white",
           "linecolor": "white",
           "ticks": "",
           "title": {
            "standoff": 15
           },
           "zerolinecolor": "white",
           "zerolinewidth": 2
          },
          "yaxis": {
           "automargin": true,
           "gridcolor": "white",
           "linecolor": "white",
           "ticks": "",
           "title": {
            "standoff": 15
           },
           "zerolinecolor": "white",
           "zerolinewidth": 2
          }
         }
        },
        "title": {
         "text": "Chemical Space Visualization using UMAP"
        },
        "xaxis": {
         "anchor": "y",
         "domain": [
          0,
          1
         ],
         "title": {
          "text": "UMAP Component 1"
         },
         "zeroline": false
        },
        "yaxis": {
         "anchor": "x",
         "domain": [
          0,
          1
         ],
         "title": {
          "text": "UMAP Component 2"
         },
         "zeroline": false
        }
       }
      }
     },
     "metadata": {},
     "output_type": "display_data"
    }
   ],
   "source": [
    "# 9. Visualize with UMAP\n",
    "if 'scaled_features' in locals() and scaled_features.shape[0] > 1: # UMAP also needs more than 1 sample\n",
    "    n_neighbors_value = min(15, scaled_features.shape[0] - 1)\n",
    "    if n_neighbors_value > 1: # UMAP n_neighbors must be > 1\n",
    "        reducer = umap.UMAP(n_neighbors=n_neighbors_value, n_components=2, min_dist=0.1, random_state=42)\n",
    "        umap_results = reducer.fit_transform(scaled_features)\n",
    "\n",
    "        umap_df = pd.DataFrame(data=umap_results,\n",
    "                               columns=['UMAP Component 1', 'UMAP Component 2'])\n",
    "        umap_df.index = molecule_names # Assuming molecule_names is aligned\n",
    "\n",
    "        fig_umap = plot_scatter_plotly_2d(\n",
    "            df=umap_df,\n",
    "            x_col='UMAP Component 1',\n",
    "            y_col='UMAP Component 2',\n",
    "            text_col_data=umap_df.index,\n",
    "            title='Chemical Space Visualization using UMAP',\n",
    "            labels_dict={\n",
    "                'UMAP Component 1': 'UMAP Component 1',\n",
    "                'UMAP Component 2': 'UMAP Component 2'\n",
    "            },\n",
    "            marker_size=8,\n",
    "            text_position='top right',\n",
    "            add_zerolines=False # UMAP axes don't typically have meaning at zero\n",
    "        )\n",
    "        fig_umap.show()\n",
    "\n",
    "        # Original Matplotlib/Seaborn code:\n",
    "        # plt.figure(figsize=(12, 8))\n",
    "        # sns.scatterplot(x='UMAP Component 1', y='UMAP Component 2', data=umap_df, s=100, legend=False)\n",
    "        # for i, name in enumerate(umap_df.index):\n",
    "        #     plt.annotate(name, (umap_df.iloc[i, 0], umap_df.iloc[i, 1]), textcoords=\"offset points\", xytext=(5,5), ha='left')\n",
    "        # plt.title('Chemical Space Visualization using UMAP')\n",
    "        # plt.xlabel('UMAP Component 1')\n",
    "        # plt.ylabel('UMAP Component 2')\n",
    "        # plt.grid(True)\n",
    "        # plt.show()\n",
    "    else:\n",
    "        print(\"Skipping UMAP: Not enough samples for the chosen n_neighbors.\")\n",
    "else:\n",
    "    print(\"Skipping UMAP: Not enough samples or scaled_features not available.\")\n"
   ]
  },
  {
   "cell_type": "code",
   "execution_count": 22,
   "id": "fe226d83",
   "metadata": {},
   "outputs": [],
   "source": [
    "# Now, try fetching some larger database \n",
    "# (e.g. Data_FORMED.csv from https://archive.materialscloud.org/record/2024.104 or more ZINC molecules)\n",
    "# and play with the visualization parameters and options above."
   ]
  },
  {
   "cell_type": "code",
   "execution_count": 23,
   "id": "d7137824",
   "metadata": {},
   "outputs": [],
   "source": [
    "# Try plotting a few complex drug molecules using an embedding fit on ZINC. Do the results make sense?"
   ]
  },
  {
   "cell_type": "code",
   "execution_count": 24,
   "id": "d333a157",
   "metadata": {},
   "outputs": [],
   "source": [
    "# As a final diagnostic, one can consider whether the separation between\n",
    "# points in the embedding is correlated to the separation between the properties of interest.\n",
    "# Can you give this a go? :-)"
   ]
  },
  {
   "cell_type": "code",
   "execution_count": null,
   "id": "f34c2148",
   "metadata": {},
   "outputs": [],
   "source": []
  },
  {
   "cell_type": "code",
   "execution_count": null,
   "id": "22c128a3",
   "metadata": {},
   "outputs": [],
   "source": []
  },
  {
   "cell_type": "code",
   "execution_count": null,
   "id": "df77ce80",
   "metadata": {},
   "outputs": [],
   "source": []
  },
  {
   "cell_type": "code",
   "execution_count": null,
   "id": "4ae8c744",
   "metadata": {},
   "outputs": [],
   "source": []
  },
  {
   "cell_type": "code",
   "execution_count": null,
   "id": "5be0cdd6",
   "metadata": {},
   "outputs": [],
   "source": []
  },
  {
   "cell_type": "code",
   "execution_count": null,
   "id": "5b5cc5cb",
   "metadata": {},
   "outputs": [],
   "source": []
  },
  {
   "cell_type": "code",
   "execution_count": null,
   "id": "9c147b3d",
   "metadata": {},
   "outputs": [],
   "source": []
  },
  {
   "cell_type": "code",
   "execution_count": null,
   "id": "e09573ba",
   "metadata": {},
   "outputs": [],
   "source": []
  },
  {
   "cell_type": "code",
   "execution_count": null,
   "id": "ab676a40",
   "metadata": {},
   "outputs": [],
   "source": []
  },
  {
   "cell_type": "code",
   "execution_count": null,
   "id": "7dcb3179",
   "metadata": {},
   "outputs": [],
   "source": []
  },
  {
   "cell_type": "code",
   "execution_count": null,
   "id": "3d7b737d",
   "metadata": {},
   "outputs": [],
   "source": []
  },
  {
   "cell_type": "code",
   "execution_count": null,
   "id": "acb504f0",
   "metadata": {},
   "outputs": [],
   "source": []
  },
  {
   "cell_type": "code",
   "execution_count": null,
   "id": "9cd4ec7b",
   "metadata": {},
   "outputs": [],
   "source": []
  },
  {
   "cell_type": "code",
   "execution_count": null,
   "id": "42f16343",
   "metadata": {},
   "outputs": [],
   "source": []
  },
  {
   "cell_type": "code",
   "execution_count": null,
   "id": "be5021d6",
   "metadata": {},
   "outputs": [],
   "source": []
  },
  {
   "cell_type": "code",
   "execution_count": null,
   "id": "2d564980",
   "metadata": {},
   "outputs": [],
   "source": []
  }
 ],
 "metadata": {
  "kernelspec": {
   "display_name": "rubensinki",
   "language": "python",
   "name": "python3"
  },
  "language_info": {
   "codemirror_mode": {
    "name": "ipython",
    "version": 3
   },
   "file_extension": ".py",
   "mimetype": "text/x-python",
   "name": "python",
   "nbconvert_exporter": "python",
   "pygments_lexer": "ipython3",
   "version": "3.10.0"
  }
 },
 "nbformat": 4,
 "nbformat_minor": 5
}
