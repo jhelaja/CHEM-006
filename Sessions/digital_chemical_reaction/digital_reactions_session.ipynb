{
 "cells": [
  {
   "cell_type": "markdown",
   "id": "68c63c80-a5eb-475a-87b3-3db99cd992fc",
   "metadata": {},
   "source": [
    "# Digital chemical reactions - Seminar Notebook"
   ]
  },
  {
   "cell_type": "code",
   "execution_count": null,
   "id": "b3023713-1ca0-4543-a55d-43d5f3ea6698",
   "metadata": {},
   "outputs": [],
   "source": [
    "# Imports\n",
    "from rdkit import Chem\n",
    "from rdkit.Chem import Draw\n",
    "from rdkit.Chem.Draw import IPythonConsole\n",
    "import pandas as pd\n",
    "from rdkit.Chem import AllChem\n",
    "from rdkit.Chem import SDWriter, SDMolSupplier\n",
    "from rdkit.Chem import rdChemReactions"
   ]
  },
  {
   "cell_type": "markdown",
   "id": "e1ef4d6e-1167-4364-bdd8-b13046d7c4d8",
   "metadata": {},
   "source": [
    "### 0. SMILES"
   ]
  },
  {
   "cell_type": "markdown",
   "id": "04e83f0c-fefc-4cd8-8628-9be47741c92d",
   "metadata": {},
   "source": [
    "#### 0.0. Introduction to SMILES\n",
    "\n",
    "**SMILES (Simplified Molecular Input Line Entry System)** is a specification that encodes molecular structures into a line of text using short ASCII strings. These strings provide a compact and human-readable way to represent molecules, and are widely used in cheminformatics for storing, sharing, and processing chemical data.\n",
    "\n",
    "**Why are SMILES important?**\n",
    "- They provide a standard format to represent molecules digitally.\n",
    "- They can be easily parsed by computers and are supported by many cheminformatics libraries (e.g., RDKit).\n",
    "- They enable descriptor generation and molecular modeling, which you'll explore in depth in the next session.\n",
    "\n",
    "**What is RDKit?**\n",
    "\n",
    "RDKit is an open-source cheminformatics toolkit that allows the manipulation of chemical information, including SMILES parsing, molecular descriptor calculation, substructure searching, and chemical reaction modeling.\n",
    "\n",
    "**What is a Mol object?**\n",
    "\n",
    "In RDKit, a Mol object is a Python representation of a molecule. It is typically created from a SMILES string or a structure file (like `.sdf`), and can be used for visualization, property calculations, and transformations.\n",
    "\n",
    "**Basic SMILES Rules**:\n",
    "- Atoms are represented by atomic symbols (e.g., C for carbon, O for oxygen).\n",
    "- Single bonds are implied; double (=), triple (#), and aromatic bonds (:) are explicitly written.\n",
    "- Branches are represented using parentheses.\n",
    "- Rings are encoded by numbers that indicate where the ring opens and closes.\n",
    "\n",
    "**Useful references**:\n",
    "- [Daylight SMILES Tutorial](http://www.daylight.com/dayhtml/doc/theory/theory.smiles.html)\n",
    "- [RDKit SMILES Documentation](https://www.rdkit.org/docs/source/rdkit.Chem.rdmolfiles.html#rdkit.Chem.rdmolfiles.MolFromSmiles)\n",
    "- [Wikipedia - SMILES](https://en.wikipedia.org/wiki/Simplified_molecular-input_line-entry_system)"
   ]
  },
  {
   "cell_type": "markdown",
   "id": "a1c8a22f-3ee9-42d9-9f68-b8f216dba00b",
   "metadata": {},
   "source": [
    "#### 0.1. Some basic SMILES examples"
   ]
  },
  {
   "cell_type": "code",
   "execution_count": null,
   "id": "e6313c20",
   "metadata": {},
   "outputs": [],
   "source": [
    "# Convert a SMILES to molecule objects (Mol)\n",
    "smile = \"O=C=O\"\n",
    "\n",
    "# Generating molecule object \n",
    "mol = Chem.MolFromSmiles(smile)\n",
    "\n",
    "# Display the molecule\n",
    "Draw.MolToImage(mol, subImgSize=(200, 200), legend=smile)"
   ]
  },
  {
   "cell_type": "code",
   "execution_count": null,
   "id": "3ca4acaa",
   "metadata": {},
   "outputs": [],
   "source": [
    "# Convert SMILES to molecule objects (Mol)\n",
    "\n",
    "# Create a list of SMILES named smiles_list\n",
    "smiles_list = [\n",
    "    \"CCO\",         # ethanol\n",
    "    \"c1ccccc1\",    # benzene\n",
    "    \"CC(=O)O\",     # acetic acid\n",
    "    \"C1=CC=CC=C1O\" # phenol\n",
    "]\n",
    "\n",
    "print(smiles_list)"
   ]
  },
  {
   "cell_type": "code",
   "execution_count": null,
   "id": "309bb4be",
   "metadata": {},
   "outputs": [],
   "source": [
    "# Generate molecule objects (Mol) of smile_list and save them in a new list named mols\n",
    "mols = [] # empty list\n",
    "for smi in smiles_list:\n",
    "    new_mol = Chem.MolFromSmiles(smi)\n",
    "    mols.append(new_mol)\n",
    "\n",
    "# Display molecules of smile_list\n",
    "Draw.MolsToGridImage(mols, molsPerRow=4, subImgSize=(200, 200), legends=smiles_list)"
   ]
  },
  {
   "cell_type": "markdown",
   "id": "22d6788b-f41f-4b51-b690-e04a0a321024",
   "metadata": {},
   "source": [
    "#### 0.2. SMILES from CSV file"
   ]
  },
  {
   "cell_type": "code",
   "execution_count": null,
   "id": "48e80722-3f02-4a33-931e-2fd6976abb2e",
   "metadata": {},
   "outputs": [],
   "source": [
    "# Loading SMILES from a CSV file\n",
    "\"\"\"\n",
    "In many real-world scenarios, chemical data is stored in external files like CSVs. Here, we'll load a file with molecule names and their \n",
    "corresponding SMILES strings, and visualize them using RDKit.\n",
    "\n",
    "What is a CSV file?\n",
    "A CSV (Comma-Separated Values) file is a simple, plain-text file used to store tabular data, where each line represents a row and columns\n",
    "are separated by commas. It's commonly used for exchanging structured data between programs like Excel, Python (via pandas), and databases.\n",
    "\"\"\"\n",
    "\n",
    "# How to create a CSV using python? (There are more ways)\n",
    "\n",
    "# First: Creating a dictionary\n",
    "data = {\n",
    "    \"code_name\": [\"ethanol\", \"benzene\", \"acetic_acid\"],\n",
    "    \"SMILES\": [\"CCO\", \"c1ccccc1\", \"CC(=O)O\"]\n",
    "}\n",
    "\n",
    "# Second: convert the dictionary named data into a dataframe, using the function pd.DataFrame\n",
    "df = pd.DataFrame(data)\n",
    "\n",
    "# Third: Save the dataframe into a csv file\n",
    "df.to_csv(\"molecules.csv\", index=False)\n",
    "\n",
    "\n",
    "# possible question, is a dictionary the same as a dataframe?\n",
    "print(data)\n",
    "print(df)"
   ]
  },
  {
   "cell_type": "code",
   "execution_count": null,
   "id": "b425c0d8-ade7-4dca-888d-85a3dbf2f2c9",
   "metadata": {},
   "outputs": [],
   "source": [
    "# Load the CSV\n",
    "df_loaded = pd.read_csv(\"molecules.csv\")\n",
    "\n",
    "# Convert SMILES from a CSV into a list of mols\n",
    "mols_csv = []\n",
    "for smi in df_loaded['SMILES']:\n",
    "    new_mol = Chem.MolFromSmiles(smi)\n",
    "    mols_csv.append(new_mol)\n",
    "    \n",
    "# visualize the mol objects of your list\n",
    "Draw.MolsToGridImage(mols_csv, molsPerRow=3, subImgSize=(200, 200), legends=df_loaded[\"code_name\"].tolist())"
   ]
  },
  {
   "cell_type": "markdown",
   "id": "19f2752a-ad27-4210-b103-af6086a7e147",
   "metadata": {},
   "source": [
    "#### 0.3. SMILES from SDF file"
   ]
  },
  {
   "cell_type": "code",
   "execution_count": null,
   "id": "334a4409-45e7-4c20-b2d2-10e21368c178",
   "metadata": {
    "scrolled": true
   },
   "outputs": [],
   "source": [
    "\"\"\"\n",
    "Reading molecules from an SDF file\n",
    "\n",
    "SDF (Structure Data File) is a widely used file format for storing multiple molecular structures along with metadata. \n",
    "RDKit can parse these files and convert them into Mol objects.\n",
    "\n",
    "Below is a demonstration of how to load molecules from an SDF file. You can replace 'nitriles.sdf' with any real dataset.\n",
    "\"\"\"\n",
    "\n",
    "# Load from SDF (have to be in the same folder than this .ipynb file)\n",
    "sdf_file = SDMolSupplier(\"nitriles.sdf\")\n",
    "\n",
    "# to create the list of mols from a SDF file it is not necessary apply the function .MolFromSmiles(), because now you don't have SMILES\n",
    "# mol is directly in your sdf file\n",
    "mols = []\n",
    "for mol in sdf_file:\n",
    "    if mol is not None: # Filter out None values (invalid mols)\n",
    "        mols.append(mol)\n",
    "\n",
    "Draw.MolsToGridImage(mols, molsPerRow=6, subImgSize=(200, 200))"
   ]
  },
  {
   "cell_type": "markdown",
   "id": "eb00b051-06df-4d7e-9bc4-fd1dfdf30b6f",
   "metadata": {},
   "source": [
    "#### 0.4. It's your turn!"
   ]
  },
  {
   "cell_type": "code",
   "execution_count": null,
   "id": "6dc8543c-7a92-4be8-bf51-ebe540338580",
   "metadata": {},
   "outputs": [],
   "source": [
    "\"\"\"\n",
    "Try the following tasks based on what you've learned so far:\n",
    "\n",
    "1. Convert the following SMILES string into a Mol and visualize it: `CCN(CC)CC` (triethylamine)\n",
    "2. Load the CSV file again and visualize the molecules.\n",
    "3. Load your own SDF file and display the molecules.\n",
    "\n",
    "Use the cells below to practice:\n",
    "\"\"\""
   ]
  },
  {
   "cell_type": "code",
   "execution_count": null,
   "id": "2f2d81de-1d7f-4e51-8964-0926ee89926a",
   "metadata": {
    "scrolled": true
   },
   "outputs": [],
   "source": [
    "# Task 1: Convert this SMILES to a Mol and visualize\n",
    "practice_smiles = \"CCN(CC)CC\"    # triethylamine\n",
    "# Your code here\n"
   ]
  },
  {
   "cell_type": "code",
   "execution_count": null,
   "id": "4a862eaa-3816-493b-861d-84c96f061372",
   "metadata": {},
   "outputs": [],
   "source": [
    "# Task 2: From the CSV file 'oxygenated_compounds.csv', convert the SMILES to a Mol and visualize\n",
    "csv_file = 'oxygenated_compounds.csv'\n",
    "# Your code here\n"
   ]
  },
  {
   "cell_type": "code",
   "execution_count": null,
   "id": "7486344c-d383-4b31-bee6-bdc693049a41",
   "metadata": {},
   "outputs": [],
   "source": [
    "# Task 3: From the SDF file alkynes.sdf, convert the SMILES to a Mol and visualize\n",
    "sdf_file = 'alkynes.sdf'\n",
    "# Your code here\n"
   ]
  },
  {
   "cell_type": "markdown",
   "id": "13199bd1-5162-4107-a5cc-28ca9139f8be",
   "metadata": {},
   "source": [
    "### 1. SMARTS"
   ]
  },
  {
   "cell_type": "markdown",
   "id": "5f5020ef-dae4-433e-b5c5-a7097c875d21",
   "metadata": {},
   "source": [
    "#### 1.0. Introduction to SMARTS\n",
    "\n",
    "**SMARTS (SMILES Arbitrary Target Specification)** is a powerful language used to define substructures in molecules. While SMILES describes entire molecules, SMARTS allows you to describe **patterns or fragments** to match within molecules, making it ideal for filtering, searching, and performing **digital reactions**.\n",
    "\n",
    "**Why use SMARTS?**\n",
    "- Substructure matching in large datasets\n",
    "- Functional group identification\n",
    "- Defining reactants or transformation rules in digital reactions\n",
    "\n",
    "**10 Useful Basic SMARTS Rules**:\n",
    "1. `[#6]` — Carbon atom\n",
    "2. `[O]` — Oxygen atom\n",
    "3. `[#7]` — Nitrogen atom\n",
    "4. `[C]=[O]` — Carbon double bonded to Oxygen (e.g., carbonyl group)\n",
    "5. `[OH]` — Hydroxyl group\n",
    "6. `[CH3]` — Methyl group\n",
    "7. `[nH]` — Aromatic nitrogen with hydrogen (e.g., in indole)\n",
    "8. `[R]` — Ring atom\n",
    "9. `[!#6]` — Any atom except carbon\n",
    "10. `*` — Any atom (wildcard)\n",
    "11. `~` — Any bond (wildcard)\n",
    "12. `[D3]` — atom with 3 explicit bonds (implicit H's don't count)\n",
    "13. `[X3]` — atom with 3 total bonds (includes implicit H's)\n",
    "\n",
    "**SMARTS Resources**:\n",
    "- [Daylight SMARTS Tutorial](http://www.daylight.com/dayhtml/doc/theory/theory.smarts.html)\n",
    "- [RDKit SMARTS Examples](https://www.rdkit.org/docs/Cookbook.html#substructure-matching)\n",
    "- [SMARTS Tutorial](https://www.daylight.com/dayhtml_tutorials/languages/smarts/)\n",
    "- [SMARTS Examples](https://www.daylight.com/dayhtml_tutorials/languages/smarts/smarts_examples.html)"
   ]
  },
  {
   "cell_type": "markdown",
   "id": "96955c17-869f-4fc1-a0c8-e768efdb2e5c",
   "metadata": {},
   "source": [
    "#### 1.1. Basic examples of SMARTS - Filtering only one molecule"
   ]
  },
  {
   "cell_type": "code",
   "execution_count": null,
   "id": "0a6cd99a-7827-42a9-8977-b303a5862ed6",
   "metadata": {},
   "outputs": [],
   "source": [
    "# Does the molecule contain N?\n",
    "# Define the pattern\n",
    "pattern = \"N\"\n",
    "\n",
    "# Convert SMARTS into MOL using function .MolFromSmarts()\n",
    "mol_pattern = Chem.MolFromSmarts(pattern)\n",
    "\n",
    "# Define a molecule using SMILES and convert it into molecule objects (MOL), like in the previous section\n",
    "smile_molecule = \"CCN(CC)CC\"  # triethylamine\n",
    "mol_molecule = Chem.MolFromSmiles(smile_molecule)\n",
    "\n",
    "# Does the molecule contain N?\n",
    "# To see if the pattern match with our molecule, we use the function .HasSubstructMatch()\n",
    "# This function return a boolean, so the value of result can be False or True\n",
    "result = mol_molecule.HasSubstructMatch(mol_pattern)\n",
    "\n",
    "\n",
    "print(result) # will return a boolean\n",
    "print(type(result))"
   ]
  },
  {
   "cell_type": "markdown",
   "id": "43f92ef0",
   "metadata": {},
   "source": [
    "#### 1.2. Applying SMARTS - Filtering a dataframe"
   ]
  },
  {
   "cell_type": "code",
   "execution_count": null,
   "id": "94299136-088f-4a9f-bac3-6343cef87ef8",
   "metadata": {},
   "outputs": [],
   "source": [
    "# 1. Creating the data frame (as we did before in the previous section)\n",
    "\n",
    "# Create a dictionary\n",
    "data_dict = {\n",
    "    \"code_name\": [\"acetamide\", \"acetonitrile\", \"ethylamine\"],\n",
    "    \"SMILES\": [\"CC(=O)N\", 'CC#N', 'CCN']\n",
    "}\n",
    "\n",
    "# Create the DataFrame from a dictionary\n",
    "new_df = pd.DataFrame(data_dict)\n",
    "\n",
    "# Checking our dictionary and dataframe\n",
    "print(data_dict)\n",
    "print(new_df)\n"
   ]
  },
  {
   "cell_type": "code",
   "execution_count": null,
   "id": "24fb990e",
   "metadata": {},
   "outputs": [],
   "source": [
    "# 2. Which molecules contain nitrogen?\n",
    "\n",
    "# Define the pattern\n",
    "pattern1 = \"N\" # Nitrogen\n",
    "\n",
    "# Convert SMARTS into MOL using function .MolFromSmarts()\n",
    "mol_pattern1 = Chem.MolFromSmarts(pattern1)\n",
    "\n",
    "# Check if molecules of new_df match the pattern1 using a for loop\n",
    "# For each molecule, if the result of matching is True, we save that mol object in a new list, named smi_match1\n",
    "\n",
    "# creating an empty list for the molecules which match with pattern 1\n",
    "smi_match1 = []\n",
    "\n",
    "# Converting the SMILES of the dataframe in mol object using a for loop\n",
    "for smi in new_df['SMILES']:\n",
    "    mol = Chem.MolFromSmiles(smi)\n",
    "    \n",
    "    # Checking if the result of matching is True or False\n",
    "    result = mol.HasSubstructMatch(mol_pattern1)\n",
    "    \n",
    "    # If that result is True, we add that SMILE in the smi_match1 list\n",
    "    if result == True: \n",
    "        smi_match1.append(smi)\n",
    "\n",
    "# Viewing the items in the new list    \n",
    "print(smi_match1)\n",
    "\n",
    "# How many molecules pass the filter? We can use len() to count the elements of the list\n",
    "n_list = len(smi_match1)\n",
    "print(n_list)\n",
    "\n",
    "# Example of using an f'string\n",
    "print(f'{n_list} molecules pass the filter')"
   ]
  },
  {
   "cell_type": "code",
   "execution_count": null,
   "id": "fa667a9b-4e68-40ea-a546-7f755f0897a6",
   "metadata": {},
   "outputs": [],
   "source": [
    "# 3. Which molecules contain AMINO groups?\n",
    "# 4. Which molecules contain CIANO groups?\n",
    "\n",
    "# Define the pattern\n",
    "pattern2 = \"[NX3]\" # Atom of N (non-aromatic) with 3 total bonds (includes implicit H's)\n",
    "pattern3 = \"N#C\" # Cyano groups\n",
    "\n",
    "# Convert SMARTS into MOL using function .MolFromSmarts()\n",
    "mol_pattern2 = Chem.MolFromSmarts(pattern2)\n",
    "mol_pattern3 = Chem.MolFromSmarts(pattern3)\n",
    "\n",
    "# creating an empty list for the molecules which match with pattern 2\n",
    "smi_match2 = []\n",
    "smi_match3 = []\n",
    "\n",
    "# Converting the SMILES of the dataframe in mol object using a for loop\n",
    "for smi in new_df['SMILES']:\n",
    "    mol = Chem.MolFromSmiles(smi)\n",
    "    \n",
    "    # Checking if the result of matching is True or False\n",
    "    result2 = mol.HasSubstructMatch(mol_pattern2)\n",
    "    result3 = mol.HasSubstructMatch(mol_pattern3)    \n",
    "    # If that result is True, we add that SMILE in the smi_match1 list\n",
    "    if result2 == True: \n",
    "        smi_match2.append(smi)\n",
    "        \n",
    "    if result3 == True: \n",
    "        smi_match3.append(smi)\n",
    "\n",
    "# Which molecules pass each filter?        \n",
    "print(f'Amino filter: {smi_match2}')\n",
    "print(f'Ciano filter:{smi_match3}')\n",
    "\n",
    "# How many molecules pass the filter?\n",
    "print(f'{len(smi_match2)} molecules pass the amino filter')\n",
    "print(f'{len(smi_match3)} molecules pass the ciano filter')"
   ]
  },
  {
   "cell_type": "code",
   "execution_count": null,
   "id": "7fba5f49-6858-4363-92df-87336feeb275",
   "metadata": {},
   "outputs": [],
   "source": [
    "# Solving the problem, it is very important to define SMARTS well\n",
    "# Which molecules contain amino groups?\n",
    "pattern2 = \"[NX3;!$(NC=O)]\" # Amino groups\n"
   ]
  },
  {
   "cell_type": "code",
   "execution_count": null,
   "id": "0f87cad2-c0d1-4a6f-90a6-56439ad70a92",
   "metadata": {},
   "outputs": [],
   "source": [
    "'''Define some SMARTS patterns and test them on molecules of your dataframe'''\n",
    "\n",
    "pattern_alcohol = \"[CX4][OH]\"\n",
    "pattern_aromatic_ring = \"c1ccccc1\"\n",
    "pattern_carbonyl = \"[CX3]=[OX1]\"\n",
    "\n",
    "mol_alcohol = Chem.MolFromSmarts(pattern_alcohol),\n",
    "mol_aromatic_ring = Chem.MolFromSmarts(pattern_aromatic_ring),\n",
    "mol_carbonyl = Chem.MolFromSmarts(pattern_carbonyl)\n",
    "\n",
    "# what is above is equivalent to what is below:\n",
    "mol_alcohol = Chem.MolFromSmarts(\"[CX4][OH]\")\n",
    "mol_aromatic_ring = Chem.MolFromSmarts(\"c1ccccc1\")\n",
    "mol_carbonyl = Chem.MolFromSmarts(\"[CX3]=[OX1]\")\n",
    "\n",
    "# creating 4 empty lists\n",
    "mol_list, match1, match2, match3 = [], [], [], []\n",
    "\n",
    "# Converting the SMILES of the dataframe in mol object using a for loop\n",
    "for smi in new_df['SMILES']:\n",
    "    mol = Chem.MolFromSmiles(smi)\n",
    "    mol_list.append(mol)\n",
    "      \n",
    "    # If that result is True, we add that SMILE in the smi_match1 list\n",
    "    if mol.HasSubstructMatch(mol_alcohol) == True: \n",
    "        match1.append(smi)\n",
    "\n",
    "    if mol.HasSubstructMatch(mol_aromatic_ring) == True: \n",
    "        match2.append(smi)\n",
    "        \n",
    "    if mol.HasSubstructMatch(mol_carbonyl) == True: \n",
    "        match3.append(smi)\n",
    "\n",
    "\n",
    "# Check which molecules match each pattern\n",
    "print(f'Alcohol filter: {match1}')\n",
    "print(f'Aromatic ring filter:{match2}')\n",
    "print(f'Carbonyl filter:{match3}')\n",
    "\n",
    "Draw.MolsToGridImage(mol_list, molsPerRow=3, subImgSize=(200,200), legends=new_df[\"code_name\"].tolist())"
   ]
  },
  {
   "cell_type": "markdown",
   "id": "e44e6e73-edd2-45b4-a444-5cf66d688203",
   "metadata": {},
   "source": [
    "#### 1.3. Applying SMARTS - Filtering an SDF file"
   ]
  },
  {
   "cell_type": "code",
   "execution_count": null,
   "id": "654d4ada-4222-41ea-bd00-2e66c92cfb99",
   "metadata": {},
   "outputs": [],
   "source": [
    "\"\"\"\n",
    "### SMARTS Filtering in a Molecule Set\n",
    "We'll simulate loading an SDF file with 20 small organic molecules, and apply a SMARTS pattern to filter those containing a ketone group.\n",
    "\"\"\"\n",
    "\n",
    "# Read the SDF file sample_mols.sdf\n",
    "sdf_supplier = SDMolSupplier(\"sample_mols.sdf\")\n",
    "\n",
    "# Defining the pattern and converting it to a mol object, in one line\n",
    "carbonyl_pattern = Chem.MolFromSmarts('[#6][CX3](=O)[#6]')\n",
    "\n",
    "# creating 2 empty lists\n",
    "matched, unmatched = [], []\n",
    "for mol in sdf_supplier:\n",
    "    \n",
    "    # to avoid invalid MOL\n",
    "    if mol is not None:\n",
    "        \n",
    "        if mol.HasSubstructMatch(carbonyl_pattern) == True:\n",
    "            matched.append(mol)\n",
    "            \n",
    "        else:\n",
    "            unmatched.append(mol)\n",
    "\n",
    "\n",
    "print(f\"Matched: {len(matched)} | Unmatched: {len(unmatched)}\")\n",
    "Draw.MolsToGridImage(matched, molsPerRow=6, subImgSize=(200,200))"
   ]
  },
  {
   "cell_type": "markdown",
   "id": "2bb5c322-dddf-44ff-84f3-498befe6c507",
   "metadata": {},
   "source": [
    "#### 1.4. It's your turn!"
   ]
  },
  {
   "cell_type": "code",
   "execution_count": null,
   "id": "7a615d70-5bbd-486a-8207-325eecba4a39",
   "metadata": {},
   "outputs": [],
   "source": [
    "# Task 4: Does this molecule contain any oxygen atoms? Solve by applying SMART, obtaining a boolean\n",
    "molecule = \"CCN(CC)CC\"\n",
    "# Your code here\n"
   ]
  },
  {
   "cell_type": "code",
   "execution_count": null,
   "id": "53342e72-a576-422d-8027-a275b1cbe012",
   "metadata": {},
   "outputs": [],
   "source": [
    "# Task 5: From CSV file, filter molecules containing carboxylic acid groups using SMARTS and visualize them\n",
    "\"\"\"\n",
    "SMARTS Filtering from CSV\n",
    "\n",
    "We've prepared a CSV with some oxygenated compounds. Your task is to:\n",
    "\n",
    "- Load the CSV into a DataFrame\n",
    "- Convert the SMILES to Mol objects\n",
    "- Define a SMARTS pattern for carboxylic acid groups\n",
    "- Filter and visualize only the molecules containing carboxylic acid groups \n",
    "\n",
    "Hint: Beware of aldehydes and ester.\n",
    "\"\"\"\n",
    "csv_file = 'oxygenated_compounds.csv'\n",
    "# Your code here\n"
   ]
  },
  {
   "cell_type": "code",
   "execution_count": null,
   "id": "61d44c26",
   "metadata": {},
   "outputs": [],
   "source": [
    "# Task 6: From SDF file, filter molecules containing aldehydes groups using SMARTS and visualize them\n",
    "\"\"\"\n",
    "SMARTS Filtering from SDF\n",
    "\n",
    "Your task is to:\n",
    "\n",
    "- Load the SDF\n",
    "- Define a correct SMARTS pattern for aldehydes groups\n",
    "- Filter and visualize only the molecules containing aldehydes acid groups\n",
    "\n",
    "Hint: Take the example of section 1.3. and change the pattern.\n",
    "\"\"\"\n",
    "sdf_file = 'sample_mols.sdf'\n",
    "# Your code here"
   ]
  },
  {
   "cell_type": "markdown",
   "id": "0f904ea9-860a-47e8-a76e-a3d9fb39c3c3",
   "metadata": {},
   "source": [
    "### 2. DIGITAL CHEMICAL REACTIONS"
   ]
  },
  {
   "cell_type": "markdown",
   "id": "7693c26a-2a6e-4042-a0a1-a36f23a57779",
   "metadata": {},
   "source": [
    "#### 2.0. Introduction to Digital Chemical Reactions"
   ]
  },
  {
   "cell_type": "markdown",
   "id": "777f36f4-4d3b-4030-9655-0ef2ec6d5339",
   "metadata": {},
   "source": [
    "Digital chemical reactions simulate real chemical transformations using SMARTS-based reaction templates. These templates define the transformation logic (reactant patterns → product structure) and can be applied programmatically using RDKit's `rdChemReactions` module.\n",
    "\n",
    "**Common uses**:\n",
    "- Automating reaction design\n",
    "- Virtual synthesis of new molecules\n",
    "- Filtering or modifying compound libraries\n",
    "\n",
    "**Basic Imports for Digital Reactions**:\n",
    "```python\n",
    "from rdkit.Chem import rdChemReactions\n",
    "```\n",
    "\n",
    "**Structure**:\n",
    "```python\n",
    "rxn = rdChemReactions.ReactionFromSmarts(\"[C:1]=[O:2].[N:3]>>[C:1](N:3)[O:2]\")\n",
    "products = rxn.RunReactants((mol1, mol2))\n",
    "```\n",
    "\n",
    "**Common pitfalls**:\n",
    "- Reactants must match the SMARTS pattern exactly.\n",
    "- Atom mapping (`:[n]`) is essential to track atoms during transformations.\n",
    "- Input molecule order matters for multi-reactant reactions.\n",
    "\n",
    "**Resources**:\n",
    "- [RDKit Reaction Guide](https://www.rdkit.org/docs/Cookbook.html#using-chemical-reactions)\n",
    "- [Reaction SMARTS - Daylight](http://www.daylight.com/dayhtml/doc/theory/theory.reactions.html)\n",
    "- [SMARTS display](https://smarts.plus/)"
   ]
  },
  {
   "cell_type": "markdown",
   "id": "ed0a30b3-709d-4ce7-ab7b-d7fc67af422a",
   "metadata": {},
   "source": [
    "#### 2.1. Basic examples of digital reactions"
   ]
  },
  {
   "cell_type": "code",
   "execution_count": null,
   "id": "8945844e-d9aa-4f04-8176-3ddb427f737e",
   "metadata": {},
   "outputs": [],
   "source": [
    "# Define a simple esterification reaction: carboxylic acid + alcohol -> ester\n",
    "\n",
    "# Defining the SMARTS of the reactions\n",
    "smarts_reaction = \"[C:1](=O)[O:2].[O:3][C:4]>>[C:1](=O)[O:3][C:4].[O:2]\"\n",
    "\n",
    "# Applying the function .ReactionFromSmarts() to specify that it is a reaction\n",
    "rxn = rdChemReactions.ReactionFromSmarts(smarts_reaction)\n",
    "\n",
    "# Defining the substrates of our reaction (SMILES -> MOL) \n",
    "acid = Chem.MolFromSmiles(\"CC(=O)O\")\n",
    "alcohol = Chem.MolFromSmiles(\"CCO\")\n",
    "\n",
    "# Run the reaction using the function reaction.RunReactants((substrates))\n",
    "products = rxn.RunReactants((acid, alcohol))\n",
    "\n",
    "# Dsiplay the products\n",
    "Draw.MolsToGridImage([p[0] for p in products])"
   ]
  },
  {
   "cell_type": "markdown",
   "id": "f2e76d90-c838-4417-91c5-148eb1a33c52",
   "metadata": {},
   "source": [
    "#### 2.1. Digital Reactions from a CSV (Automated Reaction Workflow)"
   ]
  },
  {
   "cell_type": "code",
   "execution_count": null,
   "id": "c390f5df",
   "metadata": {},
   "outputs": [],
   "source": [
    "# Load CSV with molecules as dataframe\n",
    "df = pd.read_csv(\"oxygenated_compounds.csv\")\n",
    "print (df)"
   ]
  },
  {
   "cell_type": "code",
   "execution_count": null,
   "id": "75aa714c-eafa-4ed9-8b28-910dda48bd71",
   "metadata": {},
   "outputs": [],
   "source": [
    "# adding a new column in our dataframe named mol_object\n",
    "df[\"mol_object\"] = df[\"SMILES\"].apply(Chem.MolFromSmiles)\n",
    "print(df)"
   ]
  },
  {
   "cell_type": "code",
   "execution_count": null,
   "id": "d7f78dfb",
   "metadata": {},
   "outputs": [],
   "source": [
    "# Display our molecules, using mol_object column\n",
    "Draw.MolsToGridImage(df[\"mol_object\"], molsPerRow=8, subImgSize=(400, 400))"
   ]
  },
  {
   "cell_type": "code",
   "execution_count": null,
   "id": "69c2d5c9-31b2-4246-8213-72b3d995b604",
   "metadata": {},
   "outputs": [],
   "source": [
    "# Define a simple ketone → enol conversion\n",
    "smarts_reaction = \"[C:0][C:1](=O)[C:2]>>[C:0][C:1](O)(=[C:2])\"\n",
    "rxn = rdChemReactions.ReactionFromSmarts(smarts_reaction)\n",
    "\n",
    "# creating 2 empty lists\n",
    "product_names, product_smiles = [], []\n",
    "\n",
    "# running the reaction for each possible combinations and saving the products in the new 2 lists\n",
    "for i, mol in enumerate(df[\"mol_object\"]):  # i is just the enumeration (0, 1, 2, 3...)\n",
    "    if mol is None:  # only continues if the mol is valid\n",
    "        continue\n",
    "    ps = rxn.RunReactants((mol,))    # The double parentheses are because it expects a tuple\n",
    "    if ps:   # check if the reaction gives any product\n",
    "        product = ps[0][0]    # ps is a list of results, each being a tuple of products.\n",
    "        product_names.append(f\"product_{i+1}\")    # defining the product name and adding it to the list\n",
    "        product_smiles.append(Chem.MolToSmiles(product))    # adding the SMILE to the second list\n",
    "        \n",
    "# Saving the products as a df\n",
    "product_df = pd.DataFrame({\"product_name\": product_names, \n",
    "                           \"product_smiles\": product_smiles})\n",
    "\n",
    "# adding a new column of product_mol\n",
    "product_df['product_mol'] = product_df[\"product_smiles\"].apply(Chem.MolFromSmiles)\n",
    "\n",
    "# Saving it as a CSV file titled \"digital_products.csv\"\n",
    "product_df.to_csv(\"digital_products.csv\", index=False)\n",
    "\n",
    "# Display products, using product_mol column\n",
    "Draw.MolsToGridImage(product_df['product_mol'], molsPerRow=5, subImgSize=(200, 200))"
   ]
  },
  {
   "cell_type": "markdown",
   "id": "08278768-fc2c-4e04-8b88-a16ba5c91860",
   "metadata": {},
   "source": [
    "#### 2.2. Digital Reactions from an SDF File"
   ]
  },
  {
   "cell_type": "code",
   "execution_count": null,
   "id": "fae00e2f-4fa1-497c-834e-6f403816acc7",
   "metadata": {},
   "outputs": [],
   "source": [
    "sdf_supplier = SDMolSupplier(\"sample_mols.sdf\")\n",
    "\n",
    "# Reaction: Replace ketone (C=O) with alkene (C=C)\n",
    "rxn = rdChemReactions.ReactionFromSmarts(\"[#6:1][C:2](=O)[#6:3]>>[#6:1][C:2]=[C:3]\")\n",
    "\n",
    "alkenes = []\n",
    "for mol in sdf_supplier:   # Iterate through each molecule in the .sdf file.\n",
    "    if mol is None:        # Ignore any that are incorrectly formatted or empty.\n",
    "        continue\n",
    "    ps = rxn.RunReactants((mol,))   # Apply the digital reaction to each molecule.\n",
    "    if ps:                          # If there is a result, continue.\n",
    "        alkenes.append(ps[0][0])    # Save the first generated product.\n",
    "\n",
    "Draw.MolsToGridImage(alkenes, molsPerRow=4)"
   ]
  },
  {
   "cell_type": "markdown",
   "id": "705b1416",
   "metadata": {},
   "source": [
    "#### 2.3. It's your turn!"
   ]
  },
  {
   "cell_type": "code",
   "execution_count": null,
   "id": "feb11b7c",
   "metadata": {},
   "outputs": [],
   "source": [
    "# Task 7: \n",
    "'''\n",
    "In the reaction from Section 2.1, why doesn't the acetophenone molecule produce the product if it's a ketone? \n",
    "How could you modify the reaction so that it also produces its product?\n",
    "\n",
    "Hint: Copy and paste the example of section 2.1. and change the smarts_reaction.\n",
    "'''\n",
    "\n",
    "# Your code here"
   ]
  },
  {
   "cell_type": "markdown",
   "id": "bca81db6-3f37-4b1b-aa6b-32622df68dd8",
   "metadata": {},
   "source": [
    "### Solutions to the tasks"
   ]
  },
  {
   "cell_type": "code",
   "execution_count": null,
   "id": "d60c68b1-3d1c-4eda-9f00-a76a477bf974",
   "metadata": {},
   "outputs": [],
   "source": [
    "# Task 1: Convert this SMILES to a Mol and visualize\n",
    "practice_smiles = \"CCN(CC)CC\"\n",
    "# Your code here\n",
    "mol = Chem.MolFromSmiles(\"CCN(CC)CC\")\n",
    "Draw.MolToImage(mol, molsPerRow=1, subImgSize=(200, 200), legend='triethylamine')"
   ]
  },
  {
   "cell_type": "code",
   "execution_count": null,
   "id": "fedbd92e-cc1f-4c01-8595-7d552407f8e4",
   "metadata": {},
   "outputs": [],
   "source": [
    "# Task 2: From the CSV file 'oxygenated_compounds.csv', convert the SMILES to a Mol and visualize\n",
    "csv_file = 'oxygenated_compounds.csv'\n",
    "# Your code here\n",
    "\n",
    "df_loaded = pd.read_csv(csv_file)\n",
    "\n",
    "mols_csv = []\n",
    "for smi in df_loaded['SMILES']:\n",
    "    new_mol = Chem.MolFromSmiles(smi)\n",
    "    mols_csv.append(new_mol)\n",
    "\n",
    "mols_csv = [Chem.MolFromSmiles(smi) for smi in df_loaded[\"SMILES\"]]\n",
    "Draw.MolsToGridImage(mols_csv, molsPerRow=5, subImgSize=(200, 200), legends=df_loaded[\"name\"].tolist())"
   ]
  },
  {
   "cell_type": "code",
   "execution_count": null,
   "id": "527c9e5a-2786-4b31-a4e9-48dd784a7c35",
   "metadata": {},
   "outputs": [],
   "source": [
    "# Task 3: From the SDF file alkynes.csv, convert the SMILES to a Mol and visualize\n",
    "sdf_file = 'alkynes.sdf'\n",
    "# Your code here\n",
    "# Load from SDF (have to be in the same folder than this .ipynb file)\n",
    "sdf_file = SDMolSupplier(sdf_file)\n",
    "\n",
    "mols = []\n",
    "for mol in sdf_file:\n",
    "    if mol is not None: # Filter out None values (invalid mols)\n",
    "        mols.append(mol)\n",
    "        \n",
    "Draw.MolsToGridImage(mols, molsPerRow=7, subImgSize=(200, 200))"
   ]
  },
  {
   "cell_type": "code",
   "execution_count": null,
   "id": "d24d4904-eaf7-44a0-a02d-9b2769afa034",
   "metadata": {},
   "outputs": [],
   "source": [
    "# Task 4: Does this molecule contain any oxygen atoms? Solve by applying SMART, obtaining a boolean\n",
    "molecule = \"CCN(CC)CC\"\n",
    "# Your code here\n",
    "\n",
    "pattern = \"O\"\n",
    "mol_pattern = Chem.MolFromSmarts(pattern)\n",
    "\n",
    "if (mol.HasSubstructMatch(mol_pattern)) == True:\n",
    "    word = 'contains'\n",
    "else:\n",
    "    word = \"doesn't contain\"\n",
    "    \n",
    "print(f'The molecule {molecule} {word} oxygen atoms')"
   ]
  },
  {
   "cell_type": "code",
   "execution_count": null,
   "id": "4cab84ae-7d98-445e-aebf-7fcacacabe26",
   "metadata": {},
   "outputs": [],
   "source": [
    "# Task 5: From CSV file, filter molecules containing carboxylic acid groups using SMARTS and visualize them\n",
    "\"\"\"\n",
    "SMARTS Filtering from CSV\n",
    "\n",
    "We've prepared a CSV with some oxygenated compounds. Your task is to:\n",
    "\n",
    "- Load the CSV into a DataFrame\n",
    "- Convert the SMILES to Mol objects\n",
    "- Define a SMARTS pattern for carboxylic acid groups\n",
    "- Filter and visualize only the molecules containing carboxylic acid groups \n",
    "\n",
    "Hint: Beware of aldehydes and ester.\n",
    "\"\"\"\n",
    "csv_file = 'oxygenated_compounds.csv'\n",
    "# Your code here\n",
    "\n",
    "\n",
    "df_task = pd.read_csv(csv_file)\n",
    "\n",
    "mol_list = []\n",
    "for smi in df_task['SMILES']:\n",
    "    mol_list.append(Chem.MolFromSmiles(smi))\n",
    "\n",
    "\n",
    "pattern_acid = '[CX3](=O)[OH]'\n",
    "mol_pattern = Chem.MolFromSmarts(pattern_acid)\n",
    "\n",
    "matched, unmatched = [], []\n",
    "for mol in mol_list:\n",
    "    if mol is not None:\n",
    "        if mol.HasSubstructMatch(mol_pattern) == True:\n",
    "            matched.append(mol)\n",
    "            \n",
    "        else:\n",
    "            unmatched.append(mol)\n",
    "\n",
    "\n",
    "print(f\"Matched: {len(matched)} | Unmatched: {len(unmatched)}\")\n",
    "Draw.MolsToGridImage(matched, molsPerRow=7, subImgSize=(200,200))"
   ]
  },
  {
   "cell_type": "code",
   "execution_count": null,
   "id": "b17dfb7e",
   "metadata": {},
   "outputs": [],
   "source": [
    "# Task 6: From SDF file, filter molecules containing aldehydes groups using SMARTS and visualize them\n",
    "\"\"\"\n",
    "SMARTS Filtering from SDF\n",
    "\n",
    "Your task is to:\n",
    "\n",
    "- Load the SDF\n",
    "- Define a correct SMARTS pattern for aldehydes groups\n",
    "- Filter and visualize only the molecules containing aldehydes acid groups\n",
    "\n",
    "Hint: Take the example of section 1.3. and change the pattern.\n",
    "\"\"\"\n",
    "sdf_file = 'sample_mols.sdf'\n",
    "# Your code here\n",
    "\n",
    "# Read the SDF file sample_mols.sdf\n",
    "sdf_supplier = SDMolSupplier(\"sample_mols.sdf\")\n",
    "\n",
    "# Defining the pattern and converting it to a mol object, in one line\n",
    "carbonyl_pattern = Chem.MolFromSmarts('[CX3H1](=O)[#6]')\n",
    "\n",
    "# creating 2 empty lists\n",
    "matched, unmatched = [], []\n",
    "for mol in sdf_supplier:\n",
    "    \n",
    "    # to avoid invalid SMILES\n",
    "    if mol is not None:\n",
    "        \n",
    "        if mol.HasSubstructMatch(carbonyl_pattern) == True:\n",
    "            matched.append(mol)\n",
    "            \n",
    "        else:\n",
    "            unmatched.append(mol)\n",
    "\n",
    "\n",
    "print(f\"Matched: {len(matched)} | Unmatched: {len(unmatched)}\")\n",
    "Draw.MolsToGridImage(matched, molsPerRow=6, subImgSize=(200,200))"
   ]
  },
  {
   "cell_type": "code",
   "execution_count": null,
   "id": "254b879a",
   "metadata": {},
   "outputs": [],
   "source": [
    "# Task 7: \n",
    "'''\n",
    "In the reaction from Section 2.1, why doesn't the acetophenone molecule produce the product if it's a ketone? \n",
    "How could you modify the intelligent reaction so that it also produces its product?\n",
    "\n",
    "Hint: Copy and paste the example of section 2.1. and change the smarts_reaction.\n",
    "'''\n",
    "\n",
    "# Your code here\n",
    "# Define a simple ketone → enol conversion\n",
    "smarts_reaction = \"[#6:0][C:1](=O)[C:2]>>[#6:0][C:1](O)(=[C:2])\"\n",
    "rxn = rdChemReactions.ReactionFromSmarts(smarts_reaction)\n",
    "\n",
    "# creating 2 empty lists\n",
    "product_names, product_smiles = [], []\n",
    "\n",
    "# running the reaction for each possible combinations and saving the products in the new 2 lists\n",
    "for i, mol in enumerate(df[\"mol_object\"]):  # i is just the enumeration (0, 1, 2, 3...)\n",
    "    if mol is None:  # only continues if the mole (SMILE) is valid\n",
    "        continue\n",
    "    ps = rxn.RunReactants((mol,))    # The double parentheses are because it expects a tuple\n",
    "    if ps:   # check if the reaction gives any product\n",
    "        product = ps[0][0]    # ps is a list of results, each being a tuple of products.\n",
    "        product_names.append(f\"product_{i+1}\")    # defining the product name and adding it to the list\n",
    "        product_smiles.append(Chem.MolToSmiles(product))    # adding the SMILE to the second list\n",
    "        \n",
    "# Saving the products as a df\n",
    "product_df = pd.DataFrame({\"product_name\": product_names, \n",
    "                           \"product_smiles\": product_smiles})\n",
    "\n",
    "# adding a new column of product_mol\n",
    "product_df['product_mol'] = product_df[\"product_smiles\"].apply(Chem.MolFromSmiles)\n",
    "\n",
    "# Saving it as a CSV file titled \"digital_products.csv\"\n",
    "product_df.to_csv(\"digital_products.csv\", index=False)\n",
    "\n",
    "# Display products, using product_mol column\n",
    "Draw.MolsToGridImage(product_df['product_mol'], molsPerRow=5, subImgSize=(200, 200))"
   ]
  }
 ],
 "metadata": {
  "kernelspec": {
   "display_name": "cheminf",
   "language": "python",
   "name": "python3"
  },
  "language_info": {
   "codemirror_mode": {
    "name": "ipython",
    "version": 3
   },
   "file_extension": ".py",
   "mimetype": "text/x-python",
   "name": "python",
   "nbconvert_exporter": "python",
   "pygments_lexer": "ipython3",
   "version": "3.10.13"
  }
 },
 "nbformat": 4,
 "nbformat_minor": 5
}
